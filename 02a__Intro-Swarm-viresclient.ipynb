{
 "cells": [
  {
   "cell_type": "markdown",
   "metadata": {},
   "source": [
    "# Introduction to Swarm access through VirES\n",
    "\n",
    "> Authors: Ashley Smith\n",
    ">\n",
    "> Abstract: VirES is a server/client architecture to help access time series of Swarm data and models. Access is enabled through a token generated on the website, and a Python package, viresclient, which provides the connection with the Python ecosystem (e.g. xarray)."
   ]
  },
  {
   "cell_type": "code",
   "execution_count": null,
   "metadata": {},
   "outputs": [],
   "source": [
    "# %load_ext watermark\n",
    "# %watermark -i -v -p viresclient,pandas,xarray,matplotlib"
   ]
  },
  {
   "cell_type": "markdown",
   "metadata": {},
   "source": [
    "VirES (Virtual environments for Earth Scientists) is a platform for data & model access, analysis, and visualisation for ESA's magnetic mission, *Swarm*\n",
    "\n",
    "This tutorial introduces the Python interface to VirES, `viresclient`. We demonstrate usage of the primary Swarm magnetic dataset (`SW_OPER_MAGA_LR_1B`) and geomagnetic field models produced as part of the Swarm mission. Some knowledge of `pandas` and `matplotlib` is assumed.\n",
    "\n",
    "Run this on the [VRE](https://vre.vires.services/), where viresclient is already installed, or [check the instructions](https://viresclient.readthedocs.io/en/latest/installation.html) to set it up on your own Python environment.\n",
    "\n",
    "For more information see:\n",
    "- https://vires.services/ (Web interface)\n",
    "- https://viresclient.readthedocs.io (Python interface)\n",
    "- https://swarm-vre.readthedocs.io/ (Virtual Research Environment / JupyterLab)\n",
    "- https://earth.esa.int/web/guest/missions/esa-eo-missions/swarm/mission-overview"
   ]
  },
  {
   "cell_type": "markdown",
   "metadata": {},
   "source": [
    "### 0. Configuration\n",
    "\n",
    "To access VirES through Python code, you first need to generate an *access token* from your VirES account:\n",
    "\n",
    "1. Create a user account at https://vires.services/ if you haven't already done so\n",
    "2. Login there and go to settings (top right: the button with your user name)\n",
    "3. Select \"Manage access tokens\" and follow the instructions to create a token (see first part of video above)\n",
    "4. Copy the token into the box which will appear when you run the code below\n",
    "5. The default has now been configured and you won't need to provide the token again.\n",
    "\n",
    "This can also be done via the command line. For more info, see https://viresclient.readthedocs.io/en/latest/installation.html#first-usage-configuration"
   ]
  },
  {
   "cell_type": "markdown",
   "metadata": {},
   "source": [
    "#### Enter your access token\n",
    "\n",
    "Run this code and you will be prompted to enter the access token. The token and site url are stored in a configuration file at `~/.viresclient.ini`. You may generate and set a new token, or revoke old tokens, at any point.\n",
    "\n",
    "NB: You will need to repeat this procedure if you are running viresclient from different machines / user spaces."
   ]
  },
  {
   "cell_type": "code",
   "execution_count": null,
   "metadata": {},
   "outputs": [],
   "source": [
    "from viresclient import set_token\n",
    "\n",
    "set_token(\"https://vires.services/ows\", set_default=True)\n",
    "# (user is now prompted to enter the token)"
   ]
  },
  {
   "cell_type": "markdown",
   "metadata": {},
   "source": [
    "### 1. Fetching some data\n",
    "\n",
    "Import the `SwarmRequest` object which provides the VirES interface, and `datetime` which gives convenient time objects which can be used by `SwarmRequest.get_between()`"
   ]
  },
  {
   "cell_type": "code",
   "execution_count": null,
   "metadata": {},
   "outputs": [],
   "source": [
    "from viresclient import SwarmRequest\n",
    "import datetime as dt"
   ]
  },
  {
   "cell_type": "markdown",
   "metadata": {},
   "source": [
    "The following code will fetch one day (i.e. around 15 orbits) of the scalar (`F`) measurements from Swarm Alpha. \n",
    "\n",
    "Several keyword arguments can be provided to `.set_products()` to specify the type of data you want. The `measurements` available depend on the collection chosen in `.set_collection()`. The same set of `auxiliaries` are available for all collections - here we also choose to fetch the `MLT` - magnetic local time.\n",
    "\n",
    "`sampling_step=\"PT10S\"` downsamples the data to 10 seconds, from the `MAGx_LR` default of 1 second. If no `sampling_step` is provided, the data will be accessed in its original form (i.e. here, 1-second sampling). These strings to choose the `sampling_step` should be provided as [ISO 8601 durations](https://en.wikipedia.org/wiki/ISO_8601#Durations) (e.g. `\"PT1M\"` for 1-minute sampling).\n",
    "\n",
    "`start_time` and `end_time` in `.get_between()` together provide the time window you want to fetch data for - executing this line causes the request to be processed on the server and the data returned to you. NB: this returns data *up to but not including* `end_time`. Alternatively we can provide the start and end times as ISO_8601 strings."
   ]
  },
  {
   "cell_type": "code",
   "execution_count": null,
   "metadata": {},
   "outputs": [],
   "source": [
    "# Set up connection with server\n",
    "request = SwarmRequest()\n",
    "# Set collection to use\n",
    "request.set_collection(\"SW_OPER_MAGA_LR_1B\")\n",
    "# Set mix of products to fetch:\n",
    "#   measurements (variables from the given collection)\n",
    "#   models (magnetic model predictions at spacecraft sampling points)\n",
    "#   auxiliaries (variables available with any collection)\n",
    "# Also set additional configuration such as:\n",
    "#   sampling_step\n",
    "request.set_products(\n",
    "    measurements=[\"F\"],\n",
    "    sampling_step=\"PT10S\",\n",
    "    auxiliaries=[\"MLT\"]\n",
    ")\n",
    "# Fetch data from a given time interval\n",
    "data = request.get_between(\n",
    "    start_time=dt.datetime(2016,1,1),\n",
    "    end_time=dt.datetime(2016,1,2)\n",
    ")"
   ]
  },
  {
   "cell_type": "markdown",
   "metadata": {},
   "source": [
    "The data is now contained within the object which we called `data`:"
   ]
  },
  {
   "cell_type": "code",
   "execution_count": null,
   "metadata": {},
   "outputs": [],
   "source": [
    "data"
   ]
  },
  {
   "cell_type": "markdown",
   "metadata": {},
   "source": [
    "The data is temporarily stored on disk and not yet loaded into memory - the `ReturnedData` object is actually a wrapper around a temporary CDF file which could be written to disk directly:"
   ]
  },
  {
   "cell_type": "code",
   "execution_count": null,
   "metadata": {},
   "outputs": [],
   "source": [
    "data.to_file(\"test_file.cdf\", overwrite=True)"
   ]
  },
  {
   "cell_type": "markdown",
   "metadata": {},
   "source": [
    "... but it is possible to directly transfer it to a `pandas.DataFrame` object:"
   ]
  },
  {
   "cell_type": "code",
   "execution_count": null,
   "metadata": {},
   "outputs": [],
   "source": [
    "df = data.as_dataframe()\n",
    "print(type(df))\n",
    "df.head()"
   ]
  },
  {
   "cell_type": "markdown",
   "metadata": {},
   "source": [
    "... or a `xarray.Dataset`:"
   ]
  },
  {
   "cell_type": "code",
   "execution_count": null,
   "metadata": {},
   "outputs": [],
   "source": [
    "ds = data.as_xarray()\n",
    "print(type(ds))\n",
    "ds"
   ]
  },
  {
   "cell_type": "markdown",
   "metadata": {},
   "source": [
    "Try plotting some things to visualise the data. The following shows the variation in field strength measured by the satellite as it passes between high and low latitudes, varying from one orbit to the next as it samples a different longitude."
   ]
  },
  {
   "cell_type": "code",
   "execution_count": null,
   "metadata": {},
   "outputs": [],
   "source": [
    "df.plot(y=\"F\")\n",
    "df.plot(y=\"F\", x=\"Latitude\")\n",
    "df.plot(y=\"Latitude\", x=\"Longitude\")\n",
    "df.plot(y=\"Latitude\", x=\"Longitude\", c=\"F\", kind=\"scatter\");"
   ]
  },
  {
   "cell_type": "markdown",
   "metadata": {},
   "source": [
    "### 2. Fetching model evaluations at the same time\n",
    "\n",
    "Various (spherical harmonic) [models of the geomagnetic field](https://magneticearth.org/pages/models.html) are produced as Swarm mission products and these are available through VirES. They are evaluated on demand at the same points and times as the data sample points. Here we ask for the `MCO_SHA_2D` model, a dedicated core field model produced from Swarm data. By supplying `residuals=True` we will get the data-model residuals, named in the dataframe as `F_res_MCO_SHA_2D`."
   ]
  },
  {
   "cell_type": "code",
   "execution_count": null,
   "metadata": {},
   "outputs": [],
   "source": [
    "request = SwarmRequest()\n",
    "request.set_collection(\"SW_OPER_MAGA_LR_1B\")\n",
    "request.set_products(\n",
    "    measurements=[\"F\"],\n",
    "    models=[\"MCO_SHA_2D\"],\n",
    "    residuals=True,\n",
    "    sampling_step=\"PT10S\"\n",
    ")\n",
    "\n",
    "data = request.get_between(\n",
    "    start_time=dt.datetime(2016,1,1),\n",
    "    end_time=dt.datetime(2016,1,2)\n",
    ")\n",
    "\n",
    "df = data.as_dataframe()\n",
    "df.head()"
   ]
  },
  {
   "cell_type": "markdown",
   "metadata": {},
   "source": [
    "The core field has been removed from the data so the amplitudes are much smaller. Can you interpret the new signals in terms of external fields, i.e. from the ionosphere and magnetosphere?"
   ]
  },
  {
   "cell_type": "code",
   "execution_count": null,
   "metadata": {},
   "outputs": [],
   "source": [
    "df.plot(y=\"F_res_MCO_SHA_2D\")\n",
    "df.plot(y=\"F_res_MCO_SHA_2D\", x=\"Latitude\")\n",
    "df.plot(y=\"Latitude\", x=\"Longitude\", c=\"F_res_MCO_SHA_2D\", kind=\"scatter\");"
   ]
  },
  {
   "cell_type": "markdown",
   "metadata": {},
   "source": [
    "### 3. More complex model handling\n",
    "\n",
    "We can also remove a magnetospheric field model at the same time, by specifying a new model (which we call `MCO_MMA` here, but can be named whatever you like) which is the sum of core and magnetospheric models.\n",
    "\n",
    "> See [smithara/viresclient_examples/model_details.ipynb](https://nbviewer.jupyter.org/github/smithara/viresclient_examples/blob/master/model_details.ipynb) for more examples of this - it is also possible to specify the spherical harmonic degrees (min/max) to use, and to provide your own `.shc` model.\n",
    "\n",
    "The remaining signal is now primarily due to the ionosphere.\n",
    "\n",
    "Note that here I am instead using the CI (comprehensive inversion) core and magnetosphere models (`2C`)."
   ]
  },
  {
   "cell_type": "code",
   "execution_count": null,
   "metadata": {},
   "outputs": [],
   "source": [
    "request = SwarmRequest()\n",
    "request.set_collection(\"SW_OPER_MAGA_LR_1B\")\n",
    "request.set_products(\n",
    "    measurements=[\"F\"],\n",
    "    models=[\"MCO_MMA = 'MCO_SHA_2C' + 'MMA_SHA_2C-Primary' + 'MMA_SHA_2C-Secondary'\"],\n",
    "    residuals=True,\n",
    "    sampling_step=\"PT10S\",\n",
    "    auxiliaries=[\"MLT\"]\n",
    ")\n",
    "\n",
    "data = request.get_between(\n",
    "    start_time=dt.datetime(2016,1,1),\n",
    "    end_time=dt.datetime(2016,1,2)\n",
    ")\n",
    "\n",
    "df = data.as_dataframe()\n",
    "df.head()"
   ]
  },
  {
   "cell_type": "code",
   "execution_count": null,
   "metadata": {},
   "outputs": [],
   "source": [
    "df.plot(y=\"F_res_MCO_MMA\")\n",
    "df.plot(y=\"F_res_MCO_MMA\", x=\"Latitude\")\n",
    "df.plot(y=\"Latitude\", x=\"Longitude\", c=\"F_res_MCO_MMA\", kind=\"scatter\");"
   ]
  },
  {
   "cell_type": "markdown",
   "metadata": {},
   "source": [
    "### 4. Explore the other possibilites through VirES\n",
    "\n",
    "To find out what other data and models are available, see https://viresclient.readthedocs.io/en/latest/available_parameters.html\n",
    "\n",
    "For examples see:\n",
    "- https://github.com/Swarm-DISC/Swarm_notebooks\n",
    "- https://github.com/smithara/viresclient_examples\n",
    "- https://github.com/pacesm/jupyter_notebooks"
   ]
  }
 ],
 "metadata": {
  "kernelspec": {
   "display_name": "Python 3",
   "language": "python",
   "name": "python3"
  },
  "language_info": {
   "codemirror_mode": {
    "name": "ipython",
    "version": 3
   },
   "file_extension": ".py",
   "mimetype": "text/x-python",
   "name": "python",
   "nbconvert_exporter": "python",
   "pygments_lexer": "ipython3",
   "version": "3.7.3"
  }
 },
 "nbformat": 4,
 "nbformat_minor": 4
}
