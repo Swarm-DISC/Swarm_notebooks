{
 "cells": [
  {
   "cell_type": "markdown",
   "metadata": {},
   "source": [
    "# Available data and models through viresclient\n",
    "\n",
    "> Authors: Ashley Smith\n",
    ">\n",
    "> Abstract: Different Swarm datasets are available through each \"collection\" on the VirES server. Choosing a collection determines the subset of \"measurement\"-type products available, while \"auxiliary\"-type are always available. Geomagnetic \"model\"-type are available in connection with the MAG collections. These can be seen at https://viresclient.readthedocs.io/en/latest/available_parameters.html"
   ]
  },
  {
   "cell_type": "code",
   "execution_count": null,
   "metadata": {},
   "outputs": [],
   "source": [
    "# %load_ext watermark\n",
    "# %watermark -i -v -p viresclient,pandas,xarray,matplotlib"
   ]
  },
  {
   "cell_type": "code",
   "execution_count": 1,
   "metadata": {},
   "outputs": [],
   "source": [
    "from viresclient import SwarmRequest"
   ]
  },
  {
   "cell_type": "markdown",
   "metadata": {},
   "source": [
    "## Using viresclient to check what data & models are available\n",
    "\n",
    "viresclient has some tools to help you find out what data and models are available. First instantiate a request object, then use it to call methods:\n",
    "```\n",
    "request.available_collections()\n",
    "request.available_measurements()\n",
    "request.available_auxiliaries()\n",
    "request.available_models()\n",
    "```"
   ]
  },
  {
   "cell_type": "code",
   "execution_count": 2,
   "metadata": {},
   "outputs": [],
   "source": [
    "request = SwarmRequest()"
   ]
  },
  {
   "cell_type": "markdown",
   "metadata": {},
   "source": [
    "### Data are organised into \"collections\" - see a list of them with references:"
   ]
  },
  {
   "cell_type": "code",
   "execution_count": 3,
   "metadata": {},
   "outputs": [
    {
     "name": "stdout",
     "output_type": "stream",
     "text": [
      "General References:\n",
      " Swarm Data Handbook, https://earth.esa.int/web/guest/missions/esa-eo-missions/swarm/data-handbook \n",
      " The Swarm Satellite Constellation Application and Research Facility (SCARF) and Swarm data products, https://doi.org/10.5047/eps.2013.07.001 \n",
      " Swarm Science Data Processing and Products (2013), https://link.springer.com/journal/40623/65/11/page/1 \n",
      " Special issue “Swarm science results after 2 years in space (2016), https://www.springeropen.com/collections/swsr \n",
      " Earth's Magnetic Field: Understanding Geomagnetic Sources from the Earth's Interior and its Environment (2017), https://link.springer.com/journal/11214/206/1/page/1 \n",
      "\n",
      "MAG\n",
      "   SW_OPER_MAGA_LR_1B\n",
      "   SW_OPER_MAGB_LR_1B\n",
      "   SW_OPER_MAGC_LR_1B\n",
      " https://earth.esa.int/web/guest/missions/esa-eo-missions/swarm/data-handbook/level-1b-product-definitions#MAGX_LR_1B_Product \n",
      "\n",
      "EFI\n",
      "   SW_OPER_EFIA_LP_1B\n",
      "   SW_OPER_EFIB_LP_1B\n",
      "   SW_OPER_EFIC_LP_1B\n",
      " https://earth.esa.int/web/guest/missions/esa-eo-missions/swarm/data-handbook/level-1b-product-definitions#EFIX_LP_1B_Product \n",
      "\n",
      "IBI\n",
      "   SW_OPER_IBIATMS_2F\n",
      "   SW_OPER_IBIBTMS_2F\n",
      "   SW_OPER_IBICTMS_2F\n",
      " https://earth.esa.int/web/guest/missions/esa-eo-missions/swarm/data-handbook/level-2-product-definitions#IBIxTMS_2F \n",
      " https://earth.esa.int/documents/10174/1514862/Swarm_L2_IBI_product_description \n",
      "\n",
      "TEC\n",
      "   SW_OPER_TECATMS_2F\n",
      "   SW_OPER_TECBTMS_2F\n",
      "   SW_OPER_TECCTMS_2F\n",
      " https://earth.esa.int/web/guest/missions/esa-eo-missions/swarm/data-handbook/level-2-product-definitions#TECxTMS_2F \n",
      " https://earth.esa.int/documents/10174/1514862/Swarm_Level-2_TEC_Product_Description \n",
      "\n",
      "FAC\n",
      "   SW_OPER_FACATMS_2F\n",
      "   SW_OPER_FACBTMS_2F\n",
      "   SW_OPER_FACCTMS_2F\n",
      "   SW_OPER_FAC_TMS_2F\n",
      " https://earth.esa.int/web/guest/missions/esa-eo-missions/swarm/data-handbook/level-2-product-definitions#FAC_TMS_2F \n",
      " https://earth.esa.int/web/guest/missions/esa-eo-missions/swarm/data-handbook/level-2-product-definitions#FACxTMS_2F \n",
      " https://earth.esa.int/documents/10174/1514862/Swarm_L2_FAC_single_product_description \n",
      " https://earth.esa.int/documents/10174/1514862/Swarm-L2-FAC-Dual-Product-Description \n",
      "\n",
      "EEF\n",
      "   SW_OPER_EEFATMS_2F\n",
      "   SW_OPER_EEFBTMS_2F\n",
      " https://earth.esa.int/web/guest/missions/esa-eo-missions/swarm/data-handbook/level-2-product-definitions#EEFxTMS_2F \n",
      " https://earth.esa.int/documents/10174/1514862/Swarm-Level-2-EEF-Product-Description \n",
      "\n",
      "IPD\n",
      "   SW_OPER_IPDAIRR_2F\n",
      "   SW_OPER_IPDBIRR_2F\n",
      "   SW_OPER_IPDCIRR_2F\n",
      " https://earth.esa.int/web/guest/missions/esa-eo-missions/swarm/data-handbook/level-2-product-definitions#IPDxIPR_2F \n",
      "\n"
     ]
    }
   ],
   "source": [
    "request.available_collections()"
   ]
  },
  {
   "cell_type": "markdown",
   "metadata": {},
   "source": [
    "##### Just the names of the collections:"
   ]
  },
  {
   "cell_type": "code",
   "execution_count": 4,
   "metadata": {},
   "outputs": [
    {
     "data": {
      "text/plain": [
       "{'MAG': ['SW_OPER_MAGA_LR_1B', 'SW_OPER_MAGB_LR_1B', 'SW_OPER_MAGC_LR_1B'],\n",
       " 'EFI': ['SW_OPER_EFIA_LP_1B', 'SW_OPER_EFIB_LP_1B', 'SW_OPER_EFIC_LP_1B'],\n",
       " 'IBI': ['SW_OPER_IBIATMS_2F', 'SW_OPER_IBIBTMS_2F', 'SW_OPER_IBICTMS_2F'],\n",
       " 'TEC': ['SW_OPER_TECATMS_2F', 'SW_OPER_TECBTMS_2F', 'SW_OPER_TECCTMS_2F'],\n",
       " 'FAC': ['SW_OPER_FACATMS_2F',\n",
       "  'SW_OPER_FACBTMS_2F',\n",
       "  'SW_OPER_FACCTMS_2F',\n",
       "  'SW_OPER_FAC_TMS_2F'],\n",
       " 'EEF': ['SW_OPER_EEFATMS_2F', 'SW_OPER_EEFBTMS_2F'],\n",
       " 'IPD': ['SW_OPER_IPDAIRR_2F', 'SW_OPER_IPDBIRR_2F', 'SW_OPER_IPDCIRR_2F']}"
      ]
     },
     "execution_count": 4,
     "metadata": {},
     "output_type": "execute_result"
    }
   ],
   "source": [
    "request.available_collections(details=False)"
   ]
  },
  {
   "cell_type": "markdown",
   "metadata": {},
   "source": [
    "### Available \"measurements\" within each collection type:"
   ]
  },
  {
   "cell_type": "code",
   "execution_count": 5,
   "metadata": {},
   "outputs": [
    {
     "data": {
      "text/plain": [
       "['F',\n",
       " 'dF_AOCS',\n",
       " 'dF_other',\n",
       " 'F_error',\n",
       " 'B_VFM',\n",
       " 'B_NEC',\n",
       " 'dB_Sun',\n",
       " 'dB_AOCS',\n",
       " 'dB_other',\n",
       " 'B_error',\n",
       " 'q_NEC_CRF',\n",
       " 'Att_error',\n",
       " 'Flags_F',\n",
       " 'Flags_B',\n",
       " 'Flags_q',\n",
       " 'Flags_Platform',\n",
       " 'ASM_Freq_Dev']"
      ]
     },
     "execution_count": 5,
     "metadata": {},
     "output_type": "execute_result"
    }
   ],
   "source": [
    "request.available_measurements(\"MAG\")"
   ]
  },
  {
   "cell_type": "code",
   "execution_count": 6,
   "metadata": {},
   "outputs": [
    {
     "data": {
      "text/plain": [
       "['U_orbit',\n",
       " 'Ne',\n",
       " 'Ne_error',\n",
       " 'Te',\n",
       " 'Te_error',\n",
       " 'Vs',\n",
       " 'Vs_error',\n",
       " 'Flags_LP',\n",
       " 'Flags_Ne',\n",
       " 'Flags_Te',\n",
       " 'Flags_Vs']"
      ]
     },
     "execution_count": 6,
     "metadata": {},
     "output_type": "execute_result"
    }
   ],
   "source": [
    "request.available_measurements(\"EFI\")"
   ]
  },
  {
   "cell_type": "code",
   "execution_count": 7,
   "metadata": {},
   "outputs": [
    {
     "data": {
      "text/plain": [
       "['Bubble_Index',\n",
       " 'Bubble_Probability',\n",
       " 'Flags_Bubble',\n",
       " 'Flags_F',\n",
       " 'Flags_B',\n",
       " 'Flags_q']"
      ]
     },
     "execution_count": 7,
     "metadata": {},
     "output_type": "execute_result"
    }
   ],
   "source": [
    "request.available_measurements(\"IBI\")"
   ]
  },
  {
   "cell_type": "code",
   "execution_count": 8,
   "metadata": {},
   "outputs": [
    {
     "data": {
      "text/plain": [
       "['GPS_Position',\n",
       " 'LEO_Position',\n",
       " 'PRN',\n",
       " 'L1',\n",
       " 'L2',\n",
       " 'P1',\n",
       " 'P2',\n",
       " 'S1',\n",
       " 'S2',\n",
       " 'Elevation_Angle',\n",
       " 'Absolute_VTEC',\n",
       " 'Absolute_STEC',\n",
       " 'Relative_STEC',\n",
       " 'Relative_STEC_RMS',\n",
       " 'DCB',\n",
       " 'DCB_Error']"
      ]
     },
     "execution_count": 8,
     "metadata": {},
     "output_type": "execute_result"
    }
   ],
   "source": [
    "request.available_measurements(\"TEC\")"
   ]
  },
  {
   "cell_type": "code",
   "execution_count": 9,
   "metadata": {},
   "outputs": [
    {
     "data": {
      "text/plain": [
       "['IRC',\n",
       " 'IRC_Error',\n",
       " 'FAC',\n",
       " 'FAC_Error',\n",
       " 'Flags',\n",
       " 'Flags_F',\n",
       " 'Flags_B',\n",
       " 'Flags_q']"
      ]
     },
     "execution_count": 9,
     "metadata": {},
     "output_type": "execute_result"
    }
   ],
   "source": [
    "request.available_measurements(\"FAC\")"
   ]
  },
  {
   "cell_type": "code",
   "execution_count": 10,
   "metadata": {},
   "outputs": [
    {
     "data": {
      "text/plain": [
       "['EEF', 'RelErr', 'flags']"
      ]
     },
     "execution_count": 10,
     "metadata": {},
     "output_type": "execute_result"
    }
   ],
   "source": [
    "request.available_measurements(\"EEF\")"
   ]
  },
  {
   "cell_type": "code",
   "execution_count": 11,
   "metadata": {},
   "outputs": [
    {
     "data": {
      "text/plain": [
       "['Ne',\n",
       " 'Te',\n",
       " 'Background_Ne',\n",
       " 'Foreground_Ne',\n",
       " 'PCP_flag',\n",
       " 'Grad_Ne_at_100km',\n",
       " 'Grad_Ne_at_50km',\n",
       " 'Grad_Ne_at_20km',\n",
       " 'Grad_Ne_at_PCP_edge',\n",
       " 'ROD',\n",
       " 'RODI10s',\n",
       " 'RODI20s',\n",
       " 'delta_Ne10s',\n",
       " 'delta_Ne20s',\n",
       " 'delta_Ne40s',\n",
       " 'Num_GPS_satellites',\n",
       " 'mVTEC',\n",
       " 'mROT',\n",
       " 'mROTI10s',\n",
       " 'mROTI20s',\n",
       " 'IBI_flag',\n",
       " 'Ionosphere_region_flag',\n",
       " 'IPIR_index',\n",
       " 'Ne_quality_flag',\n",
       " 'TEC_STD']"
      ]
     },
     "execution_count": 11,
     "metadata": {},
     "output_type": "execute_result"
    }
   ],
   "source": [
    "request.available_measurements(\"IPD\")"
   ]
  },
  {
   "cell_type": "markdown",
   "metadata": {},
   "source": [
    "### \"auxiliaries\" are available to fetch together with any collection"
   ]
  },
  {
   "cell_type": "code",
   "execution_count": 12,
   "metadata": {},
   "outputs": [
    {
     "data": {
      "text/plain": [
       "['Timestamp',\n",
       " 'Latitude',\n",
       " 'Longitude',\n",
       " 'Radius',\n",
       " 'Spacecraft',\n",
       " 'OrbitDirection',\n",
       " 'QDOrbitDirection',\n",
       " 'SyncStatus',\n",
       " 'Kp10',\n",
       " 'Kp',\n",
       " 'Dst',\n",
       " 'F107',\n",
       " 'IMF_BY_GSM',\n",
       " 'IMF_BZ_GSM',\n",
       " 'IMF_V',\n",
       " 'F10_INDEX',\n",
       " 'OrbitSource',\n",
       " 'OrbitNumber',\n",
       " 'AscendingNodeTime',\n",
       " 'AscendingNodeLongitude',\n",
       " 'QDLat',\n",
       " 'QDLon',\n",
       " 'QDBasis',\n",
       " 'MLT',\n",
       " 'SunDeclination',\n",
       " 'SunHourAngle',\n",
       " 'SunRightAscension',\n",
       " 'SunAzimuthAngle',\n",
       " 'SunZenithAngle',\n",
       " 'SunLongitude',\n",
       " 'SunVector',\n",
       " 'DipoleAxisVector',\n",
       " 'NGPLatitude',\n",
       " 'NGPLongitude',\n",
       " 'DipoleTiltAngle']"
      ]
     },
     "execution_count": 12,
     "metadata": {},
     "output_type": "execute_result"
    }
   ],
   "source": [
    "request.available_auxiliaries()"
   ]
  },
  {
   "cell_type": "markdown",
   "metadata": {},
   "source": [
    "### Several models are available (and custom ones can be supplied as .shc files)"
   ]
  },
  {
   "cell_type": "code",
   "execution_count": 13,
   "metadata": {},
   "outputs": [
    {
     "name": "stdout",
     "output_type": "stream",
     "text": [
      "CHAOS-6-Core = 'CHAOS-6-Core'(max_degree=20,min_degree=1)\n",
      "  START: 1997-02-07T05:31:12.000003Z\n",
      "  END:   2020-04-21T02:49:20.639999Z\n",
      "DESCRIPTION:\n",
      "CHAOS Core field\n",
      " deprecated model identifier, use CHAOS-Core instead\n",
      "SOURCES:\n",
      "  SW_OPER_MCO_SHA_2X_19970101T000000_20200419T235959_0701\n",
      "\n",
      "CHAOS-6-MMA-Primary = 'CHAOS-6-MMA-Primary'(max_degree=2,min_degree=1)\n",
      "  START: 2012-01-01T00:00:00Z\n",
      "  END:   2020-02-09T23:30:00Z\n",
      "DESCRIPTION:\n",
      "CHAOS Primary (external) magnetospheric field\n",
      " deprecated model identifier, use CHAOS-MMA-Primary instead\n",
      "SOURCES:\n",
      "  SW_OPER_MMA_CHAOS__20120101T000000_20121231T233000_0608\n",
      "  SW_OPER_MMA_CHAOS__20130101T000000_20131231T233000_0608\n",
      "  SW_OPER_MMA_CHAOS__20140101T000000_20141231T233000_0608\n",
      "  SW_OPER_MMA_CHAOS__20150101T000000_20151231T233000_0608\n",
      "  SW_OPER_MMA_CHAOS__20160101T000000_20161231T233000_0608\n",
      "  SW_OPER_MMA_CHAOS__20170101T000000_20171231T233000_0608\n",
      "  SW_OPER_MMA_CHAOS__20180101T000000_20181231T233000_0701\n",
      "  SW_OPER_MMA_CHAOS__20190101T000000_20200209T233000_0701\n",
      "\n",
      "CHAOS-6-MMA-Secondary = 'CHAOS-6-MMA-Secondary'(max_degree=2,min_degree=1)\n",
      "  START: 2012-01-01T00:00:00Z\n",
      "  END:   2020-02-09T23:30:00Z\n",
      "DESCRIPTION:\n",
      "CHAOS-Secondary (internal) magnetospheric field\n",
      " deprecated model identifier, use CHAOS-MMA-Secondary instead\n",
      "SOURCES:\n",
      "  SW_OPER_MMA_CHAOS__20120101T000000_20121231T233000_0608\n",
      "  SW_OPER_MMA_CHAOS__20130101T000000_20131231T233000_0608\n",
      "  SW_OPER_MMA_CHAOS__20140101T000000_20141231T233000_0608\n",
      "  SW_OPER_MMA_CHAOS__20150101T000000_20151231T233000_0608\n",
      "  SW_OPER_MMA_CHAOS__20160101T000000_20161231T233000_0608\n",
      "  SW_OPER_MMA_CHAOS__20170101T000000_20171231T233000_0608\n",
      "  SW_OPER_MMA_CHAOS__20180101T000000_20181231T233000_0701\n",
      "  SW_OPER_MMA_CHAOS__20190101T000000_20200209T233000_0701\n",
      "\n",
      "CHAOS-6-Static = 'CHAOS-6-Static'(max_degree=185,min_degree=21)\n",
      "  START: 0001-01-01T00:00:00Z\n",
      "  END:   4000-01-01T00:00:00Z\n",
      "DESCRIPTION:\n",
      "CHAOS crust field\n",
      " deprecated model identifier, use CHAOS-Static instead\n",
      "SOURCES:\n",
      "  CHAOS-7_static.shc\n",
      "\n",
      "CHAOS-Core = 'CHAOS-Core'(max_degree=20,min_degree=1)\n",
      "  START: 1997-02-07T05:31:12.000003Z\n",
      "  END:   2020-04-21T02:49:20.639999Z\n",
      "DESCRIPTION:\n",
      "CHAOS-7 Core field (SH degrees 1-20)\n",
      " http://www.spacecenter.dk/files/magnetic-models/CHAOS-7/ \n",
      "SOURCES:\n",
      "  SW_OPER_MCO_SHA_2X_19970101T000000_20200419T235959_0701\n",
      "\n",
      "CHAOS-MMA-Primary = 'CHAOS-MMA-Primary'(max_degree=2,min_degree=1)\n",
      "  START: 2012-01-01T00:00:00Z\n",
      "  END:   2020-02-09T23:30:00Z\n",
      "DESCRIPTION:\n",
      "CHAOS-7 Primary (external) magnetospheric field\n",
      " hhttp://www.spacecenter.dk/files/magnetic-models/CHAOS-7/ \n",
      "SOURCES:\n",
      "  SW_OPER_MMA_CHAOS__20120101T000000_20121231T233000_0608\n",
      "  SW_OPER_MMA_CHAOS__20130101T000000_20131231T233000_0608\n",
      "  SW_OPER_MMA_CHAOS__20140101T000000_20141231T233000_0608\n",
      "  SW_OPER_MMA_CHAOS__20150101T000000_20151231T233000_0608\n",
      "  SW_OPER_MMA_CHAOS__20160101T000000_20161231T233000_0608\n",
      "  SW_OPER_MMA_CHAOS__20170101T000000_20171231T233000_0608\n",
      "  SW_OPER_MMA_CHAOS__20180101T000000_20181231T233000_0701\n",
      "  SW_OPER_MMA_CHAOS__20190101T000000_20200209T233000_0701\n",
      "\n",
      "CHAOS-MMA-Secondary = 'CHAOS-MMA-Secondary'(max_degree=2,min_degree=1)\n",
      "  START: 2012-01-01T00:00:00Z\n",
      "  END:   2020-02-09T23:30:00Z\n",
      "DESCRIPTION:\n",
      "CHAOS-7 Secondary (internal) magnetospheric field\n",
      " http://www.spacecenter.dk/files/magnetic-models/CHAOS-7/ \n",
      "SOURCES:\n",
      "  SW_OPER_MMA_CHAOS__20120101T000000_20121231T233000_0608\n",
      "  SW_OPER_MMA_CHAOS__20130101T000000_20131231T233000_0608\n",
      "  SW_OPER_MMA_CHAOS__20140101T000000_20141231T233000_0608\n",
      "  SW_OPER_MMA_CHAOS__20150101T000000_20151231T233000_0608\n",
      "  SW_OPER_MMA_CHAOS__20160101T000000_20161231T233000_0608\n",
      "  SW_OPER_MMA_CHAOS__20170101T000000_20171231T233000_0608\n",
      "  SW_OPER_MMA_CHAOS__20180101T000000_20181231T233000_0701\n",
      "  SW_OPER_MMA_CHAOS__20190101T000000_20200209T233000_0701\n",
      "\n",
      "CHAOS-Static = 'CHAOS-Static'(max_degree=185,min_degree=21)\n",
      "  START: 0001-01-01T00:00:00Z\n",
      "  END:   4000-01-01T00:00:00Z\n",
      "DESCRIPTION:\n",
      "CHAOS-7 crust field (SH degrees 21-185)\n",
      " http://www.spacecenter.dk/files/magnetic-models/CHAOS-7/ \n",
      "SOURCES:\n",
      "  CHAOS-7_static.shc\n",
      "\n",
      "IGRF = IGRF(max_degree=13,min_degree=1)\n",
      "  START: 1900-01-01T00:00:00Z\n",
      "  END:   2025-01-01T00:00:00Z\n",
      "DESCRIPTION:\n",
      " International Geomagnetic Reference Field: the 13th generation, (waiting for publication) \n",
      " https://www.ngdc.noaa.gov/IAGA/vmod/igrf.html \n",
      "SOURCES:\n",
      "  SW_OPER_AUX_IGR_2__19000101T000000_20241231T235959_0103\n",
      "\n",
      "IGRF12 = IGRF12(max_degree=13,min_degree=1)\n",
      "  START: 1900-01-01T00:00:00Z\n",
      "  END:   2020-01-01T00:00:00Z\n",
      "DESCRIPTION:\n",
      " International Geomagnetic Reference Field: the 12th generation, https://doi.org/10.1186/s40623-015-0228-9 \n",
      " https://www.ngdc.noaa.gov/IAGA/vmod/igrf.html  deprecated model identifier, use IGRF instead\n",
      "SOURCES:\n",
      "  SW_OPER_AUX_IGR_2__19000101T000000_20191231T235959_0102\n",
      "\n",
      "LCS-1 = 'LCS-1'(max_degree=185,min_degree=1)\n",
      "  START: 0001-01-01T00:00:00Z\n",
      "  END:   4000-01-01T00:00:00Z\n",
      "DESCRIPTION:\n",
      "The LCS-1 high-resolution lithospheric field model, derived from CHAMP and Swarm satellite observations\n",
      " http://www.spacecenter.dk/files/magnetic-models/LCS-1/\n",
      "SOURCES:\n",
      "  LCS-1.shc\n",
      "\n",
      "MCO_SHA_2C = MCO_SHA_2C(max_degree=18,min_degree=1)\n",
      "  START: 2013-11-24T18:28:47.999997Z\n",
      "  END:   2019-01-01T00:00:00Z\n",
      "DESCRIPTION:\n",
      "[Comprehensive Inversion]: Core field of CIY4\n",
      " A comprehensive model of Earth’s magnetic field determined from 4 years of Swarm satellite observations, https://doi.org/10.1186/s40623-018-0896-3 \n",
      "Validation: ftp://swarm-diss.eo.esa.int/Level2longterm/MCO/SW_OPER_MCO_VAL_2C_20131201T000000_20180101T000000_0401.ZIP \n",
      "SOURCES:\n",
      "  SW_OPER_MCO_SHA_2C_20131125T000000_20190101T000000_0501\n",
      "\n",
      "MCO_SHA_2D = MCO_SHA_2D(max_degree=20,min_degree=1)\n",
      "  START: 2013-11-25T12:00:00.000003Z\n",
      "  END:   2018-01-01T00:00:00Z\n",
      "DESCRIPTION:\n",
      "[Dedicated Chain]: Core field\n",
      "An algorithm for deriving core magnetic field models from the Swarm data set, https://doi.org/10.5047/eps.2013.07.005 \n",
      "Validation: ftp://swarm-diss.eo.esa.int/Level2longterm/MCO/SW_OPER_MCO_VAL_2D_20131126T000000_20180101T000000_0401.ZIP \n",
      "SOURCES:\n",
      "  SW_OPER_MCO_SHA_2D_20131126T000000_20180101T000000_0401\n",
      "\n",
      "MF7 = MF7(max_degree=133,min_degree=16)\n",
      "  START: 0001-01-01T00:00:00Z\n",
      "  END:   4000-01-01T00:00:00Z\n",
      "DESCRIPTION:\n",
      "MF7 crustal field model, derived from CHAMP satellite observations\n",
      " http://geomag.org/models/MF7.html\n",
      "SOURCES:\n",
      "  MF7.shc\n",
      "\n",
      "MIO_SHA_2C-Primary = 'MIO_SHA_2C-Primary'(max_degree=60,min_degree=1)\n",
      "  START: 0001-01-01T00:00:00Z\n",
      "  END:   4000-01-01T00:00:00Z\n",
      "DESCRIPTION:\n",
      "[Comprehensive Inversion]: Primary (external) ionospheric field of CIY4\n",
      "Validation: ftp://swarm-diss.eo.esa.int/Level2longterm/MIO/SW_OPER_MIO_VAL_2C_00000000T000000_99999999T999999_0401.ZIP \n",
      "SOURCES:\n",
      "  SW_OPER_MIO_SHA_2C_00000000T000000_99999999T999999_0501\n",
      "\n",
      "MIO_SHA_2C-Secondary = 'MIO_SHA_2C-Secondary'(max_degree=60,min_degree=1)\n",
      "  START: 0001-01-01T00:00:00Z\n",
      "  END:   4000-01-01T00:00:00Z\n",
      "DESCRIPTION:\n",
      "[Comprehensive Inversion]: Secondary (external/induced) ionospheric field of CIY4\n",
      "SOURCES:\n",
      "  SW_OPER_MIO_SHA_2C_00000000T000000_99999999T999999_0501\n",
      "\n",
      "MIO_SHA_2D-Primary = 'MIO_SHA_2D-Primary'(max_degree=60,min_degree=1)\n",
      "  START: 0001-01-01T00:00:00Z\n",
      "  END:   4000-01-01T00:00:00Z\n",
      "DESCRIPTION:\n",
      "[Dedicated Chain]: Primary (external) ionospheric field, DIFI\n",
      " Swarm SCARF dedicated ionospheric field inversion chain, https://doi.org/10.5047/eps.2013.08.006 \n",
      " First results from the Swarm Dedicated Ionospheric Field Inversion chain, https://doi.org/10.1186/s40623-016-0481-6 \n",
      " http://geomag.colorado.edu/difi-3 \n",
      "Validation: ftp://swarm-diss.eo.esa.int/Level2longterm/MIO/SW_OPER_MIO_VAL_2D_20131201T000000_20171231T235959_0402.ZIP \n",
      "SOURCES:\n",
      "  SW_OPER_MIO_SHA_2D_20131201T000000_20171231T235959_0402\n",
      "\n",
      "MIO_SHA_2D-Secondary = 'MIO_SHA_2D-Secondary'(max_degree=60,min_degree=1)\n",
      "  START: 0001-01-01T00:00:00Z\n",
      "  END:   4000-01-01T00:00:00Z\n",
      "DESCRIPTION:\n",
      "[Dedicated Chain]: Secondary (external/induced) ionospheric field, DIFI\n",
      "SOURCES:\n",
      "  SW_OPER_MIO_SHA_2D_20131201T000000_20171231T235959_0402\n",
      "\n",
      "MLI_SHA_2C = MLI_SHA_2C(max_degree=120,min_degree=16)\n",
      "  START: 0001-01-01T00:00:00Z\n",
      "  END:   4000-01-01T00:00:00Z\n",
      "DESCRIPTION:\n",
      "[Comprehensive Inversion]: Lithospheric field of CIY4\n",
      "Validation: ftp://swarm-diss.eo.esa.int/Level2longterm/MLI/SW_OPER_MLI_VAL_2C_00000000T000000_99999999T999999_0401.ZIP\n",
      "SOURCES:\n",
      "  SW_OPER_MLI_SHA_2C_00000000T000000_99999999T999999_0501\n",
      "\n",
      "MLI_SHA_2D = MLI_SHA_2D(max_degree=133,min_degree=16)\n",
      "  START: 0001-01-01T00:00:00Z\n",
      "  END:   4000-01-01T00:00:00Z\n",
      "DESCRIPTION:\n",
      "[Dedicated Chain]: Lithospheric field\n",
      " Swarm SCARF Dedicated Lithospheric Field Inversion chain, https://doi.org/10.5047/eps.2013.07.008 \n",
      " Validation: ftp://swarm-diss.eo.esa.int/Level2longterm/MLI/SW_OPER_MLI_VAL_2D_00000000T000000_99999999T999999_0401.ZIP \n",
      "SOURCES:\n",
      "  SW_OPER_MLI_SHA_2D_00000000T000000_99999999T999999_0501\n",
      "\n",
      "MMA_SHA_2C-Primary = 'MMA_SHA_2C-Primary'(max_degree=2,min_degree=1)\n",
      "  START: 2013-11-25T03:00:00Z\n",
      "  END:   2018-12-31T21:00:00Z\n",
      "DESCRIPTION:\n",
      "[Comprehensive Inversion]: Primary (external) magnetospheric field of CIY4\n",
      "Validation: ftp://swarm-diss.eo.esa.int/Level2longterm/MMA/SW_OPER_MMA_VAL_2C_20131201T000000_20180101T000000_0401.ZIP\n",
      "SOURCES:\n",
      "  SW_OPER_MMA_SHA_2C_20131125T000000_20181231T235959_0501\n",
      "\n",
      "MMA_SHA_2C-Secondary = 'MMA_SHA_2C-Secondary'(max_degree=3,min_degree=1)\n",
      "  START: 2013-11-25T03:00:00Z\n",
      "  END:   2018-12-31T21:00:00Z\n",
      "DESCRIPTION:\n",
      "[Comprehensive Inversion]: Secondary (internal/induced) magnetospheric field of CIY4\n",
      "SOURCES:\n",
      "  SW_OPER_MMA_SHA_2C_20131125T000000_20181231T235959_0501\n",
      "\n",
      "MMA_SHA_2F-Primary = 'MMA_SHA_2F-Primary'(max_degree=1,min_degree=1)\n",
      "  START: 2013-11-25T11:15:00Z\n",
      "  END:   2020-02-02T21:45:00Z\n",
      "DESCRIPTION:\n",
      "[Fast-Track Product]: Primary (external) magnetospheric field\n",
      " Rapid modelling of the large-scale magnetospheric field from Swarm satellite data, https://doi.org/10.5047/eps.2013.09.003 \n",
      "SOURCES:\n",
      "  SW_OPER_MMA_SHA_2F_20131125T103000_20140101T000000_0108\n",
      "  SW_OPER_MMA_SHA_2F_20140101T000000_20150101T000000_0108\n",
      "  SW_OPER_MMA_SHA_2F_20150101T000000_20160101T000000_0108\n",
      "  SW_OPER_MMA_SHA_2F_20160101T000000_20170101T000000_0108\n",
      "  SW_OPER_MMA_SHA_2F_20170101T000000_20180101T000000_0108\n",
      "  SW_OPER_MMA_SHA_2F_20180101T000000_20190101T000000_0108\n",
      "  SW_OPER_MMA_SHA_2F_20190101T000000_20200101T000000_0108\n",
      "  SW_OPER_MMA_SHA_2F_20200101T000000_20200202T223000_0108\n",
      "\n",
      "MMA_SHA_2F-Secondary = 'MMA_SHA_2F-Secondary'(max_degree=1,min_degree=1)\n",
      "  START: 2013-11-25T11:15:00Z\n",
      "  END:   2020-02-02T21:45:00Z\n",
      "DESCRIPTION:\n",
      "[Fast-Track Product]: Secondary (internal/induced) magnetospheric field\n",
      "SOURCES:\n",
      "  SW_OPER_MMA_SHA_2F_20131125T103000_20140101T000000_0108\n",
      "  SW_OPER_MMA_SHA_2F_20140101T000000_20150101T000000_0108\n",
      "  SW_OPER_MMA_SHA_2F_20150101T000000_20160101T000000_0108\n",
      "  SW_OPER_MMA_SHA_2F_20160101T000000_20170101T000000_0108\n",
      "  SW_OPER_MMA_SHA_2F_20170101T000000_20180101T000000_0108\n",
      "  SW_OPER_MMA_SHA_2F_20180101T000000_20190101T000000_0108\n",
      "  SW_OPER_MMA_SHA_2F_20190101T000000_20200101T000000_0108\n",
      "  SW_OPER_MMA_SHA_2F_20200101T000000_20200202T223000_0108\n",
      "\n"
     ]
    }
   ],
   "source": [
    "request.available_models()"
   ]
  },
  {
   "cell_type": "code",
   "execution_count": 14,
   "metadata": {},
   "outputs": [
    {
     "data": {
      "text/plain": [
       "['IGRF',\n",
       " 'IGRF12',\n",
       " 'LCS-1',\n",
       " 'MF7',\n",
       " 'CHAOS-Core',\n",
       " 'CHAOS-Static',\n",
       " 'CHAOS-MMA-Primary',\n",
       " 'CHAOS-MMA-Secondary',\n",
       " 'CHAOS-6-Core',\n",
       " 'CHAOS-6-Static',\n",
       " 'CHAOS-6-MMA-Primary',\n",
       " 'CHAOS-6-MMA-Secondary',\n",
       " 'MCO_SHA_2C',\n",
       " 'MCO_SHA_2D',\n",
       " 'MLI_SHA_2C',\n",
       " 'MLI_SHA_2D',\n",
       " 'MMA_SHA_2C-Primary',\n",
       " 'MMA_SHA_2C-Secondary',\n",
       " 'MMA_SHA_2F-Primary',\n",
       " 'MMA_SHA_2F-Secondary',\n",
       " 'MIO_SHA_2C-Primary',\n",
       " 'MIO_SHA_2C-Secondary',\n",
       " 'MIO_SHA_2D-Primary',\n",
       " 'MIO_SHA_2D-Secondary']"
      ]
     },
     "execution_count": 14,
     "metadata": {},
     "output_type": "execute_result"
    }
   ],
   "source": [
    "request.available_models(details=False)"
   ]
  },
  {
   "cell_type": "markdown",
   "metadata": {},
   "source": [
    "The Swarm models are named with a prefix indicating the source field (e.g. MCO for \"Model of the Core field) and suffix indicating the processing chain (e.g. 2D for \"Level 2 product, Comprehensive Inversion chain\").\n",
    "\n",
    "C: Comprehensive; D: Dedicated; F: Fast-track\n",
    "\n",
    "|                     \t| C \t| D \t| F \t|\n",
    "|---------------------\t|---\t|---\t|---\t|\n",
    "| MCO - Core          \t| x \t| x \t| - \t|\n",
    "| MMA - Magnetosphere \t| x \t| - \t| x \t|\n",
    "| MIO - Ionosphere    \t| x \t| x \t| - \t|\n",
    "| MLI - Lithosphere   \t| x \t| x \t| - \t|\n",
    "\n",
    "MIO and MMA are divided into Primary and Secondary parts - primary for the external (to the Earth) ionospheric / magnetospheric field source, and secondary for the internally induced part in the upper mantle."
   ]
  },
  {
   "cell_type": "markdown",
   "metadata": {},
   "source": [
    "#### Check models of a certain type, e.g. the CI models:"
   ]
  },
  {
   "cell_type": "code",
   "execution_count": 15,
   "metadata": {},
   "outputs": [
    {
     "data": {
      "text/plain": [
       "['MCO_SHA_2C',\n",
       " 'MLI_SHA_2C',\n",
       " 'MMA_SHA_2C-Primary',\n",
       " 'MMA_SHA_2C-Secondary',\n",
       " 'MIO_SHA_2C-Primary',\n",
       " 'MIO_SHA_2C-Secondary']"
      ]
     },
     "execution_count": 15,
     "metadata": {},
     "output_type": "execute_result"
    }
   ],
   "source": [
    "request.available_models(\"C\", details=False)"
   ]
  },
  {
   "cell_type": "markdown",
   "metadata": {},
   "source": [
    "#### ... or MCO (core) models"
   ]
  },
  {
   "cell_type": "code",
   "execution_count": 16,
   "metadata": {},
   "outputs": [
    {
     "name": "stdout",
     "output_type": "stream",
     "text": [
      "MCO_SHA_2C = MCO_SHA_2C(max_degree=18,min_degree=1)\n",
      "  START: 2013-11-24T18:28:47.999997Z\n",
      "  END:   2019-01-01T00:00:00Z\n",
      "DESCRIPTION:\n",
      "[Comprehensive Inversion]: Core field of CIY4\n",
      " A comprehensive model of Earth’s magnetic field determined from 4 years of Swarm satellite observations, https://doi.org/10.1186/s40623-018-0896-3 \n",
      "Validation: ftp://swarm-diss.eo.esa.int/Level2longterm/MCO/SW_OPER_MCO_VAL_2C_20131201T000000_20180101T000000_0401.ZIP \n",
      "SOURCES:\n",
      "  SW_OPER_MCO_SHA_2C_20131125T000000_20190101T000000_0501\n",
      "\n",
      "MCO_SHA_2D = MCO_SHA_2D(max_degree=20,min_degree=1)\n",
      "  START: 2013-11-25T12:00:00.000003Z\n",
      "  END:   2018-01-01T00:00:00Z\n",
      "DESCRIPTION:\n",
      "[Dedicated Chain]: Core field\n",
      "An algorithm for deriving core magnetic field models from the Swarm data set, https://doi.org/10.5047/eps.2013.07.005 \n",
      "Validation: ftp://swarm-diss.eo.esa.int/Level2longterm/MCO/SW_OPER_MCO_VAL_2D_20131126T000000_20180101T000000_0401.ZIP \n",
      "SOURCES:\n",
      "  SW_OPER_MCO_SHA_2D_20131126T000000_20180101T000000_0401\n",
      "\n"
     ]
    }
   ],
   "source": [
    "request.available_models(\"MCO\", details=True)"
   ]
  },
  {
   "cell_type": "markdown",
   "metadata": {},
   "source": [
    "## Manipulation of models\n",
    "\n",
    "Models can be manipulated: combining different models, limiting spherical harmonic (SH) series summation to a smaller range of SH degree. These composed models can be provided within the `models` kwarg in `request.set_products()`, e.g.\n",
    "\n",
    "```python\n",
    "from viresclient import SwarmRequest\n",
    "request = SwarmRequest()\n",
    "request.set_collection(\"SW_OPER_MAGA_LR_1B\")\n",
    "request.set_products(\n",
    "    measurements=[\"F\"],\n",
    "    models=[\"MCO_MMA = 'MCO_SHA_2C' + 'MMA_SHA_2C-Primary' + 'MMA_SHA_2C-Secondary'\"],\n",
    ")\n",
    "```\n",
    "\n",
    "Model details can be found with `request.get_model_info(models=...)` which handles the same `models` input as `set_products()`. This information is returned as a dictionary.\n",
    "\n",
    "1. The models should be provided as a list of strings, where each string defines a particular model."
   ]
  },
  {
   "cell_type": "code",
   "execution_count": 17,
   "metadata": {},
   "outputs": [
    {
     "data": {
      "text/plain": [
       "{'MCO_SHA_2D': {'sources': ['SW_OPER_MCO_SHA_2D_20131126T000000_20180101T000000_0401'],\n",
       "  'expression': 'MCO_SHA_2D(max_degree=20,min_degree=1)',\n",
       "  'validity': {'start': '2013-11-25T12:00:00.000003Z',\n",
       "   'end': '2018-01-01T00:00:00Z'}},\n",
       " 'MCO_SHA_2C': {'sources': ['SW_OPER_MCO_SHA_2C_20131125T000000_20190101T000000_0501'],\n",
       "  'expression': 'MCO_SHA_2C(max_degree=18,min_degree=1)',\n",
       "  'validity': {'start': '2013-11-24T18:28:47.999997Z',\n",
       "   'end': '2019-01-01T00:00:00Z'}}}"
      ]
     },
     "execution_count": 17,
     "metadata": {},
     "output_type": "execute_result"
    }
   ],
   "source": [
    "request.get_model_info(\n",
    "    models=[\"MCO_SHA_2D\", \"MCO_SHA_2C\"]\n",
    ")"
   ]
  },
  {
   "cell_type": "markdown",
   "metadata": {},
   "source": [
    "2.. Models can be combined to form a new model like:\n",
    "```\n",
    "\"New_model = 'Model_1' + 'Model_2'\"\n",
    "```"
   ]
  },
  {
   "cell_type": "code",
   "execution_count": 18,
   "metadata": {},
   "outputs": [
    {
     "data": {
      "text/plain": [
       "{'MCO_MMA': {'sources': ['SW_OPER_MCO_SHA_2C_20131125T000000_20190101T000000_0501',\n",
       "   'SW_OPER_MMA_SHA_2C_20131125T000000_20181231T235959_0501'],\n",
       "  'expression': \"MCO_SHA_2C(max_degree=18,min_degree=1) + 'MMA_SHA_2C-Primary'(max_degree=2,min_degree=1) + 'MMA_SHA_2C-Secondary'(max_degree=3,min_degree=1)\",\n",
       "  'validity': {'start': '2013-11-25T03:00:00Z',\n",
       "   'end': '2018-12-31T21:00:00Z'}}}"
      ]
     },
     "execution_count": 18,
     "metadata": {},
     "output_type": "execute_result"
    }
   ],
   "source": [
    "request.get_model_info(\n",
    "    models=[\"MCO_MMA = 'MCO_SHA_2C' + 'MMA_SHA_2C-Primary' + 'MMA_SHA_2C-Secondary'\"]\n",
    ")"
   ]
  },
  {
   "cell_type": "markdown",
   "metadata": {},
   "source": [
    "3. Limiting the SH degree range can be done with:\n",
    "```\n",
    "Model_name(min_degree=x, max_degree=y)\n",
    "```\n",
    "\n",
    "4. Your own .shc format model can be provided as a file, the model for which is then accessible within VirES under the name `\"Custom_Model\"`. NB: in this case you will also need to provide the `custom_model` kwarg in `request.set_products()` - the model is not persistently stored on the server.\n",
    "\n",
    "5. New models can be defined successively in the list, using names that have been defined earlier in the list."
   ]
  },
  {
   "cell_type": "code",
   "execution_count": 19,
   "metadata": {},
   "outputs": [],
   "source": [
    "# Fetch an example file to use\n",
    "url = \"http://www.spacecenter.dk/files/magnetic-models/LCS-1/LCS-1.shc\"\n",
    "file_name = \"LCS-1.shc\"\n",
    "import urllib.request\n",
    "urllib.request.urlretrieve(url, file_name);"
   ]
  },
  {
   "cell_type": "code",
   "execution_count": 20,
   "metadata": {},
   "outputs": [
    {
     "data": {
      "text/plain": [
       "{'MLI_SHA_2D': {'sources': ['SW_OPER_MLI_SHA_2D_00000000T000000_99999999T999999_0501'],\n",
       "  'expression': 'MLI_SHA_2D(max_degree=80,min_degree=16)',\n",
       "  'validity': {'start': '0001-01-01T00:00:00Z',\n",
       "   'end': '4000-01-01T00:00:00Z'}},\n",
       " 'LCS': {'sources': [],\n",
       "  'expression': 'Custom_Model(max_degree=80,min_degree=1)',\n",
       "  'validity': {'start': '0001-01-01T00:00:00Z',\n",
       "   'end': '4000-01-01T00:00:00Z'}},\n",
       " 'LCS-SwarmMLI': {'sources': ['SW_OPER_MLI_SHA_2D_00000000T000000_99999999T999999_0501'],\n",
       "  'expression': 'LCS(max_degree=80,min_degree=1) - MLI_SHA_2D(max_degree=80,min_degree=16)',\n",
       "  'validity': {'start': '0001-01-01T00:00:00Z',\n",
       "   'end': '4000-01-01T00:00:00Z'}}}"
      ]
     },
     "execution_count": 20,
     "metadata": {},
     "output_type": "execute_result"
    }
   ],
   "source": [
    "# Demonstrates:\n",
    "#  limiting SH degree\n",
    "#  providing your own model file\n",
    "#  referring to defined models\n",
    "request.get_model_info(\n",
    "    models=[\n",
    "        \"MLI_SHA_2D = MLI_SHA_2D(min_degree=1, max_degree=80)\",\n",
    "        \"LCS = Custom_Model(min_degree=1, max_degree=80)\",\n",
    "        \"LCS-SwarmMLI = LCS - MLI_SHA_2D\"\n",
    "    ],\n",
    "    custom_model=file_name,\n",
    ")"
   ]
  },
  {
   "cell_type": "markdown",
   "metadata": {},
   "source": [
    "It is also possible to provide the models as a dictionary instead of a list."
   ]
  },
  {
   "cell_type": "code",
   "execution_count": 21,
   "metadata": {},
   "outputs": [
    {
     "data": {
      "text/plain": [
       "{'MLI_SHA_2D': {'sources': ['SW_OPER_MLI_SHA_2D_00000000T000000_99999999T999999_0501'],\n",
       "  'expression': 'MLI_SHA_2D(max_degree=80,min_degree=16)',\n",
       "  'validity': {'start': '0001-01-01T00:00:00Z',\n",
       "   'end': '4000-01-01T00:00:00Z'}},\n",
       " 'LCS': {'sources': [],\n",
       "  'expression': 'Custom_Model(max_degree=80,min_degree=1)',\n",
       "  'validity': {'start': '0001-01-01T00:00:00Z',\n",
       "   'end': '4000-01-01T00:00:00Z'}},\n",
       " 'LCS-SwarmMLI': {'sources': ['SW_OPER_MLI_SHA_2D_00000000T000000_99999999T999999_0501'],\n",
       "  'expression': 'LCS(max_degree=80,min_degree=1) - MLI_SHA_2D(max_degree=80,min_degree=16)',\n",
       "  'validity': {'start': '0001-01-01T00:00:00Z',\n",
       "   'end': '4000-01-01T00:00:00Z'}}}"
      ]
     },
     "execution_count": 21,
     "metadata": {},
     "output_type": "execute_result"
    }
   ],
   "source": [
    "request.get_model_info(\n",
    "    models={\n",
    "        \"MLI_SHA_2D\": \"MLI_SHA_2D(min_degree=1, max_degree=80)\",\n",
    "        \"LCS\": \"Custom_Model(min_degree=1, max_degree=80)\",\n",
    "        \"LCS-SwarmMLI\": \"LCS - MLI_SHA_2D\"\n",
    "    },\n",
    "    custom_model=\"LCS-1.shc\"\n",
    ") # fixed in v0.5.0"
   ]
  }
 ],
 "metadata": {
  "kernelspec": {
   "display_name": "Python 3",
   "language": "python",
   "name": "python3"
  },
  "language_info": {
   "codemirror_mode": {
    "name": "ipython",
    "version": 3
   },
   "file_extension": ".py",
   "mimetype": "text/x-python",
   "name": "python",
   "nbconvert_exporter": "python",
   "pygments_lexer": "ipython3",
   "version": "3.7.3"
  }
 },
 "nbformat": 4,
 "nbformat_minor": 4
}
