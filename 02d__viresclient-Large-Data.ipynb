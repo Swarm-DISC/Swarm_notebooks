{
 "cells": [
  {
   "cell_type": "markdown",
   "metadata": {},
   "source": [
    "# Working with large data volumes\n",
    "\n",
    "> Authors: Ashley Smith\n",
    ">\n",
    "> Abstract: Some strategies for requesting and handling larger data volumes"
   ]
  },
  {
   "cell_type": "markdown",
   "metadata": {},
   "source": [
    "Note that the code could take a long time to run, so it is better to adjust it for smaller jobs if you are just testing it out."
   ]
  },
  {
   "cell_type": "code",
   "execution_count": 1,
   "metadata": {},
   "outputs": [
    {
     "name": "stdout",
     "output_type": "stream",
     "text": [
      "2020-02-17T19:21:13+00:00\n",
      "\n",
      "CPython 3.7.6\n",
      "IPython 7.11.1\n",
      "\n",
      "viresclient 0.5.0\n",
      "pandas 0.25.3\n",
      "xarray 0.15.0\n",
      "matplotlib 3.1.2\n"
     ]
    }
   ],
   "source": [
    "%load_ext watermark\n",
    "%watermark -i -v -p viresclient,pandas,xarray,matplotlib"
   ]
  },
  {
   "cell_type": "code",
   "execution_count": 2,
   "metadata": {},
   "outputs": [],
   "source": [
    "from viresclient import SwarmRequest\n",
    "import datetime as dt\n",
    "import xarray as xr\n",
    "import glob"
   ]
  },
  {
   "cell_type": "markdown",
   "metadata": {},
   "source": [
    "## Set up the request parameters - magnetic data and model evaluations\n",
    "\n",
    "We fetch the measurements (`F`, `B_NEC`), and model values (named as `F_CHAOS`, `B_NEC_CHAOS`) - here we name the custom model as \"CHAOS\" but you can call it anything.\n",
    "\n",
    "It is also possible to fetch data from all satellites at once with `request.set_collection(\"SW_OPER_MAGA_LR_1B\", \"SW_OPER_MAGB_LR_1B\", \"\"SW_OPER_MAGC_LR_1B\")`, which will be identified in the returned data by the `Spacecraft` column."
   ]
  },
  {
   "cell_type": "code",
   "execution_count": 3,
   "metadata": {},
   "outputs": [
    {
     "data": {
      "text/plain": [
       "<viresclient._client_swarm.SwarmRequest at 0x7fdf17da04d0>"
      ]
     },
     "execution_count": 3,
     "metadata": {},
     "output_type": "execute_result"
    }
   ],
   "source": [
    "request = SwarmRequest()\n",
    "request.set_collection(\"SW_OPER_MAGA_LR_1B\")  # Swarm Alpha\n",
    "request.set_products(\n",
    "    measurements=[\"F\", \"B_NEC\"],\n",
    "    # Choose between the full CHAOS model (will be a lot slower - the MMA part could use some optimisation(?))\n",
    "#     models=[\"CHAOS = 'CHAOS-6-Core' + 'CHAOS-6-Static' + 'CHAOS-6-MMA-Primary' + 'CHAOS-6-MMA-Secondary'\"],\n",
    "    # ...or just the core part:\n",
    "    models=[\"CHAOS = 'CHAOS-Core'\"],\n",
    "    sampling_step=\"PT1S\"\n",
    ")\n",
    "# Quality Flags\n",
    "# https://earth.esa.int/web/guest/missions/esa-eo-missions/swarm/data-handbook/level-1b-product-definitions#label-Flags_F-and-Flags_B-Values-of-MDR_MAG_LR\n",
    "# NB: will need to do something different for Charlie because the ASM broke so Flags_F are bad\n",
    "request.set_range_filter(\"Flags_F\", 0, 1)\n",
    "request.set_range_filter(\"Flags_B\", 0, 1)"
   ]
  },
  {
   "cell_type": "markdown",
   "metadata": {},
   "source": [
    "## Look at one day to see what the output data will look like"
   ]
  },
  {
   "cell_type": "code",
   "execution_count": 4,
   "metadata": {},
   "outputs": [
    {
     "name": "stderr",
     "output_type": "stream",
     "text": [
      "[1/1] Processing:  100%|██████████|  [ Elapsed: 00:03, Remaining: 00:00 ]\n",
      "      Downloading: 100%|██████████|  [ Elapsed: 00:00, Remaining: 00:00 ] (8.212MB)\n"
     ]
    }
   ],
   "source": [
    "data = request.get_between(\n",
    "    start_time=dt.datetime(2018,1,1),\n",
    "    end_time=dt.datetime(2018,1,2)\n",
    ")"
   ]
  },
  {
   "cell_type": "code",
   "execution_count": 5,
   "metadata": {},
   "outputs": [
    {
     "data": {
      "text/html": [
       "<div>\n",
       "<style scoped>\n",
       "    .dataframe tbody tr th:only-of-type {\n",
       "        vertical-align: middle;\n",
       "    }\n",
       "\n",
       "    .dataframe tbody tr th {\n",
       "        vertical-align: top;\n",
       "    }\n",
       "\n",
       "    .dataframe thead th {\n",
       "        text-align: right;\n",
       "    }\n",
       "</style>\n",
       "<table border=\"1\" class=\"dataframe\">\n",
       "  <thead>\n",
       "    <tr style=\"text-align: right;\">\n",
       "      <th></th>\n",
       "      <th>Spacecraft</th>\n",
       "      <th>F_CHAOS</th>\n",
       "      <th>F</th>\n",
       "      <th>Latitude</th>\n",
       "      <th>Longitude</th>\n",
       "      <th>Radius</th>\n",
       "      <th>B_NEC_CHAOS_N</th>\n",
       "      <th>B_NEC_CHAOS_E</th>\n",
       "      <th>B_NEC_CHAOS_C</th>\n",
       "      <th>B_NEC_N</th>\n",
       "      <th>B_NEC_E</th>\n",
       "      <th>B_NEC_C</th>\n",
       "    </tr>\n",
       "  </thead>\n",
       "  <tbody>\n",
       "    <tr>\n",
       "      <th>2018-01-01 00:00:00</th>\n",
       "      <td>A</td>\n",
       "      <td>46590.651442</td>\n",
       "      <td>46592.0984</td>\n",
       "      <td>67.633961</td>\n",
       "      <td>171.372832</td>\n",
       "      <td>6808059.52</td>\n",
       "      <td>10359.090249</td>\n",
       "      <td>-153.330860</td>\n",
       "      <td>45424.162520</td>\n",
       "      <td>10359.2446</td>\n",
       "      <td>-187.2981</td>\n",
       "      <td>45425.4040</td>\n",
       "    </tr>\n",
       "    <tr>\n",
       "      <th>2018-01-01 00:00:01</th>\n",
       "      <td>A</td>\n",
       "      <td>46576.496034</td>\n",
       "      <td>46578.1323</td>\n",
       "      <td>67.570052</td>\n",
       "      <td>171.389161</td>\n",
       "      <td>6808066.03</td>\n",
       "      <td>10394.356035</td>\n",
       "      <td>-152.358992</td>\n",
       "      <td>45401.587331</td>\n",
       "      <td>10394.1152</td>\n",
       "      <td>-186.2339</td>\n",
       "      <td>45403.1172</td>\n",
       "    </tr>\n",
       "    <tr>\n",
       "      <th>2018-01-01 00:00:02</th>\n",
       "      <td>A</td>\n",
       "      <td>46562.259520</td>\n",
       "      <td>46564.0862</td>\n",
       "      <td>67.506140</td>\n",
       "      <td>171.405378</td>\n",
       "      <td>6808072.56</td>\n",
       "      <td>10429.603616</td>\n",
       "      <td>-151.379659</td>\n",
       "      <td>45378.898887</td>\n",
       "      <td>10429.4246</td>\n",
       "      <td>-184.7463</td>\n",
       "      <td>45380.5991</td>\n",
       "    </tr>\n",
       "    <tr>\n",
       "      <th>2018-01-01 00:00:03</th>\n",
       "      <td>A</td>\n",
       "      <td>46547.941922</td>\n",
       "      <td>46549.9552</td>\n",
       "      <td>67.442226</td>\n",
       "      <td>171.421486</td>\n",
       "      <td>6808079.11</td>\n",
       "      <td>10464.832613</td>\n",
       "      <td>-150.392871</td>\n",
       "      <td>45356.097248</td>\n",
       "      <td>10464.5537</td>\n",
       "      <td>-183.3768</td>\n",
       "      <td>45358.0147</td>\n",
       "    </tr>\n",
       "    <tr>\n",
       "      <th>2018-01-01 00:00:04</th>\n",
       "      <td>A</td>\n",
       "      <td>46533.543452</td>\n",
       "      <td>46535.7412</td>\n",
       "      <td>67.378309</td>\n",
       "      <td>171.437486</td>\n",
       "      <td>6808085.67</td>\n",
       "      <td>10500.042743</td>\n",
       "      <td>-149.398655</td>\n",
       "      <td>45333.182644</td>\n",
       "      <td>10499.3677</td>\n",
       "      <td>-182.4300</td>\n",
       "      <td>45335.4015</td>\n",
       "    </tr>\n",
       "  </tbody>\n",
       "</table>\n",
       "</div>"
      ],
      "text/plain": [
       "                    Spacecraft       F_CHAOS           F   Latitude  \\\n",
       "2018-01-01 00:00:00          A  46590.651442  46592.0984  67.633961   \n",
       "2018-01-01 00:00:01          A  46576.496034  46578.1323  67.570052   \n",
       "2018-01-01 00:00:02          A  46562.259520  46564.0862  67.506140   \n",
       "2018-01-01 00:00:03          A  46547.941922  46549.9552  67.442226   \n",
       "2018-01-01 00:00:04          A  46533.543452  46535.7412  67.378309   \n",
       "\n",
       "                      Longitude      Radius  B_NEC_CHAOS_N  B_NEC_CHAOS_E  \\\n",
       "2018-01-01 00:00:00  171.372832  6808059.52   10359.090249    -153.330860   \n",
       "2018-01-01 00:00:01  171.389161  6808066.03   10394.356035    -152.358992   \n",
       "2018-01-01 00:00:02  171.405378  6808072.56   10429.603616    -151.379659   \n",
       "2018-01-01 00:00:03  171.421486  6808079.11   10464.832613    -150.392871   \n",
       "2018-01-01 00:00:04  171.437486  6808085.67   10500.042743    -149.398655   \n",
       "\n",
       "                     B_NEC_CHAOS_C     B_NEC_N   B_NEC_E     B_NEC_C  \n",
       "2018-01-01 00:00:00   45424.162520  10359.2446 -187.2981  45425.4040  \n",
       "2018-01-01 00:00:01   45401.587331  10394.1152 -186.2339  45403.1172  \n",
       "2018-01-01 00:00:02   45378.898887  10429.4246 -184.7463  45380.5991  \n",
       "2018-01-01 00:00:03   45356.097248  10464.5537 -183.3768  45358.0147  \n",
       "2018-01-01 00:00:04   45333.182644  10499.3677 -182.4300  45335.4015  "
      ]
     },
     "execution_count": 5,
     "metadata": {},
     "output_type": "execute_result"
    }
   ],
   "source": [
    "data.as_dataframe(expand=True).head()"
   ]
  },
  {
   "cell_type": "code",
   "execution_count": 6,
   "metadata": {},
   "outputs": [
    {
     "data": {
      "text/html": [
       "<pre>&lt;xarray.Dataset&gt;\n",
       "Dimensions:      (NEC: 3, Timestamp: 84595)\n",
       "Coordinates:\n",
       "  * Timestamp    (Timestamp) datetime64[ns] 2018-01-01 ... 2018-01-01T23:59:59\n",
       "  * NEC          (NEC) &lt;U1 &#x27;N&#x27; &#x27;E&#x27; &#x27;C&#x27;\n",
       "Data variables:\n",
       "    Spacecraft   (Timestamp) object &#x27;A&#x27; &#x27;A&#x27; &#x27;A&#x27; &#x27;A&#x27; &#x27;A&#x27; ... &#x27;A&#x27; &#x27;A&#x27; &#x27;A&#x27; &#x27;A&#x27; &#x27;A&#x27;\n",
       "    F            (Timestamp) float64 4.659e+04 4.658e+04 ... 4.706e+04 4.704e+04\n",
       "    F_CHAOS      (Timestamp) float64 4.659e+04 4.658e+04 ... 4.712e+04 4.71e+04\n",
       "    Latitude     (Timestamp) float64 67.63 67.57 67.51 ... -81.72 -81.78 -81.84\n",
       "    Longitude    (Timestamp) float64 171.4 171.4 171.4 ... -164.9 -164.8 -164.7\n",
       "    B_NEC        (Timestamp, NEC) float64 1.036e+04 -187.3 ... -4.583e+04\n",
       "    Radius       (Timestamp) float64 6.808e+06 6.808e+06 ... 6.825e+06 6.825e+06\n",
       "    B_NEC_CHAOS  (Timestamp, NEC) float64 1.036e+04 -153.3 ... -4.592e+04\n",
       "Attributes:\n",
       "    Sources:         [&#x27;SW_OPER_MAGA_LR_1B_20180101T000000_20180101T235959_050...\n",
       "    MagneticModels:  [&quot;CHAOS = &#x27;CHAOS-Core&#x27;(max_degree=20,min_degree=1)&quot;]\n",
       "    RangeFilters:    [&#x27;Flags_B:0,1&#x27;, &#x27;Flags_F:0,1&#x27;]</pre>"
      ],
      "text/plain": [
       "<xarray.Dataset>\n",
       "Dimensions:      (NEC: 3, Timestamp: 84595)\n",
       "Coordinates:\n",
       "  * Timestamp    (Timestamp) datetime64[ns] 2018-01-01 ... 2018-01-01T23:59:59\n",
       "  * NEC          (NEC) <U1 'N' 'E' 'C'\n",
       "Data variables:\n",
       "    Spacecraft   (Timestamp) object 'A' 'A' 'A' 'A' 'A' ... 'A' 'A' 'A' 'A' 'A'\n",
       "    F            (Timestamp) float64 4.659e+04 4.658e+04 ... 4.706e+04 4.704e+04\n",
       "    F_CHAOS      (Timestamp) float64 4.659e+04 4.658e+04 ... 4.712e+04 4.71e+04\n",
       "    Latitude     (Timestamp) float64 67.63 67.57 67.51 ... -81.72 -81.78 -81.84\n",
       "    Longitude    (Timestamp) float64 171.4 171.4 171.4 ... -164.9 -164.8 -164.7\n",
       "    B_NEC        (Timestamp, NEC) float64 1.036e+04 -187.3 ... -4.583e+04\n",
       "    Radius       (Timestamp) float64 6.808e+06 6.808e+06 ... 6.825e+06 6.825e+06\n",
       "    B_NEC_CHAOS  (Timestamp, NEC) float64 1.036e+04 -153.3 ... -4.592e+04\n",
       "Attributes:\n",
       "    Sources:         ['SW_OPER_MAGA_LR_1B_20180101T000000_20180101T235959_050...\n",
       "    MagneticModels:  [\"CHAOS = 'CHAOS-Core'(max_degree=20,min_degree=1)\"]\n",
       "    RangeFilters:    ['Flags_B:0,1', 'Flags_F:0,1']"
      ]
     },
     "execution_count": 6,
     "metadata": {},
     "output_type": "execute_result"
    }
   ],
   "source": [
    "data.as_xarray()"
   ]
  },
  {
   "cell_type": "markdown",
   "metadata": {},
   "source": [
    "## Three options suggested for how to deal with larger volumes (option 2 is recommended)"
   ]
  },
  {
   "cell_type": "markdown",
   "metadata": {},
   "source": [
    "### 1. a) Fetch two years of data and save them directly\n",
    "\n",
    "For this example we simplify the acquired data (lower cadence, fewer measurements)"
   ]
  },
  {
   "cell_type": "code",
   "execution_count": 7,
   "metadata": {},
   "outputs": [
    {
     "data": {
      "text/plain": [
       "<viresclient._client_swarm.SwarmRequest at 0x7fdf15da0dd0>"
      ]
     },
     "execution_count": 7,
     "metadata": {},
     "output_type": "execute_result"
    }
   ],
   "source": [
    "request = SwarmRequest()\n",
    "request.set_collection(\"SW_OPER_MAGA_LR_1B\")  # Swarm Alpha\n",
    "request.set_products(\n",
    "    measurements=[\"F\"],\n",
    "    sampling_step=\"PT5S\"\n",
    ")\n",
    "# Quality Flags\n",
    "# https://earth.esa.int/web/guest/missions/esa-eo-missions/swarm/data-handbook/level-1b-product-definitions#label-Flags_F-and-Flags_B-Values-of-MDR_MAG_LR\n",
    "# NB: will need to do something different for Charlie because the ASM broke so Flags_F are bad\n",
    "request.set_range_filter(\"Flags_F\", 0, 1)\n",
    "request.set_range_filter(\"Flags_B\", 0, 1)"
   ]
  },
  {
   "cell_type": "markdown",
   "metadata": {},
   "source": [
    "The request is automatically split up and sequentially processed."
   ]
  },
  {
   "cell_type": "code",
   "execution_count": 8,
   "metadata": {},
   "outputs": [
    {
     "name": "stderr",
     "output_type": "stream",
     "text": [
      "[1/3] Processing:  100%|██████████|  [ Elapsed: 00:14, Remaining: 00:00 ]\n",
      "      Downloading: 100%|██████████|  [ Elapsed: 00:01, Remaining: 00:00 ] (165.873MB)\n",
      "[2/3] Processing:  100%|██████████|  [ Elapsed: 00:14, Remaining: 00:00 ]\n",
      "      Downloading: 100%|██████████|  [ Elapsed: 00:02, Remaining: 00:00 ] (174.037MB)\n",
      "[3/3] Processing:  100%|██████████|  [ Elapsed: 00:13, Remaining: 00:00 ]\n",
      "      Downloading: 100%|██████████|  [ Elapsed: 00:01, Remaining: 00:00 ] (160.447MB)\n"
     ]
    }
   ],
   "source": [
    "data = request.get_between(\n",
    "    start_time=dt.datetime(2014,1,1),\n",
    "    end_time=dt.datetime(2016,1,1)\n",
    ")"
   ]
  },
  {
   "cell_type": "markdown",
   "metadata": {},
   "source": [
    "`data` is a kind of wrapper around some temporary CDF files (more data -> more files). This means the data is accessible but not yet loaded into memory. When the variable `data` is deleted, or the current program is closed, the files will be removed. `data.contents` is a list of objects which point to each file, and each on-disk filename can be retrieved as below.\n",
    "\n",
    "Warning: this behaviour is likely to change in the future (an underscore in the name, `_file`, indicates a private variable whose behaviour in the future is not guaranteed)."
   ]
  },
  {
   "cell_type": "code",
   "execution_count": 9,
   "metadata": {},
   "outputs": [
    {
     "data": {
      "text/plain": [
       "'/tmp/vires_lx1et8uv'"
      ]
     },
     "execution_count": 9,
     "metadata": {},
     "output_type": "execute_result"
    }
   ],
   "source": [
    "data.contents[0]._file.name"
   ]
  },
  {
   "cell_type": "markdown",
   "metadata": {},
   "source": [
    "`data.as_dataframe()` / `data.as_xarray()` will read the files and concatenate them, but will fail if you don't have the memory to load them all simultaneously."
   ]
  },
  {
   "cell_type": "markdown",
   "metadata": {},
   "source": [
    "#### Save the files directly\n",
    "\n",
    "The length of `data.contents` tells us the number of temporary files. Use this to make up some file names to give them."
   ]
  },
  {
   "cell_type": "code",
   "execution_count": 10,
   "metadata": {},
   "outputs": [
    {
     "data": {
      "text/plain": [
       "['testfile_000.cdf', 'testfile_001.cdf', 'testfile_002.cdf']"
      ]
     },
     "execution_count": 10,
     "metadata": {},
     "output_type": "execute_result"
    }
   ],
   "source": [
    "filenames = [f\"testfile_{n:03}.cdf\" for n in range(len(data.contents))]\n",
    "filenames"
   ]
  },
  {
   "cell_type": "code",
   "execution_count": 11,
   "metadata": {},
   "outputs": [
    {
     "name": "stdout",
     "output_type": "stream",
     "text": [
      "Saves the data to the specified files.\n",
      "\n",
      "        Only write to file if it does not yet exist, or if overwrite=True.\n",
      "        Currently handles CSV and CDF formats.\n",
      "\n",
      "        Args:\n",
      "            paths (list of str): paths to the files to save as\n",
      "            overwrite (bool): Will overwrite existing file if True\n",
      "\n",
      "        \n"
     ]
    }
   ],
   "source": [
    "print(data.to_files.__doc__)"
   ]
  },
  {
   "cell_type": "code",
   "execution_count": 12,
   "metadata": {},
   "outputs": [
    {
     "name": "stdout",
     "output_type": "stream",
     "text": [
      "Data written to testfile_000.cdf\n",
      "Data written to testfile_001.cdf\n",
      "Data written to testfile_002.cdf\n"
     ]
    }
   ],
   "source": [
    "data.to_files(filenames)"
   ]
  },
  {
   "cell_type": "markdown",
   "metadata": {},
   "source": [
    "From here you may use some other tool to work with the files. I will just remove them now:"
   ]
  },
  {
   "cell_type": "code",
   "execution_count": 13,
   "metadata": {},
   "outputs": [],
   "source": [
    "!rm testfile_*"
   ]
  },
  {
   "cell_type": "markdown",
   "metadata": {},
   "source": [
    "### 1. b) Tune the size of each generated file by making multiple requests manually\n",
    "\n",
    "Generate lists of start and end times to use..."
   ]
  },
  {
   "cell_type": "code",
   "execution_count": 14,
   "metadata": {},
   "outputs": [
    {
     "data": {
      "text/plain": [
       "[(datetime.datetime(2014, 1, 1, 0, 0), datetime.datetime(2014, 1, 2, 0, 0)),\n",
       " (datetime.datetime(2014, 1, 2, 0, 0), datetime.datetime(2014, 1, 3, 0, 0)),\n",
       " (datetime.datetime(2014, 1, 3, 0, 0), datetime.datetime(2014, 1, 4, 0, 0)),\n",
       " (datetime.datetime(2014, 1, 4, 0, 0), datetime.datetime(2014, 1, 5, 0, 0)),\n",
       " (datetime.datetime(2014, 1, 5, 0, 0), datetime.datetime(2014, 1, 6, 0, 0)),\n",
       " (datetime.datetime(2014, 1, 6, 0, 0), datetime.datetime(2014, 1, 7, 0, 0)),\n",
       " (datetime.datetime(2014, 1, 7, 0, 0), datetime.datetime(2014, 1, 8, 0, 0)),\n",
       " (datetime.datetime(2014, 1, 8, 0, 0), datetime.datetime(2014, 1, 9, 0, 0)),\n",
       " (datetime.datetime(2014, 1, 9, 0, 0), datetime.datetime(2014, 1, 10, 0, 0)),\n",
       " (datetime.datetime(2014, 1, 10, 0, 0), datetime.datetime(2014, 1, 11, 0, 0)),\n",
       " (datetime.datetime(2014, 1, 11, 0, 0), datetime.datetime(2014, 1, 12, 0, 0)),\n",
       " (datetime.datetime(2014, 1, 12, 0, 0), datetime.datetime(2014, 1, 13, 0, 0)),\n",
       " (datetime.datetime(2014, 1, 13, 0, 0), datetime.datetime(2014, 1, 14, 0, 0)),\n",
       " (datetime.datetime(2014, 1, 14, 0, 0), datetime.datetime(2014, 1, 15, 0, 0)),\n",
       " (datetime.datetime(2014, 1, 15, 0, 0), datetime.datetime(2014, 1, 16, 0, 0)),\n",
       " (datetime.datetime(2014, 1, 16, 0, 0), datetime.datetime(2014, 1, 17, 0, 0)),\n",
       " (datetime.datetime(2014, 1, 17, 0, 0), datetime.datetime(2014, 1, 18, 0, 0)),\n",
       " (datetime.datetime(2014, 1, 18, 0, 0), datetime.datetime(2014, 1, 19, 0, 0)),\n",
       " (datetime.datetime(2014, 1, 19, 0, 0), datetime.datetime(2014, 1, 20, 0, 0)),\n",
       " (datetime.datetime(2014, 1, 20, 0, 0), datetime.datetime(2014, 1, 21, 0, 0)),\n",
       " (datetime.datetime(2014, 1, 21, 0, 0), datetime.datetime(2014, 1, 22, 0, 0)),\n",
       " (datetime.datetime(2014, 1, 22, 0, 0), datetime.datetime(2014, 1, 23, 0, 0)),\n",
       " (datetime.datetime(2014, 1, 23, 0, 0), datetime.datetime(2014, 1, 24, 0, 0)),\n",
       " (datetime.datetime(2014, 1, 24, 0, 0), datetime.datetime(2014, 1, 25, 0, 0)),\n",
       " (datetime.datetime(2014, 1, 25, 0, 0), datetime.datetime(2014, 1, 26, 0, 0)),\n",
       " (datetime.datetime(2014, 1, 26, 0, 0), datetime.datetime(2014, 1, 27, 0, 0)),\n",
       " (datetime.datetime(2014, 1, 27, 0, 0), datetime.datetime(2014, 1, 28, 0, 0)),\n",
       " (datetime.datetime(2014, 1, 28, 0, 0), datetime.datetime(2014, 1, 29, 0, 0)),\n",
       " (datetime.datetime(2014, 1, 29, 0, 0), datetime.datetime(2014, 1, 30, 0, 0)),\n",
       " (datetime.datetime(2014, 1, 30, 0, 0), datetime.datetime(2014, 1, 31, 0, 0)),\n",
       " (datetime.datetime(2014, 1, 31, 0, 0), datetime.datetime(2014, 2, 1, 0, 0))]"
      ]
     },
     "execution_count": 14,
     "metadata": {},
     "output_type": "execute_result"
    }
   ],
   "source": [
    "def gen_start_ends(\n",
    "        start=dt.datetime(2014, 1, 1),\n",
    "        end=dt.datetime(2014, 2, 1),\n",
    "        ndays=1):\n",
    "    delta_t = dt.timedelta(days=ndays)\n",
    "    start_times = []\n",
    "    end_times = []\n",
    "    start_i = start\n",
    "    end_i = start_i + dt.timedelta(days=1)\n",
    "    while end_i <= end:\n",
    "    #     print(start, end)\n",
    "        start_times.append(start_i)\n",
    "        end_times.append(end_i)\n",
    "        start_i, end_i = end_i, end_i + delta_t\n",
    "    # Append an uneven ending segment if necessary\n",
    "    if end_times[-1] < end:\n",
    "        start_times.append(start_i)\n",
    "        end_times.append(end)\n",
    "    return start_times, end_times\n",
    "    \n",
    "start_times, end_times = gen_start_ends(\n",
    "    start=dt.datetime(2014, 1, 1),\n",
    "    end=dt.datetime(2014, 2, 1),\n",
    "    ndays=1\n",
    ")\n",
    "list(zip(start_times, end_times))"
   ]
  },
  {
   "cell_type": "markdown",
   "metadata": {},
   "source": [
    "Generate some file names to use"
   ]
  },
  {
   "cell_type": "code",
   "execution_count": 15,
   "metadata": {},
   "outputs": [
    {
     "data": {
      "text/plain": [
       "['data_2014-01-01.cdf',\n",
       " 'data_2014-01-02.cdf',\n",
       " 'data_2014-01-03.cdf',\n",
       " 'data_2014-01-04.cdf',\n",
       " 'data_2014-01-05.cdf',\n",
       " 'data_2014-01-06.cdf',\n",
       " 'data_2014-01-07.cdf',\n",
       " 'data_2014-01-08.cdf',\n",
       " 'data_2014-01-09.cdf',\n",
       " 'data_2014-01-10.cdf',\n",
       " 'data_2014-01-11.cdf',\n",
       " 'data_2014-01-12.cdf',\n",
       " 'data_2014-01-13.cdf',\n",
       " 'data_2014-01-14.cdf',\n",
       " 'data_2014-01-15.cdf',\n",
       " 'data_2014-01-16.cdf',\n",
       " 'data_2014-01-17.cdf',\n",
       " 'data_2014-01-18.cdf',\n",
       " 'data_2014-01-19.cdf',\n",
       " 'data_2014-01-20.cdf',\n",
       " 'data_2014-01-21.cdf',\n",
       " 'data_2014-01-22.cdf',\n",
       " 'data_2014-01-23.cdf',\n",
       " 'data_2014-01-24.cdf',\n",
       " 'data_2014-01-25.cdf',\n",
       " 'data_2014-01-26.cdf',\n",
       " 'data_2014-01-27.cdf',\n",
       " 'data_2014-01-28.cdf',\n",
       " 'data_2014-01-29.cdf',\n",
       " 'data_2014-01-30.cdf',\n",
       " 'data_2014-01-31.cdf']"
      ]
     },
     "execution_count": 15,
     "metadata": {},
     "output_type": "execute_result"
    }
   ],
   "source": [
    "filenames = [f\"data_{start.strftime('%Y-%m-%d')}.cdf\" for start in start_times]\n",
    "filenames"
   ]
  },
  {
   "cell_type": "markdown",
   "metadata": {},
   "source": [
    "Loop through these dates and file names to fetch and save each.\n",
    "\n",
    "(Here we remove the progress bars with `show_progress=False` just to keep this notebook cleaner - in reality you might want to keep them)"
   ]
  },
  {
   "cell_type": "code",
   "execution_count": 16,
   "metadata": {},
   "outputs": [
    {
     "name": "stdout",
     "output_type": "stream",
     "text": [
      "Data written to data_2014-01-01.cdf\n",
      "Data written to data_2014-01-02.cdf\n",
      "Data written to data_2014-01-03.cdf\n",
      "Data written to data_2014-01-04.cdf\n",
      "Data written to data_2014-01-05.cdf\n",
      "Data written to data_2014-01-06.cdf\n",
      "Data written to data_2014-01-07.cdf\n",
      "Data written to data_2014-01-08.cdf\n",
      "Data written to data_2014-01-09.cdf\n",
      "Data written to data_2014-01-10.cdf\n",
      "Data written to data_2014-01-11.cdf\n",
      "Data written to data_2014-01-12.cdf\n",
      "Data written to data_2014-01-13.cdf\n",
      "Data written to data_2014-01-14.cdf\n",
      "Data written to data_2014-01-15.cdf\n",
      "Data written to data_2014-01-16.cdf\n",
      "Data written to data_2014-01-17.cdf\n",
      "Data written to data_2014-01-18.cdf\n",
      "Data written to data_2014-01-19.cdf\n",
      "Data written to data_2014-01-20.cdf\n",
      "Data written to data_2014-01-21.cdf\n",
      "Data written to data_2014-01-22.cdf\n",
      "Data written to data_2014-01-23.cdf\n",
      "Data written to data_2014-01-24.cdf\n",
      "Data written to data_2014-01-25.cdf\n",
      "Data written to data_2014-01-26.cdf\n",
      "Data written to data_2014-01-27.cdf\n",
      "Data written to data_2014-01-28.cdf\n",
      "Data written to data_2014-01-29.cdf\n",
      "Data written to data_2014-01-30.cdf\n",
      "Data written to data_2014-01-31.cdf\n"
     ]
    }
   ],
   "source": [
    "for start, end, filename in zip(start_times, end_times, filenames):\n",
    "    data = request.get_between(start, end, show_progress=False)\n",
    "    data.to_file(filename, overwrite=True)"
   ]
  },
  {
   "cell_type": "code",
   "execution_count": 17,
   "metadata": {},
   "outputs": [],
   "source": [
    "!rm data_2014*.cdf"
   ]
  },
  {
   "cell_type": "markdown",
   "metadata": {},
   "source": [
    "### 2. Use viresclient to translate the data from CDF to xarray then to netCDF - using the chunks defined as above\n",
    "\n",
    "There are some nicer tools for working with netCDF4/HDF files in Python so this may be preferable. This is also a point at which you may do some pre-processing before saving the files."
   ]
  },
  {
   "cell_type": "code",
   "execution_count": 18,
   "metadata": {},
   "outputs": [
    {
     "name": "stdout",
     "output_type": "stream",
     "text": [
      "saved data_2014-01-01.nc\n",
      "saved data_2014-01-02.nc\n",
      "saved data_2014-01-03.nc\n",
      "saved data_2014-01-04.nc\n",
      "saved data_2014-01-05.nc\n",
      "saved data_2014-01-06.nc\n",
      "saved data_2014-01-07.nc\n",
      "saved data_2014-01-08.nc\n",
      "saved data_2014-01-09.nc\n",
      "saved data_2014-01-10.nc\n",
      "saved data_2014-01-11.nc\n",
      "saved data_2014-01-12.nc\n",
      "saved data_2014-01-13.nc\n",
      "saved data_2014-01-14.nc\n",
      "saved data_2014-01-15.nc\n",
      "saved data_2014-01-16.nc\n",
      "saved data_2014-01-17.nc\n",
      "saved data_2014-01-18.nc\n",
      "saved data_2014-01-19.nc\n",
      "saved data_2014-01-20.nc\n",
      "saved data_2014-01-21.nc\n",
      "saved data_2014-01-22.nc\n",
      "saved data_2014-01-23.nc\n",
      "saved data_2014-01-24.nc\n",
      "saved data_2014-01-25.nc\n",
      "saved data_2014-01-26.nc\n",
      "saved data_2014-01-27.nc\n",
      "saved data_2014-01-28.nc\n",
      "saved data_2014-01-29.nc\n",
      "saved data_2014-01-30.nc\n",
      "saved data_2014-01-31.nc\n"
     ]
    }
   ],
   "source": [
    "start_times, end_times = gen_start_ends(\n",
    "    start=dt.datetime(2014, 1, 1),\n",
    "    end=dt.datetime(2014, 2, 1))\n",
    "filenames_nc = [f\"data_{start.strftime('%Y-%m-%d')}.nc\" for start in start_times]\n",
    "\n",
    "for start, end, filename in zip(start_times, end_times, filenames_nc):\n",
    "    try:\n",
    "        data = request.get_between(start, end, show_progress=False)\n",
    "        ds = data.as_xarray()\n",
    "        print(f\"saved {filename}\")\n",
    "    except RuntimeError:\n",
    "        print(f\"No data for {filename} - data not downloaded\")\n",
    "    try:\n",
    "        ds.to_netcdf(filename)\n",
    "    except AttributeError:\n",
    "        print(f\"No data for {filename} - file not created\")"
   ]
  },
  {
   "cell_type": "markdown",
   "metadata": {},
   "source": [
    "#### Use xarray+dask to lazily load the data\n",
    "\n",
    "See https://xarray.pydata.org/en/stable/dask.html\n",
    "\n",
    "Note: there is currently a bug in loading data where the variables in the file are empty (Swarm Alpha had a few problem days in January 2014 - this does not happen often). We can identify these problem files like this:"
   ]
  },
  {
   "cell_type": "code",
   "execution_count": 19,
   "metadata": {},
   "outputs": [
    {
     "data": {
      "text/plain": [
       "['data_2014-01-06.nc', 'data_2014-01-19.nc', 'data_2014-01-05.nc']"
      ]
     },
     "execution_count": 19,
     "metadata": {},
     "output_type": "execute_result"
    }
   ],
   "source": [
    "filenames = glob.glob(\"data_*.nc\")\n",
    "empty_files = []\n",
    "for filename in filenames:\n",
    "    try:\n",
    "        xr.open_dataset(filename)\n",
    "    except ValueError:\n",
    "        empty_files.append(filename)\n",
    "empty_files"
   ]
  },
  {
   "cell_type": "code",
   "execution_count": 20,
   "metadata": {},
   "outputs": [
    {
     "data": {
      "text/plain": [
       "['data_2014-01-01.nc',\n",
       " 'data_2014-01-02.nc',\n",
       " 'data_2014-01-03.nc',\n",
       " 'data_2014-01-04.nc',\n",
       " 'data_2014-01-07.nc',\n",
       " 'data_2014-01-08.nc',\n",
       " 'data_2014-01-09.nc',\n",
       " 'data_2014-01-10.nc',\n",
       " 'data_2014-01-11.nc',\n",
       " 'data_2014-01-12.nc',\n",
       " 'data_2014-01-13.nc',\n",
       " 'data_2014-01-14.nc',\n",
       " 'data_2014-01-15.nc',\n",
       " 'data_2014-01-16.nc',\n",
       " 'data_2014-01-17.nc',\n",
       " 'data_2014-01-18.nc',\n",
       " 'data_2014-01-20.nc',\n",
       " 'data_2014-01-21.nc',\n",
       " 'data_2014-01-22.nc',\n",
       " 'data_2014-01-23.nc',\n",
       " 'data_2014-01-24.nc',\n",
       " 'data_2014-01-25.nc',\n",
       " 'data_2014-01-26.nc',\n",
       " 'data_2014-01-27.nc',\n",
       " 'data_2014-01-28.nc',\n",
       " 'data_2014-01-29.nc',\n",
       " 'data_2014-01-30.nc',\n",
       " 'data_2014-01-31.nc']"
      ]
     },
     "execution_count": 20,
     "metadata": {},
     "output_type": "execute_result"
    }
   ],
   "source": [
    "# Remove the problem files above\n",
    "filenames = [f for f in filenames if f not in empty_files]\n",
    "filenames.sort()\n",
    "filenames"
   ]
  },
  {
   "cell_type": "code",
   "execution_count": 21,
   "metadata": {},
   "outputs": [
    {
     "data": {
      "text/html": [
       "<pre>&lt;xarray.Dataset&gt;\n",
       "Dimensions:     (Timestamp: 425322)\n",
       "Coordinates:\n",
       "  * Timestamp   (Timestamp) datetime64[ns] 2014-01-01 ... 2014-01-31T23:59:55\n",
       "Data variables:\n",
       "    Spacecraft  (Timestamp) object dask.array&lt;chunksize=(17038,), meta=np.ndarray&gt;\n",
       "    F           (Timestamp) float64 dask.array&lt;chunksize=(17038,), meta=np.ndarray&gt;\n",
       "    Latitude    (Timestamp) float64 dask.array&lt;chunksize=(17038,), meta=np.ndarray&gt;\n",
       "    Longitude   (Timestamp) float64 dask.array&lt;chunksize=(17038,), meta=np.ndarray&gt;\n",
       "    Radius      (Timestamp) float64 dask.array&lt;chunksize=(17038,), meta=np.ndarray&gt;\n",
       "Attributes:\n",
       "    Sources:         SW_OPER_MAGA_LR_1B_20140101T000000_20140101T235959_0505_...\n",
       "    MagneticModels:  []\n",
       "    RangeFilters:    [&#x27;Flags_B:0,1&#x27;, &#x27;Flags_F:0,1&#x27;]</pre>"
      ],
      "text/plain": [
       "<xarray.Dataset>\n",
       "Dimensions:     (Timestamp: 425322)\n",
       "Coordinates:\n",
       "  * Timestamp   (Timestamp) datetime64[ns] 2014-01-01 ... 2014-01-31T23:59:55\n",
       "Data variables:\n",
       "    Spacecraft  (Timestamp) object dask.array<chunksize=(17038,), meta=np.ndarray>\n",
       "    F           (Timestamp) float64 dask.array<chunksize=(17038,), meta=np.ndarray>\n",
       "    Latitude    (Timestamp) float64 dask.array<chunksize=(17038,), meta=np.ndarray>\n",
       "    Longitude   (Timestamp) float64 dask.array<chunksize=(17038,), meta=np.ndarray>\n",
       "    Radius      (Timestamp) float64 dask.array<chunksize=(17038,), meta=np.ndarray>\n",
       "Attributes:\n",
       "    Sources:         SW_OPER_MAGA_LR_1B_20140101T000000_20140101T235959_0505_...\n",
       "    MagneticModels:  []\n",
       "    RangeFilters:    ['Flags_B:0,1', 'Flags_F:0,1']"
      ]
     },
     "execution_count": 21,
     "metadata": {},
     "output_type": "execute_result"
    }
   ],
   "source": [
    "# ds = xr.open_mfdataset(\"data_2014*.nc\", combine=\"by_coords\")\n",
    "ds = xr.open_mfdataset(filenames, combine=\"by_coords\")\n",
    "ds"
   ]
  },
  {
   "cell_type": "markdown",
   "metadata": {},
   "source": [
    "Note: Loading in this way has lost the source information - only the first one has been kept."
   ]
  },
  {
   "cell_type": "code",
   "execution_count": 22,
   "metadata": {},
   "outputs": [
    {
     "data": {
      "text/plain": [
       "'SW_OPER_MAGA_LR_1B_20140101T000000_20140101T235959_0505_MDR_MAG_LR'"
      ]
     },
     "execution_count": 22,
     "metadata": {},
     "output_type": "execute_result"
    }
   ],
   "source": [
    "ds.Sources"
   ]
  },
  {
   "cell_type": "markdown",
   "metadata": {},
   "source": [
    "We now have access to the dataset which is stored on disk as multiple files:"
   ]
  },
  {
   "cell_type": "code",
   "execution_count": 23,
   "metadata": {},
   "outputs": [
    {
     "name": "stderr",
     "output_type": "stream",
     "text": [
      "/opt/conda/lib/python3.7/site-packages/pandas/plotting/_matplotlib/converter.py:103: FutureWarning: Using an implicitly registered datetime converter for a matplotlib plotting method. The converter was registered by pandas on import. Future versions of pandas will require you to explicitly register matplotlib converters.\n",
      "\n",
      "To register the converters:\n",
      "\t>>> from pandas.plotting import register_matplotlib_converters\n",
      "\t>>> register_matplotlib_converters()\n",
      "  warnings.warn(msg, FutureWarning)\n"
     ]
    },
    {
     "data": {
      "image/png": "[encoded data removed]",
      "text/plain": [
       "<Figure size 432x288 with 1 Axes>"
      ]
     },
     "metadata": {
      "needs_background": "light"
     },
     "output_type": "display_data"
    }
   ],
   "source": [
    "ds[\"F\"].plot();"
   ]
  },
  {
   "cell_type": "code",
   "execution_count": 24,
   "metadata": {},
   "outputs": [],
   "source": [
    "del ds, data"
   ]
  },
  {
   "cell_type": "code",
   "execution_count": 25,
   "metadata": {},
   "outputs": [],
   "source": [
    "!rm data_*"
   ]
  },
  {
   "cell_type": "markdown",
   "metadata": {},
   "source": [
    "### 3. Leave the handling to viresclient and just try to load the full data directly\n",
    "\n",
    "There are some performance issues here, and if the total size is too big for your machine's memory then it won't be possible. We could make some changes to viresclient in the future to perform the lazy loading as above."
   ]
  },
  {
   "cell_type": "code",
   "execution_count": 26,
   "metadata": {},
   "outputs": [
    {
     "name": "stderr",
     "output_type": "stream",
     "text": [
      "[1/2] Processing:  100%|██████████|  [ Elapsed: 00:14, Remaining: 00:00 ]\n",
      "      Downloading: 100%|██████████|  [ Elapsed: 00:01, Remaining: 00:00 ] (165.873MB)\n",
      "[2/2] Processing:  100%|██████████|  [ Elapsed: 00:07, Remaining: 00:00 ]\n",
      "      Downloading: 100%|██████████|  [ Elapsed: 00:00, Remaining: 00:00 ] (80.035MB)\n"
     ]
    }
   ],
   "source": [
    "data = request.get_between(\n",
    "    start_time=dt.datetime(2014,1,1),\n",
    "    end_time=dt.datetime(2015,1,1)\n",
    ")"
   ]
  },
  {
   "cell_type": "code",
   "execution_count": 27,
   "metadata": {},
   "outputs": [
    {
     "name": "stdout",
     "output_type": "stream",
     "text": [
      "CPU times: user 54.5 s, sys: 483 ms, total: 55 s\n",
      "Wall time: 55.8 s\n"
     ]
    },
    {
     "data": {
      "text/html": [
       "<pre>&lt;xarray.Dataset&gt;\n",
       "Dimensions:     (Timestamp: 5995185)\n",
       "Coordinates:\n",
       "  * Timestamp   (Timestamp) datetime64[ns] 2014-01-01 ... 2014-12-31T23:59:55\n",
       "Data variables:\n",
       "    Spacecraft  (Timestamp) object &#x27;A&#x27; &#x27;A&#x27; &#x27;A&#x27; &#x27;A&#x27; &#x27;A&#x27; ... &#x27;A&#x27; &#x27;A&#x27; &#x27;A&#x27; &#x27;A&#x27; &#x27;A&#x27;\n",
       "    F           (Timestamp) float64 2.287e+04 2.284e+04 ... 4.229e+04 4.216e+04\n",
       "    Latitude    (Timestamp) float64 -1.229 -1.546 -1.863 ... 52.68 52.36 52.04\n",
       "    Longitude   (Timestamp) float64 -14.12 -14.12 -14.13 ... -147.2 -147.2\n",
       "    Radius      (Timestamp) float64 6.878e+06 6.878e+06 ... 6.83e+06 6.83e+06\n",
       "Attributes:\n",
       "    Sources:         [&#x27;SW_OPER_MAGA_LR_1B_20140101T000000_20140101T235959_050...\n",
       "    MagneticModels:  []\n",
       "    RangeFilters:    [&#x27;Flags_B:0,1&#x27;, &#x27;Flags_F:0,1&#x27;]</pre>"
      ],
      "text/plain": [
       "<xarray.Dataset>\n",
       "Dimensions:     (Timestamp: 5995185)\n",
       "Coordinates:\n",
       "  * Timestamp   (Timestamp) datetime64[ns] 2014-01-01 ... 2014-12-31T23:59:55\n",
       "Data variables:\n",
       "    Spacecraft  (Timestamp) object 'A' 'A' 'A' 'A' 'A' ... 'A' 'A' 'A' 'A' 'A'\n",
       "    F           (Timestamp) float64 2.287e+04 2.284e+04 ... 4.229e+04 4.216e+04\n",
       "    Latitude    (Timestamp) float64 -1.229 -1.546 -1.863 ... 52.68 52.36 52.04\n",
       "    Longitude   (Timestamp) float64 -14.12 -14.12 -14.13 ... -147.2 -147.2\n",
       "    Radius      (Timestamp) float64 6.878e+06 6.878e+06 ... 6.83e+06 6.83e+06\n",
       "Attributes:\n",
       "    Sources:         ['SW_OPER_MAGA_LR_1B_20140101T000000_20140101T235959_050...\n",
       "    MagneticModels:  []\n",
       "    RangeFilters:    ['Flags_B:0,1', 'Flags_F:0,1']"
      ]
     },
     "execution_count": 27,
     "metadata": {},
     "output_type": "execute_result"
    }
   ],
   "source": [
    "%%time\n",
    "ds = data.as_xarray()\n",
    "ds"
   ]
  },
  {
   "cell_type": "code",
   "execution_count": 28,
   "metadata": {},
   "outputs": [
    {
     "name": "stdout",
     "output_type": "stream",
     "text": [
      "SW_OPER_MAGA_LR_1B_20140101T000000_20140101T235959_0505_MDR_MAG_LR\n",
      "SW_OPER_MAGA_LR_1B_20140102T000000_20140102T235959_0505_MDR_MAG_LR\n",
      "SW_OPER_MAGA_LR_1B_20140103T000000_20140103T235959_0505_MDR_MAG_LR\n",
      "...\n",
      "SW_OPER_MAGA_LR_1B_20141229T000000_20141229T235959_0505_MDR_MAG_LR\n",
      "SW_OPER_MAGA_LR_1B_20141230T000000_20141230T235959_0505_MDR_MAG_LR\n",
      "SW_OPER_MAGA_LR_1B_20141231T000000_20141231T235959_0505_MDR_MAG_LR\n"
     ]
    }
   ],
   "source": [
    "for i in ds.Sources[:3]:\n",
    "    print(i)\n",
    "print(\"...\")\n",
    "for i in ds.Sources[-3:]:\n",
    "    print(i)"
   ]
  },
  {
   "cell_type": "markdown",
   "metadata": {},
   "source": [
    "#### It is possible to access each file and load as xarray Dataset (rather than automatically concatenating them all)"
   ]
  },
  {
   "cell_type": "code",
   "execution_count": 29,
   "metadata": {},
   "outputs": [
    {
     "data": {
      "text/html": [
       "<pre>&lt;xarray.Dataset&gt;\n",
       "Dimensions:     (Timestamp: 4043952)\n",
       "Coordinates:\n",
       "  * Timestamp   (Timestamp) datetime64[ns] 2014-01-01 ... 2014-09-07T23:59:55\n",
       "Data variables:\n",
       "    Spacecraft  (Timestamp) object &#x27;A&#x27; &#x27;A&#x27; &#x27;A&#x27; &#x27;A&#x27; &#x27;A&#x27; ... &#x27;A&#x27; &#x27;A&#x27; &#x27;A&#x27; &#x27;A&#x27; &#x27;A&#x27;\n",
       "    F           (Timestamp) float64 2.287e+04 2.284e+04 ... 4.207e+04 4.22e+04\n",
       "    Latitude    (Timestamp) float64 -1.229 -1.546 -1.863 ... 54.96 55.28 55.6\n",
       "    Longitude   (Timestamp) float64 -14.12 -14.12 -14.13 ... -165.2 -165.2\n",
       "    Radius      (Timestamp) float64 6.878e+06 6.878e+06 ... 6.834e+06 6.834e+06</pre>"
      ],
      "text/plain": [
       "<xarray.Dataset>\n",
       "Dimensions:     (Timestamp: 4043952)\n",
       "Coordinates:\n",
       "  * Timestamp   (Timestamp) datetime64[ns] 2014-01-01 ... 2014-09-07T23:59:55\n",
       "Data variables:\n",
       "    Spacecraft  (Timestamp) object 'A' 'A' 'A' 'A' 'A' ... 'A' 'A' 'A' 'A' 'A'\n",
       "    F           (Timestamp) float64 2.287e+04 2.284e+04 ... 4.207e+04 4.22e+04\n",
       "    Latitude    (Timestamp) float64 -1.229 -1.546 -1.863 ... 54.96 55.28 55.6\n",
       "    Longitude   (Timestamp) float64 -14.12 -14.12 -14.13 ... -165.2 -165.2\n",
       "    Radius      (Timestamp) float64 6.878e+06 6.878e+06 ... 6.834e+06 6.834e+06"
      ]
     },
     "execution_count": 29,
     "metadata": {},
     "output_type": "execute_result"
    }
   ],
   "source": [
    "data.contents[0].as_xarray()"
   ]
  },
  {
   "cell_type": "code",
   "execution_count": 30,
   "metadata": {},
   "outputs": [],
   "source": [
    "# %%time\n",
    "# filenames = [f\"testfile_{n:03}.nc\" for n in range(len(data.contents))]\n",
    "# for data_part, filename in zip(data.contents, filenames):\n",
    "#     data_part.as_xarray().to_netcdf(filename)"
   ]
  },
  {
   "cell_type": "code",
   "execution_count": 31,
   "metadata": {},
   "outputs": [],
   "source": [
    "# ds = open_mfdataset(\"testfile*.nc\", combine=\"by_coords\")\n",
    "# ds"
   ]
  },
  {
   "cell_type": "code",
   "execution_count": 32,
   "metadata": {},
   "outputs": [],
   "source": [
    "# !rm testfile*.nc"
   ]
  }
 ],
 "metadata": {
  "kernelspec": {
   "display_name": "Python 3",
   "language": "python",
   "name": "python3"
  },
  "language_info": {
   "codemirror_mode": {
    "name": "ipython",
    "version": 3
   },
   "file_extension": ".py",
   "mimetype": "text/x-python",
   "name": "python",
   "nbconvert_exporter": "python",
   "pygments_lexer": "ipython3",
   "version": "3.7.6"
  }
 },
 "nbformat": 4,
 "nbformat_minor": 4
}
