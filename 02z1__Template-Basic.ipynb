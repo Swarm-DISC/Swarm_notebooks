{
 "cells": [
  {
   "cell_type": "markdown",
   "metadata": {},
   "source": [
    "# Notebook Title\n",
    "\n",
    "<span style=\"color:gray;font-weight:bold\">\n",
    "    Author: Author's Name <br/>\n",
    "    Affiliation: Institute/University <br/>\n",
    "    License: Applicable License <br/>\n",
    "</span>\n",
    "\n",
    "> Abstract: Outline the contents of the notebook.\n"
   ]
  },
  {
   "cell_type": "code",
   "execution_count": null,
   "metadata": {},
   "outputs": [],
   "source": [
    "# Import all modules/packages used in the notebook\n",
    "# Initial import to allow requesting data\n",
    "from viresclient import SwarmRequest\n",
    "import datetime as dt\n",
    "import matplotlib.pyplot as plt"
   ]
  },
  {
   "cell_type": "markdown",
   "metadata": {},
   "source": [
    "## 1. Fetching data"
   ]
  },
  {
   "cell_type": "code",
   "execution_count": null,
   "metadata": {},
   "outputs": [],
   "source": [
    "request = SwarmRequest()\n",
    "# Listing of data accessible (help for selection, does not need to be run)\n",
    "request.available_collections(details=False)"
   ]
  },
  {
   "cell_type": "code",
   "execution_count": null,
   "metadata": {},
   "outputs": [],
   "source": [
    "# Helper tool to show available parameters for collection (e.g. MAG)\n",
    "request.available_measurements(\"MAG\")"
   ]
  },
  {
   "cell_type": "code",
   "execution_count": null,
   "metadata": {},
   "outputs": [],
   "source": [
    "# Listing of available models\n",
    "request.available_models(details=False)"
   ]
  },
  {
   "cell_type": "code",
   "execution_count": null,
   "metadata": {},
   "outputs": [],
   "source": [
    "# Application of filters\n",
    "request.set_range_filter(parameter=\"Latitude\",\n",
    "                         minimum=0,\n",
    "                         maximum=90)\n",
    "\n",
    "request.set_range_filter(\"Longitude\", 0, 90);"
   ]
  },
  {
   "cell_type": "code",
   "execution_count": null,
   "metadata": {},
   "outputs": [],
   "source": [
    "# Set collection identifier (see available_collections for options)\n",
    "request.set_collection(\"SW_OPER_MAGA_LR_1B\")\n",
    "# Set measurements (see available_measurements)\n",
    "request.set_products(\n",
    "    measurements=[\"F\", \"B_NEC\"],\n",
    "    #models=[\"CHAOS-Core\", \"MCO_SHA_2D\"],\n",
    "    sampling_step=\"PT10S\"\n",
    ");"
   ]
  },
  {
   "cell_type": "code",
   "execution_count": null,
   "metadata": {},
   "outputs": [],
   "source": [
    "# Data request\n",
    "data = request.get_between(\n",
    "    # 2014-01-01 00:00:00\n",
    "    start_time = dt.datetime(2019,1,1, 0),\n",
    "    # 2014-01-01 01:00:00\n",
    "    end_time = dt.datetime(2019,1,1, 1)\n",
    ")"
   ]
  },
  {
   "cell_type": "code",
   "execution_count": null,
   "metadata": {},
   "outputs": [],
   "source": [
    "# Convert to pandas dataframe\n",
    "df = data.as_dataframe()\n",
    "df.head()\n",
    "# or as xarray dataset\n",
    "ds = data.as_xarray()\n",
    "ds"
   ]
  },
  {
   "cell_type": "markdown",
   "metadata": {},
   "source": [
    "## 2. Plotting data"
   ]
  },
  {
   "cell_type": "code",
   "execution_count": null,
   "metadata": {},
   "outputs": [],
   "source": [
    "# Create plot\n",
    "ax = df.plot(\n",
    "    y=[\"F\"],\n",
    "    figsize=(15,5),\n",
    "    grid=True\n",
    ")\n",
    "ax.set_xlabel(\"Timestamp\")\n",
    "ax.set_ylabel(\"[nT]\");"
   ]
  }
 ],
 "metadata": {
  "kernelspec": {
   "display_name": "Python 3",
   "language": "python",
   "name": "python3"
  },
  "language_info": {
   "codemirror_mode": {
    "name": "ipython",
    "version": 3
   },
   "file_extension": ".py",
   "mimetype": "text/x-python",
   "name": "python",
   "nbconvert_exporter": "python",
   "pygments_lexer": "ipython3",
   "version": "3.7.3"
  }
 },
 "nbformat": 4,
 "nbformat_minor": 4
}
