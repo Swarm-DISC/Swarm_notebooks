{
 "cells": [
  {
   "cell_type": "markdown",
   "metadata": {},
   "source": [
    "# Demo TECxTMS_2F (total electron content)\n",
    "\n",
    "> Authors: Ashley Smith\n",
    ">\n",
    "> Abstract: Access to the total electric contents (level 2 product)."
   ]
  },
  {
   "cell_type": "code",
   "execution_count": 1,
   "metadata": {},
   "outputs": [],
   "source": [
    "# %load_ext watermark\n",
    "# %watermark -i -v -p viresclient,pandas,xarray,matplotlib"
   ]
  },
  {
   "cell_type": "code",
   "execution_count": 2,
   "metadata": {},
   "outputs": [],
   "source": [
    "from viresclient import SwarmRequest\n",
    "import datetime as dt\n",
    "import numpy as np\n",
    "import pandas as pd\n",
    "import matplotlib.pyplot as plt\n",
    "\n",
    "request = SwarmRequest()"
   ]
  },
  {
   "cell_type": "markdown",
   "metadata": {},
   "source": [
    "## TECxTMS_2F product information\n",
    "\n",
    "Derived total electron content (TEC) \n",
    "\n",
    "Documentation:\n",
    "- https://earth.esa.int/web/guest/missions/esa-eo-missions/swarm/data-handbook/level-2-product-definitions#TECxTMS_2F"
   ]
  },
  {
   "cell_type": "markdown",
   "metadata": {},
   "source": [
    "### Check what \"TEC\" data variables are available"
   ]
  },
  {
   "cell_type": "code",
   "execution_count": 3,
   "metadata": {},
   "outputs": [
    {
     "data": {
      "text/plain": [
       "{'IPD': ['SW_OPER_IPDAIRR_2F', 'SW_OPER_IPDBIRR_2F', 'SW_OPER_IPDCIRR_2F']}"
      ]
     },
     "execution_count": 3,
     "metadata": {},
     "output_type": "execute_result"
    }
   ],
   "source": [
    "request.available_collections(\"IPD\", details=False)"
   ]
  },
  {
   "cell_type": "code",
   "execution_count": 4,
   "metadata": {},
   "outputs": [
    {
     "data": {
      "text/plain": [
       "['GPS_Position',\n",
       " 'LEO_Position',\n",
       " 'PRN',\n",
       " 'L1',\n",
       " 'L2',\n",
       " 'P1',\n",
       " 'P2',\n",
       " 'S1',\n",
       " 'S2',\n",
       " 'Elevation_Angle',\n",
       " 'Absolute_VTEC',\n",
       " 'Absolute_STEC',\n",
       " 'Relative_STEC',\n",
       " 'Relative_STEC_RMS',\n",
       " 'DCB',\n",
       " 'DCB_Error']"
      ]
     },
     "execution_count": 4,
     "metadata": {},
     "output_type": "execute_result"
    }
   ],
   "source": [
    "request.available_measurements(\"TEC\")"
   ]
  },
  {
   "cell_type": "markdown",
   "metadata": {},
   "source": [
    "## Fetch one day of TEC data"
   ]
  },
  {
   "cell_type": "code",
   "execution_count": 5,
   "metadata": {},
   "outputs": [
    {
     "name": "stderr",
     "output_type": "stream",
     "text": [
      "[1/1] Processing:  100%|██████████|  [ Elapsed: 00:01, Remaining: 00:00 ]\n",
      "      Downloading: 100%|██████████|  [ Elapsed: 00:04, Remaining: 00:00 ] (9.311MB)\n"
     ]
    }
   ],
   "source": [
    "request.set_collection(\"SW_OPER_TECATMS_2F\")\n",
    "request.set_products(measurements=request.available_measurements(\"TEC\"))\n",
    "data = request.get_between(dt.datetime(2014,1,1),\n",
    "                           dt.datetime(2014,1,2))"
   ]
  },
  {
   "cell_type": "markdown",
   "metadata": {},
   "source": [
    "### Loading as pandas"
   ]
  },
  {
   "cell_type": "code",
   "execution_count": 6,
   "metadata": {},
   "outputs": [
    {
     "data": {
      "text/html": [
       "<div>\n",
       "<style scoped>\n",
       "    .dataframe tbody tr th:only-of-type {\n",
       "        vertical-align: middle;\n",
       "    }\n",
       "\n",
       "    .dataframe tbody tr th {\n",
       "        vertical-align: top;\n",
       "    }\n",
       "\n",
       "    .dataframe thead th {\n",
       "        text-align: right;\n",
       "    }\n",
       "</style>\n",
       "<table border=\"1\" class=\"dataframe\">\n",
       "  <thead>\n",
       "    <tr style=\"text-align: right;\">\n",
       "      <th></th>\n",
       "      <th>S1</th>\n",
       "      <th>Elevation_Angle</th>\n",
       "      <th>LEO_Position</th>\n",
       "      <th>Latitude</th>\n",
       "      <th>P1</th>\n",
       "      <th>Radius</th>\n",
       "      <th>PRN</th>\n",
       "      <th>DCB_Error</th>\n",
       "      <th>Relative_STEC_RMS</th>\n",
       "      <th>L1</th>\n",
       "      <th>Absolute_STEC</th>\n",
       "      <th>S2</th>\n",
       "      <th>P2</th>\n",
       "      <th>DCB</th>\n",
       "      <th>L2</th>\n",
       "      <th>GPS_Position</th>\n",
       "      <th>Relative_STEC</th>\n",
       "      <th>Absolute_VTEC</th>\n",
       "      <th>Longitude</th>\n",
       "      <th>Spacecraft</th>\n",
       "    </tr>\n",
       "  </thead>\n",
       "  <tbody>\n",
       "    <tr>\n",
       "      <th>2014-01-01 00:00:04</th>\n",
       "      <td>36.83</td>\n",
       "      <td>39.683333</td>\n",
       "      <td>[6668214.544000001, -1677732.674, -177943.9959...</td>\n",
       "      <td>-1.482419</td>\n",
       "      <td>2.182913e+07</td>\n",
       "      <td>6.878338e+06</td>\n",
       "      <td>15</td>\n",
       "      <td>0.832346</td>\n",
       "      <td>0.555675</td>\n",
       "      <td>-6.261986e+06</td>\n",
       "      <td>16.429938</td>\n",
       "      <td>36.83</td>\n",
       "      <td>2.182914e+07</td>\n",
       "      <td>-11.446853</td>\n",
       "      <td>-6.261989e+06</td>\n",
       "      <td>[22448765.690377887, 5421379.431197803, -13409...</td>\n",
       "      <td>24.041127</td>\n",
       "      <td>10.894886</td>\n",
       "      <td>-14.122572</td>\n",
       "      <td>A</td>\n",
       "    </tr>\n",
       "    <tr>\n",
       "      <th>2014-01-01 00:00:04</th>\n",
       "      <td>34.75</td>\n",
       "      <td>37.478137</td>\n",
       "      <td>[6668214.544000001, -1677732.674, -177943.9959...</td>\n",
       "      <td>-1.482419</td>\n",
       "      <td>2.135749e+07</td>\n",
       "      <td>6.878338e+06</td>\n",
       "      <td>18</td>\n",
       "      <td>0.832346</td>\n",
       "      <td>0.488000</td>\n",
       "      <td>-1.466568e+07</td>\n",
       "      <td>16.456409</td>\n",
       "      <td>34.75</td>\n",
       "      <td>2.135749e+07</td>\n",
       "      <td>-11.446853</td>\n",
       "      <td>-1.466568e+07</td>\n",
       "      <td>[16113499.491062254, -16306172.004347403, -126...</td>\n",
       "      <td>22.754795</td>\n",
       "      <td>10.461554</td>\n",
       "      <td>-14.122572</td>\n",
       "      <td>A</td>\n",
       "    </tr>\n",
       "    <tr>\n",
       "      <th>2014-01-01 00:00:04</th>\n",
       "      <td>30.90</td>\n",
       "      <td>24.681787</td>\n",
       "      <td>[6668214.544000001, -1677732.674, -177943.9959...</td>\n",
       "      <td>-1.482419</td>\n",
       "      <td>2.277638e+07</td>\n",
       "      <td>6.878338e+06</td>\n",
       "      <td>22</td>\n",
       "      <td>0.832346</td>\n",
       "      <td>1.313984</td>\n",
       "      <td>-5.455452e+06</td>\n",
       "      <td>20.434286</td>\n",
       "      <td>30.90</td>\n",
       "      <td>2.277638e+07</td>\n",
       "      <td>-11.446853</td>\n",
       "      <td>-5.455454e+06</td>\n",
       "      <td>[10823457.339250825, -24014739.352816023, -248...</td>\n",
       "      <td>15.585271</td>\n",
       "      <td>9.529846</td>\n",
       "      <td>-14.122572</td>\n",
       "      <td>A</td>\n",
       "    </tr>\n",
       "    <tr>\n",
       "      <th>2014-01-01 00:00:04</th>\n",
       "      <td>29.87</td>\n",
       "      <td>24.647445</td>\n",
       "      <td>[6668214.544000001, -1677732.674, -177943.9959...</td>\n",
       "      <td>-1.482419</td>\n",
       "      <td>2.298846e+07</td>\n",
       "      <td>6.878338e+06</td>\n",
       "      <td>24</td>\n",
       "      <td>0.832346</td>\n",
       "      <td>0.899036</td>\n",
       "      <td>-3.402816e+06</td>\n",
       "      <td>20.085094</td>\n",
       "      <td>29.87</td>\n",
       "      <td>2.298847e+07</td>\n",
       "      <td>-11.446853</td>\n",
       "      <td>-3.402821e+06</td>\n",
       "      <td>[20631539.59055339, 13441368.439225309, 100505...</td>\n",
       "      <td>52.291341</td>\n",
       "      <td>9.357587</td>\n",
       "      <td>-14.122572</td>\n",
       "      <td>A</td>\n",
       "    </tr>\n",
       "    <tr>\n",
       "      <th>2014-01-01 00:00:04</th>\n",
       "      <td>30.88</td>\n",
       "      <td>30.753636</td>\n",
       "      <td>[6668214.544000001, -1677732.674, -177943.9959...</td>\n",
       "      <td>-1.482419</td>\n",
       "      <td>2.229899e+07</td>\n",
       "      <td>6.878338e+06</td>\n",
       "      <td>25</td>\n",
       "      <td>0.832346</td>\n",
       "      <td>0.546729</td>\n",
       "      <td>-2.285981e+06</td>\n",
       "      <td>15.676947</td>\n",
       "      <td>30.88</td>\n",
       "      <td>2.229900e+07</td>\n",
       "      <td>-11.446853</td>\n",
       "      <td>-2.285986e+06</td>\n",
       "      <td>[16637723.905075422, -10692759.977004562, 1761...</td>\n",
       "      <td>52.672067</td>\n",
       "      <td>8.597559</td>\n",
       "      <td>-14.122572</td>\n",
       "      <td>A</td>\n",
       "    </tr>\n",
       "  </tbody>\n",
       "</table>\n",
       "</div>"
      ],
      "text/plain": [
       "                        S1  Elevation_Angle  \\\n",
       "2014-01-01 00:00:04  36.83        39.683333   \n",
       "2014-01-01 00:00:04  34.75        37.478137   \n",
       "2014-01-01 00:00:04  30.90        24.681787   \n",
       "2014-01-01 00:00:04  29.87        24.647445   \n",
       "2014-01-01 00:00:04  30.88        30.753636   \n",
       "\n",
       "                                                          LEO_Position  \\\n",
       "2014-01-01 00:00:04  [6668214.544000001, -1677732.674, -177943.9959...   \n",
       "2014-01-01 00:00:04  [6668214.544000001, -1677732.674, -177943.9959...   \n",
       "2014-01-01 00:00:04  [6668214.544000001, -1677732.674, -177943.9959...   \n",
       "2014-01-01 00:00:04  [6668214.544000001, -1677732.674, -177943.9959...   \n",
       "2014-01-01 00:00:04  [6668214.544000001, -1677732.674, -177943.9959...   \n",
       "\n",
       "                     Latitude            P1        Radius  PRN  DCB_Error  \\\n",
       "2014-01-01 00:00:04 -1.482419  2.182913e+07  6.878338e+06   15   0.832346   \n",
       "2014-01-01 00:00:04 -1.482419  2.135749e+07  6.878338e+06   18   0.832346   \n",
       "2014-01-01 00:00:04 -1.482419  2.277638e+07  6.878338e+06   22   0.832346   \n",
       "2014-01-01 00:00:04 -1.482419  2.298846e+07  6.878338e+06   24   0.832346   \n",
       "2014-01-01 00:00:04 -1.482419  2.229899e+07  6.878338e+06   25   0.832346   \n",
       "\n",
       "                     Relative_STEC_RMS            L1  Absolute_STEC     S2  \\\n",
       "2014-01-01 00:00:04           0.555675 -6.261986e+06      16.429938  36.83   \n",
       "2014-01-01 00:00:04           0.488000 -1.466568e+07      16.456409  34.75   \n",
       "2014-01-01 00:00:04           1.313984 -5.455452e+06      20.434286  30.90   \n",
       "2014-01-01 00:00:04           0.899036 -3.402816e+06      20.085094  29.87   \n",
       "2014-01-01 00:00:04           0.546729 -2.285981e+06      15.676947  30.88   \n",
       "\n",
       "                               P2        DCB            L2  \\\n",
       "2014-01-01 00:00:04  2.182914e+07 -11.446853 -6.261989e+06   \n",
       "2014-01-01 00:00:04  2.135749e+07 -11.446853 -1.466568e+07   \n",
       "2014-01-01 00:00:04  2.277638e+07 -11.446853 -5.455454e+06   \n",
       "2014-01-01 00:00:04  2.298847e+07 -11.446853 -3.402821e+06   \n",
       "2014-01-01 00:00:04  2.229900e+07 -11.446853 -2.285986e+06   \n",
       "\n",
       "                                                          GPS_Position  \\\n",
       "2014-01-01 00:00:04  [22448765.690377887, 5421379.431197803, -13409...   \n",
       "2014-01-01 00:00:04  [16113499.491062254, -16306172.004347403, -126...   \n",
       "2014-01-01 00:00:04  [10823457.339250825, -24014739.352816023, -248...   \n",
       "2014-01-01 00:00:04  [20631539.59055339, 13441368.439225309, 100505...   \n",
       "2014-01-01 00:00:04  [16637723.905075422, -10692759.977004562, 1761...   \n",
       "\n",
       "                     Relative_STEC  Absolute_VTEC  Longitude Spacecraft  \n",
       "2014-01-01 00:00:04      24.041127      10.894886 -14.122572          A  \n",
       "2014-01-01 00:00:04      22.754795      10.461554 -14.122572          A  \n",
       "2014-01-01 00:00:04      15.585271       9.529846 -14.122572          A  \n",
       "2014-01-01 00:00:04      52.291341       9.357587 -14.122572          A  \n",
       "2014-01-01 00:00:04      52.672067       8.597559 -14.122572          A  "
      ]
     },
     "execution_count": 6,
     "metadata": {},
     "output_type": "execute_result"
    }
   ],
   "source": [
    "df = data.as_dataframe()\n",
    "df.head()"
   ]
  },
  {
   "cell_type": "markdown",
   "metadata": {},
   "source": [
    "NB: The time interval is not always the same:"
   ]
  },
  {
   "cell_type": "code",
   "execution_count": 7,
   "metadata": {},
   "outputs": [
    {
     "data": {
      "text/plain": [
       "array([datetime.timedelta(0), datetime.timedelta(seconds=10)],\n",
       "      dtype=object)"
      ]
     },
     "execution_count": 7,
     "metadata": {},
     "output_type": "execute_result"
    }
   ],
   "source": [
    "times = df.index\n",
    "np.unique(np.sort(np.diff(times.to_pydatetime())))"
   ]
  },
  {
   "cell_type": "code",
   "execution_count": 8,
   "metadata": {},
   "outputs": [
    {
     "data": {
      "text/plain": [
       "(49738, 86400)"
      ]
     },
     "execution_count": 8,
     "metadata": {},
     "output_type": "execute_result"
    }
   ],
   "source": [
    "len(df), 60*60*24"
   ]
  },
  {
   "cell_type": "markdown",
   "metadata": {},
   "source": [
    "## Loading and plotting as xarray"
   ]
  },
  {
   "cell_type": "code",
   "execution_count": 9,
   "metadata": {},
   "outputs": [
    {
     "data": {
      "text/html": [
       "<pre>&lt;xarray.Dataset&gt;\n",
       "Dimensions:            (Timestamp: 49738, WGS84: 3)\n",
       "Coordinates:\n",
       "  * Timestamp          (Timestamp) datetime64[ns] 2014-01-01T00:00:04 ... 2014-01-01T23:59:54\n",
       "  * WGS84              (WGS84) &lt;U1 &#x27;X&#x27; &#x27;Y&#x27; &#x27;Z&#x27;\n",
       "Data variables:\n",
       "    Spacecraft         (Timestamp) object &#x27;A&#x27; &#x27;A&#x27; &#x27;A&#x27; &#x27;A&#x27; ... &#x27;A&#x27; &#x27;A&#x27; &#x27;A&#x27; &#x27;A&#x27;\n",
       "    Latitude           (Timestamp) float64 -1.482 -1.482 -1.482 ... -81.7 -81.7\n",
       "    P1                 (Timestamp) float64 2.183e+07 2.136e+07 ... 2.171e+07\n",
       "    PRN                (Timestamp) uint16 15 18 22 24 25 29 ... 7 15 16 18 21 26\n",
       "    DCB_Error          (Timestamp) float64 0.8323 0.8323 ... 0.8323 0.8323\n",
       "    Relative_STEC_RMS  (Timestamp) float64 0.5557 0.488 1.314 ... 0.6458 3.041\n",
       "    Absolute_STEC      (Timestamp) float64 16.43 16.46 20.43 ... 10.77 10.78\n",
       "    S2                 (Timestamp) float64 36.83 34.75 30.9 ... 23.03 37.73 37.5\n",
       "    P2                 (Timestamp) float64 2.183e+07 2.136e+07 ... 2.171e+07\n",
       "    DCB                (Timestamp) float64 -11.45 -11.45 ... -11.45 -11.45\n",
       "    L2                 (Timestamp) float64 -6.262e+06 -1.467e+07 ... -3.41e+06\n",
       "    GPS_Position       (Timestamp, WGS84) float64 2.245e+07 ... -2.111e+07\n",
       "    Longitude          (Timestamp) float64 -14.12 -14.12 -14.12 ... 1.559 1.559\n",
       "    S1                 (Timestamp) float64 36.83 34.75 30.9 ... 23.03 37.73 37.5\n",
       "    Elevation_Angle    (Timestamp) float64 39.68 37.48 24.68 ... 49.64 45.71\n",
       "    LEO_Position       (Timestamp, WGS84) float64 6.668e+06 ... -6.808e+06\n",
       "    Radius             (Timestamp) float64 6.878e+06 6.878e+06 ... 6.88e+06\n",
       "    L1                 (Timestamp) float64 -6.262e+06 -1.467e+07 ... -3.41e+06\n",
       "    Relative_STEC      (Timestamp) float64 24.04 22.75 15.59 ... 16.92 26.51\n",
       "    Absolute_VTEC      (Timestamp) float64 10.89 10.46 9.53 ... 8.365 7.912\n",
       "Attributes:\n",
       "    Sources:         [&#x27;SW_OPER_TECATMS_2F_20140101T000000_20140101T235959_0301&#x27;]\n",
       "    MagneticModels:  []\n",
       "    RangeFilters:    []</pre>"
      ],
      "text/plain": [
       "<xarray.Dataset>\n",
       "Dimensions:            (Timestamp: 49738, WGS84: 3)\n",
       "Coordinates:\n",
       "  * Timestamp          (Timestamp) datetime64[ns] 2014-01-01T00:00:04 ... 2014-01-01T23:59:54\n",
       "  * WGS84              (WGS84) <U1 'X' 'Y' 'Z'\n",
       "Data variables:\n",
       "    Spacecraft         (Timestamp) object 'A' 'A' 'A' 'A' ... 'A' 'A' 'A' 'A'\n",
       "    Latitude           (Timestamp) float64 -1.482 -1.482 -1.482 ... -81.7 -81.7\n",
       "    P1                 (Timestamp) float64 2.183e+07 2.136e+07 ... 2.171e+07\n",
       "    PRN                (Timestamp) uint16 15 18 22 24 25 29 ... 7 15 16 18 21 26\n",
       "    DCB_Error          (Timestamp) float64 0.8323 0.8323 ... 0.8323 0.8323\n",
       "    Relative_STEC_RMS  (Timestamp) float64 0.5557 0.488 1.314 ... 0.6458 3.041\n",
       "    Absolute_STEC      (Timestamp) float64 16.43 16.46 20.43 ... 10.77 10.78\n",
       "    S2                 (Timestamp) float64 36.83 34.75 30.9 ... 23.03 37.73 37.5\n",
       "    P2                 (Timestamp) float64 2.183e+07 2.136e+07 ... 2.171e+07\n",
       "    DCB                (Timestamp) float64 -11.45 -11.45 ... -11.45 -11.45\n",
       "    L2                 (Timestamp) float64 -6.262e+06 -1.467e+07 ... -3.41e+06\n",
       "    GPS_Position       (Timestamp, WGS84) float64 2.245e+07 ... -2.111e+07\n",
       "    Longitude          (Timestamp) float64 -14.12 -14.12 -14.12 ... 1.559 1.559\n",
       "    S1                 (Timestamp) float64 36.83 34.75 30.9 ... 23.03 37.73 37.5\n",
       "    Elevation_Angle    (Timestamp) float64 39.68 37.48 24.68 ... 49.64 45.71\n",
       "    LEO_Position       (Timestamp, WGS84) float64 6.668e+06 ... -6.808e+06\n",
       "    Radius             (Timestamp) float64 6.878e+06 6.878e+06 ... 6.88e+06\n",
       "    L1                 (Timestamp) float64 -6.262e+06 -1.467e+07 ... -3.41e+06\n",
       "    Relative_STEC      (Timestamp) float64 24.04 22.75 15.59 ... 16.92 26.51\n",
       "    Absolute_VTEC      (Timestamp) float64 10.89 10.46 9.53 ... 8.365 7.912\n",
       "Attributes:\n",
       "    Sources:         ['SW_OPER_TECATMS_2F_20140101T000000_20140101T235959_0301']\n",
       "    MagneticModels:  []\n",
       "    RangeFilters:    []"
      ]
     },
     "execution_count": 9,
     "metadata": {},
     "output_type": "execute_result"
    }
   ],
   "source": [
    "ds = data.as_xarray()\n",
    "ds"
   ]
  },
  {
   "cell_type": "code",
   "execution_count": 10,
   "metadata": {},
   "outputs": [
    {
     "data": {
      "image/png": "[encoded data removed]",
      "text/plain": [
       "<Figure size 1080x360 with 2 Axes>"
      ]
     },
     "metadata": {
      "needs_background": "light"
     },
     "output_type": "display_data"
    }
   ],
   "source": [
    "fig, axes = plt.subplots(nrows=2, ncols=1, figsize=(15,5), sharex=True)\n",
    "ds[\"Absolute_VTEC\"].plot.line(x=\"Timestamp\", ax=axes[0])\n",
    "ds[\"Absolute_STEC\"].plot.line(x=\"Timestamp\", ax=axes[1]);\n",
    "fig.subplots_adjust(hspace=0)"
   ]
  }
 ],
 "metadata": {
  "kernelspec": {
   "display_name": "Python 3",
   "language": "python",
   "name": "python3"
  },
  "language_info": {
   "codemirror_mode": {
    "name": "ipython",
    "version": 3
   },
   "file_extension": ".py",
   "mimetype": "text/x-python",
   "name": "python",
   "nbconvert_exporter": "python",
   "pygments_lexer": "ipython3",
   "version": "3.7.3"
  }
 },
 "nbformat": 4,
 "nbformat_minor": 4
}
