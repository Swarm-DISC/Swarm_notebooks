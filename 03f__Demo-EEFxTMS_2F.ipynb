{
 "cells": [
  {
   "cell_type": "markdown",
   "metadata": {},
   "source": [
    "# Demo EEFxTMS_2F (equatorial electric field)\n",
    "\n",
    "> Authors: Ashley Smith\n",
    ">\n",
    "> Abstract: Access to the equatorial electric field (level 2 product)."
   ]
  },
  {
   "cell_type": "code",
   "execution_count": 1,
   "metadata": {},
   "outputs": [],
   "source": [
    "# %load_ext watermark\n",
    "# %watermark -i -v -p viresclient,pandas,xarray,matplotlib"
   ]
  },
  {
   "cell_type": "code",
   "execution_count": 2,
   "metadata": {},
   "outputs": [],
   "source": [
    "from viresclient import SwarmRequest\n",
    "import datetime as dt\n",
    "import numpy as np\n",
    "\n",
    "request = SwarmRequest()"
   ]
  },
  {
   "cell_type": "markdown",
   "metadata": {},
   "source": [
    "## EEFxTMS_2F product information\n",
    "\n",
    "Dayside equatorial electric field, sampled at every dayside equator crossing +- 20mins\n",
    "\n",
    "\n",
    "Documentation:\n",
    "- https://earth.esa.int/web/guest/missions/esa-eo-missions/swarm/data-handbook/level-2-product-definitions#EEFxTMS_2F"
   ]
  },
  {
   "cell_type": "markdown",
   "metadata": {},
   "source": [
    "### Check what \"EEF\" data variables are available"
   ]
  },
  {
   "cell_type": "code",
   "execution_count": 3,
   "metadata": {},
   "outputs": [
    {
     "data": {
      "text/plain": [
       "{'EEF': ['SW_OPER_EEFATMS_2F', 'SW_OPER_EEFBTMS_2F']}"
      ]
     },
     "execution_count": 3,
     "metadata": {},
     "output_type": "execute_result"
    }
   ],
   "source": [
    "request.available_collections(\"EEF\", details=False)"
   ]
  },
  {
   "cell_type": "code",
   "execution_count": 4,
   "metadata": {},
   "outputs": [
    {
     "data": {
      "text/plain": [
       "['EEF', 'RelErr', 'flags']"
      ]
     },
     "execution_count": 4,
     "metadata": {},
     "output_type": "execute_result"
    }
   ],
   "source": [
    "request.available_measurements(\"EEF\")"
   ]
  },
  {
   "cell_type": "markdown",
   "metadata": {},
   "source": [
    "## Fetch all the EEF values from Bravo during 2016"
   ]
  },
  {
   "cell_type": "code",
   "execution_count": 5,
   "metadata": {},
   "outputs": [
    {
     "name": "stderr",
     "output_type": "stream",
     "text": [
      "[1/1] Processing:  100%|██████████|  [ Elapsed: 00:03, Remaining: 00:00 ]\n",
      "      Downloading: 100%|██████████|  [ Elapsed: 00:00, Remaining: 00:00 ] (0.296MB)\n"
     ]
    }
   ],
   "source": [
    "request.set_collection(\"SW_OPER_EEFBTMS_2F\")\n",
    "request.set_products(measurements=[\"EEF\", \"RelErr\"])\n",
    "data = request.get_between(\n",
    "    dt.datetime(2016,1,1),\n",
    "    dt.datetime(2017,1,1)\n",
    ")"
   ]
  },
  {
   "cell_type": "code",
   "execution_count": 6,
   "metadata": {},
   "outputs": [
    {
     "data": {
      "text/plain": [
       "(['SW_OPER_EEFBTMS_2F_20160101T005224_20160101T225919_0103',\n",
       "  'SW_OPER_EEFBTMS_2F_20160102T003414_20160102T224110_0103',\n",
       "  'SW_OPER_EEFBTMS_2F_20160103T001603_20160103T222302_0103'],\n",
       " ['SW_OPER_EEFBTMS_2F_20161228T003534_20161228T224107_0102',\n",
       "  'SW_OPER_EEFBTMS_2F_20161229T001641_20161229T222215_0102',\n",
       "  'SW_OPER_EEFBTMS_2F_20161229T235749_20161230T233857_0102'])"
      ]
     },
     "execution_count": 6,
     "metadata": {},
     "output_type": "execute_result"
    }
   ],
   "source": [
    "data.sources[:3], data.sources[-3:]"
   ]
  },
  {
   "cell_type": "code",
   "execution_count": 7,
   "metadata": {},
   "outputs": [
    {
     "data": {
      "text/html": [
       "<div>\n",
       "<style scoped>\n",
       "    .dataframe tbody tr th:only-of-type {\n",
       "        vertical-align: middle;\n",
       "    }\n",
       "\n",
       "    .dataframe tbody tr th {\n",
       "        vertical-align: top;\n",
       "    }\n",
       "\n",
       "    .dataframe thead th {\n",
       "        text-align: right;\n",
       "    }\n",
       "</style>\n",
       "<table border=\"1\" class=\"dataframe\">\n",
       "  <thead>\n",
       "    <tr style=\"text-align: right;\">\n",
       "      <th></th>\n",
       "      <th>EEF</th>\n",
       "      <th>Latitude</th>\n",
       "      <th>RelErr</th>\n",
       "      <th>Spacecraft</th>\n",
       "      <th>Longitude</th>\n",
       "    </tr>\n",
       "  </thead>\n",
       "  <tbody>\n",
       "    <tr>\n",
       "      <th>2016-01-01 00:52:25</th>\n",
       "      <td>-0.000758</td>\n",
       "      <td>7.187098</td>\n",
       "      <td>0.356176</td>\n",
       "      <td>B</td>\n",
       "      <td>113.751205</td>\n",
       "    </tr>\n",
       "    <tr>\n",
       "      <th>2016-01-01 02:27:08</th>\n",
       "      <td>-0.000659</td>\n",
       "      <td>7.466371</td>\n",
       "      <td>0.280210</td>\n",
       "      <td>B</td>\n",
       "      <td>89.976870</td>\n",
       "    </tr>\n",
       "    <tr>\n",
       "      <th>2016-01-01 04:02:05</th>\n",
       "      <td>-0.000349</td>\n",
       "      <td>6.861260</td>\n",
       "      <td>0.341369</td>\n",
       "      <td>B</td>\n",
       "      <td>66.179520</td>\n",
       "    </tr>\n",
       "    <tr>\n",
       "      <th>2016-01-01 05:36:45</th>\n",
       "      <td>-0.000203</td>\n",
       "      <td>7.330604</td>\n",
       "      <td>0.454075</td>\n",
       "      <td>B</td>\n",
       "      <td>42.410120</td>\n",
       "    </tr>\n",
       "    <tr>\n",
       "      <th>2016-01-01 07:10:50</th>\n",
       "      <td>-0.000235</td>\n",
       "      <td>10.010381</td>\n",
       "      <td>0.745044</td>\n",
       "      <td>B</td>\n",
       "      <td>18.697549</td>\n",
       "    </tr>\n",
       "  </tbody>\n",
       "</table>\n",
       "</div>"
      ],
      "text/plain": [
       "                          EEF   Latitude    RelErr Spacecraft   Longitude\n",
       "2016-01-01 00:52:25 -0.000758   7.187098  0.356176          B  113.751205\n",
       "2016-01-01 02:27:08 -0.000659   7.466371  0.280210          B   89.976870\n",
       "2016-01-01 04:02:05 -0.000349   6.861260  0.341369          B   66.179520\n",
       "2016-01-01 05:36:45 -0.000203   7.330604  0.454075          B   42.410120\n",
       "2016-01-01 07:10:50 -0.000235  10.010381  0.745044          B   18.697549"
      ]
     },
     "execution_count": 7,
     "metadata": {},
     "output_type": "execute_result"
    }
   ],
   "source": [
    "df = data.as_dataframe()\n",
    "df.head()"
   ]
  },
  {
   "cell_type": "code",
   "execution_count": 8,
   "metadata": {},
   "outputs": [],
   "source": [
    "ax = df.plot(y=\"EEF\", figsize=(20,10))\n",
    "ax.set_ylim((-0.002, 0.002));\n",
    "ax.set_ylabel(\"EEF [V/m]\");"
   ]
  },
  {
   "cell_type": "markdown",
   "metadata": {},
   "source": [
    "Take a look at the time jumps between entries..."
   ]
  },
  {
   "cell_type": "code",
   "execution_count": 9,
   "metadata": {},
   "outputs": [
    {
     "data": {
      "text/plain": [
       "array([datetime.timedelta(days=-1, seconds=1117), datetime.timedelta(0),\n",
       "       datetime.timedelta(seconds=2561), datetime.timedelta(seconds=2616),\n",
       "       datetime.timedelta(seconds=2620), datetime.timedelta(seconds=2712),\n",
       "       datetime.timedelta(seconds=2786), datetime.timedelta(seconds=2838),\n",
       "       datetime.timedelta(seconds=2901), datetime.timedelta(seconds=3011),\n",
       "       datetime.timedelta(seconds=3066), datetime.timedelta(seconds=3126),\n",
       "       datetime.timedelta(seconds=5489), datetime.timedelta(seconds=5490),\n",
       "       datetime.timedelta(seconds=5491), datetime.timedelta(seconds=5492),\n",
       "       datetime.timedelta(seconds=5493), datetime.timedelta(seconds=5494),\n",
       "       datetime.timedelta(seconds=5495), datetime.timedelta(seconds=5496)],\n",
       "      dtype=object)"
      ]
     },
     "execution_count": 9,
     "metadata": {},
     "output_type": "execute_result"
    }
   ],
   "source": [
    "times = df.index\n",
    "np.unique(np.sort(np.diff(times.to_pydatetime())))[:20]"
   ]
  },
  {
   "cell_type": "code",
   "execution_count": 10,
   "metadata": {},
   "outputs": [
    {
     "data": {
      "text/html": [
       "<pre>&lt;xarray.Dataset&gt;\n",
       "Dimensions:     (Timestamp: 5503)\n",
       "Coordinates:\n",
       "  * Timestamp   (Timestamp) datetime64[ns] 2016-01-01T00:52:25 ... 2016-12-30T23:38:58\n",
       "Data variables:\n",
       "    Spacecraft  (Timestamp) object &#x27;B&#x27; &#x27;B&#x27; &#x27;B&#x27; &#x27;B&#x27; &#x27;B&#x27; ... &#x27;B&#x27; &#x27;B&#x27; &#x27;B&#x27; &#x27;B&#x27; &#x27;B&#x27;\n",
       "    Longitude   (Timestamp) float64 113.8 89.98 66.18 ... -108.7 -132.6 -156.4\n",
       "    EEF         (Timestamp) float64 -0.0007581 -0.0006586 ... 0.0006749 0.000611\n",
       "    Latitude    (Timestamp) float64 7.187 7.466 6.861 ... -7.104 -3.499 -0.3318\n",
       "    RelErr      (Timestamp) float64 0.3562 0.2802 0.3414 ... 0.4233 0.4449\n",
       "Attributes:\n",
       "    Sources:         [&#x27;SW_OPER_EEFBTMS_2F_20160101T005224_20160101T225919_010...\n",
       "    MagneticModels:  []\n",
       "    RangeFilters:    []</pre>"
      ],
      "text/plain": [
       "<xarray.Dataset>\n",
       "Dimensions:     (Timestamp: 5503)\n",
       "Coordinates:\n",
       "  * Timestamp   (Timestamp) datetime64[ns] 2016-01-01T00:52:25 ... 2016-12-30T23:38:58\n",
       "Data variables:\n",
       "    Spacecraft  (Timestamp) object 'B' 'B' 'B' 'B' 'B' ... 'B' 'B' 'B' 'B' 'B'\n",
       "    Longitude   (Timestamp) float64 113.8 89.98 66.18 ... -108.7 -132.6 -156.4\n",
       "    EEF         (Timestamp) float64 -0.0007581 -0.0006586 ... 0.0006749 0.000611\n",
       "    Latitude    (Timestamp) float64 7.187 7.466 6.861 ... -7.104 -3.499 -0.3318\n",
       "    RelErr      (Timestamp) float64 0.3562 0.2802 0.3414 ... 0.4233 0.4449\n",
       "Attributes:\n",
       "    Sources:         ['SW_OPER_EEFBTMS_2F_20160101T005224_20160101T225919_010...\n",
       "    MagneticModels:  []\n",
       "    RangeFilters:    []"
      ]
     },
     "execution_count": 10,
     "metadata": {},
     "output_type": "execute_result"
    }
   ],
   "source": [
    "ds = data.as_xarray()\n",
    "ds"
   ]
  }
 ],
 "metadata": {
  "kernelspec": {
   "display_name": "Python 3",
   "language": "python",
   "name": "python3"
  },
  "language_info": {
   "codemirror_mode": {
    "name": "ipython",
    "version": 3
   },
   "file_extension": ".py",
   "mimetype": "text/x-python",
   "name": "python",
   "nbconvert_exporter": "python",
   "pygments_lexer": "ipython3",
   "version": "3.7.3"
  }
 },
 "nbformat": 4,
 "nbformat_minor": 4
}
