{
 "cells": [
  {
   "cell_type": "markdown",
   "metadata": {},
   "source": [
    "# Demo IBIxTMS_2F (ionospheric bubble index)\n",
    "\n",
    "> Authors: Ashley Smith\n",
    "\n",
    "> Abstract: Access to the ionospheric bubble index (level 2 product)."
   ]
  },
  {
   "cell_type": "code",
   "execution_count": 1,
   "metadata": {},
   "outputs": [
    {
     "name": "stdout",
     "output_type": "stream",
     "text": [
      "2020-02-28T17:02:51+00:00\n",
      "\n",
      "CPython 3.7.6\n",
      "IPython 7.11.1\n",
      "\n",
      "viresclient 0.5.0\n",
      "pandas 0.25.3\n",
      "xarray 0.15.0\n",
      "matplotlib 3.1.2\n"
     ]
    }
   ],
   "source": [
    "%load_ext watermark\n",
    "%watermark -i -v -p viresclient,pandas,xarray,matplotlib"
   ]
  },
  {
   "cell_type": "code",
   "execution_count": 2,
   "metadata": {},
   "outputs": [],
   "source": [
    "from viresclient import SwarmRequest\n",
    "import datetime as dt\n",
    "import numpy as np\n",
    "\n",
    "request = SwarmRequest()"
   ]
  },
  {
   "cell_type": "markdown",
   "metadata": {},
   "source": [
    "## IBIxTMS_2F product information\n",
    "\n",
    "Ionospheric bubble index at 1Hz\n",
    "\n",
    "Documentation:\n",
    "- https://earth.esa.int/web/guest/missions/esa-eo-missions/swarm/data-handbook/level-2-product-definitions#IBIxTMS_2F"
   ]
  },
  {
   "cell_type": "markdown",
   "metadata": {},
   "source": [
    "### Check what \"IBI\" data variables are available"
   ]
  },
  {
   "cell_type": "code",
   "execution_count": 3,
   "metadata": {},
   "outputs": [
    {
     "data": {
      "text/plain": [
       "{'IBI': ['SW_OPER_IBIATMS_2F', 'SW_OPER_IBIBTMS_2F', 'SW_OPER_IBICTMS_2F']}"
      ]
     },
     "execution_count": 3,
     "metadata": {},
     "output_type": "execute_result"
    }
   ],
   "source": [
    "request.available_collections(\"IBI\", details=False)"
   ]
  },
  {
   "cell_type": "code",
   "execution_count": 4,
   "metadata": {},
   "outputs": [
    {
     "data": {
      "text/plain": [
       "['Bubble_Index',\n",
       " 'Bubble_Probability',\n",
       " 'Flags_Bubble',\n",
       " 'Flags_F',\n",
       " 'Flags_B',\n",
       " 'Flags_q']"
      ]
     },
     "execution_count": 4,
     "metadata": {},
     "output_type": "execute_result"
    }
   ],
   "source": [
    "request.available_measurements(\"IBI\")"
   ]
  },
  {
   "cell_type": "markdown",
   "metadata": {},
   "source": [
    "## Fetch 3 minutes of IBI data"
   ]
  },
  {
   "cell_type": "code",
   "execution_count": 5,
   "metadata": {},
   "outputs": [
    {
     "name": "stderr",
     "output_type": "stream",
     "text": [
      "[1/1] Processing:  100%|██████████|  [ Elapsed: 00:01, Remaining: 00:00 ]\n",
      "      Downloading: 100%|██████████|  [ Elapsed: 00:00, Remaining: 00:00 ] (0.096MB)\n"
     ]
    }
   ],
   "source": [
    "request = SwarmRequest()\n",
    "request.set_collection(\"SW_OPER_IBIATMS_2F\")\n",
    "request.set_products(measurements=request.available_measurements(\"IBI\"))\n",
    "data = request.get_between(\n",
    "    dt.datetime(2016,1,1,9,7),\n",
    "    dt.datetime(2016,1,1,9,10)\n",
    ")"
   ]
  },
  {
   "cell_type": "code",
   "execution_count": 6,
   "metadata": {},
   "outputs": [
    {
     "data": {
      "text/plain": [
       "['SW_OPER_IBIATMS_2F_20160101T000000_20160101T235959_0301']"
      ]
     },
     "execution_count": 6,
     "metadata": {},
     "output_type": "execute_result"
    }
   ],
   "source": [
    "data.sources"
   ]
  },
  {
   "cell_type": "code",
   "execution_count": 7,
   "metadata": {},
   "outputs": [
    {
     "data": {
      "text/html": [
       "<div>\n",
       "<style scoped>\n",
       "    .dataframe tbody tr th:only-of-type {\n",
       "        vertical-align: middle;\n",
       "    }\n",
       "\n",
       "    .dataframe tbody tr th {\n",
       "        vertical-align: top;\n",
       "    }\n",
       "\n",
       "    .dataframe thead th {\n",
       "        text-align: right;\n",
       "    }\n",
       "</style>\n",
       "<table border=\"1\" class=\"dataframe\">\n",
       "  <thead>\n",
       "    <tr style=\"text-align: right;\">\n",
       "      <th></th>\n",
       "      <th>Flags_q</th>\n",
       "      <th>Longitude</th>\n",
       "      <th>Flags_F</th>\n",
       "      <th>Flags_B</th>\n",
       "      <th>Spacecraft</th>\n",
       "      <th>Bubble_Index</th>\n",
       "      <th>Radius</th>\n",
       "      <th>Latitude</th>\n",
       "      <th>Bubble_Probability</th>\n",
       "      <th>Flags_Bubble</th>\n",
       "    </tr>\n",
       "  </thead>\n",
       "  <tbody>\n",
       "    <tr>\n",
       "      <th>2016-01-01 09:07:00</th>\n",
       "      <td>5</td>\n",
       "      <td>-52.119907</td>\n",
       "      <td>1</td>\n",
       "      <td>0</td>\n",
       "      <td>A</td>\n",
       "      <td>0</td>\n",
       "      <td>6830079.62</td>\n",
       "      <td>-16.923659</td>\n",
       "      <td>0.0</td>\n",
       "      <td>0</td>\n",
       "    </tr>\n",
       "    <tr>\n",
       "      <th>2016-01-01 09:07:01</th>\n",
       "      <td>5</td>\n",
       "      <td>-52.120848</td>\n",
       "      <td>1</td>\n",
       "      <td>0</td>\n",
       "      <td>A</td>\n",
       "      <td>0</td>\n",
       "      <td>6830087.28</td>\n",
       "      <td>-16.987667</td>\n",
       "      <td>0.0</td>\n",
       "      <td>0</td>\n",
       "    </tr>\n",
       "    <tr>\n",
       "      <th>2016-01-01 09:07:02</th>\n",
       "      <td>5</td>\n",
       "      <td>-52.121786</td>\n",
       "      <td>1</td>\n",
       "      <td>0</td>\n",
       "      <td>A</td>\n",
       "      <td>0</td>\n",
       "      <td>6830094.93</td>\n",
       "      <td>-17.051675</td>\n",
       "      <td>0.0</td>\n",
       "      <td>0</td>\n",
       "    </tr>\n",
       "    <tr>\n",
       "      <th>2016-01-01 09:07:03</th>\n",
       "      <td>5</td>\n",
       "      <td>-52.122722</td>\n",
       "      <td>1</td>\n",
       "      <td>0</td>\n",
       "      <td>A</td>\n",
       "      <td>0</td>\n",
       "      <td>6830102.57</td>\n",
       "      <td>-17.115682</td>\n",
       "      <td>0.0</td>\n",
       "      <td>0</td>\n",
       "    </tr>\n",
       "    <tr>\n",
       "      <th>2016-01-01 09:07:04</th>\n",
       "      <td>5</td>\n",
       "      <td>-52.123656</td>\n",
       "      <td>1</td>\n",
       "      <td>0</td>\n",
       "      <td>A</td>\n",
       "      <td>0</td>\n",
       "      <td>6830110.21</td>\n",
       "      <td>-17.179689</td>\n",
       "      <td>0.0</td>\n",
       "      <td>0</td>\n",
       "    </tr>\n",
       "  </tbody>\n",
       "</table>\n",
       "</div>"
      ],
      "text/plain": [
       "                     Flags_q  Longitude  Flags_F  Flags_B Spacecraft  \\\n",
       "2016-01-01 09:07:00        5 -52.119907        1        0          A   \n",
       "2016-01-01 09:07:01        5 -52.120848        1        0          A   \n",
       "2016-01-01 09:07:02        5 -52.121786        1        0          A   \n",
       "2016-01-01 09:07:03        5 -52.122722        1        0          A   \n",
       "2016-01-01 09:07:04        5 -52.123656        1        0          A   \n",
       "\n",
       "                     Bubble_Index      Radius   Latitude  Bubble_Probability  \\\n",
       "2016-01-01 09:07:00             0  6830079.62 -16.923659                 0.0   \n",
       "2016-01-01 09:07:01             0  6830087.28 -16.987667                 0.0   \n",
       "2016-01-01 09:07:02             0  6830094.93 -17.051675                 0.0   \n",
       "2016-01-01 09:07:03             0  6830102.57 -17.115682                 0.0   \n",
       "2016-01-01 09:07:04             0  6830110.21 -17.179689                 0.0   \n",
       "\n",
       "                     Flags_Bubble  \n",
       "2016-01-01 09:07:00             0  \n",
       "2016-01-01 09:07:01             0  \n",
       "2016-01-01 09:07:02             0  \n",
       "2016-01-01 09:07:03             0  \n",
       "2016-01-01 09:07:04             0  "
      ]
     },
     "execution_count": 7,
     "metadata": {},
     "output_type": "execute_result"
    }
   ],
   "source": [
    "df = data.as_dataframe()\n",
    "df.head()"
   ]
  },
  {
   "cell_type": "code",
   "execution_count": 8,
   "metadata": {},
   "outputs": [
    {
     "data": {
      "image/png": "[encoded data removed]",
      "text/plain": [
       "<Figure size 1440x360 with 1 Axes>"
      ]
     },
     "metadata": {
      "needs_background": "light"
     },
     "output_type": "display_data"
    }
   ],
   "source": [
    "df.plot(y=[\"Bubble_Index\", \"Bubble_Probability\"], figsize=(20,5));"
   ]
  },
  {
   "cell_type": "code",
   "execution_count": 9,
   "metadata": {},
   "outputs": [
    {
     "data": {
      "text/html": [
       "<pre>&lt;xarray.Dataset&gt;\n",
       "Dimensions:             (Timestamp: 180)\n",
       "Coordinates:\n",
       "  * Timestamp           (Timestamp) datetime64[ns] 2016-01-01T09:07:00 ... 2016-01-01T09:09:59\n",
       "Data variables:\n",
       "    Spacecraft          (Timestamp) object &#x27;A&#x27; &#x27;A&#x27; &#x27;A&#x27; &#x27;A&#x27; ... &#x27;A&#x27; &#x27;A&#x27; &#x27;A&#x27; &#x27;A&#x27;\n",
       "    Flags_Bubble        (Timestamp) uint8 0 0 0 0 0 0 0 0 0 ... 0 0 0 0 0 0 0 0\n",
       "    Flags_q             (Timestamp) uint8 5 5 5 5 5 5 5 5 5 ... 5 5 5 5 5 5 5 5\n",
       "    Longitude           (Timestamp) float64 -52.12 -52.12 ... -52.24 -52.24\n",
       "    Flags_F             (Timestamp) uint8 1 1 1 1 1 1 1 1 1 ... 1 1 1 1 1 1 1 1\n",
       "    Flags_B             (Timestamp) uint8 0 0 0 0 0 0 0 0 0 ... 0 0 0 0 0 0 0 0\n",
       "    Bubble_Index        (Timestamp) int8 0 0 0 0 0 0 0 0 0 ... 0 0 0 0 0 0 0 0 0\n",
       "    Radius              (Timestamp) float64 6.83e+06 6.83e+06 ... 6.831e+06\n",
       "    Bubble_Probability  (Timestamp) float64 0.0 0.0 0.0 0.0 ... 0.0 0.0 0.0 0.0\n",
       "    Latitude            (Timestamp) float64 -16.92 -16.99 ... -28.31 -28.38\n",
       "Attributes:\n",
       "    Sources:         [&#x27;SW_OPER_IBIATMS_2F_20160101T000000_20160101T235959_0301&#x27;]\n",
       "    MagneticModels:  []\n",
       "    RangeFilters:    []</pre>"
      ],
      "text/plain": [
       "<xarray.Dataset>\n",
       "Dimensions:             (Timestamp: 180)\n",
       "Coordinates:\n",
       "  * Timestamp           (Timestamp) datetime64[ns] 2016-01-01T09:07:00 ... 2016-01-01T09:09:59\n",
       "Data variables:\n",
       "    Spacecraft          (Timestamp) object 'A' 'A' 'A' 'A' ... 'A' 'A' 'A' 'A'\n",
       "    Flags_Bubble        (Timestamp) uint8 0 0 0 0 0 0 0 0 0 ... 0 0 0 0 0 0 0 0\n",
       "    Flags_q             (Timestamp) uint8 5 5 5 5 5 5 5 5 5 ... 5 5 5 5 5 5 5 5\n",
       "    Longitude           (Timestamp) float64 -52.12 -52.12 ... -52.24 -52.24\n",
       "    Flags_F             (Timestamp) uint8 1 1 1 1 1 1 1 1 1 ... 1 1 1 1 1 1 1 1\n",
       "    Flags_B             (Timestamp) uint8 0 0 0 0 0 0 0 0 0 ... 0 0 0 0 0 0 0 0\n",
       "    Bubble_Index        (Timestamp) int8 0 0 0 0 0 0 0 0 0 ... 0 0 0 0 0 0 0 0 0\n",
       "    Radius              (Timestamp) float64 6.83e+06 6.83e+06 ... 6.831e+06\n",
       "    Bubble_Probability  (Timestamp) float64 0.0 0.0 0.0 0.0 ... 0.0 0.0 0.0 0.0\n",
       "    Latitude            (Timestamp) float64 -16.92 -16.99 ... -28.31 -28.38\n",
       "Attributes:\n",
       "    Sources:         ['SW_OPER_IBIATMS_2F_20160101T000000_20160101T235959_0301']\n",
       "    MagneticModels:  []\n",
       "    RangeFilters:    []"
      ]
     },
     "execution_count": 9,
     "metadata": {},
     "output_type": "execute_result"
    }
   ],
   "source": [
    "ds = data.as_xarray()\n",
    "ds"
   ]
  }
 ],
 "metadata": {
  "kernelspec": {
   "display_name": "Python 3",
   "language": "python",
   "name": "python3"
  },
  "language_info": {
   "codemirror_mode": {
    "name": "ipython",
    "version": 3
   },
   "file_extension": ".py",
   "mimetype": "text/x-python",
   "name": "python",
   "nbconvert_exporter": "python",
   "pygments_lexer": "ipython3",
   "version": "3.7.6"
  }
 },
 "nbformat": 4,
 "nbformat_minor": 4
}
