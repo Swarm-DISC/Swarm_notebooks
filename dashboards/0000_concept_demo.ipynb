{
 "cells": [
  {
   "cell_type": "code",
   "execution_count": null,
   "metadata": {},
   "outputs": [],
   "source": [
    "# Update viresclient \n",
    "!pip install git+https://github.com/ESA-VirES/VirES-Python-Client.git@staging\n",
    "# Update xarray to get the new html repr\n",
    "!pip install -U xarray"
   ]
  },
  {
   "cell_type": "markdown",
   "metadata": {},
   "source": [
    "### Imports"
   ]
  },
  {
   "cell_type": "code",
   "execution_count": null,
   "metadata": {},
   "outputs": [],
   "source": [
    "from viresclient import SwarmRequest\n",
    "import matplotlib.pyplot as plt\n",
    "# import holoviews as hv\n",
    "# import hvplot.xarray\n",
    "import panel as pn\n",
    "pn.extension()"
   ]
  },
  {
   "cell_type": "markdown",
   "metadata": {},
   "source": [
    "### VirES access"
   ]
  },
  {
   "cell_type": "code",
   "execution_count": null,
   "metadata": {},
   "outputs": [],
   "source": [
    "# server_url = 'https://staging.viresdisc.vires.services/ows'\n",
    "server_url = 'https://vires.services/ows'\n",
    "\n",
    "def fetch_data(\n",
    "            observatory=\"ABG\",\n",
    "            models=None,\n",
    "            start_time='2016-01-01T00:00:00Z',\n",
    "            end_time='2016-01-10T00:00:00Z',\n",
    "            cadence=\"M\"\n",
    "        ):\n",
    "    request = SwarmRequest(server_url)\n",
    "    request.set_collection(\n",
    "       f'SW_OPER_AUX_OBS{cadence}2_:{observatory}',\n",
    "        verbose=False\n",
    "    )\n",
    "    request.set_products(\n",
    "        measurements=['B_NEC', 'F', 'IAGA_code', 'Quality'],\n",
    "        models=models,\n",
    "        residuals=True if models else False\n",
    "    )\n",
    "    data = request.get_between(\n",
    "        start_time, end_time,\n",
    "        asynchronous=True,\n",
    "        show_progress=False)\n",
    "    return data"
   ]
  },
  {
   "cell_type": "markdown",
   "metadata": {},
   "source": [
    "### Dashboard setup"
   ]
  },
  {
   "cell_type": "code",
   "execution_count": null,
   "metadata": {},
   "outputs": [],
   "source": [
    "models = [\n",
    "    None,\n",
    "    '\"CHAOS-Core\"',\n",
    "    '\"CHAOS-Core\" + \"CHAOS-Static\"',\n",
    "    '\"CHAOS-Core\" + \"CHAOS-Static\" + \"CHAOS-MMA\"',\n",
    "    '\"CHAOS-Core\" + \"CHAOS-Static\" + \"CHAOS-MMA\" + \"MIO_SHA_2C\"'\n",
    "]\n",
    "\n",
    "panes = {\n",
    "    \"html\": pn.pane.HTML(),\n",
    "    \"mpl\": pn.pane.Matplotlib(),\n",
    "#     \"hvp\": pn.pane.HoloViews()\n",
    "}\n",
    "widgets = {\n",
    "    \"select_obs\": pn.widgets.Select(name='Select observatory:', options=['LER', 'ESK', 'HAD']),\n",
    "    \"input_start\": pn.widgets.TextInput(name='Start time:', value='2016-01-01T00:00:00Z'),\n",
    "    \"input_end\": pn.widgets.TextInput(name='End time:', value='2016-01-02T00:00:00Z'),\n",
    "    \"select_model\": pn.widgets.Select(name='Remove Model:', options=models),\n",
    "    \"select_resampling\": pn.widgets.Select(name='Resampling:', options=[None, '1H', '1D']),\n",
    "    \"button\": pn.widgets.Button(name='Click to generate data', button_type='primary'),\n",
    "#     \"download\": pn.widgets.FileDownload()\n",
    "}\n",
    "\n",
    "def button_outcome(event):\n",
    "    widgets[\"button\"].name = \"Loading...\"\n",
    "    # Fetch dataset\n",
    "    selected_model = widgets[\"select_model\"].value\n",
    "    data = fetch_data(\n",
    "        observatory=widgets[\"select_obs\"].value,\n",
    "        start_time=widgets[\"input_start\"].value,\n",
    "        end_time=widgets[\"input_end\"].value,\n",
    "        models=[f\"Model = {selected_model}\"]\n",
    "            if selected_model else None\n",
    "    )\n",
    "    ds = data.as_xarray()\n",
    "    # Display dataset html\n",
    "    panes[\"html\"].object = ds._repr_html_()\n",
    "    # Display figure\n",
    "    plotvar = 'B_NEC_res_Model' if selected_model else 'B_NEC'\n",
    "    selected_resampling = widgets[\"select_resampling\"].value\n",
    "    fig, axes = plt.subplots(ncols=3, figsize=(15, 3))\n",
    "    for i, NEC in enumerate(\"NEC\"):\n",
    "        ds[plotvar].sel(NEC=NEC).plot.line(x=\"Timestamp\", ax=axes[i])\n",
    "        if selected_resampling:\n",
    "            (ds[plotvar].sel(NEC=NEC)\n",
    "                .resample(Timestamp=selected_resampling).mean()\n",
    "                .plot.line(x=\"Timestamp\", ax=axes[i])\n",
    "            )\n",
    "        axes[i].set_ylabel(None)\n",
    "        axes[i].grid()\n",
    "    axes[0].set_ylabel(f\"Observatory: {widgets['select_obs'].value}\\n\\n{plotvar} [nT]\")\n",
    "    panes[\"mpl\"].object = fig\n",
    "#     panes[\"hvp\"].object = ds.hvplot.line(\n",
    "#         x=\"Timestamp\", y=plotvar, col=\"NEC\",\n",
    "#         shared_axes=False, grid=True, frame_width=350, frame_height=200\n",
    "#     )\n",
    "    # Reset button\n",
    "    widgets[\"button\"].name = 'Click to generate data'\n",
    "\n",
    "widgets[\"button\"].on_click(button_outcome)\n",
    "\n",
    "dashboard = pn.Column(\n",
    "    pn.Row(*[widgets[i] for i in [\"select_obs\", \"input_start\", \"input_end\"]],  width=800),\n",
    "    pn.Row(*[widgets[i] for i in [\"select_model\", \"select_resampling\"]], width=800),\n",
    "    pn.Row(widgets[\"button\"], width=800),\n",
    "    panes[\"mpl\"],\n",
    "#     panes[\"hvp\"],\n",
    "    panes[\"html\"],\n",
    ")"
   ]
  },
  {
   "cell_type": "markdown",
   "metadata": {},
   "source": [
    "### Display the dashboard\n",
    "\n",
    "This dashboard fetches and displays the minute data from one of the three UK magnetic observatories ([see the usage terms](ftp://ftp.nerc-murchison.ac.uk/geomag/Swarm/AUX_OBS/minute/README)). You can optionally choose to remove a geomagnetic model prediction - this will be evaluated on demand, so can be quite slow with the magnetospheric (MMA) and ionospheric (MIO) models. You can additionally resample the output (using pandas [resampling](https://pandas.pydata.org/pandas-docs/stable/reference/api/pandas.DataFrame.resample.html)) - to hourly (`1H`) or daily rate (`1D`).\n",
    "\n",
    "We show the NEC (North, East, Centre) components of the field in geocentric spherical coordinates.\n",
    "\n",
    "Of course a lot more is possible with this approach, and this is only meant to serve as a demonstration!  \n",
    "(it uses the [Panel](https://panel.holoviz.org/index.html) dashboarding tool)"
   ]
  },
  {
   "cell_type": "code",
   "execution_count": null,
   "metadata": {},
   "outputs": [],
   "source": [
    "dashboard"
   ]
  }
 ],
 "metadata": {
  "language_info": {
   "codemirror_mode": {
    "name": "ipython",
    "version": 3
   },
   "file_extension": ".py",
   "mimetype": "text/x-python",
   "name": "python",
   "nbconvert_exporter": "python",
   "pygments_lexer": "ipython3"
  }
 },
 "nbformat": 4,
 "nbformat_minor": 4
}
