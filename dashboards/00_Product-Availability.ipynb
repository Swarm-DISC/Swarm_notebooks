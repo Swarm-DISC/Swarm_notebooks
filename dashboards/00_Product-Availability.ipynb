{
 "cells": [
  {
   "cell_type": "markdown",
   "metadata": {},
   "source": [
    "# Product availability dashboard"
   ]
  },
  {
   "cell_type": "code",
   "execution_count": null,
   "metadata": {},
   "outputs": [],
   "source": [
    "%load_ext autoreload\n",
    "%autoreload 2"
   ]
  },
  {
   "cell_type": "code",
   "execution_count": null,
   "metadata": {},
   "outputs": [],
   "source": [
    "import os\n",
    "import json\n",
    "import datetime as dt\n",
    "import numpy as np\n",
    "import xarray as xr\n",
    "import pandas as pd\n",
    "import matplotlib as mpl\n",
    "import matplotlib.pyplot as plt\n",
    "import cartopy.crs as ccrs\n",
    "from tqdm import tqdm\n",
    "from viresclient import SwarmRequest\n",
    "\n",
    "import panel as pn\n",
    "import hvplot.xarray\n",
    "import holoviews as hv\n",
    "import geoviews as gv\n",
    "\n",
    "hv.extension('bokeh')\n",
    "pn.extension('ace')"
   ]
  },
  {
   "cell_type": "code",
   "execution_count": null,
   "metadata": {},
   "outputs": [],
   "source": [
    "SERVER_URL = \"https://vires.services/ows\""
   ]
  },
  {
   "cell_type": "markdown",
   "metadata": {},
   "source": [
    "## Retrieving availability of collections from VirES"
   ]
  },
  {
   "cell_type": "code",
   "execution_count": null,
   "metadata": {},
   "outputs": [],
   "source": [
    "def fetch_availability(force_update=False):\n",
    "    if (\"availability\" not in pn.state.cache) or force_update:\n",
    "        collections_dict = SwarmRequest().available_collections(details=False)\n",
    "        # Choose only the main collections\n",
    "        collections_dict = {\n",
    "            c: collections_dict[c] for c in [\n",
    "                \"MAG\", \"MAG_HR\", \"EFI\", \"TEC\", \"FAC\", \"EEF\", \"IPD\",\n",
    "                \"AEJ_LPL\", \"AEJ_LPS\", \"AEJ_PBL\", \"AEJ_PBS\", \"AOB_FAC\"\n",
    "            ]\n",
    "        }\n",
    "        request = SwarmRequest(SERVER_URL)\n",
    "        availability = {}\n",
    "        for group in tqdm(collections_dict.keys()):\n",
    "            for collection in collections_dict[group]:\n",
    "                df = request.available_times(collection)\n",
    "                # Create integer index given by YearDOY \n",
    "                year = df[\"starttime\"].dt.year\n",
    "                doy = df[\"starttime\"].dt.dayofyear\n",
    "                index = np.array([f\"{x}{y:03}\" for x, y in zip(year, doy)]).astype(int)\n",
    "                df[\"year+doy\"] = index\n",
    "    #             availability[collection].index = index\n",
    "    #             availability[collection].index.name = \"year+doy\"\n",
    "                # Remove unused bbox column\n",
    "                df = df.drop(columns=[\"bbox\"])\n",
    "                # Add column containing just the collection (product) name\n",
    "                df[\"Product\"] = collection\n",
    "                # Add column containing just the collection group\n",
    "                df[\"Group\"] = group\n",
    "                # Append to dictionary\n",
    "                availability[collection] = df\n",
    "        # Reorganise dictionary into MultiIndex DataFrame\n",
    "        availability = pd.concat(availability.values())\n",
    "        availability.index = pd.MultiIndex.from_frame(\n",
    "            availability[[\"Group\", \"Product\", \"year+doy\"]]\n",
    "        )\n",
    "        availability = availability.drop(columns=[\"year+doy\", \"Product\", \"Group\"])\n",
    "        pn.state.cache[\"availability\"] = availability\n",
    "    else:\n",
    "        availability = pn.state.cache[\"availability\"]\n",
    "    return availability\n",
    "\n",
    "# availability = fetch_availability(force_update=True)"
   ]
  },
  {
   "cell_type": "code",
   "execution_count": null,
   "metadata": {},
   "outputs": [],
   "source": [
    "# availability.head()\n",
    "# # Selecting a particular collection\n",
    "# availability.xs(\"SW_OPER_MAGA_LR_1B\", level=1)\n",
    "# # Selecting a particular year\n",
    "# availability.xs(slice(2013000, 2014000), level=2)"
   ]
  },
  {
   "cell_type": "markdown",
   "metadata": {},
   "source": [
    "## Creating a Holoviews object to display availability for a given year"
   ]
  },
  {
   "cell_type": "code",
   "execution_count": null,
   "metadata": {},
   "outputs": [],
   "source": [
    "def segments_for_year(year=2020):\n",
    "    \"\"\"Set year to None to display all time\"\"\"\n",
    "    availability = fetch_availability()\n",
    "    # Slice out chosen year\n",
    "    if year:\n",
    "        selection = availability.xs(\n",
    "            slice(int(f\"{year}000\"), int(f\"{year+1}000\")),\n",
    "            level=2\n",
    "        )\n",
    "    else:\n",
    "        selection = availability\n",
    "    # Generate segments\n",
    "    segs = hv.Segments(\n",
    "        selection,\n",
    "        [\"starttime\", \"Product\", \"endtime\", \"Product\"]\n",
    "    ).opts(\n",
    "        line_width=10, xlabel=\"Day\",\n",
    "        responsive=True, min_width=800, min_height=800, max_height=800,\n",
    "        tools=[\"hover\"], active_tools=[]\n",
    "    )\n",
    "    if year:\n",
    "        segs = segs.opts(xlim=(dt.datetime(year, 1, 1), dt.datetime(year+1, 1, 1)))\n",
    "    return segs"
   ]
  },
  {
   "cell_type": "code",
   "execution_count": null,
   "metadata": {},
   "outputs": [],
   "source": [
    "# segments_for_year(2020)"
   ]
  },
  {
   "cell_type": "markdown",
   "metadata": {},
   "source": [
    "## Repeating for model availability"
   ]
  },
  {
   "cell_type": "code",
   "execution_count": null,
   "metadata": {},
   "outputs": [],
   "source": [
    "def fetch_availability_of_models(force_update=False):\n",
    "    def _parsetime(t):\n",
    "        return dt.datetime.fromisoformat(t[:-1])\n",
    "    if (\"availability_models\" not in pn.state.cache) or force_update:\n",
    "        request = SwarmRequest(SERVER_URL)\n",
    "        model_info = request.get_model_info()\n",
    "        d = {\n",
    "            i: [] for i in [\"Model name\", \"start\", \"end\", \"expression\", \"sources\"]\n",
    "        }\n",
    "        for m in model_info.keys():\n",
    "            d[\"Model name\"].append(m)\n",
    "            d[\"start\"].append(_parsetime(model_info[m][\"validity\"][\"start\"]))\n",
    "            d[\"end\"].append(_parsetime(model_info[m][\"validity\"][\"end\"]))\n",
    "            d[\"expression\"].append(model_info[m][\"expression\"])\n",
    "            d[\"sources\"].append(\"; \".join(model_info[m][\"sources\"]))\n",
    "        availability_models = pd.DataFrame.from_dict(d)\n",
    "#         availability_models = availability_models.set_index(\"Model name\")\n",
    "        pn.state.cache[\"availability_models\"] = availability_models\n",
    "    else:\n",
    "        availability_models = pn.state.cache[\"availability_models\"]\n",
    "    return availability_models\n",
    "\n",
    "# availability_models = fetch_availability_of_models(force_update=True)\n",
    "# availability_models.head()"
   ]
  },
  {
   "cell_type": "code",
   "execution_count": null,
   "metadata": {},
   "outputs": [],
   "source": [
    "def segments_model_availability():\n",
    "    model_availability = fetch_availability_of_models()\n",
    "    # Generate segments\n",
    "    segs = hv.Segments(\n",
    "        model_availability,\n",
    "        [\"start\", \"Model name\", \"end\", \"Model name\"]\n",
    "    ).opts(\n",
    "        line_width=10, xlabel=\"Time\", xlim=(dt.datetime(2010, 1, 1), dt.datetime(2025, 1, 1)),\n",
    "        responsive=True, min_width=800, min_height=800, max_height=800,\n",
    "        tools=[\"hover\"], active_tools=[]\n",
    "    )\n",
    "    return segs\n",
    "\n",
    "# segments_model_availability()"
   ]
  },
  {
   "cell_type": "markdown",
   "metadata": {},
   "source": [
    "## Repeating for AUX_OBS availability"
   ]
  },
  {
   "cell_type": "code",
   "execution_count": null,
   "metadata": {},
   "outputs": [],
   "source": [
    "def fetch_availability_of_obs(force_update=False):\n",
    "    if (\"availability_obs\" not in pn.state.cache) or force_update:\n",
    "        request = SwarmRequest(SERVER_URL)\n",
    "        available_aux_obs = {}\n",
    "        available_aux_obs[\"H\"] = request.available_observatories(\"SW_OPER_AUX_OBSH2_\", details=True)\n",
    "        available_aux_obs[\"M\"] = request.available_observatories(\"SW_OPER_AUX_OBSM2_\", details=True)\n",
    "        available_aux_obs[\"S\"] = request.available_observatories(\"SW_OPER_AUX_OBSS2_\", details=True)\n",
    "        for hms in tqdm(\"HMS\"):\n",
    "            for se in (\"startTime\", \"endTime\"):\n",
    "                available_aux_obs[hms][se] = pd.to_datetime(\n",
    "                    available_aux_obs[hms][se]\n",
    "                )\n",
    "            # compatibility with old vires\n",
    "            available_aux_obs[hms] = available_aux_obs[hms].rename(\n",
    "                columns={\"IAGACode\": \"site\"}\n",
    "            )\n",
    "        pn.state.cache[\"availability_obs\"] = available_aux_obs\n",
    "    else:\n",
    "        available_aux_obs = pn.state.cache[\"availability_obs\"]\n",
    "    return available_aux_obs\n",
    "\n",
    "# available_aux_obs = fetch_availability_of_obs(force_update=True)"
   ]
  },
  {
   "cell_type": "code",
   "execution_count": null,
   "metadata": {},
   "outputs": [],
   "source": [
    "def segments_for_aux_obs(hms=\"H\"):\n",
    "    df = fetch_availability_of_obs()[hms]\n",
    "#     df = df.sort_values([\"endTime\", \"startTime\"])\n",
    "    \n",
    "    segs = hv.Segments(\n",
    "        df,\n",
    "        [\"startTime\", \"site\", \"endTime\", \"site\"]\n",
    "    ).opts(\n",
    "        line_width=10, xlabel=\"Time\", ylabel=\"IAGA Code\",\n",
    "        responsive=True, min_width=800, min_height=len(df)*12,\n",
    "        tools=[\"hover\"], active_tools=[],\n",
    "#         xformatter='%d'\n",
    "    )\n",
    "    return segs\n",
    "\n",
    "# segments_for_aux_obs(\"S\")"
   ]
  },
  {
   "cell_type": "markdown",
   "metadata": {},
   "source": [
    "## Assembling a Panel dashboard"
   ]
  },
  {
   "cell_type": "code",
   "execution_count": null,
   "metadata": {},
   "outputs": [],
   "source": [
    "years = list(range(2013, 2022))\n",
    "year_slider = pn.widgets.DiscreteSlider(name=\"Select year\", options=years, value=years[-2])\n",
    "hvplot_timeseries = pn.pane.HoloViews(segments_for_year(year_slider.value))\n",
    "hvplot_models = pn.pane.HoloViews(segments_model_availability())\n",
    "hvplot_obs_h = pn.pane.HoloViews(segments_for_aux_obs(\"H\"))\n",
    "hvplot_obs_m = pn.pane.HoloViews(segments_for_aux_obs(\"M\"))\n",
    "hvplot_obs_s = pn.pane.HoloViews(segments_for_aux_obs(\"S\"))\n",
    "\n",
    "def update_hvplot(event):\n",
    "    year = event.obj.value\n",
    "    hvplot_timeseries.object = segments_for_year(year)\n",
    "\n",
    "year_slider.param.watch(update_hvplot, \"value\")\n",
    "    \n",
    "tab1 = pn.Column(\n",
    "    hvplot_timeseries,\n",
    "    year_slider\n",
    ")\n",
    "tab2 = pn.Column(\n",
    "    hvplot_models\n",
    ")\n",
    "tab3 = pn.Tabs(\n",
    "    (\"Hour\", hvplot_obs_h),\n",
    "    (\"Minute\", hvplot_obs_m),\n",
    "    (\"Second\", hvplot_obs_s)\n",
    ")\n",
    "dashboard = pn.Tabs(\n",
    "    (\"Time series products\", tab1),\n",
    "    (\"Geomagnetic models\", tab2),\n",
    "    (\"Geomagnetic ground observatories\", tab3)\n",
    ")\n",
    "dashboard.servable(title=\"Data product availability on VirES\")"
   ]
  },
  {
   "cell_type": "markdown",
   "metadata": {},
   "source": [
    "```\n",
    "docker run --rm -it -p 5006:5006 -v ~/code/Swarm_notebooks/dashboards:/home/jovyan \\\n",
    "registry.gitlab.eox.at/esa/vires_vre_ops/vre-swarm-notebook:0.7.5 \\\n",
    "bash -c \\\n",
    "    \"conda upgrade --channel holoviz holoviews &&\n",
    "    pip install --upgrade 'git+https://github.com/ESA-VirES/VirES-Python-Client@staging#egg=viresclient' &&\n",
    "    viresclient set_token https://vires.services/ows &&\n",
    "    panel serve 00_Product-Availability.ipynb --allow-websocket-origin=$(curl ifconfig.me/ip):5006\"\n",
    "```"
   ]
  }
 ],
 "metadata": {
  "kernelspec": {
   "display_name": "Python 3",
   "language": "python",
   "name": "python3"
  },
  "language_info": {
   "codemirror_mode": {
    "name": "ipython",
    "version": 3
   },
   "file_extension": ".py",
   "mimetype": "text/x-python",
   "name": "python",
   "nbconvert_exporter": "python",
   "pygments_lexer": "ipython3",
   "version": "3.8.6"
  }
 },
 "nbformat": 4,
 "nbformat_minor": 4
}
