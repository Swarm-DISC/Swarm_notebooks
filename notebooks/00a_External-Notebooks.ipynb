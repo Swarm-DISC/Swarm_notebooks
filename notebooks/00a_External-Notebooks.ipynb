{
 "cells": [
  {
   "cell_type": "markdown",
   "id": "0",
   "metadata": {},
   "source": [
    "# 🌍 Beyond Swarm Notebooks"
   ]
  },
  {
   "cell_type": "markdown",
   "id": "1",
   "metadata": {},
   "source": [
    "*Swarm Notebooks* document access to Swarm products and show general recipes for their manipulation and visualisation, fully tested and verified to work on the VRE.\n",
    "\n",
    "What about other projects beyond the scope of *Swarm Notebooks*? On this page we collect a list of related repositories.\n",
    "\n",
    "To view or interact with the projects, follow the links below\n",
    "\n",
    "Click ![jupyter-book](https://jupyterbook.org/badge.svg) to view on the web\n",
    "\n",
    "Click ![nbgitpuller](https://img.shields.io/badge/nbgitpuller-VRE-blue) to pull the code into the VRE  "
   ]
  },
  {
   "cell_type": "markdown",
   "id": "2",
   "metadata": {},
   "source": [
    "---\n",
    "\n",
    "[**SIFACIT**: Swarm-DISC/FAC_exploration](https://github.com/Swarm-DISC/FAC_exploration)  \n",
    "[![jupyter-book](https://jupyterbook.org/badge.svg)](https://fac-exploration.swarmdisc.org) [![nbgitpuller](https://img.shields.io/badge/nbgitpuller-VRE-blue)](https://vre.vires.services/hub/user-redirect/git-pull?repo=https%3A%2F%2Fgithub.com%2FSwarm-DISC%2FFAC_exploration&urlpath=lab%2Ftree%2FFAC_exploration%2F&branch=main)  \n",
    "Tools for more advanced exploration of Field-Aligned Currents (SIFACIT project: Adrian Blagau & Joachim Vogt)\n",
    "\n",
    "---\n",
    "\n",
    "[pacesm/jupyter_notebooks](https://github.com/pacesm/jupyter_notebooks)  \n",
    "[![nbviewer](https://img.shields.io/badge/render-nbviewer-orange.svg)](https://nbviewer.jupyter.org/github/pacesm/jupyter_notebooks) [![nbgitpuller](https://img.shields.io/badge/nbgitpuller-VRE-blue)](https://vre.vires.services/hub/user-redirect/git-pull?repo=https%3A%2F%2Fgithub.com%2Fpacesm%2Fjupyter_notebooks&urlpath=lab%2Ftree%2Fjupyter_notebooks%2F&branch=master)  \n",
    "Demonstrations using viresclient, mainly during development of new products on VirES (Martin Pačes / EOX)\n",
    "\n",
    "---\n",
    "\n",
    "[klaundal/notebooks](https://github.com/klaundal/notebooks)  \n",
    "[![nbviewer](https://img.shields.io/badge/render-nbviewer-orange.svg)](https://nbviewer.jupyter.org/github/klaundal/notebooks) [![nbgitpuller](https://img.shields.io/badge/nbgitpuller-VRE-blue)](https://vre.vires.services/hub/user-redirect/git-pull?repo=https%3A%2F%2Fgithub.com%2Fklaundal%2Fnotebooks&urlpath=lab%2Ftree%2Fnotebooks%2F&branch=master)  \n",
    "Examples in polar ionosphere studies (Karl M. Laundal)\n",
    "\n",
    "---\n",
    "\n",
    "[**Exploring our Magnetic Earth**: MagneticEarth/book.magneticearth.org](https://github.com/MagneticEarth/book.magneticearth.org)  \n",
    "[![jupyter-book](https://jupyterbook.org/badge.svg)](https://book.magneticearth.org)  [![nbgitpuller](https://img.shields.io/badge/nbgitpuller-VRE-blue)](https://vre.vires.services/hub/user-redirect/git-pull?repo=https%3A%2F%2Fgithub.com%2FMagneticEarth%2Fbook.magneticearth.org&urlpath=lab%2Ftree%2Fbook.magneticearth.org%2F&branch=main)  \n",
    "An interactive textbook used as part of the IAGA School\n",
    "\n",
    "---\n",
    " \n",
    "[Swarm-DISC/Swarm_notebooks](https://github.com/Swarm-DISC/Swarm_notebooks)  \n",
    "[![jupyter-book](https://jupyterbook.org/badge.svg)](https://notebooks.vires.services/) [![nbgitpuller](https://img.shields.io/badge/nbgitpuller-VRE-blue)](https://vre.vires.services/hub/user-redirect/git-pull?repo=https%3A%2F%2Fgithub.com%2FSwarm-DISC%2FSwarm_notebooks&urlpath=lab%2Ftree%2FSwarm_notebooks%2F&branch=master)  \n",
    "Recipes for interacting with Swarm products"
   ]
  }
 ],
 "metadata": {
  "kernelspec": {
   "display_name": "Python 3 (ipykernel)",
   "language": "python",
   "name": "python3"
  },
  "language_info": {
   "codemirror_mode": {
    "name": "ipython",
    "version": 3
   },
   "file_extension": ".py",
   "mimetype": "text/x-python",
   "name": "python",
   "nbconvert_exporter": "python",
   "pygments_lexer": "ipython3"
  }
 },
 "nbformat": 4,
 "nbformat_minor": 5
}
