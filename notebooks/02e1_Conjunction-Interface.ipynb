{
 "cells": [
  {
   "cell_type": "markdown",
   "id": "92018091",
   "metadata": {},
   "source": [
    "# Finding conjunctions\n",
    "\n",
    "> Abstract: VirES currently has the ability to search for conjunctions between only Swarm Alpha & Bravo. These are times when the spacecraft are flying near to each other. Here we show how the Python interface can be used to find these conjunctions. VirES defines conjunctions as times when the angular separation between two spacecraft (based on geographic latitude & longitude) is below a given threshold.\n",
    "\n",
    "See also:\n",
    "\n",
    "- API reference: https://viresclient.readthedocs.io/en/latest/api.html#viresclient.SwarmRequest.get_conjunctions\n",
    "- Point-and-click dashboard: `Swarm_notebooks/dashboards/04_Conjunctions.ipynb` (link TBD)\n",
    "- https://nbviewer.org/github/pacesm/jupyter_notebooks/blob/master/SwarmAB_conjunctions/SwarmAB_conjunctions_VirES_API.ipynb\n",
    "- https://nbviewer.org/github/pacesm/jupyter_notebooks/blob/master/SwarmAB_conjunctions/SwarmAB_conjunctions_VirES_API_and_MAG_measurements.ipynb\n",
    "\n",
    ":::{admonition} Using other tools?\n",
    ":class: seealso\n",
    "\n",
    "For auroral-related studies, you will probably want to use the [AuroraX Conjunction Search](https://aurorax.space/conjunctionSearch/dropdowns) which lets you search conjunctions between multiple ground and space programs. You can use the [`PyAuroraX` package](https://github.com/aurorax-space/pyaurorax) to do this programmatically, which is currently not installed in VRE. You can install it temporarily on the fly from within a notebook with, e.g.:\n",
    "\n",
    "```python\n",
    "!pip install pyaurorax\n",
    "\n",
    "from aurorax import conjunctions\n",
    "```\n",
    "\n",
    "[(see example)](https://nbviewer.org/github/aurorax-space/pyaurorax/blob/main/examples/notebooks/search_conjunctions.ipynb)\n",
    ":::\n",
    "\n",
    "\n",
    "## Interface example"
   ]
  },
  {
   "cell_type": "code",
   "execution_count": null,
   "id": "ed1aaa68",
   "metadata": {},
   "outputs": [],
   "source": [
    "# Display current version numbers used\n",
    "%load_ext watermark\n",
    "%watermark -i -v -p viresclient,pandas,xarray,matplotlib"
   ]
  },
  {
   "cell_type": "code",
   "execution_count": null,
   "id": "eb7c8326",
   "metadata": {},
   "outputs": [],
   "source": [
    "import datetime as dt\n",
    "import matplotlib.pyplot as plt\n",
    "\n",
    "from viresclient import SwarmRequest"
   ]
  },
  {
   "cell_type": "markdown",
   "id": "bdde19ca",
   "metadata": {},
   "source": [
    "Use the [`.get_conjunctions()`](https://viresclient.readthedocs.io/en/latest/api.html#viresclient.SwarmRequest.get_conjunctions) method to search for conjunctions. This takes as its inputs:\n",
    "- `start_time`, `end_time`: the search inteval (as ISO-8601 strings, or as `datetime` objects)\n",
    "- `threshold`: the maximum allowable angular separation in degrees\n",
    "- `mission1`, `mission2`: mission name of the first/second spacecraft (currently only Swarm is allowed)\n",
    "- `spacecraft1`, `spacecraft2`: the spacecraft identifiers (currently only A/B allowed)\n",
    "\n",
    "The object returned from `.get_conjunctions()` can be loaded as a Pandas Dataframe or as an Xarray Dataset, just as with other data queries. For example, searching within September 2021:"
   ]
  },
  {
   "cell_type": "code",
   "execution_count": null,
   "id": "17bb2cf6",
   "metadata": {},
   "outputs": [],
   "source": [
    "request = SwarmRequest()\n",
    "conjs = request.get_conjunctions(\n",
    "    start_time=\"2021-09-01\",\n",
    "    end_time=\"2021-10-01\",\n",
    "    threshold=1,\n",
    "    spacecraft1=\"A\",\n",
    "    spacecraft2=\"B\",\n",
    "    mission1=\"Swarm\",\n",
    "    mission2=\"Swarm\"\n",
    ")\n",
    "conjs = conjs.as_dataframe()\n",
    "conjs"
   ]
  },
  {
   "cell_type": "markdown",
   "id": "b2b7158f",
   "metadata": {},
   "source": [
    "## Using identified conjunctions"
   ]
  },
  {
   "cell_type": "markdown",
   "id": "c1eb4af7",
   "metadata": {},
   "source": [
    "We can now use the identified time instances to extract data from around those moments. Let's pick the first conjunction found and create a one-minute time window around it:"
   ]
  },
  {
   "cell_type": "code",
   "execution_count": null,
   "id": "ba978bb0",
   "metadata": {},
   "outputs": [],
   "source": [
    "time = conjs.index[0].to_pydatetime()\n",
    "time0 = time - dt.timedelta(seconds=30)\n",
    "time1 = time + dt.timedelta(seconds=30)\n",
    "time0, time1"
   ]
  },
  {
   "cell_type": "markdown",
   "id": "ca2235d0",
   "metadata": {},
   "source": [
    "Now let's pull the magnetic high rate (50Hz) measurements from this period:"
   ]
  },
  {
   "cell_type": "code",
   "execution_count": null,
   "id": "736c79b4",
   "metadata": {},
   "outputs": [],
   "source": [
    "# Make three consecutive requests and store the data within the dictionary, ds_set\n",
    "ds_set = {}\n",
    "for spacecraft in (\"A\", \"B\", \"C\"):\n",
    "    request = SwarmRequest()\n",
    "    request.set_collection(f\"SW_OPER_MAG{spacecraft}_HR_1B\")\n",
    "    request.set_products(measurements=[\"B_NEC\"])\n",
    "    data = request.get_between(time0, time1, asynchronous=False, show_progress=False)\n",
    "    ds_set[spacecraft] = data.as_xarray()"
   ]
  },
  {
   "cell_type": "code",
   "execution_count": null,
   "id": "8291602a",
   "metadata": {},
   "outputs": [],
   "source": [
    "ds_set[\"A\"]"
   ]
  },
  {
   "cell_type": "code",
   "execution_count": null,
   "id": "1933db9b",
   "metadata": {},
   "outputs": [],
   "source": [
    "spacecraft = (\"A\", \"B\", \"C\")\n",
    "colors = (\"tab:blue\", \"tab:orange\", \"tab:green\")\n",
    "# Loop through each spacecraft and plot in a different colour\n",
    "fig, axes = plt.subplots(nrows=3, sharex=True, figsize=(10,5))\n",
    "for sc, color in zip(spacecraft, colors):\n",
    "    # Extract latitude and B_NEC vector for each spacecraft\n",
    "    lat = ds_set[sc][\"Latitude\"]\n",
    "    B_N = ds_set[sc][\"B_NEC\"].sel(NEC=\"N\")\n",
    "    B_E = ds_set[sc][\"B_NEC\"].sel(NEC=\"E\")\n",
    "    B_C = ds_set[sc][\"B_NEC\"].sel(NEC=\"C\")\n",
    "    axes[0].plot(lat, B_N, color=color, label=f\"Swarm {sc}\")\n",
    "    axes[1].plot(lat, B_E, color=color)\n",
    "    axes[2].plot(lat, B_C, color=color)\n",
    "\n",
    "# Adjust labelling\n",
    "axes[0].legend(loc=\"upper right\")\n",
    "axes[0].set_ylabel(\"$B_N$ [nT]\")\n",
    "axes[1].set_ylabel(\"$B_E$ [nT]\")\n",
    "axes[2].set_ylabel(\"$B_C$ [nT]\")\n",
    "axes[2].set_xlabel(\"Latitude\")\n",
    "for ax in axes:\n",
    "    ax.grid()\n",
    "fig.tight_layout()"
   ]
  },
  {
   "cell_type": "markdown",
   "id": "73f5f07d",
   "metadata": {},
   "source": [
    "The pair of Alpha and Charlie fly together at the same altitude so measure a very similar field. Bravo, in this instance, is flying in the *opposite* direction (in this part of the mission, the orbits are counter-rotating so there are many conjunctions with the spacecraft flying towards each other), but at a *higher altitude* and so measuring a weaker field."
   ]
  }
 ],
 "metadata": {
  "kernelspec": {
   "display_name": "Python 3",
   "language": "python",
   "name": "python3"
  },
  "language_info": {
   "codemirror_mode": {
    "name": "ipython",
    "version": 3
   },
   "file_extension": ".py",
   "mimetype": "text/x-python",
   "name": "python",
   "nbconvert_exporter": "python",
   "pygments_lexer": "ipython3",
   "version": "3.8.8"
  }
 },
 "nbformat": 4,
 "nbformat_minor": 5
}
