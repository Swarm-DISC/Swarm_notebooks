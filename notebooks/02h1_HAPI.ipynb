{
 "cells": [
  {
   "cell_type": "markdown",
   "id": "dd034a22-386e-4acc-b004-175f1cdadf85",
   "metadata": {
    "tags": []
   },
   "source": [
    "# 🌞 Using HAPI"
   ]
  },
  {
   "cell_type": "markdown",
   "id": "78c05938-9980-49b9-aa50-b68c132f4795",
   "metadata": {
    "tags": []
   },
   "source": [
    "> Abstract: An overview of using HAPI to access Swarm data, and using hapiclient within the VRE. HAPI has been added to the VirES server as an alternative interface to the main VirES API. The Heliophysics Application Programming Interface (HAPI) is a community specification of a unified interface for accessing data time-series. VirES for Swarm acts as a HAPI server and allows access to selected datasets via the HAPI interface. This enables more interoperability with other analysis tools.\n",
    "\n",
    ":::{admonition} Learn more about HAPI\n",
    ":class: seealso\n",
    "\n",
    "- Information about the datasets through VirES+HAPI and more details:  \n",
    "  https://vires.services/hapi/\n",
    "- Overview of HAPI and other servers and clients:  \n",
    "  https://hapi-server.org/\n",
    "\n",
    ":::\n",
    "\n",
    "Only a few Swarm datasets are currently available through HAPI, but more will be available soon. HAPI is a more limited interface than the full VirES API so there is no access to special VirES features like magnetic model handling, resampling, and filtering."
   ]
  },
  {
   "cell_type": "markdown",
   "id": "bace0175-e1e1-448a-9d0c-8621c51e6254",
   "metadata": {
    "tags": []
   },
   "source": [
    "## Quickstart with hapiclient"
   ]
  },
  {
   "cell_type": "markdown",
   "id": "de61190d-0dd4-4a25-8561-bb16be09d14c",
   "metadata": {
    "tags": []
   },
   "source": [
    "[hapiclient](https://github.com/hapi-server/client-python) is a Python client that interfaces with HAPI servers. The interface is open so there is no authentication needed. It can be used like:"
   ]
  },
  {
   "cell_type": "code",
   "execution_count": null,
   "id": "3eb5f6dc-a589-436d-ba40-1de6e2fd3d8d",
   "metadata": {},
   "outputs": [],
   "source": [
    "from hapiclient import hapi\n",
    "\n",
    "server     = 'https://vires.services/hapi';\n",
    "dataset    = 'SW_OPER_MAGA_LR_1B';\n",
    "parameters = 'Latitude,B_NEC'; \n",
    "start      = '2022-01-01T00:00:00.000Z';\n",
    "stop       = '2022-01-01T00:12:00.000Z';\n",
    "\n",
    "data, meta = hapi(server, dataset, parameters, start, stop)"
   ]
  },
  {
   "cell_type": "markdown",
   "id": "d0839f91-8293-461f-8464-e5f029ad85dc",
   "metadata": {},
   "source": [
    "Data and metadata are returned separately as a [NumPy Structured Array](https://numpy.org/doc/stable/user/basics.rec.html) and dictionary."
   ]
  },
  {
   "cell_type": "code",
   "execution_count": null,
   "id": "85ff6e9d-0d96-4c62-b134-36112ebb0655",
   "metadata": {},
   "outputs": [],
   "source": [
    "data[\"B_NEC\"]"
   ]
  },
  {
   "cell_type": "markdown",
   "id": "f45c4a54-a012-4861-986b-201c52952701",
   "metadata": {},
   "source": [
    "For more help, see:\n",
    "- Demonstration notebooks:  \n",
    "  https://github.com/hapi-server/client-python-notebooks/\n",
    "- Tool which generates code snippets and more:  \n",
    "[https://hapi-server.org/servers](https://hapi-server.org/servers/#server=SSCWeb&dataset=cluster1)"
   ]
  }
 ],
 "metadata": {
  "language_info": {
   "codemirror_mode": {
    "name": "ipython",
    "version": 3
   },
   "file_extension": ".py",
   "mimetype": "text/x-python",
   "name": "python",
   "nbconvert_exporter": "python",
   "pygments_lexer": "ipython3"
  }
 },
 "nbformat": 4,
 "nbformat_minor": 5
}
