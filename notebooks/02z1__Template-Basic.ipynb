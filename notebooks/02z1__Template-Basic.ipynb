{
 "cells": [
  {
   "cell_type": "markdown",
   "metadata": {},
   "source": [
    "# Notebook Title\n",
    "\n",
    "<span style=\"color:gray;font-weight:bold\">\n",
    "    Author: Author's Name <br/>\n",
    "    Affiliation: Institute/University <br/>\n",
    "    License: Applicable License <br/>\n",
    "</span>\n",
    "\n",
    "> Abstract: Outline the contents of the notebook.\n"
   ]
  },
  {
   "cell_type": "code",
   "execution_count": 1,
   "metadata": {},
   "outputs": [],
   "source": [
    "# Import all modules/packages used in the notebook\n",
    "# Initial import to allow requesting data\n",
    "from viresclient import SwarmRequest\n",
    "import datetime as dt\n",
    "import matplotlib.pyplot as plt"
   ]
  },
  {
   "cell_type": "markdown",
   "metadata": {},
   "source": [
    "## 1. Fetching data"
   ]
  },
  {
   "cell_type": "code",
   "execution_count": 2,
   "metadata": {},
   "outputs": [
    {
     "data": {
      "text/plain": [
       "{'MAG': ['SW_OPER_MAGA_LR_1B', 'SW_OPER_MAGB_LR_1B', 'SW_OPER_MAGC_LR_1B'],\n",
       " 'EFI': ['SW_OPER_EFIA_LP_1B', 'SW_OPER_EFIB_LP_1B', 'SW_OPER_EFIC_LP_1B'],\n",
       " 'IBI': ['SW_OPER_IBIATMS_2F', 'SW_OPER_IBIBTMS_2F', 'SW_OPER_IBICTMS_2F'],\n",
       " 'TEC': ['SW_OPER_TECATMS_2F', 'SW_OPER_TECBTMS_2F', 'SW_OPER_TECCTMS_2F'],\n",
       " 'FAC': ['SW_OPER_FACATMS_2F',\n",
       "  'SW_OPER_FACBTMS_2F',\n",
       "  'SW_OPER_FACCTMS_2F',\n",
       "  'SW_OPER_FAC_TMS_2F'],\n",
       " 'EEF': ['SW_OPER_EEFATMS_2F', 'SW_OPER_EEFBTMS_2F'],\n",
       " 'IPD': ['SW_OPER_IPDAIRR_2F', 'SW_OPER_IPDBIRR_2F', 'SW_OPER_IPDCIRR_2F']}"
      ]
     },
     "execution_count": 2,
     "metadata": {},
     "output_type": "execute_result"
    }
   ],
   "source": [
    "request = SwarmRequest()\n",
    "# Listing of data accessible (help for selection, does not need to be run)\n",
    "request.available_collections(details=False)"
   ]
  },
  {
   "cell_type": "code",
   "execution_count": 3,
   "metadata": {},
   "outputs": [
    {
     "data": {
      "text/plain": [
       "['F',\n",
       " 'dF_AOCS',\n",
       " 'dF_other',\n",
       " 'F_error',\n",
       " 'B_VFM',\n",
       " 'B_NEC',\n",
       " 'dB_Sun',\n",
       " 'dB_AOCS',\n",
       " 'dB_other',\n",
       " 'B_error',\n",
       " 'q_NEC_CRF',\n",
       " 'Att_error',\n",
       " 'Flags_F',\n",
       " 'Flags_B',\n",
       " 'Flags_q',\n",
       " 'Flags_Platform',\n",
       " 'ASM_Freq_Dev']"
      ]
     },
     "execution_count": 3,
     "metadata": {},
     "output_type": "execute_result"
    }
   ],
   "source": [
    "# Helper tool to show available parameters for collection (e.g. MAG)\n",
    "request.available_measurements(\"MAG\")"
   ]
  },
  {
   "cell_type": "code",
   "execution_count": 4,
   "metadata": {},
   "outputs": [
    {
     "data": {
      "text/plain": [
       "['IGRF',\n",
       " 'IGRF12',\n",
       " 'LCS-1',\n",
       " 'MF7',\n",
       " 'CHAOS-Core',\n",
       " 'CHAOS-Static',\n",
       " 'CHAOS-MMA-Primary',\n",
       " 'CHAOS-MMA-Secondary',\n",
       " 'CHAOS-6-Core',\n",
       " 'CHAOS-6-Static',\n",
       " 'CHAOS-6-MMA-Primary',\n",
       " 'CHAOS-6-MMA-Secondary',\n",
       " 'MCO_SHA_2C',\n",
       " 'MCO_SHA_2D',\n",
       " 'MLI_SHA_2C',\n",
       " 'MLI_SHA_2D',\n",
       " 'MMA_SHA_2C-Primary',\n",
       " 'MMA_SHA_2C-Secondary',\n",
       " 'MMA_SHA_2F-Primary',\n",
       " 'MMA_SHA_2F-Secondary',\n",
       " 'MIO_SHA_2C-Primary',\n",
       " 'MIO_SHA_2C-Secondary',\n",
       " 'MIO_SHA_2D-Primary',\n",
       " 'MIO_SHA_2D-Secondary']"
      ]
     },
     "execution_count": 4,
     "metadata": {},
     "output_type": "execute_result"
    }
   ],
   "source": [
    "# Listing of available models\n",
    "request.available_models(details=False)"
   ]
  },
  {
   "cell_type": "code",
   "execution_count": 5,
   "metadata": {},
   "outputs": [],
   "source": [
    "# Application of filters\n",
    "request.set_range_filter(parameter=\"Latitude\",\n",
    "                         minimum=0,\n",
    "                         maximum=90)\n",
    "\n",
    "request.set_range_filter(\"Longitude\", 0, 90);"
   ]
  },
  {
   "cell_type": "code",
   "execution_count": 6,
   "metadata": {},
   "outputs": [],
   "source": [
    "# Set collection identifier (see available_collections for options)\n",
    "request.set_collection(\"SW_OPER_MAGA_LR_1B\")\n",
    "# Set measurements (see available_measurements)\n",
    "request.set_products(\n",
    "    measurements=[\"F\", \"B_NEC\"],\n",
    "    #models=[\"CHAOS-Core\", \"MCO_SHA_2D\"],\n",
    "    sampling_step=\"PT10S\"\n",
    ");"
   ]
  },
  {
   "cell_type": "code",
   "execution_count": 7,
   "metadata": {},
   "outputs": [
    {
     "name": "stderr",
     "output_type": "stream",
     "text": [
      "[1/1] Processing:  100%|██████████|  [ Elapsed: 00:01, Remaining: 00:00 ]\n",
      "      Downloading: 100%|██████████|  [ Elapsed: 00:00, Remaining: 00:00 ] (0.062MB)\n"
     ]
    }
   ],
   "source": [
    "# Data request\n",
    "data = request.get_between(\n",
    "    # 2014-01-01 00:00:00\n",
    "    start_time = dt.datetime(2019,1,1, 0),\n",
    "    # 2014-01-01 01:00:00\n",
    "    end_time = dt.datetime(2019,1,1, 1)\n",
    ")"
   ]
  },
  {
   "cell_type": "code",
   "execution_count": 8,
   "metadata": {},
   "outputs": [
    {
     "data": {
      "text/html": [
       "<pre>&lt;xarray.Dataset&gt;\n",
       "Dimensions:     (NEC: 3, Timestamp: 135)\n",
       "Coordinates:\n",
       "  * Timestamp   (Timestamp) datetime64[ns] 2019-01-01T00:28:40 ... 2019-01-01T00:51:00\n",
       "  * NEC         (NEC) &lt;U1 &#x27;N&#x27; &#x27;E&#x27; &#x27;C&#x27;\n",
       "Data variables:\n",
       "    Spacecraft  (Timestamp) object &#x27;A&#x27; &#x27;A&#x27; &#x27;A&#x27; &#x27;A&#x27; &#x27;A&#x27; ... &#x27;A&#x27; &#x27;A&#x27; &#x27;A&#x27; &#x27;A&#x27; &#x27;A&#x27;\n",
       "    Radius      (Timestamp) float64 6.805e+06 6.805e+06 ... 6.817e+06 6.817e+06\n",
       "    Longitude   (Timestamp) float64 1.705 5.959 9.378 12.16 ... 32.02 32.0 31.99\n",
       "    Latitude    (Timestamp) float64 85.48 84.94 84.38 ... 1.359 0.7172 0.07508\n",
       "    B_NEC       (Timestamp, NEC) float64 3.113e+03 -186.7 ... 161.7 -9.129e+03\n",
       "    F           (Timestamp) float64 4.669e+04 4.664e+04 ... 2.655e+04 2.649e+04\n",
       "Attributes:\n",
       "    Sources:         [&#x27;SW_OPER_MAGA_LR_1B_20190101T000000_20190101T235959_050...\n",
       "    MagneticModels:  []\n",
       "    RangeFilters:    [&#x27;Latitude:0,90&#x27;, &#x27;Longitude:0,90&#x27;]</pre>"
      ],
      "text/plain": [
       "<xarray.Dataset>\n",
       "Dimensions:     (NEC: 3, Timestamp: 135)\n",
       "Coordinates:\n",
       "  * Timestamp   (Timestamp) datetime64[ns] 2019-01-01T00:28:40 ... 2019-01-01T00:51:00\n",
       "  * NEC         (NEC) <U1 'N' 'E' 'C'\n",
       "Data variables:\n",
       "    Spacecraft  (Timestamp) object 'A' 'A' 'A' 'A' 'A' ... 'A' 'A' 'A' 'A' 'A'\n",
       "    Radius      (Timestamp) float64 6.805e+06 6.805e+06 ... 6.817e+06 6.817e+06\n",
       "    Longitude   (Timestamp) float64 1.705 5.959 9.378 12.16 ... 32.02 32.0 31.99\n",
       "    Latitude    (Timestamp) float64 85.48 84.94 84.38 ... 1.359 0.7172 0.07508\n",
       "    B_NEC       (Timestamp, NEC) float64 3.113e+03 -186.7 ... 161.7 -9.129e+03\n",
       "    F           (Timestamp) float64 4.669e+04 4.664e+04 ... 2.655e+04 2.649e+04\n",
       "Attributes:\n",
       "    Sources:         ['SW_OPER_MAGA_LR_1B_20190101T000000_20190101T235959_050...\n",
       "    MagneticModels:  []\n",
       "    RangeFilters:    ['Latitude:0,90', 'Longitude:0,90']"
      ]
     },
     "execution_count": 8,
     "metadata": {},
     "output_type": "execute_result"
    }
   ],
   "source": [
    "# Convert to pandas dataframe\n",
    "df = data.as_dataframe()\n",
    "df.head()\n",
    "# or as xarray dataset\n",
    "ds = data.as_xarray()\n",
    "ds"
   ]
  },
  {
   "cell_type": "markdown",
   "metadata": {},
   "source": [
    "## 2. Plotting data"
   ]
  },
  {
   "cell_type": "code",
   "execution_count": 9,
   "metadata": {},
   "outputs": [
    {
     "data": {
      "image/png": "[encoded data removed]",
      "text/plain": [
       "<Figure size 1080x360 with 1 Axes>"
      ]
     },
     "metadata": {
      "needs_background": "light"
     },
     "output_type": "display_data"
    }
   ],
   "source": [
    "# Create plot\n",
    "ax = df.plot(\n",
    "    y=[\"F\"],\n",
    "    figsize=(15,5),\n",
    "    grid=True\n",
    ")\n",
    "ax.set_xlabel(\"Timestamp\")\n",
    "ax.set_ylabel(\"[nT]\");"
   ]
  }
 ],
 "metadata": {
  "kernelspec": {
   "display_name": "Python 3",
   "language": "python",
   "name": "python3"
  },
  "language_info": {
   "codemirror_mode": {
    "name": "ipython",
    "version": 3
   },
   "file_extension": ".py",
   "mimetype": "text/x-python",
   "name": "python",
   "nbconvert_exporter": "python",
   "pygments_lexer": "ipython3",
   "version": "3.7.6"
  }
 },
 "nbformat": 4,
 "nbformat_minor": 4
}
