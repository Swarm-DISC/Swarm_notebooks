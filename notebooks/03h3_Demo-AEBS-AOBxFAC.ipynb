{
 "cells": [
  {
   "cell_type": "markdown",
   "id": "0",
   "metadata": {},
   "source": [
    "# AOBxFAC (Auroral oval boundaries)"
   ]
  },
  {
   "cell_type": "markdown",
   "id": "1",
   "metadata": {},
   "source": [
    "> Abstract: Access to the AEBS project output, boundaries of the auroral oval determined from field-aligned currents"
   ]
  },
  {
   "cell_type": "markdown",
   "id": "2",
   "metadata": {},
   "source": [
    "See also:\n",
    "- https://nbviewer.jupyter.org/github/pacesm/jupyter_notebooks/blob/master/AEBS/AEBS_AOB_FAC.ipynb\n",
    "- https://earth.esa.int/eogateway/search?filter=swarm&text=aebs"
   ]
  },
  {
   "cell_type": "markdown",
   "id": "3",
   "metadata": {},
   "source": [
    "## Accessing the collection"
   ]
  },
  {
   "cell_type": "code",
   "execution_count": null,
   "id": "4",
   "metadata": {},
   "outputs": [],
   "source": [
    "from viresclient import SwarmRequest\n",
    "import datetime as dt\n",
    "import matplotlib.pyplot as plt"
   ]
  },
  {
   "cell_type": "code",
   "execution_count": null,
   "id": "5",
   "metadata": {},
   "outputs": [],
   "source": [
    "request = SwarmRequest()\n",
    "request.available_collections(\"AOB_FAC\", details=False)"
   ]
  },
  {
   "cell_type": "code",
   "execution_count": null,
   "id": "6",
   "metadata": {},
   "outputs": [],
   "source": [
    "request.available_measurements(\"AOB_FAC\")"
   ]
  },
  {
   "cell_type": "markdown",
   "id": "7",
   "metadata": {},
   "source": [
    "Let's fetch one month of measurements. We will also fetch magnetic coordinates and the orbit direction flag for extra context, which we will use later in the figure."
   ]
  },
  {
   "cell_type": "code",
   "execution_count": null,
   "id": "8",
   "metadata": {},
   "outputs": [],
   "source": [
    "request.set_collection(\"SW_OPER_AOBAFAC_2F\")\n",
    "request.set_products(\n",
    "    ['Latitude_QD',\n",
    "     'Longitude_QD',\n",
    "     'MLT_QD',\n",
    "     'Boundary_Flag',\n",
    "     'Quality',\n",
    "     'Pair_Indicator'],\n",
    "    auxiliaries=[\"QDOrbitDirection\", \"QDLat\", \"QDLon\", \"MLT\"]\n",
    ")\n",
    "data = request.get_between(\n",
    "    dt.datetime(2016, 1, 1),\n",
    "    dt.datetime(2016, 2, 1)\n",
    ")"
   ]
  },
  {
   "cell_type": "code",
   "execution_count": null,
   "id": "9",
   "metadata": {},
   "outputs": [],
   "source": [
    "ds = data.as_xarray()\n",
    "# Remove the Sources attribute now to keep the notebook cleaner\n",
    "ds.attrs.pop(\"Sources\")\n",
    "ds"
   ]
  },
  {
   "cell_type": "markdown",
   "id": "10",
   "metadata": {},
   "source": [
    "## Visualising the data"
   ]
  },
  {
   "cell_type": "markdown",
   "id": "11",
   "metadata": {},
   "source": [
    "We can filter out for orbital segments where the spacecraft is approaching the pole (i.e. roughly within the same local time sector) using the `QDOrbitDirection` flag, and identify only the equatorward boundaries of the detected auroral oval using the `Boundary_Flag` like so:"
   ]
  },
  {
   "cell_type": "code",
   "execution_count": null,
   "id": "12",
   "metadata": {},
   "outputs": [],
   "source": [
    "ds.where(\n",
    "    (ds[\"Boundary_Flag\"]==1) & (ds[\"QDOrbitDirection\"] == 1) & (ds[\"Latitude\"] < 0)\n",
    ").dropna(dim=\"Timestamp\")[\"QDLat\"].plot.line(x=\"Timestamp\");"
   ]
  },
  {
   "cell_type": "markdown",
   "id": "13",
   "metadata": {},
   "source": [
    "That shows us one edge of the auroral oval. Now let's expand this idea to show both edges (filling between them), for both sectors of the auroral oval crossing (toward and away from the pole), for both Northern and Southern hemispheres."
   ]
  },
  {
   "cell_type": "code",
   "execution_count": null,
   "id": "14",
   "metadata": {},
   "outputs": [],
   "source": [
    "ds = ds.where(ds[\"Pair_Indicator\"] != 0)\n",
    "\n",
    "northern_poleward_boundaries_ascendingsector = ds.where(\n",
    "    (ds[\"Latitude\"] > 0) & (ds[\"Boundary_Flag\"] == 2) & (ds[\"QDOrbitDirection\"] == 1)\n",
    ").dropna(dim=\"Timestamp\")\n",
    "northern_equatorward_boundaries_ascendingsector = ds.where(\n",
    "    (ds[\"Latitude\"] > 0) & (ds[\"Boundary_Flag\"] == 1) & (ds[\"QDOrbitDirection\"] == 1)\n",
    ").dropna(dim=\"Timestamp\")\n",
    "\n",
    "northern_poleward_boundaries_descendingsector = ds.where(\n",
    "    (ds[\"Latitude\"] > 0) & (ds[\"Boundary_Flag\"] == 2) & (ds[\"QDOrbitDirection\"] == -1)\n",
    ").dropna(dim=\"Timestamp\")\n",
    "northern_equatorward_boundaries_descendingsector = ds.where(\n",
    "    (ds[\"Latitude\"] > 0) & (ds[\"Boundary_Flag\"] == 1) & (ds[\"QDOrbitDirection\"] == -1)\n",
    ").dropna(dim=\"Timestamp\")\n",
    "\n",
    "southern_poleward_boundaries_ascendingsector = ds.where(\n",
    "    (ds[\"Latitude\"] < 0) & (ds[\"Boundary_Flag\"] == 2) & (ds[\"QDOrbitDirection\"] == 1)\n",
    ").dropna(dim=\"Timestamp\")\n",
    "southern_equatorward_boundaries_ascendingsector = ds.where(\n",
    "    (ds[\"Latitude\"] < 0) & (ds[\"Boundary_Flag\"] == 1) & (ds[\"QDOrbitDirection\"] == 1)\n",
    ").dropna(dim=\"Timestamp\")\n",
    "\n",
    "southern_poleward_boundaries_descendingsector = ds.where(\n",
    "    (ds[\"Latitude\"] < 0) & (ds[\"Boundary_Flag\"] == 2) & (ds[\"QDOrbitDirection\"] == -1)\n",
    ").dropna(dim=\"Timestamp\")\n",
    "southern_equatorward_boundaries_descendingsector = ds.where(\n",
    "    (ds[\"Latitude\"] < 0) & (ds[\"Boundary_Flag\"] == 1) & (ds[\"QDOrbitDirection\"] == -1)\n",
    ").dropna(dim=\"Timestamp\")"
   ]
  },
  {
   "cell_type": "code",
   "execution_count": null,
   "id": "15",
   "metadata": {},
   "outputs": [],
   "source": [
    "fig, axes = plt.subplots(nrows=2, ncols=1, figsize=(15, 5), sharex=True)\n",
    "axes[0].fill_between(\n",
    "    x=northern_equatorward_boundaries_descendingsector[\"Timestamp\"],\n",
    "    y1=northern_equatorward_boundaries_descendingsector[\"QDLat\"],\n",
    "    y2=northern_poleward_boundaries_descendingsector[\"QDLat\"],\n",
    "    color=\"tab:blue\",\n",
    "    alpha=0.5\n",
    ")\n",
    "axes[0].fill_between(\n",
    "    x=southern_equatorward_boundaries_descendingsector[\"Timestamp\"],\n",
    "    y1=-southern_equatorward_boundaries_descendingsector[\"QDLat\"],\n",
    "    y2=-southern_poleward_boundaries_descendingsector[\"QDLat\"],\n",
    "    color=\"tab:red\",\n",
    "    alpha=0.5\n",
    ")\n",
    "\n",
    "axes[1].fill_between(\n",
    "    x=northern_equatorward_boundaries_ascendingsector[\"Timestamp\"],\n",
    "    y1=northern_equatorward_boundaries_ascendingsector[\"QDLat\"],\n",
    "    y2=northern_poleward_boundaries_ascendingsector[\"QDLat\"],\n",
    "    color=\"tab:blue\",\n",
    "    alpha=0.5,\n",
    "    label=\"North\"\n",
    ")\n",
    "axes[1].fill_between(\n",
    "    x=southern_equatorward_boundaries_ascendingsector[\"Timestamp\"],\n",
    "    y1=-southern_equatorward_boundaries_ascendingsector[\"QDLat\"],\n",
    "    y2=-southern_poleward_boundaries_ascendingsector[\"QDLat\"],\n",
    "    color=\"tab:red\",\n",
    "    alpha=0.5,\n",
    "    label=\"South\"\n",
    ")\n",
    "\n",
    "axes[0].set_ylim((90, 50))\n",
    "axes[1].set_ylim((50, 90))\n",
    "fig.subplots_adjust(hspace=0)\n",
    "axes[1].set_ylabel(\"|QDLat| [deg]\\nAscending sector\");\n",
    "axes[0].set_ylabel(\"|QDLat| [deg]\\nDescending sector\");\n",
    "axes[1].legend();"
   ]
  },
  {
   "cell_type": "markdown",
   "id": "16",
   "metadata": {},
   "source": [
    "TODO\n",
    "- Only fill between times where well determined (break up into segments which are contiguous and do many sequential fill_between's)"
   ]
  }
 ],
 "metadata": {
  "kernelspec": {
   "display_name": "Python 3 (ipykernel)",
   "language": "python",
   "name": "python3"
  },
  "language_info": {
   "codemirror_mode": {
    "name": "ipython",
    "version": 3
   },
   "file_extension": ".py",
   "mimetype": "text/x-python",
   "name": "python",
   "nbconvert_exporter": "python",
   "pygments_lexer": "ipython3"
  }
 },
 "nbformat": 4,
 "nbformat_minor": 5
}
