{
 "cells": [
  {
   "cell_type": "markdown",
   "id": "a01545d8",
   "metadata": {},
   "source": [
    "# MITx (Mid-lat ionospheric trough)"
   ]
  },
  {
   "cell_type": "markdown",
   "id": "b36f557b",
   "metadata": {},
   "source": [
    "> Abstract: Access to the `MITx_LP` and `MITxTEC` products from the PRISM project. These give information about the boundaries and minima of the midlatitude ionospheric trough derived from the Langmuir Probe (LP) measurements and Total Electron Content (TEC) respectively.\n",
    "\n",
    "See also:\n",
    "- More notebooks: https://nbviewer.org/github/pacesm/jupyter_notebooks/tree/master/PRISM/\n",
    "- Project page and documentation: https://earth.esa.int/eogateway/activities/plasmapause-related-boundaries-in-the-topside-ionosphere-as-derived-from-swarm-measurements"
   ]
  },
  {
   "cell_type": "code",
   "execution_count": null,
   "id": "6d020c8d",
   "metadata": {},
   "outputs": [],
   "source": [
    "%load_ext watermark\n",
    "%watermark -i -v -p viresclient,pandas,xarray,matplotlib"
   ]
  },
  {
   "cell_type": "code",
   "execution_count": null,
   "id": "dcdd160b",
   "metadata": {},
   "outputs": [],
   "source": [
    "import datetime as dt\n",
    "import matplotlib.pyplot as plt\n",
    "from viresclient import SwarmRequest"
   ]
  },
  {
   "cell_type": "markdown",
   "id": "774e51e4",
   "metadata": {},
   "source": [
    "## PRISM product information"
   ]
  },
  {
   "cell_type": "markdown",
   "id": "1b1446cb",
   "metadata": {},
   "source": [
    "The [PRISM project](https://earth.esa.int/eogateway/activities/plasmapause-related-boundaries-in-the-topside-ionosphere-as-derived-from-swarm-measurements) (*Plasmapause Related boundaries in the topside Ionosphere as derived from Swarm Measurements*) has two data product outputs derived from Swarm which provide the minima of the mid-latitude ionospheric trough (MIT):  \n",
    "`MITx_LP`: derived from the Langmuir Probe (LP)  \n",
    "`MITxTEC`: derived from the GPS Total Electron Content (TEC)  \n",
    "\n",
    "These are implemented in VirES as four collection types:  \n",
    "`SW_OPER_MITx_LP_2F`  \n",
    "`SW_OPER_MITx_LP_2F:ID`  \n",
    "`SW_OPER_MITxTEC_2F`  \n",
    "`SW_OPER_MITxTEC_2F:ID`  \n",
    "where `x` = `A/B/C` for each spacecraft.\n",
    "\n",
    "The base collections (`SW_OPER_MITx_LP_2F` and `SW_OPER_MITxTEC_2F`) contain information on the positions of the MIT minima. The sub-collections with `:ID` appended contain information on the boundaries.\n",
    "\n",
    "Similarly, the midnight plasmapause index (PPI) is provided in the collections:  \n",
    "`SW_OPER_PPIxFAC_2F`  \n",
    "`SW_OPER_PPIxFAC_2F:ID`\n",
    "\n",
    "For details about the products and their derivation, see the documentation links on the [project page](https://earth.esa.int/eogateway/activities/plasmapause-related-boundaries-in-the-topside-ionosphere-as-derived-from-swarm-measurements).\n",
    "\n",
    "For further details about the implementation in VirES, see:\n",
    "- https://nbviewer.jupyter.org/github/pacesm/jupyter_notebooks/blob/master/PRISM/PRISM_00_data_access.ipynb\n",
    "\n",
    "Let's now look at the variables available within each collection:"
   ]
  },
  {
   "cell_type": "code",
   "execution_count": null,
   "id": "a281ae0a-7e4f-46c1-b5c9-eaf608a0c5e6",
   "metadata": {},
   "outputs": [],
   "source": [
    "request = SwarmRequest()\n",
    "print(\"MITx_LP variables:\\n\", request.available_measurements(\"SW_OPER_MITA_LP_2F\"))\n",
    "print(\"MITx_LP:ID variables:\\n\", request.available_measurements(\"SW_OPER_MITA_LP_2F:ID\"))"
   ]
  },
  {
   "cell_type": "code",
   "execution_count": null,
   "id": "f4bd92f4-469b-4227-b860-7aadcaabaf33",
   "metadata": {},
   "outputs": [],
   "source": [
    "request = SwarmRequest()\n",
    "print(\"MITxTEC variables:\\n\", request.available_measurements(\"SW_OPER_MITATEC_2F\"))\n",
    "print(\"MITxTEC:ID variables:\\n\", request.available_measurements(\"SW_OPER_MITATEC_2F:ID\"))"
   ]
  },
  {
   "cell_type": "markdown",
   "id": "69354de2-0732-4fec-b0c6-674fd45e35fd",
   "metadata": {},
   "source": [
    "The difference between the `LP`-derived and `TEC`-derived datasets is the presence of either the variables `Ne, Te` or `TEC` reflecting their origin (the `LP` one being derived from electron density and temperature measurements from the Langmuir Probe, and the `TEC` one being derived from the Total Electron Content estimates).\n",
    "\n",
    "In both cases, the dataset is split between the base collection, e.g. `SW_OPER_MITA_LP_2F`, and the sub-collection marked with `:ID`, e.g. `SW_OPER_MITA_LP_2F:ID`. This separation is made in order to fit the data model requirements within VirES. The base collections contain information about the *minima* of the MIT, and the `:ID` collections contain the identified *boundaries* (e.g. poleward/equatorward edges etc) encoded within the variables, `PointType`, and `PositionQuality`."
   ]
  },
  {
   "cell_type": "code",
   "execution_count": null,
   "id": "3778f40f-552d-4a27-ad4d-74f92e7c1b3a",
   "metadata": {},
   "outputs": [],
   "source": [
    "mitx_lp_vars = [\n",
    "    # 2D variable: orbit number and quarter-orbit\n",
    "    \"Counter\",\n",
    "    # Redundant with VirES auxiliaries, QDLat, QDLon, MLT\n",
    "    \"Latitude_QD\", \"Longitude_QD\", \"MLT_QD\",\n",
    "    # Parameters characterising the identified MIT minima\n",
    "    # McIlwain L-parameter, solar zenith angle, electron density and temperature\n",
    "    \"L_value\", \"SZA\", \"Ne\", \"Te\",\n",
    "    # Depth and relative change in density of the MIT\n",
    "    \"Depth\", \"DR\",\n",
    "    # Width of the MIT, in QD latitudes, and in L-values\n",
    "    \"Width\", \"dL\",\n",
    "    # Change in log electron density divided by QD latitude difference,\n",
    "    # at the poleward and equatorward walls of the MIT\n",
    "    \"PW_Gradient\", \"EW_Gradient\",\n",
    "    # Quality indicator of the detection quality\n",
    "    \"Quality\"\n",
    "]"
   ]
  },
  {
   "cell_type": "code",
   "execution_count": null,
   "id": "9bc5c19c-93de-41f7-a0ef-d4cc56217d3e",
   "metadata": {},
   "outputs": [],
   "source": [
    "mitx_lpid_vars = [\n",
    "    # As above\n",
    "    \"Counter\", \"Latitude_QD\", \"Longitude_QD\", \"MLT_QD\", \"L_value\", \"SZA\", \"Ne\", \"Te\",\n",
    "    # Identifier to mark the type of the detected point (see below)\n",
    "    \"PointType\",\n",
    "    # Detection quality of each position\n",
    "    \"Position_Quality\"\n",
    "]"
   ]
  },
  {
   "cell_type": "markdown",
   "id": "c271b550-14e2-4cd7-aa75-b651ed91e372",
   "metadata": {},
   "source": [
    "`PointType` is not present within the source data files, but is identified from the `*_ID` columns, and has values as follows:\n",
    "\n",
    "| Value  | Hex. | Bin. | Meaning |\n",
    "|---|---|---|---|\n",
    "| 0 | 0x0 | 0b0000 | LP MIT equatorward edge of the equatorward wall |\n",
    "| 1 | 0x1 | 0b0001 | LP MIT poleward edge of the equatorward wall |\n",
    "| 2 | 0x2 | 0b0010 | LP MIT equatorward edge of poleward wall |\n",
    "| 3 | 0x3 | 0b0011 | LP MIT poleward edge of the poleward boundary |\n",
    "| 4 | 0x4 | 0b0100 | LP SETE equatorward bounding position |\n",
    "| 5 | 0x5 | 0b0101 | LP SETE poleward bounding position |\n",
    "| 6 | 0x6 | 0b0110 | LP Te peak position |"
   ]
  },
  {
   "cell_type": "markdown",
   "id": "4a911851",
   "metadata": {},
   "source": [
    "## MITx_LP example"
   ]
  },
  {
   "cell_type": "code",
   "execution_count": null,
   "id": "36e2b6e7-dfa1-4dd0-a002-5c57e2ef7c24",
   "metadata": {},
   "outputs": [],
   "source": [
    "start = dt.datetime(2016, 1, 1)\n",
    "end = dt.datetime(2016, 1, 8)"
   ]
  },
  {
   "cell_type": "code",
   "execution_count": null,
   "id": "1f0befd4",
   "metadata": {},
   "outputs": [],
   "source": [
    "request = SwarmRequest()\n",
    "request.set_collection(\"SW_OPER_MITA_LP_2F\")\n",
    "request.set_products(measurements=mitx_lp_vars, auxiliaries=[\"QDLat\", \"MLT\"])\n",
    "data = request.get_between(\n",
    "    start_time=start, end_time=end, asynchronous=False, show_progress=False\n",
    ")\n",
    "ds = data.as_xarray()"
   ]
  },
  {
   "cell_type": "markdown",
   "id": "e819c1a6-19b2-442d-aaf8-faf9c787b2c3",
   "metadata": {},
   "source": [
    "Oops! I made a mistake with loading the \"units\" metadata (the PRISM products diverge from the conventional naming). Here's a temporary fix (to be fixed in next version of `viresclient`)."
   ]
  },
  {
   "cell_type": "code",
   "execution_count": null,
   "id": "9f32daa6-956b-4bb2-a767-0066073b7aee",
   "metadata": {},
   "outputs": [],
   "source": [
    "with data.contents[0].open_cdf() as cdf:\n",
    "    for data_var in ds.data_vars:\n",
    "        units = cdf.varattsget(data_var).get(\"UNIT\", \"-\")\n",
    "        ds[data_var].attrs[\"units\"] = units"
   ]
  },
  {
   "cell_type": "code",
   "execution_count": null,
   "id": "2e2cf173-14b6-4dd9-b7c6-0f361e773d76",
   "metadata": {},
   "outputs": [],
   "source": [
    "ds"
   ]
  },
  {
   "cell_type": "code",
   "execution_count": null,
   "id": "03d8535f",
   "metadata": {},
   "outputs": [],
   "source": [
    "request = SwarmRequest()\n",
    "request.set_collection(\"SW_OPER_MITA_LP_2F:ID\")\n",
    "request.set_products(measurements=mitx_lpid_vars, auxiliaries=[\"QDLat\", \"MLT\"])\n",
    "data_id = request.get_between(\n",
    "    start_time=start, end_time=end, asynchronous=False, show_progress=False\n",
    ")\n",
    "ds_id = data_id.as_xarray()\n",
    "# temporary fix again\n",
    "with data_id.contents[0].open_cdf() as cdf:\n",
    "    for data_var in ds_id.data_vars:\n",
    "        units = cdf.varattsget(data_var).get(\"UNIT\", \"-\")\n",
    "        ds_id[data_var].attrs[\"units\"] = units"
   ]
  },
  {
   "cell_type": "code",
   "execution_count": null,
   "id": "e2a7c380",
   "metadata": {},
   "outputs": [],
   "source": [
    "ds_id"
   ]
  },
  {
   "cell_type": "markdown",
   "id": "3372c6c7-7885-4422-8b90-9f871d2aa668",
   "metadata": {},
   "source": [
    "## Visualisation\n",
    "\n",
    "Some visualisation examples will be added here soon. For now, refer to:\n",
    "- https://nbviewer.org/github/pacesm/jupyter_notebooks/tree/master/PRISM/"
   ]
  }
 ],
 "metadata": {
  "kernelspec": {
   "display_name": "Python 3 (ipykernel)",
   "language": "python",
   "name": "python3"
  },
  "language_info": {
   "codemirror_mode": {
    "name": "ipython",
    "version": 3
   },
   "file_extension": ".py",
   "mimetype": "text/x-python",
   "name": "python",
   "nbconvert_exporter": "python",
   "pygments_lexer": "ipython3"
  }
 },
 "nbformat": 4,
 "nbformat_minor": 5
}
