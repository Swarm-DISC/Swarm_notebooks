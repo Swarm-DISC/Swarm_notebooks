{
 "cells": [
  {
   "cell_type": "markdown",
   "id": "a01545d8",
   "metadata": {},
   "source": [
    "# MITx (Mid-lat ionospheric trough)"
   ]
  },
  {
   "cell_type": "markdown",
   "id": "b36f557b",
   "metadata": {},
   "source": [
    "> Abstract: Access to the `MITx_LP` and `MITxTEC` products from the PRISM project. These give information about the boundaries and minima of the midlatitude ionospheric trough derived from the Langmuir Probe (LP) measurements and Total Electron Content (TEC) respectively."
   ]
  },
  {
   "cell_type": "code",
   "execution_count": null,
   "id": "6d020c8d",
   "metadata": {},
   "outputs": [],
   "source": [
    "%load_ext watermark\n",
    "%watermark -i -v -p viresclient,pandas,xarray,matplotlib"
   ]
  },
  {
   "cell_type": "code",
   "execution_count": null,
   "id": "dcdd160b",
   "metadata": {},
   "outputs": [],
   "source": [
    "from viresclient import SwarmRequest"
   ]
  },
  {
   "cell_type": "markdown",
   "id": "774e51e4",
   "metadata": {},
   "source": [
    "## PRISM product information"
   ]
  },
  {
   "cell_type": "markdown",
   "id": "1b1446cb",
   "metadata": {},
   "source": [
    "The [PRISM project](https://www.gfz-potsdam.de/en/section/geomagnetism/projects/prism-plasmapause-related-boundaries-in-the-topside-ionosphere-as-derived-from-swarm-measurements/) (*Plasmapause Related boundaries in the topside Ionosphere as derived from Swarm Measurements*) has two data product outputs derived from Swarm which provide the minima of the mid-latitude ionospheric trough (MIT):  \n",
    "`MITx_LP`: derived from the Langmuir Probe (LP)  \n",
    "`MITxTEC`: derived from the GPS Total Electron Content (TEC)  \n",
    "\n",
    "These are implemented in VirES as four collection types:  \n",
    "`SW_OPER_MITx_LP_2F`  \n",
    "`SW_OPER_MITx_LP_2F:ID`  \n",
    "`SW_OPER_MITxTEC_2F`  \n",
    "`SW_OPER_MITxTEC_2F:ID`  \n",
    "where `x` = `A/B/C` for each spacecraft.\n",
    "\n",
    "The base collections (`SW_OPER_MITx_LP_2F` and `SW_OPER_MITxTEC_2F`) contain information on the positions of the MIT minima. The sub-collections with `:ID` appended contain information on the boundaries.\n",
    "\n",
    "Similarly, the midnight plasmapause index (PPI) is provided in the collections:  \n",
    "`SW_OPER_PPIxFAC_2F`  \n",
    "`SW_OPER_PPIxFAC_2F:ID`\n",
    "\n",
    "For further details about the implementation in VirES, see:\n",
    "- https://nbviewer.jupyter.org/github/pacesm/jupyter_notebooks/blob/master/PRISM/PRISM_00_data_access.ipynb"
   ]
  },
  {
   "cell_type": "markdown",
   "id": "4a911851",
   "metadata": {},
   "source": [
    "## MIT_LP example"
   ]
  },
  {
   "cell_type": "code",
   "execution_count": null,
   "id": "1f0befd4",
   "metadata": {},
   "outputs": [],
   "source": [
    "request = SwarmRequest()\n",
    "request.set_collection(\"SW_OPER_MITA_LP_2F\")\n",
    "request.set_products(\n",
    "    measurements=[\n",
    "        \"Counter\", \"Latitude_QD\", \"Longitude_QD\", \"MLT_QD\", \"L_value\", \"SZA\",\n",
    "        \"Ne\", \"Te\", \"Depth\", \"DR\", \"Width\", \"dL\", \"PW_Gradient\", \"EW_Gradient\",\n",
    "        \"Quality\"\n",
    "    ],\n",
    ")\n",
    "\n",
    "data = request.get_between(\n",
    "    start_time=\"2016-01-02T00:00:00Z\",\n",
    "    end_time=\"2016-01-03T00:00:00Z\",\n",
    "    asynchronous=False, show_progress=False\n",
    ")\n",
    "ds = data.as_xarray()"
   ]
  },
  {
   "cell_type": "code",
   "execution_count": null,
   "id": "747232c5",
   "metadata": {},
   "outputs": [],
   "source": [
    "ds"
   ]
  },
  {
   "cell_type": "code",
   "execution_count": null,
   "id": "03d8535f",
   "metadata": {},
   "outputs": [],
   "source": [
    "request = SwarmRequest()\n",
    "request.set_collection(\"SW_OPER_MITA_LP_2F:ID\")\n",
    "request.set_products(\n",
    "    measurements=SwarmRequest.PRODUCT_VARIABLES[\"MIT_LP:ID\"], # request all dataset variables\n",
    "    auxiliaries=['QDLat', 'QDLon', 'MLT'], # QD coordinates and MLT calculated by VirES\n",
    ")\n",
    "\n",
    "data = request.get_between(\n",
    "    start_time=\"2016-01-02T00:00:00Z\",\n",
    "    end_time=\"2016-01-03T00:00:00Z\",\n",
    "    asynchronous=False, show_progress=False\n",
    ")\n",
    "ds_id = data.as_xarray()"
   ]
  },
  {
   "cell_type": "code",
   "execution_count": null,
   "id": "e2a7c380",
   "metadata": {},
   "outputs": [],
   "source": [
    "ds_id"
   ]
  },
  {
   "cell_type": "markdown",
   "id": "5083a2b5",
   "metadata": {},
   "source": [
    "## MIT_TEC example"
   ]
  },
  {
   "cell_type": "code",
   "execution_count": null,
   "id": "d9360e96",
   "metadata": {},
   "outputs": [],
   "source": [
    "request = SwarmRequest()\n",
    "request.set_collection(\"SW_OPER_MITATEC_2F\")\n",
    "request.set_products(\n",
    "    measurements=[\n",
    "        \"Counter\", \"Latitude_QD\", \"Longitude_QD\", \"MLT_QD\", \"L_value\", \"SZA\",\n",
    "        \"TEC\", \"Depth\", \"DR\", \"Width\", \"dL\", \"PW_Gradient\", \"EW_Gradient\",\n",
    "        \"Quality\",\n",
    "    ],\n",
    ")\n",
    "\n",
    "data = request.get_between(\n",
    "    start_time=\"2016-01-02T00:00:00Z\",\n",
    "    end_time=\"2016-01-03T00:00:00Z\",\n",
    "    asynchronous=False, show_progress=False\n",
    ")\n",
    "ds = data.as_xarray()\n",
    "ds"
   ]
  },
  {
   "cell_type": "markdown",
   "id": "3fb9dce7",
   "metadata": {},
   "source": [
    "## PPI_FAC example"
   ]
  },
  {
   "cell_type": "code",
   "execution_count": null,
   "id": "6c8202aa",
   "metadata": {},
   "outputs": [],
   "source": [
    "request = SwarmRequest()\n",
    "request.set_collection(\"SW_OPER_PPIAFAC_2F\")\n",
    "request.set_products(\n",
    "    measurements=[\n",
    "        \"Counter\", \"Latitude_QD\", \"Longitude_QD\", \"MLT_QD\", \"L_value\", \"SZA\", \"Sigma\", \"PPI\", \"dL\", \"Quality\"\n",
    "    ],\n",
    ")\n",
    "data = request.get_between(\n",
    "    start_time=\"2016-01-02T00:00:00Z\",\n",
    "    end_time=\"2016-01-03T00:00:00Z\",\n",
    "    asynchronous=False, show_progress=False\n",
    ")\n",
    "ds = data.as_xarray()\n",
    "ds"
   ]
  },
  {
   "cell_type": "code",
   "execution_count": null,
   "id": "737e152c",
   "metadata": {},
   "outputs": [],
   "source": [
    "request = SwarmRequest()\n",
    "request.set_collection(\"SW_OPER_PPIAFAC_2F:ID\")\n",
    "request.set_products(\n",
    "    measurements=[\n",
    "        \"Counter\", \"Latitude_QD\", \"Longitude_QD\", \"MLT_QD\", \"L_value\", \"SZA\", \"Position_Quality\", \"PointType\"\n",
    "    ],\n",
    ")\n",
    "data = request.get_between(\n",
    "    start_time=\"2016-01-02T00:00:00Z\",\n",
    "    end_time=\"2016-01-03T00:00:00Z\",\n",
    "    asynchronous=False, show_progress=False\n",
    ")\n",
    "ds = data.as_xarray()\n",
    "ds"
   ]
  }
 ],
 "metadata": {
  "kernelspec": {
   "display_name": "Python 3",
   "language": "python",
   "name": "python3"
  },
  "language_info": {
   "codemirror_mode": {
    "name": "ipython",
    "version": 3
   },
   "file_extension": ".py",
   "mimetype": "text/x-python",
   "name": "python",
   "nbconvert_exporter": "python",
   "pygments_lexer": "ipython3",
   "version": "3.8.8"
  }
 },
 "nbformat": 4,
 "nbformat_minor": 5
}
