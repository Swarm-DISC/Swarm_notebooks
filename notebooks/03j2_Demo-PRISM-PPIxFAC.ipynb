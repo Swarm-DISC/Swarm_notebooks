{
 "cells": [
  {
   "cell_type": "markdown",
   "id": "3efdad7e-fb2e-4869-9ef8-4582bdcd21ff",
   "metadata": {},
   "source": [
    "# PPIxFAC (Plasmapause boundary)"
   ]
  },
  {
   "cell_type": "markdown",
   "id": "2119f9db-015a-42b7-b264-f5c732da65e7",
   "metadata": {},
   "source": [
    "> Abstract: Access to the `PPIxFAC` product from the PRISM project. This gives information about the boundaries of small-scale field-aligned currents (SSFAC) and the associated midnight plasmapause (PP) index.\n",
    "\n",
    "See also:\n",
    "- https://swarmhandbook.earth.esa.int/catalogue/SW_PPIxFAC_2F\n",
    "- MIT notebook: https://notebooks.vires.services/notebooks/03j1_demo-prism-mitx\n",
    "- More notebooks: https://nbviewer.org/github/pacesm/jupyter_notebooks/tree/master/PRISM/\n",
    "- Project page and documentation: https://earth.esa.int/eogateway/activities/plasmapause-related-boundaries-in-the-topside-ionosphere-as-derived-from-swarm-measurements"
   ]
  },
  {
   "cell_type": "code",
   "execution_count": null,
   "id": "d3752b1d-5f4d-42a9-8a96-249824c99d3b",
   "metadata": {},
   "outputs": [],
   "source": [
    "%load_ext watermark\n",
    "%watermark -i -v -p viresclient,pandas,xarray,matplotlib"
   ]
  },
  {
   "cell_type": "code",
   "execution_count": null,
   "id": "4b9f9156-b75c-4f42-bc71-4d99acf5a00f",
   "metadata": {},
   "outputs": [],
   "source": [
    "import datetime as dt\n",
    "import matplotlib.pyplot as plt\n",
    "from viresclient import SwarmRequest"
   ]
  },
  {
   "cell_type": "markdown",
   "id": "a3df5583-eaaa-40e0-b890-8f854cd22715",
   "metadata": {},
   "source": [
    "## Collection information"
   ]
  },
  {
   "attachments": {},
   "cell_type": "markdown",
   "id": "80be5412-fed2-48ae-8e62-952d51800591",
   "metadata": {},
   "source": [
    "The dataset is split over a default collection, and a subcollection:\n",
    "- `SW_OPER_PPIxFAC_2F` contains the plasmapause index (PPI)\n",
    "- `SW_OPER_PPIxFAC_2F:ID` identifies boundaries of SSSFAC (see `PointType`)\n",
    "\n",
    "Collections available:\n",
    "\n",
    "| Collection | Dataset |\n",
    "|---|---|\n",
    "|`SW_OPER_PPIAFAC_2F`| Swarm A PPI and SSFAC boundaries |\n",
    "|`SW_OPER_PPIAFAC_2F:ID`| Swarm A edges of the SSFAC boundaries (\"ID\" dataset) |\n",
    "|`SW_OPER_PPIBFAC_2F`| Swarm B PPI and SSFAC boundaries |\n",
    "|`SW_OPER_PPIBFAC_2F:ID`| Swarm B edges of the SSFAC boundaries (\"ID\" dataset) |\n",
    "|`SW_OPER_PPICFAC_2F`| Swarm C PPI and SSFAC boundaries |\n",
    "|`SW_OPER_PPICFAC_2F:ID`| Swarm C edges of the SSFAC boundaries (\"ID\" dataset) |"
   ]
  },
  {
   "cell_type": "markdown",
   "id": "5feb06a2-13b9-4e6b-a007-3eebdb67f338",
   "metadata": {},
   "source": [
    "Available \"measurements\" in each collection type:"
   ]
  },
  {
   "cell_type": "code",
   "execution_count": null,
   "id": "80c86e01-be91-46f5-8349-4edd6bdfc34f",
   "metadata": {},
   "outputs": [],
   "source": [
    "request = SwarmRequest()\n",
    "print(\"PPIxFAC variables:\\n\", request.available_measurements(\"SW_OPER_PPIAFAC_2F\"))\n",
    "print(\"PPIxFAC:ID variables:\\n\", request.available_measurements(\"SW_OPER_PPIAFAC_2F:ID\"))"
   ]
  },
  {
   "cell_type": "markdown",
   "id": "6bc7d149-1d83-4dd4-8d96-4bb37360d0df",
   "metadata": {},
   "source": [
    "$$R_E$$"
   ]
  },
  {
   "attachments": {},
   "cell_type": "markdown",
   "id": "63223e39-a2f9-4bf4-9d31-329a89fbdaad",
   "metadata": {},
   "source": [
    "### `SW_OPER_PPIxFAC_2F`\n",
    "\n",
    "| VirES Variable | Source Product Variable | Unit | Dimension | Description | \n",
    "|---|---|---|---|---|\n",
    "| `Counter` | `Counter` | $$-$$ | vector[2] | Swarm orbit and quarter orbit counters |\n",
    "| `Timestamp` | `Timestamp` | $$-$$ | scalar | UTC time of the SSFAC boundary |\n",
    "| `Latitude` | `Latitude` | $$\\text{deg}$$ | scalar | ITRF geocentric latitude of the SSFAC boundary |\n",
    "| `Longitude` | `Longitude` | $$\\text{deg}$$ | scalar | ITRF geocentric longitude of the SSFAC boundary |\n",
    "| `Radius` | `Radius` | $$\\text{m}$$ | scalar | ITRF geocentric radius of the SSFAC boundary |\n",
    "| `Latitude_QD` | `Latitude_QD` | $$\\text{deg}$$ | scalar | Quasi-dipole latitude of the SSFAC boundary |\n",
    "| `Longitude_QD` | `Longitude_QD` | $$\\text{deg}$$ | scalar | Quasi-dipole longitude of the SSFAC boundary |\n",
    "| `MLT_QD` | `MLT` | $$\\text{hour}$$ | scalar | Magnetic local time (QD) of the SSFAC boundary |\n",
    "| `L_value` | `L_value` | $$-$$ | scalar | L-value in earth radii of the SSFAC boundary |\n",
    "| `SZA` | `SZA` | $$\\text{deg}$$ | scalar | Solar zenith angle of the SSFAC boundary |\n",
    "| `Sigma` | `Sigma` | $$-$$ | scalar | Standard deviation of the linear fit of S at the boundary |\n",
    "| `PPI` | `PPI` | $$R_E$$ | scalar | midnight plasmapause index |\n",
    "| `dL` | `dL` | $$\\text{deg}$$ | scalar |  boundary width in Earth radii |\n",
    "| `Quality` | `Quality` | $$-$$ | vector [7] |  Quality indicators of SSFAC boundary detection |\n",
    "\n",
    "The `Quality` vector flags contain integer values from -1 to 3 indicating the quality of the MIT as a whole.\n",
    "Positive values indicate good or acceptable observation, while -1 means a likely false observation.\n",
    "For all flags, a 0 value means that the information needed to derive the flag is not available.\n",
    "In general, greater numbers indicate higher quality. For more details, see the product documentation.\n",
    "\n",
    "### `SW_OPER_PPIxFAC_2F:ID`\n",
    "\n",
    "| VirES Variable | Source Product Variable | Unit | Dimension | Description | \n",
    "|---|---|---|---|---|\n",
    "| `Counter` | `Counter` | $$-$$ | vector[2] | Swarm orbit and quarter orbit counters |\n",
    "| `Timestamp` | `Timestamp_ID` | $$-$$ | scalar | UTC time of the observation |\n",
    "| `Latitude` | `Latitude_ID` | $$\\text{deg}$$ | scalar | ITRF geocentric latitude |\n",
    "| `Longitude` | `Longitude_ID` | $$\\text{deg}$$ | scalar | ITRF geocentric longitude |\n",
    "| `Radius` | `Radius_ID` | $$\\text{m}$$ | scalar | ITRF geocentric radius |\n",
    "| `Latitude_QD` | `Latitude_QD_ID` | $$\\text{deg}$$ | scalar | Quasi-dipole latitude |\n",
    "| `Longitude_QD` | `Longitude_QD_ID` | $$\\text{deg}$$ | scalar | Quasi-dipole longitude |\n",
    "| `MLT_QD` | `MLT_ID` | $$\\text{hour}$$ | scalar | Magnetic local time (QD) |\n",
    "| `L_value` | `L_value_ID` | $$-$$ | scalar | L-value in earth radii |\n",
    "| `SZA` | `SZA_ID` | $$\\text{deg}$$ | scalar | Solar zenith angle |\n",
    "| `Position_Quality` | `Position_Quality_ID` | $$-$$ | scalar | detection quality of each single position |\n",
    "| `PointType` | n/a | $$-$$ | scalar | point type derived from the source `*_ID` column |\n",
    "\n",
    "`Position_Quality` describes the overall quality of the corresponding boundary/position. The possible values and their meaning are 3: highest quality; 2: fair quality;\n",
    "1: uncertain detection; -1: a likely false positive detection; -2: the corresponding boundary/position is not defined. For more details, see the product documentation.\n",
    "\n",
    "These are the possible `PointType` values for the PPIxFAC_2F products:\n",
    "\n",
    "| Value | Hex. | Bin. | ID Column | Meaning |\n",
    "|---|---|---|---|---|\n",
    "| 0 | 0x0 | 0b0000 | 1 | equatorward edge of SSFAC boundary |\n",
    "| 1 | 0x1 | 0b0001 | 2 | poleward edge of SSFAC boundary |"
   ]
  },
  {
   "cell_type": "markdown",
   "id": "e5e51fb0-e3e5-4a7e-8b44-bd1f5cb6f1dd",
   "metadata": {},
   "source": [
    "## PPIxFAC example"
   ]
  },
  {
   "cell_type": "code",
   "execution_count": null,
   "id": "6fb8b438-9b12-4e2a-b0dc-cd4b0a3aa54d",
   "metadata": {},
   "outputs": [],
   "source": [
    "start = dt.datetime(2016, 1, 1)\n",
    "end = dt.datetime(2016, 1, 8)"
   ]
  },
  {
   "cell_type": "code",
   "execution_count": null,
   "id": "80fb2b56-0a3f-4856-b210-070bc22caa96",
   "metadata": {},
   "outputs": [],
   "source": [
    "def attach_missing_units(data, ds):\n",
    "    \"\"\"TO FIX\"\"\"\n",
    "    with data.contents[0].open_cdf() as cdf:\n",
    "        for data_var in ds.data_vars:\n",
    "            units = cdf.varattsget(data_var).get(\"UNIT\", \"-\")\n",
    "            ds[data_var].attrs[\"units\"] = units\n",
    "    return ds"
   ]
  },
  {
   "cell_type": "code",
   "execution_count": null,
   "id": "1a00a40a-c1ae-43a6-b823-407730b39c51",
   "metadata": {},
   "outputs": [],
   "source": [
    "request = SwarmRequest()\n",
    "request.set_collection(\"SW_OPER_PPIAFAC_2F\")\n",
    "request.set_products(\n",
    "    measurements=['Counter', 'Latitude_QD', 'Longitude_QD', 'MLT_QD', 'L_value', 'SZA', 'Sigma', 'PPI', 'dL', 'Quality'],\n",
    "    auxiliaries=[\"QDLat\", \"QDLon\", \"MLT\", \"OrbitNumber\"],\n",
    ")\n",
    "data = request.get_between(\n",
    "    start_time=start, end_time=end, asynchronous=False, show_progress=False\n",
    ")\n",
    "ds = data.as_xarray()\n",
    "ds = attach_missing_units(data, ds)\n",
    "ds"
   ]
  },
  {
   "cell_type": "code",
   "execution_count": null,
   "id": "8d8a22dc-2544-4f43-a280-5a4cbab9dc4d",
   "metadata": {},
   "outputs": [],
   "source": [
    "request = SwarmRequest()\n",
    "request.set_collection(\"SW_OPER_PPIAFAC_2F:ID\")\n",
    "request.set_products(\n",
    "    measurements=['Counter', 'Latitude_QD', 'Longitude_QD', 'MLT_QD', 'L_value', 'SZA', 'Position_Quality', 'PointType'],\n",
    "    auxiliaries=[\"QDLat\", \"QDLon\", \"MLT\", \"OrbitNumber\"],\n",
    ")\n",
    "data = request.get_between(\n",
    "    start_time=start, end_time=end, asynchronous=False, show_progress=False\n",
    ")\n",
    "ds_id = data.as_xarray()\n",
    "ds_id = attach_missing_units(data, ds_id)\n",
    "ds_id"
   ]
  },
  {
   "cell_type": "code",
   "execution_count": null,
   "id": "5850d730-eaaa-4f79-a0f5-455fd9c423ae",
   "metadata": {},
   "outputs": [],
   "source": [
    "fig, axes = plt.subplots(nrows=2, ncols=1, figsize=(10, 5), sharex=True)\n",
    "_equatorward = ds_id.where(ds_id[\"PointType\"] == 0, drop=True)\n",
    "_poleward = ds_id.where(ds_id[\"PointType\"] == 1, drop=True)\n",
    "axes[0].plot(_equatorward[\"Timestamp\"], _equatorward[\"QDLat\"], color=\"grey\", linestyle=\"--\")\n",
    "axes[0].plot(_poleward[\"Timestamp\"], _poleward[\"QDLat\"], color=\"grey\", linestyle=\"--\")\n",
    "axes[0].plot(ds[\"Timestamp\"], ds[\"QDLat\"], color=\"black\", linestyle=\"-\")\n",
    "axes[1].plot(ds[\"Timestamp\"], ds[\"PPI\"])\n",
    "axes[0].set_ylim(40, 90)\n",
    "axes[0].set_title(\"Boundaries of SSFAC\")\n",
    "axes[0].set_ylabel(\"QDLat\")\n",
    "axes[1].set_title(\"Plasmapause index\")\n",
    "axes[1].set_ylabel(\"PPI [$R_E$]\")\n",
    "axes[0].grid()\n",
    "axes[1].grid()"
   ]
  }
 ],
 "metadata": {
  "kernelspec": {
   "display_name": "Python 3 (ipykernel)",
   "language": "python",
   "name": "python3"
  },
  "language_info": {
   "codemirror_mode": {
    "name": "ipython",
    "version": 3
   },
   "file_extension": ".py",
   "mimetype": "text/x-python",
   "name": "python",
   "nbconvert_exporter": "python",
   "pygments_lexer": "ipython3"
  }
 },
 "nbformat": 4,
 "nbformat_minor": 5
}
