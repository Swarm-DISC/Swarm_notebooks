{
 "cells": [
  {
   "cell_type": "markdown",
   "id": "b3277ae5",
   "metadata": {},
   "source": [
    "# EFIxTIE (Ion temperatures)"
   ]
  },
  {
   "cell_type": "markdown",
   "id": "a371f176",
   "metadata": {},
   "source": [
    "> Abstract: Access to the EFIxTIE data product containing estimates of the O+ ion temperature in the upper F region along Swarm orbits.\n",
    "> \n",
    "> For more information about this product, see the [SITE project](https://earth.esa.int/eogateway/activities/swarm-ion-temperature-estimation)."
   ]
  },
  {
   "cell_type": "code",
   "execution_count": null,
   "id": "28b01839",
   "metadata": {},
   "outputs": [],
   "source": [
    "SERVER_URL = 'https://staging.vires.services/ows'"
   ]
  },
  {
   "cell_type": "code",
   "execution_count": null,
   "id": "f0687eea-bff7-472d-a738-fac3da097095",
   "metadata": {},
   "outputs": [],
   "source": [
    "%load_ext watermark\n",
    "%watermark -i -v -p viresclient,pandas,xarray,matplotlib"
   ]
  },
  {
   "cell_type": "code",
   "execution_count": null,
   "id": "c0872096-5a84-4d4e-9750-659b1fab8875",
   "metadata": {},
   "outputs": [],
   "source": [
    "import datetime as dt\n",
    "import matplotlib as mpl\n",
    "import matplotlib.pyplot as plt\n",
    "import numpy as np\n",
    "import xarray as xr\n",
    "# Control the HTML display of the datasets\n",
    "xr.set_options(display_expand_attrs=False, display_expand_coords=True, display_expand_data=True)\n",
    "\n",
    "from viresclient import SwarmRequest"
   ]
  },
  {
   "cell_type": "code",
   "execution_count": null,
   "id": "ae6dd341-e3f8-42d4-825c-08c19c6ead15",
   "metadata": {},
   "outputs": [],
   "source": [
    "request = SwarmRequest(SERVER_URL)"
   ]
  },
  {
   "cell_type": "markdown",
   "id": "a52f3285-311e-4059-8aa0-8510f81436f8",
   "metadata": {
    "tags": []
   },
   "source": [
    "## What data is available?"
   ]
  },
  {
   "cell_type": "markdown",
   "id": "4a0bb746-bc9b-436d-b232-9f357c59323b",
   "metadata": {},
   "source": [
    "There are three collections available, one for each Swarm spacecraft."
   ]
  },
  {
   "cell_type": "code",
   "execution_count": null,
   "id": "3d50ad71-3646-473c-8c03-6f3c3e8534db",
   "metadata": {},
   "outputs": [],
   "source": [
    "request.available_collections(\"EFI_TIE\", details=False)"
   ]
  },
  {
   "cell_type": "code",
   "execution_count": null,
   "id": "efae5d3f-9177-453b-81df-1655512c974c",
   "metadata": {},
   "outputs": [],
   "source": [
    "print(request.available_measurements(\"EFI_TIE\"))"
   ]
  },
  {
   "cell_type": "markdown",
   "id": "04f425c3-1892-44ee-ab8d-82019cd0a10b",
   "metadata": {},
   "source": [
    "Notes for the listed available variables:"
   ]
  },
  {
   "cell_type": "code",
   "execution_count": null,
   "id": "4273d828-2af0-4937-8328-f4c7a17fe047",
   "metadata": {},
   "outputs": [],
   "source": [
    "tie_vars = [\n",
    "    # Positional information in geodetic (GD) and geocentric (GC) frames\n",
    "    #  redundant with VirES variables Latitude, Longitude, Radius (in geocentric frame)\n",
    "    \"Latitude_GD\", \"Longitude_GD\", \"Height_GD\", \"Radius_GC\",\n",
    "    # Quasi-dipole magnetic latitude and local time\n",
    "    #  redundant with VirES auxiliaries, QDLat & MLT\n",
    "    \"Latitude_QD\", \"MLT_QD\",\n",
    "    # Neutral temperature from NRLMSISE-00 model\n",
    "    \"Tn_msis\",\n",
    "    # Corrected Swarm LP electron temperature\n",
    "    \"Te_adj_LP\",\n",
    "    # Estimated ion temperature from TII drift at high latitudes\n",
    "    \"Ti_meas_drift\",\n",
    "    # Estimated Ion temperature from Weimer 2005 model drifts at high latitudes\n",
    "    \"Ti_model_drift\",\n",
    "    # Bitwise flags with process information\n",
    "    #  See the Product definition document for details\n",
    "    \"Flag_ti_meas\", \"Flag_ti_model\"\n",
    "]"
   ]
  },
  {
   "cell_type": "markdown",
   "id": "bf445c78-2cd6-4685-89d4-56f9af9bc10e",
   "metadata": {
    "tags": []
   },
   "source": [
    "## Fetching and plotting data"
   ]
  },
  {
   "cell_type": "markdown",
   "id": "d77aa708-d74b-4055-98a6-fd4629c77269",
   "metadata": {},
   "source": [
    "Hint: you can identify start/end times of specific orbit numbers using `.get_times_for_orbits`:"
   ]
  },
  {
   "cell_type": "code",
   "execution_count": null,
   "id": "015d3bdd-05ca-437c-9ad9-c331bdf15436",
   "metadata": {},
   "outputs": [],
   "source": [
    "request = SwarmRequest(SERVER_URL)\n",
    "request.get_times_for_orbits(3740, 3742, mission=\"Swarm\", spacecraft=\"Alpha\")"
   ]
  },
  {
   "cell_type": "markdown",
   "id": "aa8032f0-e2e9-408c-8e60-b870e7f4cd73",
   "metadata": {},
   "source": [
    "For demonstration, we will fetch some data from Swarm Alpha (`SW_OPER_EFIATIE_2_`). We also ask for magnetic local time, `MLT`, and orbital information: `OrbitNumber`, `OrbitDirection` which can be useful for some plots."
   ]
  },
  {
   "cell_type": "code",
   "execution_count": null,
   "id": "2c133b56-098e-4719-adb1-cde319bd1a36",
   "metadata": {},
   "outputs": [],
   "source": [
    "start = dt.datetime(2014, 7, 25, 1, 9, 38)\n",
    "end = dt.datetime(2014, 7, 25, 5, 51, 25)\n",
    "\n",
    "request = SwarmRequest(SERVER_URL)\n",
    "request.set_collection(\"SW_OPER_EFIATIE_2_\")\n",
    "request.set_products(\n",
    "    measurements=tie_vars,\n",
    "    auxiliaries=[\"OrbitNumber\", \"OrbitDirection\", \"MLT\"]\n",
    ")\n",
    "data = request.get_between(start, end)"
   ]
  },
  {
   "cell_type": "markdown",
   "id": "d47c6081-0f69-4c51-9ca1-a98ab58be9f4",
   "metadata": {},
   "source": [
    "Data can be loaded as either a pandas datframe or a xarray dataset."
   ]
  },
  {
   "cell_type": "code",
   "execution_count": null,
   "id": "69b58aa7-3e1e-4f7b-8987-18674ffaca3f",
   "metadata": {},
   "outputs": [],
   "source": [
    "df = data.as_dataframe()\n",
    "df.head()"
   ]
  },
  {
   "cell_type": "code",
   "execution_count": null,
   "id": "afec2d15-3d4e-4e5a-9074-d1c87477e4c6",
   "metadata": {},
   "outputs": [],
   "source": [
    "ds = data.as_xarray()\n",
    "ds"
   ]
  },
  {
   "cell_type": "code",
   "execution_count": null,
   "id": "536880a3",
   "metadata": {
    "tags": []
   },
   "outputs": [],
   "source": [
    "# Set up a time series plot where each row is an orbit\n",
    "nrows = len(np.unique(ds[\"OrbitNumber\"]))\n",
    "fig, axes = plt.subplots(nrows=nrows, ncols=1, figsize=(10, 7))\n",
    "axes_r = [ax.twinx() for ax in axes]\n",
    "for i, (orbitnumber, ds_orbit) in enumerate(ds.groupby(\"OrbitNumber\")):\n",
    "    # Plot electron & ion temperatures, measured and modelled\n",
    "    ds_orbit.plot.scatter(x=\"Timestamp\", y=\"Ti_meas_drift\", s=0.1, ax=axes[i], color=\"tab:red\")\n",
    "    ds_orbit.plot.scatter(x=\"Timestamp\", y=\"Te_adj_LP\", s=0.1, ax=axes[i], color=\"tab:purple\")\n",
    "    ds_orbit.plot.scatter(x=\"Timestamp\", y=\"Tn_msis\", s=0.1, ax=axes[i], color=\"tab:green\")\n",
    "    ds_orbit.plot.scatter(x=\"Timestamp\", y=\"MLT\", s=0.05, ax=axes_r[i], color=\"tab:gray\", alpha=0.5)\n",
    "    # Identify times closest to North and South pole\n",
    "    t_NP = ds_orbit[\"Timestamp\"].isel(Timestamp=ds_orbit[\"Latitude\"].argmax()).values\n",
    "    t_SP = ds_orbit[\"Timestamp\"].isel(Timestamp=ds_orbit[\"Latitude\"].argmin()).values\n",
    "    axes[i].axvline(mpl.dates.date2num(t_NP), color=\"gray\")\n",
    "    axes[i].axvline(mpl.dates.date2num(t_SP), color=\"gray\")\n",
    "    # Tidy up labelling\n",
    "    axes[i].xaxis.set_major_formatter(mpl.dates.DateFormatter(\"%H:%M\"))\n",
    "    axes[i].set_xlabel(\"\")\n",
    "# Add legend manually\n",
    "red = mpl.patches.Patch(color=\"tab:red\", label=\"Ti_meas_drift\")\n",
    "purple = mpl.patches.Patch(color=\"tab:purple\", label=\"Te_adj_LP\")\n",
    "green = mpl.patches.Patch(color=\"tab:green\", label=\"Tn_msis\")\n",
    "gray = mpl.patches.Patch(color=\"tab:gray\", label=\"MLT / Poles\")\n",
    "axes[0].legend(handles=[red, purple, green, gray])\n",
    "# Tidy up axes and labelling\n",
    "for ax in axes:\n",
    "    ax.set_ylim(500, 4000)\n",
    "axes[-1].set_xlabel(\"Time\")\n",
    "title = \"\".join([\n",
    "    f\"Swarm {ds['Spacecraft'].data[0]} ion temperatures, \",\n",
    "    ds[\"Timestamp\"].dt.date.data[0].isoformat(),\n",
    "    f\"\\n{[s for s in ds.attrs['Sources'] if 'TIE' in s]}\"\n",
    "])\n",
    "fig.suptitle(title);"
   ]
  }
 ],
 "metadata": {
  "language_info": {
   "codemirror_mode": {
    "name": "ipython",
    "version": 3
   },
   "file_extension": ".py",
   "mimetype": "text/x-python",
   "name": "python",
   "nbconvert_exporter": "python",
   "pygments_lexer": "ipython3"
  }
 },
 "nbformat": 4,
 "nbformat_minor": 5
}
