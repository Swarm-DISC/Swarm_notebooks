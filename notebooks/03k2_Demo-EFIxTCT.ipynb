{
 "cells": [
  {
   "cell_type": "markdown",
   "id": "b3277ae5",
   "metadata": {},
   "source": [
    "# EFIxTCT (Cross-track ion flow)"
   ]
  },
  {
   "cell_type": "markdown",
   "id": "a371f176",
   "metadata": {},
   "source": [
    "> Abstract: Access to the 2Hz & 16Hz cross-track ion flow data derived from the Thermal Ion Imager (TII), part of the Electric Field Instrument package (EFI).\n",
    "> \n",
    "> For more information about this product, see the [release notes](https://earth.esa.int/eogateway/documents/20142/37627/swarm-EFI-TII-cross-track-flow-dataset-release-notes.pdf)."
   ]
  },
  {
   "cell_type": "code",
   "execution_count": null,
   "id": "28b01839",
   "metadata": {},
   "outputs": [],
   "source": [
    "SERVER_URL = 'https://staging.vires.services/ows'"
   ]
  },
  {
   "cell_type": "code",
   "execution_count": null,
   "id": "ff2a5d9f-7caf-41ab-ae80-cd4b386ad28d",
   "metadata": {},
   "outputs": [],
   "source": [
    "%load_ext watermark\n",
    "%watermark -i -v -p viresclient,pandas,xarray,matplotlib"
   ]
  },
  {
   "cell_type": "code",
   "execution_count": null,
   "id": "c627e1ad-05c4-48dd-a9a5-40015f3a7570",
   "metadata": {},
   "outputs": [],
   "source": [
    "import matplotlib as mpl\n",
    "import matplotlib.pyplot as plt\n",
    "import numpy as np\n",
    "import xarray as xr\n",
    "# Control the HTML display of the datasets\n",
    "xr.set_options(display_expand_attrs=False, display_expand_coords=True, display_expand_data=True)\n",
    "\n",
    "from viresclient import SwarmRequest"
   ]
  },
  {
   "cell_type": "code",
   "execution_count": null,
   "id": "10830394-2e07-439f-81cc-4104cfe425e9",
   "metadata": {},
   "outputs": [],
   "source": [
    "request = SwarmRequest(SERVER_URL)"
   ]
  },
  {
   "cell_type": "markdown",
   "id": "3c7ec541-936a-4dae-b8b5-29d565da2aee",
   "metadata": {},
   "source": [
    "## What data is available?"
   ]
  },
  {
   "cell_type": "markdown",
   "id": "49105a46-02a5-4eea-9fd0-a798d0b8b5f8",
   "metadata": {},
   "source": [
    "There are two sets of collections available, one for 2Hz and one for 16Hz, and for each there are three collections, one for each Swarm spacecraft."
   ]
  },
  {
   "cell_type": "code",
   "execution_count": null,
   "id": "7da5c124-d927-4ee6-87bf-03ddab4dcc7b",
   "metadata": {},
   "outputs": [],
   "source": [
    "request.available_collections(\"EFI_TCT02\", details=False)"
   ]
  },
  {
   "cell_type": "code",
   "execution_count": null,
   "id": "22e7cf35-0160-4b99-82a0-2b7b29de10f9",
   "metadata": {},
   "outputs": [],
   "source": [
    "request.available_collections(\"EFI_TCT16\", details=False)"
   ]
  },
  {
   "cell_type": "code",
   "execution_count": null,
   "id": "ef1baa54-f3c7-4207-a094-8c16112503e3",
   "metadata": {},
   "outputs": [],
   "source": [
    "print(request.available_measurements(\"EFI_TCT02\"))"
   ]
  },
  {
   "cell_type": "code",
   "execution_count": null,
   "id": "fda2fbce-172b-472e-b73a-c745ec7e1fb9",
   "metadata": {},
   "outputs": [],
   "source": [
    "print(request.available_measurements(\"EFI_TCT16\"))"
   ]
  },
  {
   "cell_type": "markdown",
   "id": "1480f25c-b1e2-456f-8e19-8e61c724df8f",
   "metadata": {},
   "source": [
    "As seen above, the variables available for both the 2Hz and 16Hz datasets are the same. Here is a short description for each variable:"
   ]
  },
  {
   "cell_type": "code",
   "execution_count": null,
   "id": "d3273e1e-6ecf-474e-b439-101024ccfef7",
   "metadata": {},
   "outputs": [],
   "source": [
    "tct_vars = [\n",
    "    # Satellite velocity in NEC frame\n",
    "    \"VsatC\", \"VsatE\", \"VsatN\",\n",
    "    # Geomagnetic field components derived from 1Hz product\n",
    "    #  (in satellite-track coordinates)\n",
    "    \"Bx\", \"By\", \"Bz\",\n",
    "    # Electric field components derived from -VxB with along-track ion drift\n",
    "    #  (in satellite-track coordinates)\n",
    "    # Eh: derived from horizontal sensor\n",
    "    # Ev: derived from vertical sensor\n",
    "    \"Ehx\", \"Ehy\", \"Ehz\",\n",
    "    \"Evx\", \"Evy\", \"Evz\",\n",
    "    # Ion drift corotation signal, removed from ion drift & electric field\n",
    "    #  (in satellite-track coordinates)\n",
    "    \"Vicrx\", \"Vicry\", \"Vicrz\",\n",
    "    # Ion drifts along-track from vertical (..v) and horizontal (..h) TII sensor\n",
    "    \"Vixv\", \"Vixh\",\n",
    "    # Ion drifts cross-track (y from horizontal sensor, z from vertical sensor)\n",
    "    #  (in satellite-track coordinates)\n",
    "    \"Viy\", \"Viz\",\n",
    "    # Random error estimates for the above\n",
    "    #  (Negative value indicates no estimate available)\n",
    "    \"Vixv_error\", \"Vixh_error\", \"Viy_error\", \"Viz_error\",\n",
    "    # Quasi-dipole magnetic latitude and local time\n",
    "    #  redundant with VirES auxiliaries, QDLat & MLT\n",
    "    \"Latitude_QD\", \"MLT_QD\",\n",
    "    # Refer to release notes link above for details:\n",
    "    \"Calibration_flags\", \"Quality_flags\",\n",
    "]"
   ]
  },
  {
   "cell_type": "markdown",
   "id": "138d2148-dd03-438e-a0d1-e116228b7943",
   "metadata": {},
   "source": [
    "## Fetching and plotting data"
   ]
  },
  {
   "cell_type": "markdown",
   "id": "f80e0301-da65-4b8c-8529-13c633691296",
   "metadata": {},
   "source": [
    "For demonstration, we will fetch the 2Hz data from Swarm Alpha (`SW_EXPT_EFIA_TCT02`)"
   ]
  },
  {
   "cell_type": "code",
   "execution_count": null,
   "id": "126de639-6842-4042-878d-e392445b5930",
   "metadata": {},
   "outputs": [],
   "source": [
    "start = \"2018-07-17T11:00:00\"\n",
    "end = \"2018-07-17T16:00:00\"\n",
    "\n",
    "request = SwarmRequest(SERVER_URL)\n",
    "request.set_collection(\"SW_EXPT_EFIA_TCT02\")\n",
    "request.set_products(measurements=tct_vars)\n",
    "data = request.get_between(start, end)\n"
   ]
  },
  {
   "cell_type": "markdown",
   "id": "d95fc734-28e1-48f0-b091-1d53934fee89",
   "metadata": {},
   "source": [
    "Data can be loaded as either a pandas datframe or a xarray dataset."
   ]
  },
  {
   "cell_type": "code",
   "execution_count": null,
   "id": "e1eadca7-b684-44cc-b50e-1a8ea44a1e76",
   "metadata": {},
   "outputs": [],
   "source": [
    "df = data.as_dataframe()\n",
    "df.head()"
   ]
  },
  {
   "cell_type": "code",
   "execution_count": null,
   "id": "8bc5ac7b-f218-4221-a8e3-5739eff21ecf",
   "metadata": {},
   "outputs": [],
   "source": [
    "ds = data.as_xarray()\n",
    "ds"
   ]
  },
  {
   "cell_type": "markdown",
   "id": "5066ef77-7a0d-4ed2-a36b-921d70239f4b",
   "metadata": {},
   "source": [
    "An example plot:"
   ]
  },
  {
   "cell_type": "code",
   "execution_count": null,
   "id": "8c253679-ebb8-4940-a0ff-2dfb63132f36",
   "metadata": {},
   "outputs": [],
   "source": [
    "fig, axes = plt.subplots(nrows=4, sharex=True, figsize=(10, 7))\n",
    "# Plot velocities with left axis\n",
    "ds.plot.scatter(x=\"Timestamp\", y=\"Vixv\", ax=axes[0], s=0.1)\n",
    "ds.plot.scatter(x=\"Timestamp\", y=\"Vixh\", ax=axes[1], s=0.1)\n",
    "ds.plot.scatter(x=\"Timestamp\", y=\"Viy\", ax=axes[2], s=0.1)\n",
    "ds.plot.scatter(x=\"Timestamp\", y=\"Viz\", ax=axes[3], s=0.1, label=\"Velocities\")\n",
    "# Plot velocities with right axis\n",
    "axes_r = [ax.twinx() for ax in axes]\n",
    "ds.plot.scatter(x=\"Timestamp\", y=\"Vixv_error\", ax=axes_r[0], s=0.1, color=\"tab:orange\")\n",
    "ds.plot.scatter(x=\"Timestamp\", y=\"Vixh_error\", ax=axes_r[1], s=0.1, color=\"tab:orange\")\n",
    "ds.plot.scatter(x=\"Timestamp\", y=\"Viy_error\", ax=axes_r[2], s=0.1, color=\"tab:orange\")\n",
    "ds.plot.scatter(x=\"Timestamp\", y=\"Viz_error\", ax=axes_r[3], s=0.1, color=\"tab:orange\")\n",
    "fig.subplots_adjust(hspace=0)\n",
    "# Add legend to identify each side\n",
    "blue = mpl.patches.Patch(color=\"tab:blue\", label=\"Velocities\")\n",
    "orange = mpl.patches.Patch(color=\"tab:orange\", label=\"Errors\")\n",
    "axes[0].legend(handles=[blue, orange])\n",
    "# # Generate additional ticklabels for x-axis\n",
    "# Use time xticks to get dataset vars at those xticks\n",
    "locx = axes[-1].get_xticks()\n",
    "times = mpl.dates.num2date(locx)\n",
    "times = [t.replace(tzinfo=None) for t in times]\n",
    "_ds_xticks = ds.reindex({\"Timestamp\": times}, method=\"nearest\")\n",
    "# Build ticklabels from dataset vars\n",
    "xticklabels = np.stack([\n",
    "    _ds_xticks[\"Timestamp\"].dt.strftime(\"%H:%M\").values,\n",
    "    np.round(_ds_xticks[\"Latitude\"].values, 2).astype(str),\n",
    "    np.round(_ds_xticks[\"Longitude\"].values, 2).astype(str),\n",
    "])\n",
    "xticklabels = [\"\\n\".join(row) for row in xticklabels.T]\n",
    "# Add labels to first xtick\n",
    "_xt0 = xticklabels[0].split(\"\\n\")\n",
    "xticklabels[0] = f\"Time:  {_xt0[0]}\\nLat:  {_xt0[1]}\\nLon: {_xt0[2]}\"\n",
    "axes[-1].set_xticks(axes[-1].get_xticks())\n",
    "axes[-1].set_xticklabels(xticklabels)\n",
    "axes[-1].set_xlabel(\"\")\n",
    "# Adjust title\n",
    "title = \"\".join([\n",
    "    f\"Swarm {ds['Spacecraft'].data[0]} 2Hz ion flow, \",\n",
    "    ds[\"Timestamp\"].dt.date.data[0].isoformat(),\n",
    "    f\"\\n{ds.attrs['Sources']}\"\n",
    "])\n",
    "fig.suptitle(title);"
   ]
  },
  {
   "cell_type": "markdown",
   "id": "1ee742b6-03b4-4cae-b5b9-514f554dea82",
   "metadata": {},
   "source": [
    "Due to contamination in the instrument, great care must be taken to use these data correctly. Check the release notes and make use of the `Quality_flags` variable to identify valid data periods."
   ]
  },
  {
   "cell_type": "markdown",
   "id": "9606d8db-d884-4291-9a43-293eb4520986",
   "metadata": {},
   "source": [
    "TODO: use section 3.4.1.1 to identify untrusty periods (bitx = 0) and shade them grey?"
   ]
  }
 ],
 "metadata": {
  "language_info": {
   "codemirror_mode": {
    "name": "ipython",
    "version": 3
   },
   "file_extension": ".py",
   "mimetype": "text/x-python",
   "name": "python",
   "nbconvert_exporter": "python",
   "pygments_lexer": "ipython3",
   "version": "3.10.4"
  }
 },
 "nbformat": 4,
 "nbformat_minor": 5
}
