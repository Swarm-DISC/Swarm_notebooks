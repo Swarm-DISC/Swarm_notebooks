{
 "cells": [
  {
   "cell_type": "markdown",
   "id": "0",
   "metadata": {},
   "source": [
    "# EFIxTCT (Cross-track ion flow)"
   ]
  },
  {
   "cell_type": "markdown",
   "id": "1",
   "metadata": {},
   "source": [
    "> Abstract: Access to the 2Hz & 16Hz cross-track ion flow data derived from the Thermal Ion Imager (TII), part of the Electric Field Instrument package (EFI).\n",
    "> \n",
    "> For more information about this product, see the [release notes](https://earth.esa.int/eogateway/documents/20142/37627/swarm-EFI-TII-cross-track-flow-dataset-release-notes.pdf)."
   ]
  },
  {
   "cell_type": "code",
   "execution_count": null,
   "id": "2",
   "metadata": {},
   "outputs": [],
   "source": [
    "SERVER_URL = 'https://vires.services/ows'"
   ]
  },
  {
   "cell_type": "code",
   "execution_count": null,
   "id": "3",
   "metadata": {},
   "outputs": [],
   "source": [
    "# Display important package versions used\n",
    "%load_ext watermark\n",
    "%watermark -i -v -p viresclient,pandas,xarray,matplotlib"
   ]
  },
  {
   "cell_type": "code",
   "execution_count": null,
   "id": "4",
   "metadata": {},
   "outputs": [],
   "source": [
    "import matplotlib as mpl\n",
    "import matplotlib.pyplot as plt\n",
    "import numpy as np\n",
    "import xarray as xr\n",
    "# Control the HTML display of the datasets\n",
    "xr.set_options(display_expand_attrs=False, display_expand_coords=True, display_expand_data=True)\n",
    "\n",
    "from viresclient import SwarmRequest"
   ]
  },
  {
   "cell_type": "code",
   "execution_count": null,
   "id": "5",
   "metadata": {},
   "outputs": [],
   "source": [
    "request = SwarmRequest(SERVER_URL)"
   ]
  },
  {
   "cell_type": "markdown",
   "id": "6",
   "metadata": {},
   "source": [
    "## What data is available?"
   ]
  },
  {
   "cell_type": "markdown",
   "id": "7",
   "metadata": {},
   "source": [
    "There are two sets of collections available, one for 2Hz and one for 16Hz, and for each there are three collections, one for each Swarm spacecraft."
   ]
  },
  {
   "cell_type": "code",
   "execution_count": null,
   "id": "8",
   "metadata": {},
   "outputs": [],
   "source": [
    "request.available_collections(\"EFI_TCT02\", details=False)"
   ]
  },
  {
   "cell_type": "code",
   "execution_count": null,
   "id": "9",
   "metadata": {},
   "outputs": [],
   "source": [
    "request.available_collections(\"EFI_TCT16\", details=False)"
   ]
  },
  {
   "cell_type": "code",
   "execution_count": null,
   "id": "10",
   "metadata": {},
   "outputs": [],
   "source": [
    "print(request.available_measurements(\"EFI_TCT02\"))"
   ]
  },
  {
   "cell_type": "code",
   "execution_count": null,
   "id": "11",
   "metadata": {},
   "outputs": [],
   "source": [
    "print(request.available_measurements(\"EFI_TCT16\"))"
   ]
  },
  {
   "cell_type": "markdown",
   "id": "12",
   "metadata": {},
   "source": [
    "As seen above, the variables available for both the 2Hz and 16Hz datasets are the same. Here is a short description for each variable:"
   ]
  },
  {
   "cell_type": "code",
   "execution_count": null,
   "id": "13",
   "metadata": {},
   "outputs": [],
   "source": [
    "tct_vars = [\n",
    "    # Satellite velocity in NEC frame\n",
    "    \"VsatC\", \"VsatE\", \"VsatN\",\n",
    "    # Geomagnetic field components derived from 1Hz product\n",
    "    #  (in satellite-track coordinates)\n",
    "    \"Bx\", \"By\", \"Bz\",\n",
    "    # Electric field components derived from -VxB with along-track ion drift\n",
    "    #  (in satellite-track coordinates)\n",
    "    # Eh: derived from horizontal sensor\n",
    "    # Ev: derived from vertical sensor\n",
    "    \"Ehx\", \"Ehy\", \"Ehz\",\n",
    "    \"Evx\", \"Evy\", \"Evz\",\n",
    "    # Ion drift corotation signal, removed from ion drift & electric field\n",
    "    #  (in satellite-track coordinates)\n",
    "    \"Vicrx\", \"Vicry\", \"Vicrz\",\n",
    "    # Ion drifts along-track from vertical (..v) and horizontal (..h) TII sensor\n",
    "    \"Vixv\", \"Vixh\",\n",
    "    # Ion drifts cross-track (y from horizontal sensor, z from vertical sensor)\n",
    "    #  (in satellite-track coordinates)\n",
    "    \"Viy\", \"Viz\",\n",
    "    # Random error estimates for the above\n",
    "    #  (Negative value indicates no estimate available)\n",
    "    \"Vixv_error\", \"Vixh_error\", \"Viy_error\", \"Viz_error\",\n",
    "    # Quasi-dipole magnetic latitude and local time\n",
    "    #  redundant with VirES auxiliaries, QDLat & MLT\n",
    "    \"Latitude_QD\", \"MLT_QD\",\n",
    "    # Refer to release notes link above for details:\n",
    "    \"Calibration_flags\", \"Quality_flags\",\n",
    "]"
   ]
  },
  {
   "cell_type": "markdown",
   "id": "14",
   "metadata": {},
   "source": [
    "## Fetching and plotting data"
   ]
  },
  {
   "cell_type": "markdown",
   "id": "15",
   "metadata": {},
   "source": [
    "For demonstration, we will fetch the 2Hz data from Swarm Alpha (`SW_EXPT_EFIA_TCT02`)"
   ]
  },
  {
   "cell_type": "code",
   "execution_count": null,
   "id": "16",
   "metadata": {},
   "outputs": [],
   "source": [
    "start = \"2018-07-17T11:00:00\"\n",
    "end = \"2018-07-17T16:00:00\"\n",
    "\n",
    "request = SwarmRequest(SERVER_URL)\n",
    "request.set_collection(\"SW_EXPT_EFIA_TCT02\")\n",
    "request.set_products(measurements=tct_vars)\n",
    "data = request.get_between(start, end)\n"
   ]
  },
  {
   "cell_type": "markdown",
   "id": "17",
   "metadata": {},
   "source": [
    "Data can be loaded as either a pandas datframe or a xarray dataset."
   ]
  },
  {
   "cell_type": "code",
   "execution_count": null,
   "id": "18",
   "metadata": {},
   "outputs": [],
   "source": [
    "df = data.as_dataframe()\n",
    "df.head()"
   ]
  },
  {
   "cell_type": "code",
   "execution_count": null,
   "id": "19",
   "metadata": {},
   "outputs": [],
   "source": [
    "ds = data.as_xarray()\n",
    "ds"
   ]
  },
  {
   "cell_type": "markdown",
   "id": "20",
   "metadata": {},
   "source": [
    "An example plot:"
   ]
  },
  {
   "cell_type": "code",
   "execution_count": null,
   "id": "21",
   "metadata": {},
   "outputs": [],
   "source": [
    "fig, axes = plt.subplots(nrows=4, sharex=True, figsize=(10, 7))\n",
    "# Plot velocities with left axis\n",
    "ds.plot.scatter(x=\"Timestamp\", y=\"Vixv\", ax=axes[0], s=1, linewidths=0)\n",
    "ds.plot.scatter(x=\"Timestamp\", y=\"Vixh\", ax=axes[1], s=1, linewidths=0)\n",
    "ds.plot.scatter(x=\"Timestamp\", y=\"Viy\", ax=axes[2], s=1, linewidths=0)\n",
    "ds.plot.scatter(x=\"Timestamp\", y=\"Viz\", ax=axes[3], s=1, linewidths=0, label=\"Velocities\")\n",
    "# Plot velocities with right axis\n",
    "axes_r = [ax.twinx() for ax in axes]\n",
    "ds.plot.scatter(x=\"Timestamp\", y=\"Vixv_error\", ax=axes_r[0], s=0.1, color=\"tab:orange\")\n",
    "ds.plot.scatter(x=\"Timestamp\", y=\"Vixh_error\", ax=axes_r[1], s=0.1, color=\"tab:orange\")\n",
    "ds.plot.scatter(x=\"Timestamp\", y=\"Viy_error\", ax=axes_r[2], s=0.1, color=\"tab:orange\")\n",
    "ds.plot.scatter(x=\"Timestamp\", y=\"Viz_error\", ax=axes_r[3], s=0.1, color=\"tab:orange\")\n",
    "fig.subplots_adjust(hspace=0)\n",
    "# Add legend to identify each side\n",
    "blue = mpl.patches.Patch(color=\"tab:blue\", label=\"Velocities\")\n",
    "orange = mpl.patches.Patch(color=\"tab:orange\", label=\"Errors\")\n",
    "axes[0].legend(handles=[blue, orange])\n",
    "# # Generate additional ticklabels for x-axis\n",
    "# Use time xticks to get dataset vars at those xticks\n",
    "locx = axes[-1].get_xticks()\n",
    "times = mpl.dates.num2date(locx)\n",
    "times = [t.replace(tzinfo=None) for t in times]\n",
    "_ds_xticks = ds.reindex({\"Timestamp\": times}, method=\"nearest\")\n",
    "# Build ticklabels from dataset vars\n",
    "xticklabels = np.stack([\n",
    "    _ds_xticks[\"Timestamp\"].dt.strftime(\"%H:%M\").values,\n",
    "    np.round(_ds_xticks[\"Latitude\"].values, 2).astype(str),\n",
    "    np.round(_ds_xticks[\"Longitude\"].values, 2).astype(str),\n",
    "])\n",
    "xticklabels = [\"\\n\".join(row) for row in xticklabels.T]\n",
    "# Add labels to first xtick\n",
    "_xt0 = xticklabels[0].split(\"\\n\")\n",
    "xticklabels[0] = f\"Time:  {_xt0[0]}\\nLat:  {_xt0[1]}\\nLon: {_xt0[2]}\"\n",
    "axes[-1].set_xticks(axes[-1].get_xticks())\n",
    "axes[-1].set_xticklabels(xticklabels)\n",
    "axes[-1].set_xlabel(\"\")\n",
    "# Adjust title\n",
    "title = \"\".join([\n",
    "    f\"Swarm {ds['Spacecraft'].data[0]} 2Hz ion flow, \",\n",
    "    ds[\"Timestamp\"].dt.date.data[0].isoformat(),\n",
    "    f\"\\n{ds.attrs['Sources']}\"\n",
    "])\n",
    "fig.suptitle(title);"
   ]
  },
  {
   "cell_type": "markdown",
   "id": "22",
   "metadata": {},
   "source": [
    "Due to contamination in the instrument, great care must be taken to use these data correctly. Check the release notes and make use of the `Quality_flags` variable to identify valid data periods."
   ]
  },
  {
   "cell_type": "markdown",
   "id": "23",
   "metadata": {},
   "source": [
    "TODO: use section 3.4.1.1 to identify untrusty periods (bitx = 0) and shade them grey?"
   ]
  }
 ],
 "metadata": {
  "kernelspec": {
   "display_name": "Python 3 (ipykernel)",
   "language": "python",
   "name": "python3"
  },
  "language_info": {
   "codemirror_mode": {
    "name": "ipython",
    "version": 3
   },
   "file_extension": ".py",
   "mimetype": "text/x-python",
   "name": "python",
   "nbconvert_exporter": "python",
   "pygments_lexer": "ipython3"
  }
 },
 "nbformat": 4,
 "nbformat_minor": 5
}
