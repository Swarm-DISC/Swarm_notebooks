{
 "cells": [
  {
   "cell_type": "markdown",
   "id": "0",
   "metadata": {},
   "source": [
    "# EFIxIDM (Ion drifts & effective masses)"
   ]
  },
  {
   "cell_type": "markdown",
   "id": "1",
   "metadata": {},
   "source": [
    "> Abstract: Access to the `EFIxIDM` products from the SLIDEM project.\n",
    "\n",
    "See also:\n",
    "- More notebooks: https://nbviewer.org/github/pacesm/jupyter_notebooks/tree/master/EFI_TII/EFIxIDM_00_data_access.ipynb\n",
    "- Product documentation: https://earth.esa.int/eogateway/documents/20142/2860886/SLIDEM_Product_Definition.pdf"
   ]
  },
  {
   "cell_type": "code",
   "execution_count": null,
   "id": "2",
   "metadata": {},
   "outputs": [],
   "source": [
    "SERVER_URL = 'https://vires.services/ows'"
   ]
  },
  {
   "cell_type": "code",
   "execution_count": null,
   "id": "3",
   "metadata": {},
   "outputs": [],
   "source": [
    "# Display important package versions used\n",
    "%load_ext watermark\n",
    "%watermark -i -v -p viresclient,pandas,xarray,matplotlib"
   ]
  },
  {
   "cell_type": "code",
   "execution_count": null,
   "id": "4",
   "metadata": {},
   "outputs": [],
   "source": [
    "import datetime as dt\n",
    "import matplotlib as mpl\n",
    "import matplotlib.pyplot as plt\n",
    "import numpy as np\n",
    "import xarray as xr\n",
    "# Control the HTML display of the datasets\n",
    "xr.set_options(display_expand_attrs=False, display_expand_coords=True, display_expand_data=True)\n",
    "\n",
    "from viresclient import SwarmRequest"
   ]
  },
  {
   "cell_type": "code",
   "execution_count": null,
   "id": "5",
   "metadata": {},
   "outputs": [],
   "source": [
    "request = SwarmRequest(SERVER_URL)"
   ]
  },
  {
   "cell_type": "markdown",
   "id": "6",
   "metadata": {
    "tags": []
   },
   "source": [
    "## What data is available?"
   ]
  },
  {
   "cell_type": "code",
   "execution_count": null,
   "id": "7",
   "metadata": {},
   "outputs": [],
   "source": [
    "request.available_collections(\"EFI_IDM\", details=False)"
   ]
  },
  {
   "cell_type": "code",
   "execution_count": null,
   "id": "8",
   "metadata": {},
   "outputs": [],
   "source": [
    "print(request.available_measurements(\"EFI_IDM\"))"
   ]
  },
  {
   "cell_type": "markdown",
   "id": "9",
   "metadata": {},
   "source": [
    "Notes for the listed available variables:"
   ]
  },
  {
   "cell_type": "code",
   "execution_count": null,
   "id": "10",
   "metadata": {},
   "outputs": [],
   "source": [
    "idm_vars = [\n",
    "    # Positional information in geodetic (GD) and geocentric (GC) frames\n",
    "    #  redundant with VirES variables Latitude, Longitude, Radius (in geocentric frame)\n",
    "    \"Latitude_GD\", \"Longitude_GD\", \"Height_GD\", \"Radius_GC\",\n",
    "    # Quasi-dipole magnetic latitude and local time\n",
    "    #  redundant with VirES auxiliaries, QDLat & MLT\n",
    "    \"Latitude_QD\", \"MLT_QD\",\n",
    "    # Satellite velocity in NEC frame\n",
    "    \"V_sat_nec\",\n",
    "    # Estimated ion effective mass, uncertainty, and validity flags\n",
    "    \"M_i_eff\", \"M_i_eff_err\", \"M_i_eff_Flags\",\n",
    "    # Effective masses from ruhlik et al. (2015) topside empirical model\n",
    "    \"M_i_eff_tbt_model\",\n",
    "    # Along-track ion drift velocity, uncertainty, validity flags, and velocity without detrending\n",
    "    \"V_i\", \"V_i_err\", \"V_i_Flags\", \"V_i_raw\",\n",
    "    # Ion density, uncertainty, and validity flags\n",
    "    \"N_i\", \"N_i_err\", \"N_i_Flags\",\n",
    "    # Modified-OML faceplate area, and Langmuir spherical probe radius\n",
    "    \"A_fp\", \"R_p\",\n",
    "    # Electron temperature, and spacecraft floating potential\n",
    "    \"T_e\", \"Phi_sc\",\n",
    "]"
   ]
  },
  {
   "cell_type": "markdown",
   "id": "11",
   "metadata": {
    "tags": []
   },
   "source": [
    "## Fetching and plotting data"
   ]
  },
  {
   "cell_type": "code",
   "execution_count": null,
   "id": "12",
   "metadata": {},
   "outputs": [],
   "source": [
    "start = dt.datetime(2016, 1, 2)\n",
    "end = dt.datetime(2016, 1, 3)\n",
    "\n",
    "request = SwarmRequest(SERVER_URL)\n",
    "request.set_collection(\"SW_PREL_EFIAIDM_2_\")\n",
    "request.set_products(\n",
    "    measurements=idm_vars,\n",
    "    auxiliaries=[\"OrbitNumber\", \"OrbitDirection\", \"MLT\"]\n",
    ")\n",
    "data = request.get_between(start, end)"
   ]
  },
  {
   "cell_type": "markdown",
   "id": "13",
   "metadata": {},
   "source": [
    "Data can be loaded as either a pandas dataframe or a xarray dataset."
   ]
  },
  {
   "cell_type": "code",
   "execution_count": null,
   "id": "14",
   "metadata": {},
   "outputs": [],
   "source": [
    "df = data.as_dataframe()\n",
    "df.head()"
   ]
  },
  {
   "cell_type": "code",
   "execution_count": null,
   "id": "15",
   "metadata": {},
   "outputs": [],
   "source": [
    "ds = data.as_xarray()\n",
    "ds"
   ]
  },
  {
   "cell_type": "markdown",
   "id": "16",
   "metadata": {},
   "source": [
    "An initial preview of the data:"
   ]
  },
  {
   "cell_type": "code",
   "execution_count": null,
   "id": "17",
   "metadata": {},
   "outputs": [],
   "source": [
    "fig, axes = plt.subplots(nrows=4, sharex=True, figsize=(10, 7))\n",
    "axes_r = [ax.twinx() for ax in axes]\n",
    "# Plot quantity (left axis) and error (right axis) for each quantity\n",
    "ds.plot.scatter(x=\"Timestamp\", y=\"M_i_eff\", ax=axes[0], s=1, linewidths=0)\n",
    "ds.plot.scatter(x=\"Timestamp\", y=\"M_i_eff_err\", ax=axes_r[0], s=0.1, color=\"tab:orange\")\n",
    "ds.plot.scatter(x=\"Timestamp\", y=\"V_i\", ax=axes[1], s=1, linewidths=0)\n",
    "ds.plot.scatter(x=\"Timestamp\", y=\"V_i_err\", ax=axes_r[1], s=0.1, color=\"tab:orange\")\n",
    "ds.plot.scatter(x=\"Timestamp\", y=\"N_i\", ax=axes[2], s=1, linewidths=0)\n",
    "ds.plot.scatter(x=\"Timestamp\", y=\"N_i_err\", ax=axes_r[2], s=0.1, color=\"tab:orange\")\n",
    "ds.plot.scatter(x=\"Timestamp\", y=\"T_e\", ax=axes[3], s=1, linewidths=0)\n",
    "fig.subplots_adjust(hspace=0)\n",
    "\n",
    "# Add legend to identify each side\n",
    "blue = mpl.patches.Patch(color=\"tab:blue\", label=\"Quantities\")\n",
    "orange = mpl.patches.Patch(color=\"tab:orange\", label=\"Errors\")\n",
    "axes[0].legend(handles=[blue, orange])\n",
    "\n",
    "# # Generate additional ticklabels for x-axis\n",
    "# Use time xticks to get dataset vars at those xticks\n",
    "locx = axes[-1].get_xticks()\n",
    "times = mpl.dates.num2date(locx)\n",
    "times = [t.replace(tzinfo=None) for t in times]\n",
    "_ds_xticks = ds.reindex({\"Timestamp\": times}, method=\"nearest\")\n",
    "# Build ticklabels from dataset vars\n",
    "xticklabels = np.stack([\n",
    "    _ds_xticks[\"Timestamp\"].dt.strftime(\"%H:%M\").values,\n",
    "    np.round(_ds_xticks[\"Latitude\"].values, 2).astype(str),\n",
    "    np.round(_ds_xticks[\"Longitude\"].values, 2).astype(str),\n",
    "])\n",
    "xticklabels = [\"\\n\".join(row) for row in xticklabels.T]\n",
    "# Add labels to first xtick\n",
    "_xt0 = xticklabels[0].split(\"\\n\")\n",
    "xticklabels[0] = f\"Time:  {_xt0[0]}\\nLat:  {_xt0[1]}\\nLon: {_xt0[2]}\"\n",
    "axes[-1].set_xticks(axes[-1].get_xticks())\n",
    "axes[-1].set_xticklabels(xticklabels)\n",
    "axes[-1].set_xlabel(\"\")\n",
    "# Adjust title\n",
    "sources = \"\\n\".join([i for i in ds.attrs[\"Sources\"] if \"IDM\" in i])\n",
    "title = \"\".join([\n",
    "    f\"Swarm {ds['Spacecraft'].data[0]} ion effective mass and drift, \",\n",
    "    ds[\"Timestamp\"].dt.date.data[0].isoformat(),\n",
    "    f\"\\n{sources}\"\n",
    "])\n",
    "fig.suptitle(title);"
   ]
  }
 ],
 "metadata": {
  "kernelspec": {
   "display_name": "Python 3 (ipykernel)",
   "language": "python",
   "name": "python3"
  },
  "language_info": {
   "codemirror_mode": {
    "name": "ipython",
    "version": 3
   },
   "file_extension": ".py",
   "mimetype": "text/x-python",
   "name": "python",
   "nbconvert_exporter": "python",
   "pygments_lexer": "ipython3"
  }
 },
 "nbformat": 4,
 "nbformat_minor": 5
}
