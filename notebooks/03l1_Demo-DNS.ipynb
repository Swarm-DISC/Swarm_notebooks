{
 "cells": [
  {
   "cell_type": "markdown",
   "metadata": {},
   "source": [
    "# DNS (Thermospheric density)"
   ]
  },
  {
   "cell_type": "code",
   "execution_count": null,
   "metadata": {},
   "outputs": [],
   "source": [
    "SERVER_URL = \"https://disc.vires.services/ows\""
   ]
  },
  {
   "cell_type": "code",
   "execution_count": null,
   "metadata": {},
   "outputs": [],
   "source": [
    "%load_ext watermark\n",
    "%watermark -i -v -p viresclient,pandas,xarray,matplotlib,cartopy"
   ]
  },
  {
   "cell_type": "code",
   "execution_count": null,
   "metadata": {},
   "outputs": [],
   "source": [
    "import datetime as dt\n",
    "\n",
    "import matplotlib.pyplot as plt\n",
    "import matplotlib as mpl\n",
    "import pandas as pd\n",
    "from viresclient import SwarmRequest"
   ]
  },
  {
   "cell_type": "markdown",
   "metadata": {},
   "source": [
    "## Product information"
   ]
  },
  {
   "cell_type": "markdown",
   "metadata": {},
   "source": [
    "Thermospheric density products are available through the following collections, both from Swarm, and from other spacecraft (via the [TOLEOS project](https://earth.esa.int/eogateway/activities/toleos))\n",
    "\n",
    "- Thermospheric density derived from Swarm A, B, C (using the accelerometer):  \n",
    "  [`SW_OPER_DNSxACC_2_`](https://swarmhandbook.earth.esa.int/catalogue/SW_DNSxACC_2_)\n",
    "- Thermospheric density derived from Swarm A, B, C (using only the orbit determination):  \n",
    "  [`SW_OPER_DNSxPOD_2_`](https://swarmhandbook.earth.esa.int/catalogue/SW_DNSxPOD_2_)\n",
    "- CHAMP:  \n",
    "  [`CH_OPER_DNS_ACC_2_`](https://swarmhandbook.earth.esa.int/catalogue/CH_DNS_ACC_2_)\n",
    "- GRACE 1 & 2:  \n",
    "  [`GR_OPER_DNSxACC_2_`](https://swarmhandbook.earth.esa.int/catalogue/GR_DNSxACC_2_)\n",
    "- GRACE-FO 1:  \n",
    "  [`GF_OPER_DNSxACC_2_`](https://swarmhandbook.earth.esa.int/catalogue/GF_DNSxACC_2_)\n",
    "\n",
    "We can check the available parameter names with:"
   ]
  },
  {
   "cell_type": "code",
   "execution_count": null,
   "metadata": {},
   "outputs": [],
   "source": [
    "request = SwarmRequest(SERVER_URL)\n",
    "for collection in (\"SW_OPER_DNSAACC_2_\", \"SW_OPER_DNSAPOD_2_\", \"CH_OPER_DNS_ACC_2_\", \"GR_OPER_DNS1ACC_2_\", \"GF_OPER_DNS1ACC_2_\"):\n",
    "    print(f\"{collection}:\\n{request.available_measurements(collection)}\\n\")"
   ]
  },
  {
   "cell_type": "markdown",
   "metadata": {},
   "source": [
    "We can check for available time windows with:"
   ]
  },
  {
   "cell_type": "code",
   "execution_count": null,
   "metadata": {},
   "outputs": [],
   "source": [
    "request.available_times(\"SW_OPER_DNSAPOD_2_\")"
   ]
  },
  {
   "cell_type": "code",
   "execution_count": null,
   "metadata": {},
   "outputs": [],
   "source": [
    "request.available_times(\"GF_OPER_DNS1ACC_2_\")"
   ]
  },
  {
   "cell_type": "markdown",
   "metadata": {},
   "source": [
    "## Fetching neutral density"
   ]
  },
  {
   "cell_type": "code",
   "execution_count": null,
   "metadata": {},
   "outputs": [],
   "source": [
    "request = SwarmRequest(SERVER_URL)\n",
    "request.set_collection(f\"SW_OPER_DNSAACC_2_\")\n",
    "request.set_products(\n",
    "    measurements=[\"density\"],\n",
    ")\n",
    "data = request.get_between(dt.datetime(2015, 1, 1), dt.datetime(2015, 1, 2))\n",
    "data.as_xarray()"
   ]
  },
  {
   "cell_type": "markdown",
   "metadata": {},
   "source": [
    "## Fetching from multiple spacecraft"
   ]
  },
  {
   "cell_type": "markdown",
   "metadata": {},
   "source": [
    "We will fetch the data from around the geomagnetic storm event that affected a SpaceX Starlink launch and subsequent loss of spacecraft. See for example:  \n",
    "[Starlink Satellite Losses During the February 2022 Geomagnetic Storm Event: Science, Technical and Economic Consequences, Policy, and Mitigation](https://agupubs.onlinelibrary.wiley.com/doi/toc/10.1002/(ISSN)1542-7390.STRLNK2022)"
   ]
  },
  {
   "cell_type": "code",
   "execution_count": null,
   "metadata": {},
   "outputs": [],
   "source": [
    "def fetch_density(mission=\"SW\", spacecraft=\"A\", source=\"ACC\", start_time=None, end_time=None):\n",
    "    request = SwarmRequest(SERVER_URL)\n",
    "    request.set_collection(f\"{mission}_OPER_DNS{spacecraft}{source}_2_\")\n",
    "    request.set_products(\n",
    "        measurements=[\"density\"],\n",
    "        auxiliaries=[\"QDLat\", \"OrbitNumber\", \"OrbitDirection\", \"QDOrbitDirection\"],\n",
    "    )\n",
    "    data = request.get_between(start_time, end_time, asynchronous=False, show_progress=False)\n",
    "    return data.as_xarray()\n",
    "\n",
    "\n",
    "start_time = dt.datetime(2022, 2, 1)\n",
    "end_time = dt.datetime(2022, 2, 8)\n",
    "# ds_SwA = fetch_density(mission=\"SW\", spacecraft=\"A\", source=\"POD\", start_time=start_time, end_time=end_time)\n",
    "# ds_SwB = fetch_density(mission=\"SW\", spacecraft=\"B\", source=\"POD\", start_time=start_time, end_time=end_time)\n",
    "ds_SwC = fetch_density(mission=\"SW\", spacecraft=\"C\", source=\"POD\", start_time=start_time, end_time=end_time)\n",
    "ds_GF1 = fetch_density(mission=\"GF\", spacecraft=\"1\", source=\"ACC\", start_time=start_time, end_time=end_time)"
   ]
  },
  {
   "cell_type": "markdown",
   "metadata": {},
   "source": [
    "Now we have the data available from several datasets, e.g.:"
   ]
  },
  {
   "cell_type": "code",
   "execution_count": null,
   "metadata": {},
   "outputs": [],
   "source": [
    "# Use Swarm-C dataset, extract one day, and plot density\n",
    "ds_SwC.sel(Timestamp=slice(\"2022-02-02\", \"2022-02-02\"))[\"density\"].plot.line(figsize=(10, 2));"
   ]
  },
  {
   "cell_type": "markdown",
   "metadata": {},
   "source": [
    "You can check which source products have been accessed:"
   ]
  },
  {
   "cell_type": "code",
   "execution_count": null,
   "metadata": {},
   "outputs": [],
   "source": [
    "ds_SwC.attrs[\"Sources\"]"
   ]
  },
  {
   "cell_type": "markdown",
   "metadata": {},
   "source": [
    "## Visualisation example"
   ]
  },
  {
   "cell_type": "markdown",
   "metadata": {},
   "source": [
    "Let's try to display the density data as a function of time and latitude..."
   ]
  },
  {
   "cell_type": "code",
   "execution_count": null,
   "metadata": {},
   "outputs": [],
   "source": [
    "ds_GF1.plot.scatter(x=\"Timestamp\", y=\"Latitude\", hue=\"density\", s=2, edgecolors=\"face\", figsize=(10, 4));"
   ]
  },
  {
   "cell_type": "markdown",
   "metadata": {},
   "source": [
    "Now let's explore that a bit more to have more control over the figure"
   ]
  },
  {
   "cell_type": "code",
   "execution_count": null,
   "metadata": {},
   "outputs": [],
   "source": [
    "def select_north(ds):\n",
    "    return ds.where(ds[\"Latitude\"] > 0, drop=True)\n",
    "\n",
    "def select_south(ds):\n",
    "    return ds.where(ds[\"Latitude\"] < 0, drop=True)\n",
    "\n",
    "def select_ascending(ds):\n",
    "    return ds.where(ds[\"OrbitDirection\"] == 1, drop=True)\n",
    "\n",
    "def select_descending(ds):\n",
    "    return ds.where(ds[\"OrbitDirection\"] == -1, drop=True)\n",
    "\n",
    "def get_times_at_orbits(ds, orbitnos: list):\n",
    "    da = ds[\"OrbitNumber\"]\n",
    "    t = []\n",
    "    for orbitno in orbitnos:\n",
    "        try:\n",
    "            _t = da.where(da == orbitno, drop=True).isel({\"Timestamp\": 0})[\"Timestamp\"].values.astype(\"datetime64[s]\").astype(dt.datetime)\n",
    "        except IndexError:\n",
    "            _t = None\n",
    "        t.append(_t)\n",
    "    return t\n",
    "\n",
    "def get_orbits_at_times(ds, times: list):\n",
    "    da = ds[\"OrbitNumber\"]\n",
    "    return list(da.sel(Timestamp=times, method=\"nearest\").values.astype(int))"
   ]
  },
  {
   "cell_type": "code",
   "execution_count": null,
   "metadata": {},
   "outputs": [],
   "source": [
    "norm_gf =  mpl.colors.Normalize(vmin=0, vmax=7.5e-13)\n",
    "norm_sw = mpl.colors.Normalize(vmin=0, vmax=20e-13)\n",
    "\n",
    "def plot_density(ds=ds_GF1, norm=norm_gf, title=\"GRACE-FO 1\"):\n",
    "    \n",
    "    cmap = \"viridis\"\n",
    "    plot_kwargs = {\"norm\": norm, \"edgecolors\": None, \"s\": 2, \"marker\": \"s\", \"cmap\": cmap}\n",
    "    \n",
    "    fig, axes = plt.subplots(2, 1, figsize=(10, 4), sharex=True)\n",
    "    # Plot the four segments of each orbit in sequence\n",
    "    # North\n",
    "    _ds = select_ascending(select_north(ds))\n",
    "    axes[0].scatter(x=_ds[\"OrbitNumber\"], y=_ds[\"Latitude\"], c=_ds[\"density\"], **plot_kwargs)\n",
    "    _ds = select_descending(select_north(ds))\n",
    "    axes[0].scatter(x=_ds[\"OrbitNumber\"]+.5, y=_ds[\"Latitude\"], c=_ds[\"density\"], **plot_kwargs)\n",
    "    # South\n",
    "    _ds = select_descending(select_south(ds))\n",
    "    axes[1].scatter(x=_ds[\"OrbitNumber\"]+0.5, y=_ds[\"Latitude\"], c=_ds[\"density\"], **plot_kwargs)\n",
    "    _ds = select_ascending(select_south(ds))\n",
    "    axes[1].scatter(x=_ds[\"OrbitNumber\"]+1.0, y=_ds[\"Latitude\"], c=_ds[\"density\"], **plot_kwargs)\n",
    "    # Adjust axes\n",
    "    axes[0].set_ylim(0, 90)\n",
    "    axes[1].set_ylim(-90, 0)\n",
    "    fig.subplots_adjust(hspace=0)\n",
    "    axes[1].set_ylabel(\"Latitude\")\n",
    "    # axes[0].set_backgr\n",
    "    fig.suptitle(title)\n",
    "    # Move xticks to align with day starts\n",
    "    t_start_end = ds[\"Timestamp\"].isel(Timestamp=[0, -1]).values.astype(\"datetime64[s]\").astype(dt.datetime)\n",
    "    times_to_mark = pd.date_range(start=t_start_end[0], end=t_start_end[1], freq=\"D\")\n",
    "    orbits_to_mark = get_orbits_at_times(ds, times_to_mark)\n",
    "    axes[1].set_xticks(orbits_to_mark)\n",
    "    # Replace orbit numbers with the times\n",
    "    times_formatted = [_t.strftime(\"%Y-%m-%d\") for _t in times_to_mark]\n",
    "    axes[1].set_xticklabels(times_formatted)\n",
    "    # Add colorbar\n",
    "    cbar_ax = fig.add_axes([0.95, 0.3, 0.01, 0.4])\n",
    "    sm = mpl.cm.ScalarMappable(cmap=plot_kwargs[\"cmap\"], norm=plot_kwargs[\"norm\"])\n",
    "    sm.set_array([])\n",
    "    cb = fig.colorbar(sm, cax=cbar_ax)\n",
    "    cb.set_label(\"density [kg m$^{-3}$]\")"
   ]
  },
  {
   "cell_type": "code",
   "execution_count": null,
   "metadata": {},
   "outputs": [],
   "source": [
    "plot_density(ds_GF1, norm_gf, \"GRACE-FO 1\")"
   ]
  },
  {
   "cell_type": "code",
   "execution_count": null,
   "metadata": {},
   "outputs": [],
   "source": [
    "plot_density(ds_SwC, norm_sw, \"Swarm C\")"
   ]
  }
 ],
 "metadata": {
  "kernelspec": {
   "display_name": "Python 3 (ipykernel)",
   "language": "python",
   "name": "python3"
  },
  "language_info": {
   "codemirror_mode": {
    "name": "ipython",
    "version": 3
   },
   "file_extension": ".py",
   "mimetype": "text/x-python",
   "name": "python",
   "nbconvert_exporter": "python",
   "pygments_lexer": "ipython3"
  }
 },
 "nbformat": 4,
 "nbformat_minor": 4
}
