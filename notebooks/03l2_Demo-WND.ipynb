{
 "cells": [
  {
   "cell_type": "markdown",
   "metadata": {},
   "source": [
    "# WND (Thermospheric crosswinds)"
   ]
  },
  {
   "cell_type": "code",
   "execution_count": null,
   "metadata": {},
   "outputs": [],
   "source": [
    "SERVER_URL = \"https://vires.services/ows\""
   ]
  },
  {
   "cell_type": "code",
   "execution_count": null,
   "metadata": {},
   "outputs": [],
   "source": [
    "%load_ext watermark\n",
    "%watermark -i -v -p viresclient,pandas,xarray,matplotlib,cartopy"
   ]
  },
  {
   "cell_type": "code",
   "execution_count": null,
   "metadata": {},
   "outputs": [],
   "source": [
    "from viresclient import SwarmRequest\n",
    "import datetime as dt"
   ]
  },
  {
   "cell_type": "markdown",
   "metadata": {},
   "source": [
    "## Product information"
   ]
  },
  {
   "cell_type": "markdown",
   "metadata": {},
   "source": [
    "Thermospheric crosswind products are available through the following collections, from non-Swarm spacecraft via the [TOLEOS project](https://earth.esa.int/eogateway/activities/toleos)\n",
    "\n",
    "- CHAMP:  \n",
    "  [`CH_OPER_WND_ACC_2_`](https://swarmhandbook.earth.esa.int/catalogue/CH_WND_ACC_2_)\n",
    "- GRACE 1 & 2:  \n",
    "  [`GR_OPER_WNDxACC_2_`](https://swarmhandbook.earth.esa.int/catalogue/GR_WNDxACC_2_)\n",
    "- GRACE-FO 1:  \n",
    "  [`GF_OPER_WNDxACC_2_`](https://swarmhandbook.earth.esa.int/catalogue/GF_WNDxACC_2_)\n",
    "\n",
    "We can check the available parameter names with:"
   ]
  },
  {
   "cell_type": "code",
   "execution_count": null,
   "metadata": {},
   "outputs": [],
   "source": [
    "request = SwarmRequest(SERVER_URL)\n",
    "for collection in (\"CH_OPER_WND_ACC_2_\", \"GR_OPER_WND1ACC_2_\", \"GF_OPER_WND1ACC_2_\"):\n",
    "    print(f\"{collection}:\\n{request.available_measurements(collection)}\\n\")"
   ]
  },
  {
   "cell_type": "code",
   "execution_count": null,
   "metadata": {},
   "outputs": [],
   "source": [
    "request.available_times(\"GF_OPER_WND1ACC_2_\")"
   ]
  },
  {
   "cell_type": "markdown",
   "metadata": {},
   "source": [
    "## Fetching and plotting data"
   ]
  },
  {
   "cell_type": "code",
   "execution_count": null,
   "metadata": {},
   "outputs": [],
   "source": [
    "start_time = dt.datetime(2023, 1, 1)\n",
    "end_time = dt.datetime(2023, 1, 8)\n",
    "\n",
    "request = SwarmRequest(SERVER_URL)\n",
    "request.set_collection(\"GF_OPER_WND1ACC_2_\")\n",
    "request.set_products(\n",
    "    measurements=[\"crosswind\", \"crosswind_direction\", \"validity_flag\"],\n",
    ")\n",
    "data = request.get_between(start_time, end_time)\n",
    "ds = data.as_xarray()\n",
    "ds"
   ]
  },
  {
   "cell_type": "code",
   "execution_count": null,
   "metadata": {},
   "outputs": [],
   "source": [
    "ds.plot.scatter(x=\"Timestamp\", y=\"Latitude\", hue=\"crosswind\", s=2, edgecolors=\"face\", figsize=(10, 4));"
   ]
  }
 ],
 "metadata": {
  "kernelspec": {
   "display_name": "Python 3 (ipykernel)",
   "language": "python",
   "name": "python3"
  },
  "language_info": {
   "codemirror_mode": {
    "name": "ipython",
    "version": 3
   },
   "file_extension": ".py",
   "mimetype": "text/x-python",
   "name": "python",
   "nbconvert_exporter": "python",
   "pygments_lexer": "ipython3"
  }
 },
 "nbformat": 4,
 "nbformat_minor": 4
}
