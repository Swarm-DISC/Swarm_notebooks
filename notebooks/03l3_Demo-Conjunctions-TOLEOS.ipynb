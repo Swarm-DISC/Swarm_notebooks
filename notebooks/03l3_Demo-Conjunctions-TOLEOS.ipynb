{
 "cells": [
  {
   "cell_type": "markdown",
   "metadata": {},
   "source": [
    "# Conjunctions (TOLEOS)"
   ]
  },
  {
   "cell_type": "code",
   "execution_count": null,
   "metadata": {},
   "outputs": [],
   "source": [
    "SERVER_URL = \"https://vires.services/ows\""
   ]
  },
  {
   "cell_type": "code",
   "execution_count": null,
   "metadata": {},
   "outputs": [],
   "source": [
    "%load_ext watermark\n",
    "%watermark -i -v -p viresclient,pandas,xarray,matplotlib,cartopy"
   ]
  },
  {
   "cell_type": "code",
   "execution_count": null,
   "metadata": {},
   "outputs": [],
   "source": [
    "import datetime as dt\n",
    "\n",
    "import matplotlib.pyplot as plt\n",
    "import numpy as np\n",
    "from viresclient import SwarmRequest"
   ]
  },
  {
   "cell_type": "markdown",
   "metadata": {},
   "source": [
    "## Product information"
   ]
  },
  {
   "cell_type": "markdown",
   "metadata": {},
   "source": [
    "The [`MM_OPER_CON_EPH_2_`](https://swarmhandbook.earth.esa.int/catalogue/MM_CON_EPH_2_) product contains conjunction information between Swarm (A, B, C), CHAMP, GOCE, GRACE (1, 2), and GRACE-FO (1, 2).\n",
    "\n",
    "The product is implemented in VirES as two collections, each available as a single flat time series.\n",
    "\n",
    "`MM_OPER_CON_EPH_2_:crossover` contains the list of times where satellite ground-tracks overlap within a ~7 hour window.\n",
    "\n",
    "`MM_OPER_CON_EPH_2_:plane_alignment` contains much rarer events, where the planes of different spacecraft are aligned"
   ]
  },
  {
   "cell_type": "code",
   "execution_count": null,
   "metadata": {},
   "outputs": [],
   "source": [
    "request = SwarmRequest(SERVER_URL)\n",
    "for collection in (\"MM_OPER_CON_EPH_2_:crossover\", \"MM_OPER_CON_EPH_2_:plane_alignment\"):\n",
    "    print(f\"{collection}:\\n{request.available_measurements(collection)}\\n\")"
   ]
  },
  {
   "cell_type": "markdown",
   "metadata": {},
   "source": [
    "## Fetching data"
   ]
  },
  {
   "cell_type": "markdown",
   "metadata": {},
   "source": [
    "### Crossovers"
   ]
  },
  {
   "cell_type": "markdown",
   "metadata": {},
   "source": [
    "Let's fetch all the available conjunctions for a given day.\n",
    "\n",
    "Note that the `start_time` and `end_time` specified are used for a full interval query over both `time_1` and `time_2` given in the outputs."
   ]
  },
  {
   "cell_type": "code",
   "execution_count": null,
   "metadata": {},
   "outputs": [],
   "source": [
    "request = SwarmRequest(SERVER_URL)\n",
    "request.set_collection(\"MM_OPER_CON_EPH_2_:crossover\")\n",
    "request.set_products(\n",
    "    request.available_measurements(\"MM_OPER_CON_EPH_2_:crossover\")\n",
    ")\n",
    "data = request.get_between(\n",
    "    dt.datetime(2020, 1, 1),\n",
    "    dt.datetime(2020, 1, 2),\n",
    ")\n",
    "df = data.as_dataframe()\n",
    "df"
   ]
  },
  {
   "cell_type": "markdown",
   "metadata": {},
   "source": [
    "Pairs of conjunctioning spacecraft are defined with short designations in the `satellite_1` and `satellite_2` variables:"
   ]
  },
  {
   "cell_type": "code",
   "execution_count": null,
   "metadata": {},
   "outputs": [],
   "source": [
    "df[\"satellite_1\"].unique()"
   ]
  },
  {
   "cell_type": "code",
   "execution_count": null,
   "metadata": {},
   "outputs": [],
   "source": [
    "df[\"satellite_2\"].unique()"
   ]
  },
  {
   "cell_type": "markdown",
   "metadata": {},
   "source": [
    "Each conjunction has a start and end time defined with the `time_1` and `time_2` variables:"
   ]
  },
  {
   "cell_type": "code",
   "execution_count": null,
   "metadata": {},
   "outputs": [],
   "source": [
    "df.iloc[0:5][[\"time_2\", \"satellite_1\", \"satellite_2\"]]"
   ]
  },
  {
   "cell_type": "markdown",
   "metadata": {},
   "source": [
    "We can select all the conjunctions containing a given satellite:"
   ]
  },
  {
   "cell_type": "code",
   "execution_count": null,
   "metadata": {},
   "outputs": [],
   "source": [
    "df_SWA = df.where((df[\"satellite_1\"] == \"SWA\")|(df[\"satellite_2\"] == \"SWA\")).dropna()\n",
    "df_SWA"
   ]
  },
  {
   "cell_type": "markdown",
   "metadata": {},
   "source": [
    "### Plane alignments"
   ]
  },
  {
   "cell_type": "code",
   "execution_count": null,
   "metadata": {},
   "outputs": [],
   "source": [
    "request = SwarmRequest(SERVER_URL)\n",
    "request.set_collection(\"MM_OPER_CON_EPH_2_:plane_alignment\")\n",
    "request.set_products(\n",
    "    request.available_measurements(\"MM_OPER_CON_EPH_2_:plane_alignment\")\n",
    ")\n",
    "data = request.get_between(\n",
    "    dt.datetime(2000, 1, 1),\n",
    "    dt.datetime(2022, 1, 1),\n",
    ")\n",
    "df = data.as_dataframe()\n",
    "df"
   ]
  },
  {
   "cell_type": "code",
   "execution_count": null,
   "metadata": {},
   "outputs": [],
   "source": [
    "def alignments(df, sat=\"SWA\"):\n",
    "    return df.where((df[\"satellite_1\"] == sat)|(df[\"satellite_2\"] == sat)).dropna()\n",
    "\n",
    "sats = ('CH', 'GO', 'GR1', 'GR2', 'GF1', 'GF2', 'SWA', 'SWB', 'SWC')\n",
    "fig, axes = plt.subplots(len(sats), 1, figsize=(10, 5), sharex=True)\n",
    "empty = np.empty(df.index.shape)\n",
    "empty[:] = np.nan\n",
    "axes[0].plot(df.index, empty)\n",
    "for sat, ax in zip(sats, axes):\n",
    "    _df = alignments(df, sat=sat)\n",
    "    for date in _df.index:\n",
    "        ax.axvline(date)\n",
    "    ax.set_yticks([])\n",
    "    ax.set_ylabel(sat)\n",
    "fig.subplots_adjust(hspace=0)\n",
    "fig.suptitle(\"Plane alignments\");"
   ]
  }
 ],
 "metadata": {
  "kernelspec": {
   "display_name": "Python 3 (ipykernel)",
   "language": "python",
   "name": "python3"
  },
  "language_info": {
   "codemirror_mode": {
    "name": "ipython",
    "version": 3
   },
   "file_extension": ".py",
   "mimetype": "text/x-python",
   "name": "python",
   "nbconvert_exporter": "python",
   "pygments_lexer": "ipython3"
  }
 },
 "nbformat": 4,
 "nbformat_minor": 4
}
