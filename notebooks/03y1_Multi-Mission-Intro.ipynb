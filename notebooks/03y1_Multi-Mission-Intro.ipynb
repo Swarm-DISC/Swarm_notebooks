{
 "cells": [
  {
   "cell_type": "markdown",
   "id": "0",
   "metadata": {},
   "source": [
    "# Multi-Mission MAG\n",
    "\n",
    "> Abstract: An introduction to \"the greater Swarm\": calibrated platform magnetometer data from other missions. We begin with Cryosat-2, GRACE, GRACE-FO, and GOCE\n",
    "\n",
    "See also:\n",
    "- https://nbviewer.jupyter.org/github/pacesm/jupyter_notebooks/blob/master/MAG"
   ]
  },
  {
   "cell_type": "code",
   "execution_count": null,
   "id": "1",
   "metadata": {},
   "outputs": [],
   "source": [
    "SERVER_URL = \"https://vires.services/ows\""
   ]
  },
  {
   "cell_type": "code",
   "execution_count": null,
   "id": "2",
   "metadata": {},
   "outputs": [],
   "source": [
    "%load_ext watermark\n",
    "%watermark -i -v -p viresclient,pandas,xarray,matplotlib,cartopy"
   ]
  },
  {
   "cell_type": "code",
   "execution_count": null,
   "id": "3",
   "metadata": {},
   "outputs": [],
   "source": [
    "from viresclient import SwarmRequest\n",
    "import datetime as dt\n",
    "import matplotlib.pyplot as plt\n",
    "import cartopy.crs as ccrs\n",
    "import cartopy.feature as cfeature\n",
    "from tqdm.notebook import tqdm"
   ]
  },
  {
   "cell_type": "markdown",
   "id": "4",
   "metadata": {},
   "source": [
    "## Product information"
   ]
  },
  {
   "cell_type": "markdown",
   "id": "5",
   "metadata": {},
   "source": [
    "Platform magnetometer data from other missions have been carefully recalibrated so that they are accurate and suitable for usage in geomagnetic field modelling. The data currently available from VirES are as follows:\n",
    "\n",
    "- CryoSat-2:  \n",
    "  Olsen, N., Albini, G., Bouffard, J. et al., Magnetic observations from CryoSat-2: calibration and processing of satellite platform magnetometer data. Earth Planets Space 72, 48 (2020).  \n",
    "  <https://doi.org/10.1186/s40623-020-01171-9>  \n",
    "  VirES collection names: `\"CS_OPER_MAG\"`\n",
    "- GRACE (x2):  \n",
    "  Olsen, N., Magnetometer data from the GRACE satellite duo. Earth Planets Space 73, 62 (2021).  \n",
    "  <https://doi.org/10.1186/s40623-021-01373-9>  \n",
    "  VirES collection names: `\"GRACE_A_MAG\"`, `\"GRACE_B_MAG\"`  \n",
    "- GRACE-FO (x2):  \n",
    "  Stolle, C., Michaelis, I., Xiong, C. et al., Observing Earth’s magnetic environment with the GRACE-FO mission. Earth Planets Space 73, 51 (2021).  \n",
    "  <https://doi.org/10.1186/s40623-021-01364-w>  \n",
    "  VirES collection names: `\"GF1_OPER_FGM_ACAL_CORR\"`, `\"GF2_OPER_FGM_ACAL_CORR\"`\n",
    "- GRACE-FO (x2) (ML-calibrated):  \n",
    "  Styp-Rekowski, Kevin; Michaelis, Ingo; Korte, Monika; Stolle, Claudia (2023): GRACE-FO ML-calibrated magnetic field data. V. 0302. GFZ Data Services.  \n",
    "  https://doi.org/10.5880/GFZ.2.3.2023.001  \n",
    "  VirES collection names: `\"GF1_MAG_ACAL_CORR_ML\"`, `\"GF2_MAG_ACAL_CORR_ML\"`\n",
    "- GOCE:  \n",
    "  Michaelis, Ingo; Korte, Monika (2022), GOCE calibrated and characterised magnetometer data. V. 0205. GFZ Data Services.  \n",
    "  https://doi.org/10.5880/GFZ.2.3.2022.001  \n",
    "  VirES collection names: `\"GO_MAG_ACAL_CORR\"`\n",
    "- GOCE (ML-calibrated):  \n",
    "  Styp-Rekowski, Kevin; Michaelis, Ingo; Stolle, Claudia; Baerenzung, Julien; Korte, Monika; Kao, Odej (2022): GOCE ML-calibrated magnetic field data. V. 0204. GFZ Data Services.  \n",
    "  https://doi.org/10.5880/GFZ.2.3.2022.002  \n",
    "  VirES collection names: `\"GO_MAG_ACAL_CORR_ML\"`\n",
    "\n",
    "In addition to those data, we also have the full magnetic product from CHAMP:\n",
    "- CHAMP:  \n",
    "  Rother, Martin; Michaelis, Ingo (2019): CH-ME-3-MAG - CHAMP 1 Hz Combined Magnetic Field Time Series (Level 3). GFZ Data Services. https://doi.org/10.5880/GFZ.2.3.2019.004  \n",
    "  VirES collection name: `\"CH_ME_MAG_LR_3\"`\n",
    "\n",
    "The variables available from each collection are:"
   ]
  },
  {
   "cell_type": "code",
   "execution_count": null,
   "id": "6",
   "metadata": {},
   "outputs": [],
   "source": [
    "request = SwarmRequest(SERVER_URL)\n",
    "for collection in (\"CH_ME_MAG_LR_3\", \"CS_OPER_MAG\", \"GRACE_A_MAG\", \"GF1_OPER_FGM_ACAL_CORR\", \"GF1_MAG_ACAL_CORR_ML\", \"GO_MAG_ACAL_CORR\", \"GO_MAG_ACAL_CORR_ML\"):\n",
    "    print(f\"{collection}:\\n{request.available_measurements(collection)}\\n\")"
   ]
  },
  {
   "cell_type": "markdown",
   "id": "7",
   "metadata": {},
   "source": [
    "Where additional `B_NEC` variables are specified (`B_NEC1`, `B_NEC2`, `B_NEC3`), these correspond to measurements from separate magnetometers on-board the spacecraft. See the scientific publications for details. Magnetic model evaluation will also work with those variables.\n",
    "\n",
    "The temporal availabilities of data are:"
   ]
  },
  {
   "cell_type": "code",
   "execution_count": null,
   "id": "8",
   "metadata": {},
   "outputs": [],
   "source": [
    "availabilities = {}\n",
    "for collection in (\n",
    "    \"SW_OPER_MAGA_LR_1B\", \"SW_OPER_MAGB_LR_1B\", \"SW_OPER_MAGC_LR_1B\",\n",
    "    \"CH_ME_MAG_LR_3\",\n",
    "    \"CS_OPER_MAG\",\n",
    "    \"GRACE_A_MAG\", \"GRACE_B_MAG\",\n",
    "    \"GF1_OPER_FGM_ACAL_CORR\", \"GF2_OPER_FGM_ACAL_CORR\",\n",
    "    \"GF1_MAG_ACAL_CORR_ML\", \"GF2_MAG_ACAL_CORR_ML\",\n",
    "    \"GO_MAG_ACAL_CORR\", \"GO_MAG_ACAL_CORR_ML\",\n",
    "):\n",
    "    df = request.available_times(collection)\n",
    "    start = df[\"starttime\"].iloc[0].to_pydatetime()\n",
    "    end = df[\"endtime\"].iloc[-1].to_pydatetime()\n",
    "    availabilities[collection] = (start, end)\n",
    "for collection, (start, end) in availabilities.items():\n",
    "    print(f\"{collection}:\\n {start.isoformat()} to {end.isoformat()}\")"
   ]
  },
  {
   "cell_type": "code",
   "execution_count": null,
   "id": "9",
   "metadata": {},
   "outputs": [],
   "source": [
    "fig, ax = plt.subplots(1, 1)\n",
    "for i, (collection, (start, end)) in enumerate(availabilities.items()):\n",
    "    ax.plot([start, end], [-i, -i], label=collection)\n",
    "ax.legend(bbox_to_anchor=(1, 1, 0, 0))\n",
    "ax.set_yticks([])\n",
    "ax.grid()"
   ]
  },
  {
   "cell_type": "markdown",
   "id": "10",
   "metadata": {},
   "source": [
    "## Access works just like Swarm MAG products\n",
    "\n",
    "We can specify which collection to fetch, and which models to evaluate at the same time:"
   ]
  },
  {
   "cell_type": "code",
   "execution_count": null,
   "id": "11",
   "metadata": {},
   "outputs": [],
   "source": [
    "request = SwarmRequest()\n",
    "request.set_collection(\"GF1_OPER_FGM_ACAL_CORR\")\n",
    "request.set_products([\"B_NEC\"], models=[\"IGRF\"])\n",
    "data = request.get_between(\"2018-06-01\", \"2018-06-02\")\n",
    "ds = data.as_xarray()\n",
    "ds"
   ]
  },
  {
   "cell_type": "code",
   "execution_count": null,
   "id": "12",
   "metadata": {},
   "outputs": [],
   "source": [
    "# Append the residual, B - IGRF\n",
    "ds[\"B_NEC_res_IGRF\"] = ds[\"B_NEC\"] - ds[\"B_NEC_IGRF\"]\n",
    "# Plot (B) and (B - IGRF) to compare\n",
    "fig, axes = plt.subplots(nrows=2, ncols=1, figsize=(10, 5), sharex=True)\n",
    "ds[\"B_NEC\"].plot.line(x=\"Timestamp\", ax=axes[0])\n",
    "ds[\"B_NEC_res_IGRF\"].plot.line(x=\"Timestamp\", ax=axes[1]);"
   ]
  },
  {
   "cell_type": "markdown",
   "id": "13",
   "metadata": {},
   "source": [
    "## Data from multiple spacecraft\n",
    "\n",
    "Here is an example of fetching and visualising data from multiple spacecraft. We select a day where we can get data from Swarm, CryoSat, and GRACE-FO."
   ]
  },
  {
   "cell_type": "code",
   "execution_count": null,
   "id": "14",
   "metadata": {},
   "outputs": [],
   "source": [
    "START = dt.datetime(2018, 6, 1)\n",
    "END = dt.datetime(2018, 6, 2)"
   ]
  },
  {
   "cell_type": "code",
   "execution_count": null,
   "id": "15",
   "metadata": {},
   "outputs": [],
   "source": [
    "# Mappings to identify spacecraft and collection names\n",
    "# Let's disable Swarm Charlie & GRACE-FO 2 for now\n",
    "#   as they are in similar places as Swarm Alpha and GRACE-FO 1\n",
    "spacecraft_to_collections = {\n",
    "    \"Swarm Alpha\": \"SW_OPER_MAGA_LR_1B\",\n",
    "    \"Swarm Bravo\": \"SW_OPER_MAGB_LR_1B\",\n",
    "    # \"Swarm Charlie\": \"SW_OPER_MAGC_LR_1B\",\n",
    "    \"CryoSat-2\": \"CS_OPER_MAG\",\n",
    "    \"GRACE-FO 1\": \"GF1_OPER_FGM_ACAL_CORR\",\n",
    "    # \"GRACE-FO 2\": \"GF2_OPER_FGM_ACAL_CORR\"\n",
    "}\n",
    "collections_to_spacecraft = {v: k for k, v in spacecraft_to_collections.items()}\n",
    "\n",
    "def fetch_sc(sc_collection, start_time=START, end_time=END, **kwargs):\n",
    "    \"\"\"Fetch data from a specific spacecraft\"\"\"\n",
    "    request = SwarmRequest(SERVER_URL)\n",
    "    request.set_collection(sc_collection)\n",
    "    request.set_products([\"B_NEC\"])\n",
    "    data = request.get_between(start_time, end_time, **kwargs)\n",
    "    ds = data.as_xarray()\n",
    "    # Rename the Spacecraft variable to use the mission name too\n",
    "    ds.Spacecraft[:] = collections_to_spacecraft[sc_collection]\n",
    "    return ds\n",
    "\n",
    "ds_set = {}\n",
    "for sc in tqdm(spacecraft_to_collections.keys()):\n",
    "    collection = spacecraft_to_collections[sc]\n",
    "    ds_set[sc] = fetch_sc(collection, asynchronous=False, show_progress=False)"
   ]
  },
  {
   "cell_type": "markdown",
   "id": "16",
   "metadata": {},
   "source": [
    "Data are now stored within datasets within a dictionary:"
   ]
  },
  {
   "cell_type": "code",
   "execution_count": null,
   "id": "17",
   "metadata": {},
   "outputs": [],
   "source": [
    "ds_set[\"Swarm Alpha\"]"
   ]
  },
  {
   "cell_type": "markdown",
   "id": "18",
   "metadata": {},
   "source": [
    "A quick inspection of the data:"
   ]
  },
  {
   "cell_type": "code",
   "execution_count": null,
   "id": "19",
   "metadata": {},
   "outputs": [],
   "source": [
    "ds_set[\"Swarm Alpha\"].plot.scatter(x=\"Longitude\", y=\"Latitude\", hue=\"B_NEC\", s=1, linewidths=0);"
   ]
  },
  {
   "cell_type": "code",
   "execution_count": null,
   "id": "20",
   "metadata": {},
   "outputs": [],
   "source": [
    "fig, axes = plt.subplots(\n",
    "    nrows=2, figsize=(15,15),\n",
    "    subplot_kw={\"projection\": ccrs.PlateCarree()}\n",
    ")\n",
    "for ax in axes:\n",
    "    ax.add_feature(cfeature.COASTLINE, edgecolor='silver')\n",
    "for sc in (\"Swarm Alpha\", \"Swarm Bravo\", \"CryoSat-2\", \"GRACE-FO 1\"):\n",
    "    # Extract from dataset and plot contents\n",
    "    _ds = ds_set[sc]\n",
    "    lon, lat = _ds[\"Longitude\"], _ds[\"Latitude\"]\n",
    "    B_C = _ds[\"B_NEC\"].sel(NEC=\"C\").values\n",
    "    # Plot positions coloured by spacecraft\n",
    "    axes[0].scatter(x=lon, y=lat, s=0.1, label=sc)\n",
    "    # Plot vertical magnetic field\n",
    "    norm = plt.Normalize(vmin=-60000, vmax=60000)\n",
    "    cmap = \"viridis\"\n",
    "    axes[1].scatter(x=lon, y=lat, c=B_C, s=0.1, norm=norm, cmap=cmap)\n",
    "fig.colorbar(plt.cm.ScalarMappable(norm=norm, cmap=cmap), ax=axes[1], label=r\"$B_C$ [nT]\");\n",
    "axes[0].legend(loc=\"upper right\", markerscale=20)\n",
    "axes[0].set_title(\"Orbits from each spacecraft\")\n",
    "axes[1].set_title(\"Vertical component magnetic measurements\");"
   ]
  }
 ],
 "metadata": {
  "kernelspec": {
   "display_name": "Python 3 (ipykernel)",
   "language": "python",
   "name": "python3"
  },
  "language_info": {
   "codemirror_mode": {
    "name": "ipython",
    "version": 3
   },
   "file_extension": ".py",
   "mimetype": "text/x-python",
   "name": "python",
   "nbconvert_exporter": "python",
   "pygments_lexer": "ipython3"
  },
  "vscode": {
   "interpreter": {
    "hash": "6a693262f012b0764ce1a509731aa7af644c1d221d30b43c6fed6082691c75d0"
   }
  }
 },
 "nbformat": 4,
 "nbformat_minor": 5
}
