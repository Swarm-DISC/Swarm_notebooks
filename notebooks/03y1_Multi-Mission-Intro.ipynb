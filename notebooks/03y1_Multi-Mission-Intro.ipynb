{
 "cells": [
  {
   "cell_type": "markdown",
   "id": "113ad810",
   "metadata": {},
   "source": [
    "# Multi-Mission MAG\n",
    "\n",
    "> Abstract: An introduction to \"the greater Swarm\": calibrated platform magnetometer data from other missions. We begin with Cryosat-2, GRACE, and GRACE-FO.\n",
    "\n",
    "See also:\n",
    "- https://nbviewer.jupyter.org/github/pacesm/jupyter_notebooks/blob/master/MAG/MAG_multi-mission_CHAOS_residuals_demo.ipynb"
   ]
  },
  {
   "cell_type": "code",
   "execution_count": null,
   "id": "385df66d",
   "metadata": {},
   "outputs": [],
   "source": [
    "%load_ext watermark\n",
    "%watermark -i -v -p viresclient,pandas,xarray,matplotlib,cartopy"
   ]
  },
  {
   "cell_type": "code",
   "execution_count": null,
   "id": "9b86f6e0",
   "metadata": {},
   "outputs": [],
   "source": [
    "from viresclient import SwarmRequest\n",
    "import datetime as dt\n",
    "import matplotlib.pyplot as plt\n",
    "import cartopy.crs as ccrs\n",
    "import cartopy.feature as cfeature\n",
    "from tqdm.notebook import tqdm"
   ]
  },
  {
   "cell_type": "markdown",
   "id": "72cc9bf0",
   "metadata": {},
   "source": [
    "## Product information"
   ]
  },
  {
   "cell_type": "markdown",
   "id": "af47153f",
   "metadata": {},
   "source": [
    "Platform magnetometer data from other missions have been carefully recalibrated so that they are accurate and suitable for usage in geomagnetic field modelling. The data currently available from VirES are as follows:\n",
    "\n",
    "- CryoSat-2:  \n",
    "  Olsen, N., Albini, G., Bouffard, J. et al. Magnetic observations from CryoSat-2: calibration and processing of satellite platform magnetometer data. Earth Planets Space 72, 48 (2020).  \n",
    "  <https://doi.org/10.1186/s40623-020-01171-9>  \n",
    "  VirES collection names: `\"CS_OPER_MAG\"`\n",
    "- GRACE (x2):  \n",
    "  Olsen, N. Magnetometer data from the GRACE satellite duo. Earth Planets Space 73, 62 (2021).  \n",
    "  <https://doi.org/10.1186/s40623-021-01373-9>  \n",
    "  VirES collection names: `\"GRACE_A_MAG\"`, `\"GRACE_B_MAG\"`  \n",
    "- GRACE-FO (x2):  \n",
    "  Stolle, C., Michaelis, I., Xiong, C. et al. Observing Earth’s magnetic environment with the GRACE-FO mission. Earth Planets Space 73, 51 (2021).  \n",
    "  <https://doi.org/10.1186/s40623-021-01364-w>  \n",
    "  VirES collection names: `\"GF1_OPER_FGM_ACAL_CORR\"`, `\"GF2_OPER_FGM_ACAL_CORR\"`\n",
    "  \n",
    "The variables available from each collection are:"
   ]
  },
  {
   "cell_type": "code",
   "execution_count": null,
   "id": "6e4dea73",
   "metadata": {},
   "outputs": [],
   "source": [
    "request = SwarmRequest()\n",
    "for collection in (\"CS_OPER_MAG\", \"GRACE_A_MAG\", \"GF1_OPER_FGM_ACAL_CORR\"):\n",
    "    print(f\"{collection}:\\n{request.available_measurements(collection)}\\n\")"
   ]
  },
  {
   "cell_type": "markdown",
   "id": "2f4305bb",
   "metadata": {},
   "source": [
    "Where additional `B_NEC` variables are specified (`B_NEC1`, `B_NEC2`, `B_NEC3`), these correspond to measurements from separate magnetometers on-board the spacecraft. See the scientific publications for details. Magnetic model evaluation will also work with those variables.\n",
    "\n",
    "The temporal availabilities of data are:"
   ]
  },
  {
   "cell_type": "code",
   "execution_count": null,
   "id": "aa9294b4",
   "metadata": {},
   "outputs": [],
   "source": [
    "for collection in (\n",
    "        \"CS_OPER_MAG\",\n",
    "        \"GRACE_A_MAG\", \"GRACE_B_MAG\",\n",
    "        \"GF1_OPER_FGM_ACAL_CORR\", \"GF2_OPER_FGM_ACAL_CORR\"\n",
    "    ):\n",
    "    df = request.available_times(collection)\n",
    "    start = df[\"starttime\"].iloc[0]\n",
    "    end = df[\"endtime\"].iloc[-1]\n",
    "    print(f\"{collection}:\\nAvailability: {start} --- {end}\\n\")"
   ]
  },
  {
   "cell_type": "markdown",
   "id": "489e024e",
   "metadata": {},
   "source": [
    "## Access works just like Swarm MAG products\n",
    "\n",
    "We can specify which collection to fetch, and which models to evaluate at the same time:"
   ]
  },
  {
   "cell_type": "code",
   "execution_count": null,
   "id": "7604c7c5",
   "metadata": {},
   "outputs": [],
   "source": [
    "request = SwarmRequest()\n",
    "request.set_collection(\"GF1_OPER_FGM_ACAL_CORR\")\n",
    "request.set_products([\"B_NEC\"], models=[\"IGRF\"])\n",
    "data = request.get_between(\"2018-06-01\", \"2018-06-02\")\n",
    "ds = data.as_xarray()\n",
    "ds"
   ]
  },
  {
   "cell_type": "code",
   "execution_count": null,
   "id": "98ca3ae4",
   "metadata": {},
   "outputs": [],
   "source": [
    "# Append the residual, B - IGRF\n",
    "ds[\"B_NEC_res_IGRF\"] = ds[\"B_NEC\"] - ds[\"B_NEC_IGRF\"]\n",
    "# Plot (B) and (B - IGRF) to compare\n",
    "fig, axes = plt.subplots(nrows=2, ncols=1, figsize=(10, 5), sharex=True)\n",
    "ds[\"B_NEC\"].plot.line(x=\"Timestamp\", ax=axes[0])\n",
    "ds[\"B_NEC_res_IGRF\"].plot.line(x=\"Timestamp\", ax=axes[1]);"
   ]
  },
  {
   "cell_type": "markdown",
   "id": "71db35f3",
   "metadata": {},
   "source": [
    "## Data from multiple spacecraft\n",
    "\n",
    "Here is an example of fetching and visualising data from multiple spacecraft. We select a day where we can get data from Swarm, CryoSat, and GRACE-FO."
   ]
  },
  {
   "cell_type": "code",
   "execution_count": null,
   "id": "c019a2ba",
   "metadata": {},
   "outputs": [],
   "source": [
    "START = dt.datetime(2018, 6, 1)\n",
    "END = dt.datetime(2018, 6, 2)"
   ]
  },
  {
   "cell_type": "code",
   "execution_count": null,
   "id": "705f5b7f",
   "metadata": {},
   "outputs": [],
   "source": [
    "# Mappings to identify spacecraft and collection names\n",
    "# Let's disable Swarm Charlie & GRACE-FO 2 for now\n",
    "#   as they are in similar places as Swarm Alpha and GRACE-FO 1\n",
    "spacecraft_to_collections = {\n",
    "    \"Swarm Alpha\": \"SW_OPER_MAGA_LR_1B\",\n",
    "    \"Swarm Bravo\": \"SW_OPER_MAGB_LR_1B\",\n",
    "#     \"Swarm Charlie\": \"SW_OPER_MAGC_LR_1B\",\n",
    "    \"CryoSat-2\": \"CS_OPER_MAG\",\n",
    "    \"GRACE-FO 1\": \"GF1_OPER_FGM_ACAL_CORR\",\n",
    "#     \"GRACE-FO 2\": \"GF2_OPER_FGM_ACAL_CORR\"\n",
    "}\n",
    "collections_to_spacecraft = {v: k for k, v in spacecraft_to_collections.items()}\n",
    "\n",
    "def fetch_sc(sc_collection, start_time=START, end_time=END, **kwargs):\n",
    "    \"\"\"Fetch data from a specific spacecraft\"\"\"\n",
    "    request = SwarmRequest()\n",
    "    request.set_collection(sc_collection)\n",
    "    request.set_products([\"B_NEC\"])\n",
    "    data = request.get_between(start_time, end_time, **kwargs)\n",
    "    ds = data.as_xarray()\n",
    "    # Rename the Spacecraft variable to use the mission name too\n",
    "    ds.Spacecraft[:] = collections_to_spacecraft[sc_collection]\n",
    "    return ds\n",
    "\n",
    "ds_set = {}\n",
    "for sc in tqdm(spacecraft_to_collections.keys()):\n",
    "    collection = spacecraft_to_collections[sc]\n",
    "    ds_set[sc] = fetch_sc(collection, asynchronous=False, show_progress=False)"
   ]
  },
  {
   "cell_type": "markdown",
   "id": "8cee6d5a",
   "metadata": {},
   "source": [
    "Data are now stored within datasets within a dictionary:"
   ]
  },
  {
   "cell_type": "code",
   "execution_count": null,
   "id": "f6a44210",
   "metadata": {},
   "outputs": [],
   "source": [
    "ds_set[\"Swarm Alpha\"]"
   ]
  },
  {
   "cell_type": "markdown",
   "id": "760752c5",
   "metadata": {},
   "source": [
    "A quick inspection of the data:"
   ]
  },
  {
   "cell_type": "code",
   "execution_count": null,
   "id": "bd5ae1d6",
   "metadata": {},
   "outputs": [],
   "source": [
    "ds_set[\"Swarm Alpha\"].plot.scatter(x=\"Longitude\", y=\"Latitude\", hue=\"B_NEC\", s=0.1);"
   ]
  },
  {
   "cell_type": "code",
   "execution_count": null,
   "id": "f52f0f06",
   "metadata": {},
   "outputs": [],
   "source": [
    "fig, axes = plt.subplots(\n",
    "    nrows=2, figsize=(15,15),\n",
    "    subplot_kw={\"projection\": ccrs.PlateCarree()}\n",
    ")\n",
    "for ax in axes:\n",
    "    ax.add_feature(cfeature.COASTLINE, edgecolor='silver')\n",
    "for sc in (\"Swarm Alpha\", \"Swarm Bravo\", \"CryoSat-2\", \"GRACE-FO 1\"):\n",
    "    # Extract dataset and plot contents\n",
    "    _ds = ds_set[sc]\n",
    "    lon, lat = _ds[\"Longitude\"], _ds[\"Latitude\"]\n",
    "    B_C = _ds[\"B_NEC\"].sel(NEC=\"C\").values\n",
    "    # Plot positions coloured by spacecraft\n",
    "    axes[0].scatter(x=lon, y=lat, s=0.1, label=sc)\n",
    "    norm = plt.Normalize(vmin=-60000, vmax=60000)\n",
    "    cmap = \"viridis\"\n",
    "    # Plot \n",
    "    axes[1].scatter(x=lon, y=lat, c=B_C, s=0.1, norm=norm, cmap=cmap)\n",
    "fig.colorbar(plt.cm.ScalarMappable(norm=norm, cmap=cmap), ax=axes[1], label=r\"$B_C$ [nT]\");\n",
    "axes[0].set_title(\"Orbits from each spacecraft\")\n",
    "axes[1].set_title(\"Vertical component magnetic measurements\");"
   ]
  }
 ],
 "metadata": {
  "language_info": {
   "codemirror_mode": {
    "name": "ipython",
    "version": 3
   },
   "file_extension": ".py",
   "mimetype": "text/x-python",
   "name": "python",
   "nbconvert_exporter": "python",
   "pygments_lexer": "ipython3"
  }
 },
 "nbformat": 4,
 "nbformat_minor": 5
}
