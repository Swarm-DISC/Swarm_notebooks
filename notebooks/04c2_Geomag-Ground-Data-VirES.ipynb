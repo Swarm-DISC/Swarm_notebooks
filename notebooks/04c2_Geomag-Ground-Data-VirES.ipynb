{
 "metadata": {
  "language_info": {
   "codemirror_mode": {
    "name": "ipython",
    "version": 3
   },
   "file_extension": ".py",
   "mimetype": "text/x-python",
   "name": "python",
   "nbconvert_exporter": "python",
   "pygments_lexer": "ipython3",
   "version": "3.8.3-final"
  },
  "orig_nbformat": 2,
  "kernelspec": {
   "name": "python3",
   "display_name": "Python 3"
  }
 },
 "nbformat": 4,
 "nbformat_minor": 2,
 "cells": [
  {
   "cell_type": "markdown",
   "metadata": {},
   "source": [
    "# Geomagnetic Ground Observatory Data\n",
    "\n",
    "> Authors: Ashley Smith\n",
    ">\n",
    "> Abstract: Demonstrates ground observatory data accessed through VirES - this is the AUX_OBS product distributed by BGS to support the Swarm mission, and contains data from INTERMAGNET and the WDC."
   ]
  },
  {
   "cell_type": "markdown",
   "metadata": {},
   "source": [
    "WARNING: This is the early release (staging)."
   ]
  },
  {
   "cell_type": "code",
   "execution_count": null,
   "metadata": {},
   "outputs": [],
   "source": [
    "!pip install git+https://github.com/ESA-VirES/VirES-Python-Client.git@staging"
   ]
  },
  {
   "cell_type": "code",
   "execution_count": null,
   "metadata": {},
   "outputs": [],
   "source": [
    "%load_ext watermark\n",
    "%watermark -i -v -p viresclient,pandas,xarray,matplotlib"
   ]
  },
  {
   "cell_type": "code",
   "execution_count": null,
   "metadata": {},
   "outputs": [],
   "source": [
    "from viresclient import SwarmRequest\n",
    "\n",
    "swarm = SwarmRequest('https://staging.viresdisc.vires.services/ows')"
   ]
  },
  {
   "cell_type": "markdown",
   "metadata": {},
   "source": [
    "### Data are organised into AUX_OBSM (minute) and AUX_OBSS (second) types"
   ]
  },
  {
   "cell_type": "code",
   "execution_count": null,
   "metadata": {
    "tags": []
   },
   "outputs": [],
   "source": [
    "print(swarm.available_collections(\"AUX_OBSM\", details=False))\n",
    "print(swarm.available_collections(\"AUX_OBSS\", details=False))"
   ]
  },
  {
   "cell_type": "code",
   "execution_count": null,
   "metadata": {
    "tags": []
   },
   "outputs": [],
   "source": [
    "print(swarm.available_measurements(\"SW_OPER_AUX_OBSM2_\"))\n",
    "print(swarm.available_measurements(\"SW_OPER_AUX_OBSS2_\"))"
   ]
  },
  {
   "cell_type": "markdown",
   "metadata": {},
   "source": [
    "### Data can be requested similarly to Swarm MAG products\n",
    "\n",
    "**Note that the IAGA_code variable is necessary in order to distinguish records**\n",
    "\n",
    "**Note that there is a special message issued regarding the data terms**"
   ]
  },
  {
   "cell_type": "code",
   "execution_count": null,
   "metadata": {
    "tags": []
   },
   "outputs": [],
   "source": [
    "swarm.set_collection(\"SW_OPER_AUX_OBSM2_\")\n",
    "swarm.set_products([\"IAGA_code\", \"B_NEC\", \"F\", \"Quality\"])\n",
    "data = swarm.get_between(\"2016-01-01\", \"2016-01-03\")\n",
    "ds = data.as_xarray()\n",
    "ds"
   ]
  },
  {
   "cell_type": "markdown",
   "metadata": {},
   "source": [
    "### Use `SwarmRequest.available_observatories()` to find possible IAGA codes"
   ]
  },
  {
   "cell_type": "code",
   "execution_count": null,
   "metadata": {},
   "outputs": [],
   "source": [
    "swarm.available_observatories(\"SW_OPER_AUX_OBSM2_\", details=True)"
   ]
  },
  {
   "cell_type": "markdown",
   "metadata": {},
   "source": [
    "### IAGA codes can be used to directly fetch specific observatories\n",
    "\n",
    "Subset the collection with a special collection name like `\"SW_OPER_AUX_OBSM2_:<IAGA_code>\"` to get data from only that observatory."
   ]
  },
  {
   "cell_type": "code",
   "execution_count": null,
   "metadata": {
    "tags": []
   },
   "outputs": [],
   "source": [
    "swarm.set_collection(\"SW_OPER_AUX_OBSM2_:ABK\")\n",
    "swarm.set_products([\"B_NEC\", \"F\", \"Quality\"])\n",
    "data = swarm.get_between(\"2016-01-01\", \"2016-01-03\")\n",
    "ds = data.as_xarray()\n",
    "ds"
   ]
  },
  {
   "cell_type": "markdown",
   "metadata": {},
   "source": [
    "### Magnetic models can be evaluated just like with the Swarm MAG datasets"
   ]
  },
  {
   "cell_type": "code",
   "execution_count": null,
   "metadata": {
    "tags": []
   },
   "outputs": [],
   "source": [
    "swarm.set_collection(\"SW_OPER_AUX_OBSM2_:ABK\")\n",
    "swarm.set_products(\n",
    "    measurements=[\"B_NEC\"],\n",
    "    models=[\"'CHAOS-internal' = 'CHAOS-Core' + 'CHAOS-Static'\"],\n",
    "    residuals=True\n",
    ")\n",
    "data = swarm.get_between(\"2016-01-01\", \"2016-01-03\")\n",
    "ds = data.as_xarray()"
   ]
  },
  {
   "cell_type": "code",
   "execution_count": null,
   "metadata": {},
   "outputs": [],
   "source": [
    "ds[\"B_NEC_res_CHAOS-internal\"].plot.line(x=\"Timestamp\", col=\"NEC\")"
   ]
  },
  {
   "cell_type": "markdown",
   "metadata": {},
   "source": [
    "(This roughly shows the disturbance sensed by the observatory due to the magnetospheric and ionospheric sources)"
   ]
  }
 ]
}