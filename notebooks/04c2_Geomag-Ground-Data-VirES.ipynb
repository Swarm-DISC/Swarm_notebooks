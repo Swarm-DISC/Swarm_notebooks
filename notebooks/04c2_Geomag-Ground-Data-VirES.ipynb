{
 "cells": [
  {
   "cell_type": "markdown",
   "metadata": {},
   "source": [
    "# AUX_OBS Ground Observatory Data\n",
    "\n",
    "> Abstract: We Demonstrate geomagnetic ground observatory data access through VirES - this is the AUX_OBS product distributed by BGS to support the Swarm mission, and contains data from [INTERMAGNET](http://intermagnet.github.io) and the [World Data Centre (WDC) for Geomagnetism](http://www.wdc.bgs.ac.uk). Data are available as three collections: 1 second and 1 minute cadences (INTERMAGNET definitive & quasi-definitive data), as well as specially derived hourly means over the past century (WDC)."
   ]
  },
  {
   "cell_type": "markdown",
   "metadata": {},
   "source": [
    "## About the data\n",
    "\n",
    "The data are also available from the BGS FTP server (`ftp.nerc-murchison.ac.uk/geomag/Swarm/AUX_OBS/`). If that is more useful to you, you can refer to [this older notebook demonstration](https://nbviewer.jupyter.org/urls/gist.githubusercontent.com/smithara/fd17d31fa4901fb9c663b81f12d4950c/raw/aaef54458f837c30a139b76903b43a50b7ae406d/04c1_Geomag-Ground-Data-FTP.ipynb) of access to the FTP server.\n",
    "\n",
    "Please note the data are under different usage terms than the Swarm data:\n",
    "- If you use the 1-second or 1-minute data, please refer to the [INTERMAGNET data conditions](https://intermagnet.github.io/data_conditions.html)\n",
    "- If you use the 1-hour data, please also refer to the [WDC usage rules](http://www.wdc.bgs.ac.uk/usage.html) and cite the article about the preparation of these data:  \n",
    "  [Macmillan, S., Olsen, N. Observatory data and the Swarm mission. Earth Planet Sp 65, 15 (2013). https://doi.org/10.5047/eps.2013.07.011](https://doi.org/10.5047/eps.2013.07.011)\n",
    "\n",
    "*Caution*: The magnetic vector components have been rotated into the geocentric (NEC) frame rather than the geodetic frame, so that they are consistent with the Swarm data. This is in contrast with the data provided directly from observatories."
   ]
  },
  {
   "cell_type": "code",
   "execution_count": null,
   "metadata": {
    "tags": []
   },
   "outputs": [],
   "source": [
    "# Display important package versions used\n",
    "%load_ext watermark\n",
    "%watermark -i -v -p viresclient,pandas,xarray,matplotlib"
   ]
  },
  {
   "cell_type": "code",
   "execution_count": null,
   "metadata": {},
   "outputs": [],
   "source": [
    "from viresclient import SwarmRequest\n",
    "import matplotlib.pyplot as plt"
   ]
  },
  {
   "cell_type": "markdown",
   "metadata": {},
   "source": [
    "## Organisation of data in VirES"
   ]
  },
  {
   "cell_type": "markdown",
   "metadata": {},
   "source": [
    "### AUX_OBS collection types\n",
    "\n",
    "Data are organised into AUX_OBSH (hour), AUX_OBSM (minute), AUX_OBSS (second) types. For example, to access the hourly data, use the *collection name* `SW_OPER_AUX_OBSH2_`."
   ]
  },
  {
   "cell_type": "code",
   "execution_count": null,
   "metadata": {
    "tags": []
   },
   "outputs": [],
   "source": [
    "request = SwarmRequest()\n",
    "print(request.available_collections(\"AUX_OBSH\", details=False))\n",
    "print(request.available_collections(\"AUX_OBSM\", details=False))\n",
    "print(request.available_collections(\"AUX_OBSS\", details=False))"
   ]
  },
  {
   "cell_type": "markdown",
   "metadata": {},
   "source": [
    "Within each collection, the following variables are available:"
   ]
  },
  {
   "cell_type": "code",
   "execution_count": null,
   "metadata": {
    "tags": []
   },
   "outputs": [],
   "source": [
    "print(request.available_measurements(\"SW_OPER_AUX_OBSH2_\"))\n",
    "print(request.available_measurements(\"SW_OPER_AUX_OBSM2_\"))\n",
    "print(request.available_measurements(\"SW_OPER_AUX_OBSS2_\"))"
   ]
  },
  {
   "cell_type": "markdown",
   "metadata": {},
   "source": [
    "- `B_NEC` and `F` are the magnetic field vector and intensity\n",
    "- `IAGA_code` gives the official three-letter IAGA codes that identify each observatory\n",
    "- `Quality` is either \"D\" or \"Q\" to indicate whether data is definitive (D) or quasi-definitive (Q)\n",
    "- `ObsIndex` is an increasing integer (0, 1, 2...) attached to the hourly data - this indicates a change in the observatory (e.g. of precise location) while the 3-letter IAGA code remained the same"
   ]
  },
  {
   "cell_type": "markdown",
   "metadata": {},
   "source": [
    "### Data can be requested similarly to Swarm MAG products\n",
    "\n",
    "**Note that the `IAGA_code` variable is necessary in order to distinguish records from each observatory**\n",
    "\n",
    "**Note that there is a special message issued regarding the data terms**\n",
    "\n",
    "Let's fetch all the variables available within the 1-minute data, from two days:"
   ]
  },
  {
   "cell_type": "code",
   "execution_count": null,
   "metadata": {
    "tags": []
   },
   "outputs": [],
   "source": [
    "request = SwarmRequest()\n",
    "request.set_collection(\"SW_OPER_AUX_OBSM2_\")\n",
    "request.set_products([\"IAGA_code\", \"B_NEC\", \"F\", \"Quality\"])\n",
    "data = request.get_between(\"2016-01-01\", \"2016-01-03\")\n",
    "ds = data.as_xarray()\n",
    "ds"
   ]
  },
  {
   "cell_type": "markdown",
   "metadata": {},
   "source": [
    "Above, we loaded the data as an xarray `Dataset`, but we could also load the data as a pandas `DataFrame` - note that we should use `expand=True` to separate the vector components of `B_NEC` into distinct columns:"
   ]
  },
  {
   "cell_type": "code",
   "execution_count": null,
   "metadata": {},
   "outputs": [],
   "source": [
    "df = data.as_dataframe(expand=True)\n",
    "df"
   ]
  },
  {
   "cell_type": "markdown",
   "metadata": {},
   "source": [
    "### Use `available_observatories` to find possible IAGA codes\n",
    "\n",
    "We can get a dataframe containing the availability times of data from all the available observatories for a given collection:"
   ]
  },
  {
   "cell_type": "code",
   "execution_count": null,
   "metadata": {},
   "outputs": [],
   "source": [
    "request.available_observatories(\"SW_OPER_AUX_OBSM2_\", details=True)"
   ]
  },
  {
   "cell_type": "markdown",
   "metadata": {},
   "source": [
    "We can also get a list of only the available observatories during a given time window:"
   ]
  },
  {
   "cell_type": "code",
   "execution_count": null,
   "metadata": {},
   "outputs": [],
   "source": [
    "print(request.available_observatories(\"SW_OPER_AUX_OBSM2_\", '2016-01-01', '2016-01-02'))"
   ]
  },
  {
   "cell_type": "markdown",
   "metadata": {},
   "source": [
    "### Use `IAGA_code` to specify a particular observatory\n",
    "\n",
    "Subset the collection with a special collection name like `\"SW_OPER_AUX_OBSM2_:<IAGA_code>\"` to get data from only that observatory:"
   ]
  },
  {
   "cell_type": "code",
   "execution_count": null,
   "metadata": {
    "tags": []
   },
   "outputs": [],
   "source": [
    "request = SwarmRequest()\n",
    "request.set_collection(\"SW_OPER_AUX_OBSM2_:ABK\")\n",
    "request.set_products([\"IAGA_code\", \"B_NEC\", \"F\", \"Quality\"])\n",
    "data = request.get_between(\"2016-01-01\", \"2016-01-03\")\n",
    "ds = data.as_xarray()\n",
    "ds"
   ]
  },
  {
   "cell_type": "markdown",
   "metadata": {},
   "source": [
    "### Magnetic models can be evaluated at the same time\n",
    "\n",
    "The VirES API treats these data similarly to the Swarm MAG products, and so all the same model handling behaviour applies. For example, we can directly remove the CHAOS core and crustal model predictions:"
   ]
  },
  {
   "cell_type": "code",
   "execution_count": null,
   "metadata": {
    "tags": []
   },
   "outputs": [],
   "source": [
    "request = SwarmRequest()\n",
    "request.set_collection(\"SW_OPER_AUX_OBSM2_:ABK\")\n",
    "request.set_products(\n",
    "    measurements=[\"B_NEC\"],\n",
    "    models=[\"'CHAOS-internal' = 'CHAOS-Core' + 'CHAOS-Static'\"],\n",
    "    residuals=True\n",
    ")\n",
    "data = request.get_between(\"2016-01-01\", \"2016-01-03\")\n",
    "ds = data.as_xarray()"
   ]
  },
  {
   "cell_type": "code",
   "execution_count": null,
   "metadata": {},
   "outputs": [],
   "source": [
    "ds[\"B_NEC_res_CHAOS-internal\"].plot.line(x=\"Timestamp\", col=\"NEC\")"
   ]
  },
  {
   "cell_type": "markdown",
   "metadata": {},
   "source": [
    "(This roughly shows the disturbance sensed by the observatory due to the magnetospheric and ionospheric sources)"
   ]
  },
  {
   "cell_type": "markdown",
   "metadata": {},
   "source": [
    "## Data visualisation\n",
    "\n",
    "### Three observatories over a year\n",
    "\n",
    "Let's run through a visualisation of one year of hourly means from three observatories.\n",
    "\n",
    "First fetch the data from our chosen observatories across the UK: LER (Lerwick), ESK (Eskdalemuir), HAD (Hartland). We can apply a few optional settings to reduce unnecessary output:\n",
    "- `verbose=False` to disable the data terms message\n",
    "- `asynchronous=False` to enable synchronous processing on the server - it will be slightly faster but only works for smaller data requests\n",
    "- `show_progress=False` to hide the progress bars\n",
    "- We can also drop the unused `Spacecraft` variable when we load the data"
   ]
  },
  {
   "cell_type": "code",
   "execution_count": null,
   "metadata": {},
   "outputs": [],
   "source": [
    "request = SwarmRequest()\n",
    "request.set_collection(\"SW_OPER_AUX_OBSH2_:LER\", verbose=False)\n",
    "request.set_products(measurements=[\"B_NEC\"])\n",
    "data = request.get_between(\"2013-01-01\", \"2014-01-01\", asynchronous=False, show_progress=False)\n",
    "ds_ler = data.as_xarray().drop(\"Spacecraft\")\n",
    "\n",
    "request = SwarmRequest()\n",
    "request.set_collection(\"SW_OPER_AUX_OBSH2_:ESK\", verbose=False)\n",
    "request.set_products(measurements=[\"B_NEC\"])\n",
    "data = request.get_between(\"2013-01-01\", \"2014-01-01\", asynchronous=False, show_progress=False)\n",
    "ds_esk = data.as_xarray().drop(\"Spacecraft\")\n",
    "\n",
    "request = SwarmRequest()\n",
    "request.set_collection(\"SW_OPER_AUX_OBSH2_:HAD\", verbose=False)\n",
    "request.set_products(measurements=[\"B_NEC\"])\n",
    "data = request.get_between(\"2013-01-01\", \"2014-01-01\", asynchronous=False, show_progress=False)\n",
    "ds_had = data.as_xarray().drop(\"Spacecraft\")"
   ]
  },
  {
   "cell_type": "markdown",
   "metadata": {},
   "source": [
    "Now our data is in three objects which look like this:"
   ]
  },
  {
   "cell_type": "code",
   "execution_count": null,
   "metadata": {},
   "outputs": [],
   "source": [
    "ds_ler"
   ]
  },
  {
   "cell_type": "markdown",
   "metadata": {},
   "source": [
    "We can quickly preview the data using the xarray plotting tools:"
   ]
  },
  {
   "cell_type": "code",
   "execution_count": null,
   "metadata": {},
   "outputs": [],
   "source": [
    "ds_ler[\"B_NEC\"].plot.line(x=\"Timestamp\", col=\"NEC\", sharey=False)"
   ]
  },
  {
   "cell_type": "markdown",
   "metadata": {},
   "source": [
    "Let's make a more complex figure to display data from all three observatories together. We can use matplotlib directly now to create the figure and pass the xarray objects to it to fill the contents. Note that we slice out a particular vector component with e.g. `ds_ler[\"B_NEC\"].sel(NEC=\"N\")`."
   ]
  },
  {
   "cell_type": "code",
   "execution_count": null,
   "metadata": {},
   "outputs": [],
   "source": [
    "fig, axes = plt.subplots(nrows=3, ncols=3, figsize=(15, 5), sharex=\"all\", sharey=\"row\")\n",
    "for i, NEC in enumerate(\"NEC\"):\n",
    "    axes[i, 0].plot(ds_ler[\"Timestamp\"], ds_ler[\"B_NEC\"].sel(NEC=NEC))\n",
    "    axes[i, 1].plot(ds_esk[\"Timestamp\"], ds_esk[\"B_NEC\"].sel(NEC=NEC))\n",
    "    axes[i, 2].plot(ds_had[\"Timestamp\"], ds_had[\"B_NEC\"].sel(NEC=NEC))\n",
    "    axes[i, 0].set_ylabel(f\"B ({NEC}) [nT]\")\n",
    "axes[0, 0].set_title(\"LER: Lerwick (60.0°N)\")\n",
    "axes[0, 1].set_title(\"ESK: Eskdalemuir (55.1°N)\")\n",
    "axes[0, 2].set_title(\"HAD: Hartland (50.8°N)\")\n",
    "fig.tight_layout()"
   ]
  },
  {
   "cell_type": "markdown",
   "metadata": {},
   "source": [
    "This shows us the difference in the main field between these locations - further North (Lerwick), the field is pointing more downwards so the vertical component (C) is stronger. We can also see a small secular variation over the year as the field changes."
   ]
  }
 ],
 "metadata": {
  "language_info": {
   "codemirror_mode": {
    "name": "ipython",
    "version": 3
   },
   "file_extension": ".py",
   "mimetype": "text/x-python",
   "name": "python",
   "nbconvert_exporter": "python",
   "pygments_lexer": "ipython3"
  }
 },
 "nbformat": 4,
 "nbformat_minor": 4
}
