{
 "cells": [
  {
   "cell_type": "markdown",
   "metadata": {},
   "source": [
    "# ChaosMagPy\n",
    "\n",
    "> Package authors: Clemens Kloss et al.\n"
   ]
  },
  {
   "cell_type": "markdown",
   "metadata": {},
   "source": [
    "## Resources\n",
    "\n",
    "Python package: `chaosmagpy`  \n",
    "[Code](https://github.com/ancklo/ChaosMagPy)  \n",
    "[Documentation]([https://chaosmagpy.readthedocs.io/)  \n",
    "[Project page](http://www.spacecenter.dk/files/magnetic-models/CHAOS-7/)  \n",
    "[Swarm Data Handbook](https://swarmhandbook.earth.esa.int/catalogue/SW_MCO_SHA_2X)\n",
    "\n",
    "Finlay, C.C., Kloss, C., Olsen, N., Hammer, M. Toeffner-Clausen, L., Grayver, A and Kuvshinov, A. (2020), The CHAOS-7 geomagnetic field model and observed changes in the South Atlantic Anomaly, Earth Planets and Space 72, doi:10.1186/s40623-020-01252-9"
   ]
  },
  {
   "cell_type": "markdown",
   "metadata": {},
   "source": [
    "## Example usage"
   ]
  },
  {
   "cell_type": "markdown",
   "metadata": {},
   "source": [
    "First we need to get the model coefficients, which can be downloaded from http://www.spacecenter.dk/files/magnetic-models/CHAOS-7/. One way to do this is to use [Pooch](https://www.fatiando.org/pooch/):"
   ]
  },
  {
   "cell_type": "code",
   "execution_count": null,
   "metadata": {},
   "outputs": [],
   "source": [
    "import pooch\n",
    "\n",
    "chaos_matfile = pooch.retrieve(\n",
    "    \"http://www.spacecenter.dk/files/magnetic-models/CHAOS-7/CHAOS-7.15.mat\",\n",
    "    known_hash=\"4a074dd48674eafd076fb95ac05cd1e3e034c2eb6bfe5ee3f566e3764c43bb80\"\n",
    ")"
   ]
  },
  {
   "cell_type": "markdown",
   "metadata": {},
   "source": [
    "The file, `chaos_matfile`, is cached by pooch so we can use it below to drive the forward code for the CHAOS model."
   ]
  },
  {
   "cell_type": "code",
   "execution_count": null,
   "metadata": {},
   "outputs": [],
   "source": [
    "import numpy as np\n",
    "import chaosmagpy as cp\n",
    "\n",
    "# create full grid\n",
    "radius = 3485.  # km, core-mantle boundary\n",
    "theta = np.linspace(0., 180., num=181)  # colatitude in degrees\n",
    "phi = np.linspace(-180., 180., num=361)  # longitude in degrees\n",
    "\n",
    "phi_grid, theta_grid = np.meshgrid(phi, theta)\n",
    "radius_grid = radius*np.ones(phi_grid.shape)\n",
    "\n",
    "time = cp.data_utils.mjd2000(2000, 1, 1)  # modified Julian date\n",
    "\n",
    "# create a \"model\" instance by loading the CHAOS model from a mat-file\n",
    "model = cp.load_CHAOS_matfile(chaos_matfile)\n",
    "\n",
    "# compute field components on the grid using the method \"synth_values_tdep\"\n",
    "B_radius, B_theta, B_phi = model.synth_values_tdep(time, radius_grid, theta_grid, phi_grid)\n",
    "\n",
    "B_radius"
   ]
  },
  {
   "cell_type": "markdown",
   "metadata": {},
   "source": [
    "We can use the built-in tools for visualising the model appropriately:"
   ]
  },
  {
   "cell_type": "code",
   "execution_count": null,
   "metadata": {},
   "outputs": [],
   "source": [
    "model = cp.load_CHAOS_matfile(chaos_matfile)\n",
    "\n",
    "radius = 3485.0  # km, here core-mantle boundary\n",
    "time = 0.0  # mjd2000, here Jan 1, 2000 0:00 UTC\n",
    "\n",
    "model.plot_maps_tdep(time, radius, nmax=16, deriv=1)  # plots the SV up to degree 16"
   ]
  },
  {
   "cell_type": "markdown",
   "metadata": {},
   "source": [
    "For more, see https://chaosmagpy.readthedocs.io/en/master/usage.html"
   ]
  }
 ],
 "metadata": {
  "kernelspec": {
   "display_name": "Python 3 (ipykernel)",
   "language": "python",
   "name": "python3"
  },
  "language_info": {
   "codemirror_mode": {
    "name": "ipython",
    "version": 3
   },
   "file_extension": ".py",
   "mimetype": "text/x-python",
   "name": "python",
   "nbconvert_exporter": "python",
   "pygments_lexer": "ipython3"
  },
  "vscode": {
   "interpreter": {
    "hash": "6a693262f012b0764ce1a509731aa7af644c1d221d30b43c6fed6082691c75d0"
   }
  }
 },
 "nbformat": 4,
 "nbformat_minor": 2
}
