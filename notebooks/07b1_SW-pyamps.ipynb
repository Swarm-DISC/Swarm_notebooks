{
 "cells": [
  {
   "cell_type": "markdown",
   "metadata": {},
   "source": [
    "# pyAMPS\n",
    "\n",
    "> Package authors: Karl M. Laundal et al."
   ]
  },
  {
   "cell_type": "markdown",
   "metadata": {},
   "source": [
    "## Resources\n",
    "\n",
    "Python package: `pyamps`  \n",
    "[Code](https://github.com/klaundal/pyAMPS/)  \n",
    "[Documentation](https://pyamps.readthedocs.io/)  \n",
    "[Swarm Data Handbook](https://swarmhandbook.earth.esa.int/catalogue/SW_MIO_SHA_2E)  \n",
    "\n",
    "\n",
    "Laundal, K. M., Finlay, C. C., Olsen, N. & Reistad, J. P. (2018), Solar wind and seasonal influence on ionospheric currents from Swarm and CHAMP measurements, Journal of Geophysical Research - Space Physics. doi:10.1029/2018JA025387"
   ]
  },
  {
   "cell_type": "markdown",
   "metadata": {},
   "source": [
    "## Example usage"
   ]
  },
  {
   "cell_type": "code",
   "execution_count": null,
   "metadata": {},
   "outputs": [],
   "source": [
    "# initialize by supplying a set of external conditions:\n",
    "from pyamps import AMPS\n",
    "\n",
    "m = AMPS(\n",
    "    350, # Solar wind velocity in km\n",
    "    -4,  # IMF By (GSM) in\n",
    "    -3,  # IMF Bz (GSM) in n\n",
    "    20,  # dipole tilt angle in degree\n",
    "    80,  # F107_index\n",
    ") \n",
    "\n",
    "# make summary plot:\n",
    "m.plot_currents()"
   ]
  }
 ],
 "metadata": {
  "kernelspec": {
   "display_name": "Python 3 (ipykernel)",
   "language": "python",
   "name": "python3"
  },
  "language_info": {
   "codemirror_mode": {
    "name": "ipython",
    "version": 3
   },
   "file_extension": ".py",
   "mimetype": "text/x-python",
   "name": "python",
   "nbconvert_exporter": "python",
   "pygments_lexer": "ipython3"
  },
  "vscode": {
   "interpreter": {
    "hash": "6a693262f012b0764ce1a509731aa7af644c1d221d30b43c6fed6082691c75d0"
   }
  }
 },
 "nbformat": 4,
 "nbformat_minor": 2
}
