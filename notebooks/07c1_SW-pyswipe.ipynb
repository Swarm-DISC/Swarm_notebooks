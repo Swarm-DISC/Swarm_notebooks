{
 "cells": [
  {
   "cell_type": "markdown",
   "metadata": {},
   "source": [
    "# pySwipe\n",
    "\n",
    "> Notebook authors: Spencer M. Hatch\n",
    "\n",
    "> Package authors: Spencer M. Hatch, Karl M. Laundal"
   ]
  },
  {
   "cell_type": "markdown",
   "metadata": {},
   "source": [
    "## Resources\n",
    "\n",
    "Python package: `pyswipe`  \n",
    "[Code](https://github.com/Dartspacephysiker/pyswipe) "
   ]
  },
  {
   "cell_type": "code",
   "execution_count": null,
   "metadata": {},
   "outputs": [],
   "source": [
    "%load_ext watermark\n",
    "%watermark -i -v -p pyswipe,numpy,matplotlib"
   ]
  },
  {
   "cell_type": "markdown",
   "metadata": {},
   "source": [
    "## Introduction"
   ]
  },
  {
   "cell_type": "markdown",
   "metadata": {},
   "source": [
    "\n",
    "In this notebook we will use [pySwipe](https://github.com/Dartspacephysiker/pyswipe) to make some simple summary plots of the high-latitude ionospheric electric potential $\\Phi$, electric field $\\mathbf{E} = -\\nabla \\Phi$, height-integrated electromagnetic work $\\mathbf{J}\\cdot\\mathbf{E}$, and Hall and Pedersen conductances $\\Sigma_H$ and $\\Sigma_P$.\n",
    "\n",
    "Let's start by importing pyswipe and initializing a SWIPE object."
   ]
  },
  {
   "cell_type": "code",
   "execution_count": null,
   "metadata": {},
   "outputs": [],
   "source": [
    "import numpy as np \n",
    "from matplotlib import pyplot as plt\n",
    "\n",
    "from pyswipe import SWIPE\n",
    "\n",
    "#Define solar wind, IMF, and season\n",
    "vsw = 400 # solar wind speed [km/s]\n",
    "by = 3 #IMF By in GSM coordinates [nT]\n",
    "bz = -3 #IMF Bz in GSM coordinates [nT]\n",
    "dptilt = 0. #Dipole tilt [deg]\n",
    "f107val = 120 #F10.7 [s.f.u., typical values are 60–80 and 140–220 during solar min and max, respectively]\n",
    "minlat = 45 #minimum latitude for SWIPE model grid\n",
    "this = SWIPE(vsw,by,bz,dptilt,f107val,\n",
    "             minlat=minlat)"
   ]
  },
  {
   "cell_type": "markdown",
   "metadata": {},
   "source": [
    "## Electric potential and electric field "
   ]
  },
  {
   "cell_type": "markdown",
   "metadata": {},
   "source": [
    "Let's first use this object to produce a quick plot of the electric potential in each hemisphere. \n",
    "* The `plot_potential()` method uses output from the `get_potential()` method and some plotting utilities included in pyswipe to produce this plot."
   ]
  },
  {
   "cell_type": "code",
   "execution_count": null,
   "metadata": {},
   "outputs": [],
   "source": [
    "this.plot_potential()\n",
    "\n",
    "# We could instead use the following if we wanted to get the value of the potential at each of these locations\n",
    "#mlats, mlts = this.plotgrid_scalar\n",
    "#phin, phis = np.split(this.get_potential(), 2)\n",
    "#phin = phin - np.median(phin)\n",
    "#phis = phis - np.median(phis)"
   ]
  },
  {
   "cell_type": "markdown",
   "metadata": {},
   "source": [
    "* The potential distributions in the Northern and Southern Hemisphere for the conditions selected by the user are shown in the left and right panels. \n",
    "* The gray quivers/arrows in each panel show the electric field. \n",
    "* The cross-polar cap potential (i.e., maximum potential - minimum potential) is shown at bottom right in each panel. \n",
    "* The contour spacing is 5 kV."
   ]
  },
  {
   "cell_type": "markdown",
   "metadata": {},
   "source": [
    "## Height-integrated electromagnetic work $\\mathbf{J}\\cdot\\mathbf{E}$\n",
    "\n",
    "Let us now plot height-integrated electromagnetic work."
   ]
  },
  {
   "cell_type": "code",
   "execution_count": null,
   "metadata": {},
   "outputs": [],
   "source": [
    "this.plot_emwork()"
   ]
  },
  {
   "cell_type": "markdown",
   "metadata": {},
   "source": [
    "## Hall and Pedersen conductances"
   ]
  },
  {
   "cell_type": "markdown",
   "metadata": {},
   "source": [
    "Let's now have a look at the Hall and Pedersen conductances."
   ]
  },
  {
   "cell_type": "code",
   "execution_count": null,
   "metadata": {},
   "outputs": [],
   "source": [
    "this.plot_conductance(vmin=0.)"
   ]
  },
  {
   "cell_type": "markdown",
   "metadata": {},
   "source": [
    "* Hall and Pedersen conductance distributions are respectively shown in the top and bottom rows\n",
    "* Q: \"What's up with the gray background?\"\n",
    "    * A: The gray background indicates a location where one of the following conditions is broken:\n",
    "        * 0.05 mho $< \\Sigma_H < 100$ mho\n",
    "        * $\\mathbf{J}\\cdot\\mathbf{E} < $ 0.5 mW/m²\n",
    "    * When one or both of these conditions are not met, it means that output from the Swipe model may not be consistent with the assumption that the neutral wind is zero in the Earth's rotating frame of reference. Why? Because if the neutral wind truly is zero in the Earth's rotating frame of reference, then in that frame of reference $\\mathbf{J}\\cdot\\mathbf{E} > 0$.\n",
    "    * Another possibility: When these conditions aren't met, it might mean that it doesn't make sense to speak of \"average\" ionospheric electrodynamics for the given solar wind conditions, or it might just be an indication that some other aspect of the Swipe model is not perfect, like our choice of a spherical harmonic representation of the electric potential and current systems)\n",
    "    * So! Where model conductances are shown, they are *possibly* consistent with the assumption that the neutral wind is zero in the Earth's rotating frame of reference."
   ]
  },
  {
   "cell_type": "markdown",
   "metadata": {},
   "source": [
    "## Model values at user-specified coordinates"
   ]
  },
  {
   "cell_type": "markdown",
   "metadata": {},
   "source": [
    "We can also get the potential, electric field, and height-integrated electromagnetic work at selected locations.\n",
    "\n",
    "Let's examine the noon-midnight meridian."
   ]
  },
  {
   "cell_type": "code",
   "execution_count": null,
   "metadata": {},
   "outputs": [],
   "source": [
    "mlats = np.arange(45,135.1,0.25)\n",
    "mlts = np.ones_like(mlats)*12\n",
    "flip = mlats > 90\n",
    "mlatsnowrap = mlats.copy()\n",
    "mlats[flip] = 180-mlats[flip]\n",
    "mlts[flip] = (mlts[flip]+12)%24\n",
    "#print(mlats)\n",
    "#print(mlts)\n",
    "pot = this.get_potential(mlats,mlts,grid=False)\n",
    "Ed1, Ed2 = this.get_efield_MA(mlats,mlts,grid=False)\n",
    "emwork = this.get_emwork(mlats,mlts,grid=False)\n",
    "\n",
    "fig, axes = plt.subplots(4,1,figsize=(10,10),sharex=True)\n",
    "fig.suptitle(\"Noon-midnight meridian\\n(\"+r\"$v_{sw}=$\"+str(vsw)+r\", $B_y=$\"+str(by)+r\", $B_z=$\"+str(bz)+r\", $\\Psi=$\"+str(dptilt)+\")\",fontsize=15)\n",
    "\n",
    "tickmlats = np.arange(50,131,10)\n",
    "tickmlatswrap = tickmlats.copy()\n",
    "tickmlatswrap[tickmlats > 90] = 180-tickmlatswrap[tickmlats > 90]\n",
    "\n",
    "#potential\n",
    "plt.sca(axes[0])\n",
    "plt.plot(mlatsnowrap,pot)\n",
    "plt.xticks(ticks=tickmlats,labels=tickmlatswrap)\n",
    "#plt.title(\"Potential\")\n",
    "plt.ylabel(\"Potential [kV]\")\n",
    "\n",
    "#E-field\n",
    "plt.sca(axes[1])\n",
    "plt.plot(mlatsnowrap,Ed1)\n",
    "plt.ylabel(\"$E_{d1}$ [mV/m]\")\n",
    "\n",
    "plt.sca(axes[2])\n",
    "plt.plot(mlatsnowrap,Ed2)\n",
    "plt.ylabel(\"$E_{d2}$ [mV/m]\")\n",
    "\n",
    "#EM work\n",
    "plt.sca(axes[3])\n",
    "plt.plot(mlatsnowrap,emwork)\n",
    "plt.ylabel(\"EM work [mW/m²]\")\n",
    "\n",
    "plt.xlabel(\"MLat [deg]\")\n",
    "\n",
    "#Mark 90° MLat\n",
    "for ax in axes:\n",
    "    ax.axvline(90,linestyle='--',color='gray',zorder=-10)\n",
    "    \n",
    "plt.tight_layout()"
   ]
  },
  {
   "cell_type": "markdown",
   "metadata": {},
   "source": [
    "* First panel: Potential\n",
    "* Second panel: Electric field in the (approximately) magnetic east-west direction\n",
    "* Third panel: Electric field in the (approximately) magnetic north-south direction\n",
    "* Fourth panel: Height-integrated electromagnetic work\n",
    "\n",
    "The discontinuity in the electric field components at 90° MLat is a reflection of the fact that the angular basis vectors of a spherical coordinate system are discontinuous at the poles. "
   ]
  },
  {
   "cell_type": "markdown",
   "metadata": {},
   "source": [
    "Let's make a figure in the same layout as the one above, but this time showing these quantities along the dawn-dusk meridian"
   ]
  },
  {
   "cell_type": "code",
   "execution_count": null,
   "metadata": {},
   "outputs": [],
   "source": [
    "mlats = np.arange(45,135.1,0.25)\n",
    "mlts = np.ones_like(mlats)*6\n",
    "flip = mlats > 90\n",
    "mlatsnowrap = mlats.copy()\n",
    "mlats[flip] = 180-mlats[flip]\n",
    "mlts[flip] = (mlts[flip]+12)%24\n",
    "#print(mlats)\n",
    "#print(mlts)\n",
    "pot = this.get_potential(mlats,mlts,grid=False)\n",
    "Ed1, Ed2 = this.get_efield_MA(mlats,mlts,grid=False)\n",
    "emwork = this.get_emwork(mlats,mlts,grid=False)\n",
    "\n",
    "fig, axes = plt.subplots(4,1,figsize=(10,10),sharex=True)\n",
    "fig.suptitle(\"Dawn-dusk meridian\\n(\"+r\"$v_{sw}=$\"+str(vsw)+r\", $B_y=$\"+str(by)+r\", $B_z=$\"+str(bz)+r\", $\\Psi=$\"+str(dptilt)+\")\",fontsize=15)\n",
    "\n",
    "tickmlats = np.arange(50,131,10)\n",
    "tickmlatswrap = tickmlats.copy()\n",
    "tickmlatswrap[tickmlats > 90] = 180-tickmlatswrap[tickmlats > 90]\n",
    "\n",
    "#potential\n",
    "plt.sca(axes[0])\n",
    "plt.plot(mlatsnowrap,pot)\n",
    "plt.xticks(ticks=tickmlats,labels=tickmlatswrap)\n",
    "#plt.title(\"Potential\")\n",
    "plt.ylabel(\"Potential [kV]\")\n",
    "\n",
    "#E-field\n",
    "plt.sca(axes[1])\n",
    "plt.plot(mlatsnowrap,Ed1)\n",
    "plt.ylabel(\"$E_{d1}$ [mV/m]\")\n",
    "\n",
    "plt.sca(axes[2])\n",
    "plt.plot(mlatsnowrap,Ed2)\n",
    "plt.ylabel(\"$E_{d2}$ [mV/m]\")\n",
    "\n",
    "#EM work\n",
    "plt.sca(axes[3])\n",
    "plt.plot(mlatsnowrap,emwork)\n",
    "plt.ylabel(\"EM work [mW/m²]\")\n",
    "\n",
    "plt.xlabel(\"MLat [deg]\")\n",
    "\n",
    "#Mark 90° MLat\n",
    "for ax in axes:\n",
    "    ax.axvline(90,linestyle='--',color='gray',zorder=-10)\n",
    "    \n",
    "plt.tight_layout()"
   ]
  },
  {
   "cell_type": "markdown",
   "metadata": {},
   "source": [
    "## Along user-specified positions"
   ]
  },
  {
   "cell_type": "markdown",
   "metadata": {},
   "source": [
    "In this notebook we will use [pySwipe](https://github.com/Dartspacephysiker/pyswipe) to make plots of the Swipe high-latitude ionospheric electric potential $\\Phi$, electric field $\\mathbf{E} = -\\nabla \\Phi$, and height-integrated electromagnetic work $\\mathbf{J}\\cdot\\mathbf{E}$ along the noon-midnight and dawn-dusk meridians.\n",
    "\n",
    "Let's start by importing pyswipe and initializing a SWIPE object."
   ]
  },
  {
   "cell_type": "code",
   "execution_count": null,
   "metadata": {},
   "outputs": [],
   "source": [
    "import numpy as np \n",
    "from matplotlib import pyplot as plt\n",
    "\n",
    "from pyswipe import SWIPE\n",
    "\n",
    "#Define solar wind, IMF, and season\n",
    "vsw = 400 # solar wind speed [km/s]\n",
    "by = 3 #IMF By in GSM coordinates [nT]\n",
    "bz = -3 #IMF Bz in GSM coordinates [nT]\n",
    "dptilt = 0. #Dipole tilt [deg]\n",
    "f107val = 120 #F10.7 [s.f.u., typical values are 60–80 and 140–220 during solar min and max, respectively]\n",
    "minlat = 45 #minimum latitude for SWIPE model grid\n",
    "this = SWIPE(vsw,by,bz,dptilt,f107val,\n",
    "             minlat=minlat)"
   ]
  },
  {
   "cell_type": "markdown",
   "metadata": {},
   "source": [
    "## Model values at user-specified coordinates"
   ]
  },
  {
   "cell_type": "markdown",
   "metadata": {},
   "source": [
    "Let's now get the potential, electric field, and height-integrated electromagnetic work along the noon-midnight meridian."
   ]
  },
  {
   "cell_type": "code",
   "execution_count": null,
   "metadata": {},
   "outputs": [],
   "source": [
    "mlats = np.arange(45,135.1,0.25)\n",
    "mlts = np.ones_like(mlats)*12\n",
    "flip = mlats > 90\n",
    "mlatsnowrap = mlats.copy()\n",
    "mlats[flip] = 180-mlats[flip]\n",
    "mlts[flip] = (mlts[flip]+12)%24\n",
    "#print(mlats)\n",
    "#print(mlts)\n",
    "pot = this.get_potential(mlats,mlts,grid=False)\n",
    "Ed1, Ed2 = this.get_efield_MA(mlats,mlts,grid=False)\n",
    "emwork = this.get_emwork(mlats,mlts,grid=False)\n",
    "sh, sp, mask = this.get_conductances(mlats,mlts)\n",
    "sh = np.ma.masked_array(sh,mask)\n",
    "sp = np.ma.masked_array(sp,mask)\n",
    "conmax = np.max([np.max(sh),np.max(sp)])\n",
    "\n",
    "fig, axes = plt.subplots(6,1,figsize=(10,10),sharex=True)\n",
    "fig.suptitle(\"Noon-midnight meridian\\n(\"+r\"$v_{sw}=$\"+str(vsw)+r\", $B_y=$\"+str(by)+r\", $B_z=$\"+str(bz)+r\", $\\Psi=$\"+str(dptilt)+\")\",fontsize=15)\n",
    "\n",
    "tickmlats = np.arange(50,131,10)\n",
    "tickmlatswrap = tickmlats.copy()\n",
    "tickmlatswrap[tickmlats > 90] = 180-tickmlatswrap[tickmlats > 90]\n",
    "\n",
    "#potential\n",
    "plt.sca(axes[0])\n",
    "plt.plot(mlatsnowrap,pot)\n",
    "plt.xticks(ticks=tickmlats,labels=tickmlatswrap)\n",
    "#plt.title(\"Potential\")\n",
    "plt.ylabel(\"Potential [kV]\")\n",
    "\n",
    "#E-field\n",
    "plt.sca(axes[1])\n",
    "plt.plot(mlatsnowrap,Ed1)\n",
    "plt.ylabel(\"$E_{d1}$ [mV/m]\")\n",
    "\n",
    "plt.sca(axes[2])\n",
    "plt.plot(mlatsnowrap,Ed2)\n",
    "plt.ylabel(\"$E_{d2}$ [mV/m]\")\n",
    "\n",
    "#EM work\n",
    "plt.sca(axes[3])\n",
    "plt.plot(mlatsnowrap,emwork)\n",
    "plt.ylabel(\"EM work [mW/m²]\")\n",
    "\n",
    "#Conductances\n",
    "plt.sca(axes[4])\n",
    "plt.plot(mlatsnowrap,sh)\n",
    "plt.ylabel(\"$\\Sigma_H$ [mho]\")\n",
    "plt.ylim((0,conmax))\n",
    "\n",
    "plt.sca(axes[5])\n",
    "plt.plot(mlatsnowrap,sp)\n",
    "plt.ylabel(\"$\\Sigma_P$ [mho]\")\n",
    "plt.ylim((0,conmax))\n",
    "\n",
    "plt.xlabel(\"MLat [deg]\")\n",
    "\n",
    "#Mark 90° MLat\n",
    "for ax in axes:\n",
    "    ax.axvline(90,linestyle='--',color='gray',zorder=-10)\n",
    "    \n",
    "plt.tight_layout()"
   ]
  },
  {
   "cell_type": "markdown",
   "metadata": {},
   "source": [
    "* First panel: Potential\n",
    "* Second panel: Electric field in the (approximately) magnetic east-west direction\n",
    "* Third panel: Electric field in the (approximately) magnetic north-south direction\n",
    "* Fourth panel: Height-integrated electromagnetic work\n",
    "* Fifth and six panels: Hall and Pedersen conductances, with conductance estimates *masked* where these estimates are likely to be bad. (See `pyswipe_introduction.ipynb`.)\n",
    "\n",
    "The discontinuity in the electric field components at 90° MLat is a reflection of the fact that the angular basis vectors of a spherical coordinate system are discontinuous at the poles. "
   ]
  },
  {
   "cell_type": "markdown",
   "metadata": {},
   "source": [
    "Let's make a figure in the same layout as the one above, but this time showing these quantities along the dawn-dusk meridian"
   ]
  },
  {
   "cell_type": "code",
   "execution_count": null,
   "metadata": {},
   "outputs": [],
   "source": [
    "mlats = np.arange(45,135.1,0.25)\n",
    "mlts = np.ones_like(mlats)*6\n",
    "flip = mlats > 90\n",
    "mlatsnowrap = mlats.copy()\n",
    "mlats[flip] = 180-mlats[flip]\n",
    "mlts[flip] = (mlts[flip]+12)%24\n",
    "#print(mlats)\n",
    "#print(mlts)\n",
    "pot = this.get_potential(mlats,mlts,grid=False)\n",
    "Ed1, Ed2 = this.get_efield_MA(mlats,mlts,grid=False)\n",
    "emwork = this.get_emwork(mlats,mlts,grid=False)\n",
    "sh, sp, mask = this.get_conductances(mlats,mlts)\n",
    "sh = np.ma.masked_array(sh,mask)\n",
    "sp = np.ma.masked_array(sp,mask)\n",
    "conmax = np.max([np.max(sh),np.max(sp)])\n",
    "\n",
    "fig, axes = plt.subplots(6,1,figsize=(10,10),sharex=True)\n",
    "fig.suptitle(\"Dawn-dusk meridian\\n(\"+r\"$v_{sw}=$\"+str(vsw)+r\", $B_y=$\"+str(by)+r\", $B_z=$\"+str(bz)+r\", $\\Psi=$\"+str(dptilt)+\")\",fontsize=15)\n",
    "\n",
    "tickmlats = np.arange(50,131,10)\n",
    "tickmlatswrap = tickmlats.copy()\n",
    "tickmlatswrap[tickmlats > 90] = 180-tickmlatswrap[tickmlats > 90]\n",
    "\n",
    "#potential\n",
    "plt.sca(axes[0])\n",
    "plt.plot(mlatsnowrap,pot)\n",
    "plt.xticks(ticks=tickmlats,labels=tickmlatswrap)\n",
    "#plt.title(\"Potential\")\n",
    "plt.ylabel(\"Potential [kV]\")\n",
    "\n",
    "#E-field\n",
    "plt.sca(axes[1])\n",
    "plt.plot(mlatsnowrap,Ed1)\n",
    "plt.ylabel(\"$E_{d1}$ [mV/m]\")\n",
    "\n",
    "plt.sca(axes[2])\n",
    "plt.plot(mlatsnowrap,Ed2)\n",
    "plt.ylabel(\"$E_{d2}$ [mV/m]\")\n",
    "\n",
    "#EM work\n",
    "plt.sca(axes[3])\n",
    "plt.plot(mlatsnowrap,emwork)\n",
    "plt.ylabel(\"EM work [mW/m²]\")\n",
    "\n",
    "#Conductances\n",
    "plt.sca(axes[4])\n",
    "plt.plot(mlatsnowrap,sh)\n",
    "plt.ylabel(\"$\\Sigma_H$ [mho]\")\n",
    "plt.ylim((0,conmax))\n",
    "\n",
    "plt.sca(axes[5])\n",
    "plt.plot(mlatsnowrap,sp)\n",
    "plt.ylabel(\"$\\Sigma_P$ [mho]\")\n",
    "plt.ylim((0,conmax))\n",
    "\n",
    "plt.xlabel(\"MLat [deg]\")\n",
    "\n",
    "#Mark 90° MLat\n",
    "for ax in axes:\n",
    "    ax.axvline(90,linestyle='--',color='gray',zorder=-10)\n",
    "    \n",
    "plt.tight_layout()"
   ]
  }
 ],
 "metadata": {
  "kernelspec": {
   "display_name": "Python 3 (ipykernel)",
   "language": "python",
   "name": "python3"
  },
  "language_info": {
   "codemirror_mode": {
    "name": "ipython",
    "version": 3
   },
   "file_extension": ".py",
   "mimetype": "text/x-python",
   "name": "python",
   "nbconvert_exporter": "python",
   "pygments_lexer": "ipython3"
  },
  "vscode": {
   "interpreter": {
    "hash": "6a693262f012b0764ce1a509731aa7af644c1d221d30b43c6fed6082691c75d0"
   }
  }
 },
 "nbformat": 4,
 "nbformat_minor": 4
}
