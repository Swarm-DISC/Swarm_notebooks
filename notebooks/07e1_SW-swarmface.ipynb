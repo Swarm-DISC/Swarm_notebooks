{
 "cells": [
  {
   "cell_type": "markdown",
   "metadata": {},
   "source": [
    "# SwarmFACE"
   ]
  },
  {
   "cell_type": "markdown",
   "metadata": {},
   "source": [
    "> Package authors: Adrian Blagau, Joachim Vogt"
   ]
  },
  {
   "cell_type": "markdown",
   "metadata": {},
   "source": [
    "## Resources\n",
    "\n",
    "Python package: `SwarmFACE`  \n",
    "[Code](https://github.com/ablagau/SwarmFACE)  \n",
    "[Documentation](https://swarmface.readthedocs.io/)\n",
    "\n",
    "Blagau A and Vogt J (2023) SwarmFACE: A Python package for field-aligned currents exploration with Swarm. Front. Astron. Space Sci. 9:1077845. doi: 10.3389/fspas.2022.1077845"
   ]
  },
  {
   "cell_type": "code",
   "execution_count": null,
   "metadata": {},
   "outputs": [],
   "source": [
    "%load_ext watermark\n",
    "%watermark -i -v -p SwarmFACE,viresclient,numpy,pandas,matplotlib"
   ]
  },
  {
   "cell_type": "markdown",
   "metadata": {},
   "source": [
    "## Example usage\n",
    "\n",
    "For more examples, see https://github.com/ablagau/SwarmFACE/tree/main/notebooks\n",
    "\n",
    "Here we demonstrate the simplest algorithm, the single-satellite FAC method, using [`SwarmFACE.j1sat.j1sat`](https://swarmface.readthedocs.io/en/latest/SwarmFACE.html#SwarmFACE.j1sat.j1sat)\n"
   ]
  },
  {
   "cell_type": "code",
   "execution_count": null,
   "metadata": {},
   "outputs": [],
   "source": [
    "from SwarmFACE.j1sat import j1sat"
   ]
  },
  {
   "cell_type": "markdown",
   "metadata": {},
   "source": [
    "The package is currently awaiting updates to make it work here.\n",
    "\n",
    "Example usage:\n",
    "\n",
    "```python\n",
    "# Settings\n",
    "dtime_beg = '2014-05-04T17:48:00'\n",
    "dtime_end = '2014-05-04T17:54:00'\n",
    "sat = ['C']\n",
    "res = 'LR'\n",
    "N3d=[0.2276, 0.6924, 0.6847]\n",
    "tincl = ['2014-05-04 17:49:50', '2014-05-04 17:52:44']\n",
    "\n",
    "# Fetch data and apply algorithm using above settings\n",
    "j_df, input_df, param = j1sat(\n",
    "    dtime_beg, dtime_end, sat, res=res,\n",
    "    N3d=N3d, tincl=tincl\n",
    ")\n",
    "```\n",
    "\n",
    "The inputs are stored within `input_df`, and the newly calculated FAC current in `j_df` with some extra metadata in `param`."
   ]
  }
 ],
 "metadata": {
  "kernelspec": {
   "display_name": "Python 3 (ipykernel)",
   "language": "python",
   "name": "python3"
  },
  "language_info": {
   "codemirror_mode": {
    "name": "ipython",
    "version": 3
   },
   "file_extension": ".py",
   "mimetype": "text/x-python",
   "name": "python",
   "nbconvert_exporter": "python",
   "pygments_lexer": "ipython3"
  },
  "vscode": {
   "interpreter": {
    "hash": "6a693262f012b0764ce1a509731aa7af644c1d221d30b43c6fed6082691c75d0"
   }
  }
 },
 "nbformat": 4,
 "nbformat_minor": 4
}
