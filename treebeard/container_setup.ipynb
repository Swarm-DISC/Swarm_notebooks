{
 "cells": [
  {
   "cell_type": "markdown",
   "metadata": {},
   "source": [
    "## Treebeard Container Setup\n",
    "\n",
    "This notebook is the first to run when the container starts.\n",
    "\n",
    "It can be used to set env vars and install secrets which can be used to connect to APIs and pull down data too large or sensitive to include in the image.\n",
    "\n",
    "You can pass in secrets using the `notebook-vars` input on the treebeard action\n",
    "\n",
    "Because this is the most awkward to use and cannot be cached only use it when you rely on scripts to set variables or work with data which cannot be handled in the container because it is too large/private.\n"
   ]
  },
  {
   "cell_type": "code",
   "execution_count": null,
   "metadata": {},
   "outputs": [],
   "source": [
    "from viresclient import set_token\n",
    "import os\n",
    "\n",
    "set_token(\n",
    "    \"https://vires.services/ows\", set_default=True, token=os.getenv(\"TB_VIRES_TOKEN\"),\n",
    ")\n",
    "set_token(\n",
    "    \"https://staging.viresdisc.vires.services/ows\", token=os.getenv(\"TB_VIRES_TOKEN_STAGINGDISC\"),\n",
    ")"
   ]
  },
  {
   "cell_type": "code",
   "execution_count": null,
   "metadata": {},
   "outputs": [],
   "source": [
    "from treebeard.helper import shell\n"
   ]
  },
  {
   "cell_type": "code",
   "execution_count": null,
   "metadata": {},
   "outputs": [],
   "source": [
    "shell(\"pip install MagneticModel/eoxmagmod\")"
   ]
  },
  {
   "cell_type": "code",
   "execution_count": null,
   "metadata": {},
   "outputs": [],
   "source": [
    "shell(\"pip install swarmpyfac\")"
   ]
  }
 ],
 "metadata": {
  "kernelspec": {
   "display_name": "Python 3",
   "language": "python",
   "name": "python3"
  },
  "language_info": {
   "codemirror_mode": {
    "name": "ipython",
    "version": 3
   },
   "file_extension": ".py",
   "mimetype": "text/x-python",
   "name": "python",
   "nbconvert_exporter": "python",
   "pygments_lexer": "ipython3",
   "version": "3.8.3"
  },
  "toc": {
   "base_numbering": 1,
   "nav_menu": {},
   "number_sections": false,
   "sideBar": true,
   "skip_h1_title": false,
   "title_cell": "Table of Contents",
   "title_sidebar": "Contents",
   "toc_cell": false,
   "toc_position": {},
   "toc_section_display": true,
   "toc_window_display": true
  }
 },
 "nbformat": 4,
 "nbformat_minor": 4
}
