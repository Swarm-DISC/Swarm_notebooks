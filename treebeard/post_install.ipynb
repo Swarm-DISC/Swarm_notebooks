{
 "cells": [
  {
   "cell_type": "code",
   "execution_count": null,
   "metadata": {},
   "outputs": [],
   "source": [
    "from treebeard.helper import shell"
   ]
  },
  {
   "cell_type": "markdown",
   "metadata": {},
   "source": [
    "## Treebeard Post-Install\n",
    "\n",
    "This script is run after `pip`/`pipenv`/`conda` is used to install your dependencies.\n",
    "\n",
    "It can be used to install dependencies into your image. This can be useful for `pip install`s which don't work when you include them in the `requirements.txt`.\n",
    "\n",
    "\n",
    "**Note** that the container has not started so secrets/env vars are not available\n"
   ]
  },
  {
   "cell_type": "code",
   "execution_count": null,
   "metadata": {},
   "outputs": [],
   "source": [
    "shell(\"pip install chaosmagpy\") # depends on hdf5storage\n",
    "\n",
    "branch = \"master\"\n",
    "\n",
    "shell(f\"\"\"\n",
    "wget --no-verbose https://github.com/ESA-VirES/MagneticModel/archive/{branch}.zip -O MagneticModel.zip\n",
    "unzip MagneticModel.zip\n",
    "mv MagneticModel-{branch} MagneticModel\n",
    "\"\"\")"
   ]
  },
  {
   "cell_type": "code",
   "execution_count": null,
   "metadata": {},
   "outputs": [],
   "source": [
    "shell(\"\"\"\n",
    "conda build MagneticModel/libcdf\n",
    "conda build MagneticModel/qdipole\n",
    "conda install --quiet --yes --use-local qdipole cdf\n",
    "\"\"\")"
   ]
  },
  {
   "cell_type": "code",
   "execution_count": null,
   "metadata": {},
   "outputs": [],
   "source": [
    "# Avoid problematic ffnet dependency of spacepy\n",
    "shell(\"pip install python_dateutil\")\n",
    "shell(\"pip install --no-deps spacepy\")\n"
   ]
  }
 ],
 "metadata": {
  "kernelspec": {
   "display_name": "Swarm_quicklooks",
   "language": "python",
   "name": "swarm_quicklooks"
  },
  "language_info": {
   "codemirror_mode": {
    "name": "ipython",
    "version": 3
   },
   "file_extension": ".py",
   "mimetype": "text/x-python",
   "name": "python",
   "nbconvert_exporter": "python",
   "pygments_lexer": "ipython3",
   "version": "3.7.6"
  },
  "toc": {
   "base_numbering": 1,
   "nav_menu": {},
   "number_sections": false,
   "sideBar": true,
   "skip_h1_title": false,
   "title_cell": "Table of Contents",
   "title_sidebar": "Contents",
   "toc_cell": false,
   "toc_position": {},
   "toc_section_display": true,
   "toc_window_display": true
  }
 },
 "nbformat": 4,
 "nbformat_minor": 4
}